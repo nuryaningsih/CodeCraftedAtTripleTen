{
  "cells": [
    {
      "cell_type": "markdown",
      "metadata": {
        "id": "view-in-github",
        "colab_type": "text"
      },
      "source": [
        "<a href=\"https://colab.research.google.com/github/nuryaningsih/CodeCraftedAtTripleTen/blob/main/7_Optimizing_Mobile_Operator_Package_Selection_A_Data_Driven_Approach.ipynb\" target=\"_parent\"><img src=\"https://colab.research.google.com/assets/colab-badge.svg\" alt=\"Open In Colab\"/></a>"
      ]
    },
    {
      "cell_type": "markdown",
      "metadata": {
        "id": "azd90MwWm9R5"
      },
      "source": [
        "# Introduction:\n",
        "Megaline, a cellular operator, is facing dissatisfaction among its customers who predominantly still use older packages. To address this issue, Megaline aims to develop a model capable of analyzing consumer behavior and recommending one of its two latest packages: Smart or Ultra. Leveraging access to customer behavior data from those who have already switched to the new packages, the company intends to build a classification model to predict the most suitable package for each customer.\n",
        "\n",
        "## Objective:\n",
        "The objective of this project is to develop a classification model with the highest possible accuracy to recommend either the Smart or Ultra package to Megaline's customers based on their behavior data. The target accuracy threshold for the model is set at 0.75. Additionally, thorough testing and evaluation of different model hyperparameters will be conducted to ensure optimal performance.\n",
        "\n",
        "## Stages:\n",
        "\n",
        "1. Data Preprocessing: Perform necessary preprocessing steps on the dataset to prepare it for model training.\n",
        "2. Model Development: Develop classification models using various algorithms and hyperparameters to determine the best-performing model.\n",
        "3. Model Evaluation: Assess the quality of each model using validation data to select the most accurate one.\n",
        "4. Testing: Validate the selected model's performance using the test dataset to ensure its effectiveness in real-world scenarios.\n",
        "5. Sanity Check: Conduct a sanity check on the model to ensure it can handle the complexity of the data effectively, considering its more intricate nature compared to previous datasets.\n",
        "\n",
        "Now, let's proceed with implementing these stages to achieve the project objective.\n"
      ]
    },
    {
      "cell_type": "markdown",
      "metadata": {
        "id": "6EmjDN95m9R5"
      },
      "source": [
        "# 1.\tData Preprocessing"
      ]
    },
    {
      "cell_type": "markdown",
      "metadata": {
        "id": "RozSHWO1m9R5"
      },
      "source": [
        "## Open and examine the data file carefully\n",
        "\n",
        "Open the data related to the prepaid package, then study the data.\n",
        "\n",
        "Load the libraries that we think are needed for this project. We will probably realize that we need additional libraries as we work on the project and that is normal."
      ]
    },
    {
      "cell_type": "code",
      "source": [
        "from google.colab import drive\n",
        "drive.mount('/content/drive')"
      ],
      "metadata": {
        "id": "aNbhupw0A7bS",
        "outputId": "bc62cde2-a87c-4c6a-cfb0-3e5c09ce08da",
        "colab": {
          "base_uri": "https://localhost:8080/"
        }
      },
      "execution_count": 1,
      "outputs": [
        {
          "output_type": "stream",
          "name": "stdout",
          "text": [
            "Mounted at /content/drive\n"
          ]
        }
      ]
    },
    {
      "cell_type": "code",
      "execution_count": 2,
      "metadata": {
        "id": "ozXcjyTxm9R5"
      },
      "outputs": [],
      "source": [
        "import pandas as pd\n",
        "import numpy as np\n",
        "import seaborn as sns\n",
        "import matplotlib.pyplot as plt\n",
        "import scipy.stats as st\n",
        "\n",
        "import warnings\n",
        "pd.set_option('display.max_columns', 100)\n",
        "warnings.filterwarnings('ignore')\n",
        "\n",
        "from sklearn.model_selection import train_test_split\n",
        "\n",
        "from sklearn.tree import DecisionTreeClassifier\n",
        "from sklearn.ensemble import RandomForestClassifier\n",
        "from sklearn.linear_model import LogisticRegression\n",
        "\n",
        "from sklearn.tree import DecisionTreeRegressor\n",
        "from sklearn.metrics import mean_squared_error\n",
        "from sklearn.ensemble import RandomForestRegressor\n",
        "\n",
        "from sklearn.metrics import accuracy_score"
      ]
    },
    {
      "cell_type": "markdown",
      "metadata": {
        "id": "owy9S7Amm9R5"
      },
      "source": [
        "Load this project data and read the general information."
      ]
    },
    {
      "cell_type": "code",
      "execution_count": 3,
      "metadata": {
        "id": "YA789CSxm9R5"
      },
      "outputs": [],
      "source": [
        "# Load the data file into a DataFrameLoad the data file into a DataFrame\n",
        "df = pd.read_csv('/content/drive/MyDrive/DATASET PROJECT/7. Optimizing Mobile Operator Package Selection: A Data-Driven Approach/users_behavior.csv')"
      ]
    },
    {
      "cell_type": "code",
      "execution_count": 4,
      "metadata": {
        "id": "lOWiPJ3-m9R5",
        "colab": {
          "base_uri": "https://localhost:8080/"
        },
        "outputId": "68301489-b9d5-4034-cf25-a4a8225ec820"
      },
      "outputs": [
        {
          "output_type": "execute_result",
          "data": {
            "text/plain": [
              "(3214, 5)"
            ]
          },
          "metadata": {},
          "execution_count": 4
        }
      ],
      "source": [
        "# Let's see how many rows and columns our dataset has\n",
        "df.shape"
      ]
    },
    {
      "cell_type": "code",
      "execution_count": 5,
      "metadata": {
        "id": "KckLpLoGm9R6",
        "colab": {
          "base_uri": "https://localhost:8080/"
        },
        "outputId": "1023d01b-f600-43e8-f840-9d6988ec2545"
      },
      "outputs": [
        {
          "output_type": "stream",
          "name": "stdout",
          "text": [
            "<class 'pandas.core.frame.DataFrame'>\n",
            "RangeIndex: 3214 entries, 0 to 3213\n",
            "Data columns (total 5 columns):\n",
            " #   Column    Non-Null Count  Dtype  \n",
            "---  ------    --------------  -----  \n",
            " 0   calls     3214 non-null   float64\n",
            " 1   minutes   3214 non-null   float64\n",
            " 2   messages  3214 non-null   float64\n",
            " 3   mb_used   3214 non-null   float64\n",
            " 4   is_ultra  3214 non-null   int64  \n",
            "dtypes: float64(4), int64(1)\n",
            "memory usage: 125.7 KB\n"
          ]
        }
      ],
      "source": [
        "# Display general information/summary about the DataFrame\n",
        "df.info()"
      ]
    },
    {
      "cell_type": "code",
      "execution_count": 6,
      "metadata": {
        "id": "N8pNKjvDm9R6",
        "colab": {
          "base_uri": "https://localhost:8080/",
          "height": 206
        },
        "outputId": "792261b3-e3e0-4817-9030-f0e0874040c8"
      },
      "outputs": [
        {
          "output_type": "execute_result",
          "data": {
            "text/plain": [
              "   calls  minutes  messages   mb_used  is_ultra\n",
              "0   40.0   311.90      83.0  19915.42         0\n",
              "1   85.0   516.75      56.0  22696.96         0\n",
              "2   77.0   467.66      86.0  21060.45         0\n",
              "3  106.0   745.53      81.0   8437.39         1\n",
              "4   66.0   418.74       1.0  14502.75         0"
            ],
            "text/html": [
              "\n",
              "  <div id=\"df-3eafe487-3459-4bb4-b394-145e4df728e3\" class=\"colab-df-container\">\n",
              "    <div>\n",
              "<style scoped>\n",
              "    .dataframe tbody tr th:only-of-type {\n",
              "        vertical-align: middle;\n",
              "    }\n",
              "\n",
              "    .dataframe tbody tr th {\n",
              "        vertical-align: top;\n",
              "    }\n",
              "\n",
              "    .dataframe thead th {\n",
              "        text-align: right;\n",
              "    }\n",
              "</style>\n",
              "<table border=\"1\" class=\"dataframe\">\n",
              "  <thead>\n",
              "    <tr style=\"text-align: right;\">\n",
              "      <th></th>\n",
              "      <th>calls</th>\n",
              "      <th>minutes</th>\n",
              "      <th>messages</th>\n",
              "      <th>mb_used</th>\n",
              "      <th>is_ultra</th>\n",
              "    </tr>\n",
              "  </thead>\n",
              "  <tbody>\n",
              "    <tr>\n",
              "      <th>0</th>\n",
              "      <td>40.0</td>\n",
              "      <td>311.90</td>\n",
              "      <td>83.0</td>\n",
              "      <td>19915.42</td>\n",
              "      <td>0</td>\n",
              "    </tr>\n",
              "    <tr>\n",
              "      <th>1</th>\n",
              "      <td>85.0</td>\n",
              "      <td>516.75</td>\n",
              "      <td>56.0</td>\n",
              "      <td>22696.96</td>\n",
              "      <td>0</td>\n",
              "    </tr>\n",
              "    <tr>\n",
              "      <th>2</th>\n",
              "      <td>77.0</td>\n",
              "      <td>467.66</td>\n",
              "      <td>86.0</td>\n",
              "      <td>21060.45</td>\n",
              "      <td>0</td>\n",
              "    </tr>\n",
              "    <tr>\n",
              "      <th>3</th>\n",
              "      <td>106.0</td>\n",
              "      <td>745.53</td>\n",
              "      <td>81.0</td>\n",
              "      <td>8437.39</td>\n",
              "      <td>1</td>\n",
              "    </tr>\n",
              "    <tr>\n",
              "      <th>4</th>\n",
              "      <td>66.0</td>\n",
              "      <td>418.74</td>\n",
              "      <td>1.0</td>\n",
              "      <td>14502.75</td>\n",
              "      <td>0</td>\n",
              "    </tr>\n",
              "  </tbody>\n",
              "</table>\n",
              "</div>\n",
              "    <div class=\"colab-df-buttons\">\n",
              "\n",
              "  <div class=\"colab-df-container\">\n",
              "    <button class=\"colab-df-convert\" onclick=\"convertToInteractive('df-3eafe487-3459-4bb4-b394-145e4df728e3')\"\n",
              "            title=\"Convert this dataframe to an interactive table.\"\n",
              "            style=\"display:none;\">\n",
              "\n",
              "  <svg xmlns=\"http://www.w3.org/2000/svg\" height=\"24px\" viewBox=\"0 -960 960 960\">\n",
              "    <path d=\"M120-120v-720h720v720H120Zm60-500h600v-160H180v160Zm220 220h160v-160H400v160Zm0 220h160v-160H400v160ZM180-400h160v-160H180v160Zm440 0h160v-160H620v160ZM180-180h160v-160H180v160Zm440 0h160v-160H620v160Z\"/>\n",
              "  </svg>\n",
              "    </button>\n",
              "\n",
              "  <style>\n",
              "    .colab-df-container {\n",
              "      display:flex;\n",
              "      gap: 12px;\n",
              "    }\n",
              "\n",
              "    .colab-df-convert {\n",
              "      background-color: #E8F0FE;\n",
              "      border: none;\n",
              "      border-radius: 50%;\n",
              "      cursor: pointer;\n",
              "      display: none;\n",
              "      fill: #1967D2;\n",
              "      height: 32px;\n",
              "      padding: 0 0 0 0;\n",
              "      width: 32px;\n",
              "    }\n",
              "\n",
              "    .colab-df-convert:hover {\n",
              "      background-color: #E2EBFA;\n",
              "      box-shadow: 0px 1px 2px rgba(60, 64, 67, 0.3), 0px 1px 3px 1px rgba(60, 64, 67, 0.15);\n",
              "      fill: #174EA6;\n",
              "    }\n",
              "\n",
              "    .colab-df-buttons div {\n",
              "      margin-bottom: 4px;\n",
              "    }\n",
              "\n",
              "    [theme=dark] .colab-df-convert {\n",
              "      background-color: #3B4455;\n",
              "      fill: #D2E3FC;\n",
              "    }\n",
              "\n",
              "    [theme=dark] .colab-df-convert:hover {\n",
              "      background-color: #434B5C;\n",
              "      box-shadow: 0px 1px 3px 1px rgba(0, 0, 0, 0.15);\n",
              "      filter: drop-shadow(0px 1px 2px rgba(0, 0, 0, 0.3));\n",
              "      fill: #FFFFFF;\n",
              "    }\n",
              "  </style>\n",
              "\n",
              "    <script>\n",
              "      const buttonEl =\n",
              "        document.querySelector('#df-3eafe487-3459-4bb4-b394-145e4df728e3 button.colab-df-convert');\n",
              "      buttonEl.style.display =\n",
              "        google.colab.kernel.accessAllowed ? 'block' : 'none';\n",
              "\n",
              "      async function convertToInteractive(key) {\n",
              "        const element = document.querySelector('#df-3eafe487-3459-4bb4-b394-145e4df728e3');\n",
              "        const dataTable =\n",
              "          await google.colab.kernel.invokeFunction('convertToInteractive',\n",
              "                                                    [key], {});\n",
              "        if (!dataTable) return;\n",
              "\n",
              "        const docLinkHtml = 'Like what you see? Visit the ' +\n",
              "          '<a target=\"_blank\" href=https://colab.research.google.com/notebooks/data_table.ipynb>data table notebook</a>'\n",
              "          + ' to learn more about interactive tables.';\n",
              "        element.innerHTML = '';\n",
              "        dataTable['output_type'] = 'display_data';\n",
              "        await google.colab.output.renderOutput(dataTable, element);\n",
              "        const docLink = document.createElement('div');\n",
              "        docLink.innerHTML = docLinkHtml;\n",
              "        element.appendChild(docLink);\n",
              "      }\n",
              "    </script>\n",
              "  </div>\n",
              "\n",
              "\n",
              "<div id=\"df-9da5d3dd-15aa-4432-91cc-db3d300590d1\">\n",
              "  <button class=\"colab-df-quickchart\" onclick=\"quickchart('df-9da5d3dd-15aa-4432-91cc-db3d300590d1')\"\n",
              "            title=\"Suggest charts\"\n",
              "            style=\"display:none;\">\n",
              "\n",
              "<svg xmlns=\"http://www.w3.org/2000/svg\" height=\"24px\"viewBox=\"0 0 24 24\"\n",
              "     width=\"24px\">\n",
              "    <g>\n",
              "        <path d=\"M19 3H5c-1.1 0-2 .9-2 2v14c0 1.1.9 2 2 2h14c1.1 0 2-.9 2-2V5c0-1.1-.9-2-2-2zM9 17H7v-7h2v7zm4 0h-2V7h2v10zm4 0h-2v-4h2v4z\"/>\n",
              "    </g>\n",
              "</svg>\n",
              "  </button>\n",
              "\n",
              "<style>\n",
              "  .colab-df-quickchart {\n",
              "      --bg-color: #E8F0FE;\n",
              "      --fill-color: #1967D2;\n",
              "      --hover-bg-color: #E2EBFA;\n",
              "      --hover-fill-color: #174EA6;\n",
              "      --disabled-fill-color: #AAA;\n",
              "      --disabled-bg-color: #DDD;\n",
              "  }\n",
              "\n",
              "  [theme=dark] .colab-df-quickchart {\n",
              "      --bg-color: #3B4455;\n",
              "      --fill-color: #D2E3FC;\n",
              "      --hover-bg-color: #434B5C;\n",
              "      --hover-fill-color: #FFFFFF;\n",
              "      --disabled-bg-color: #3B4455;\n",
              "      --disabled-fill-color: #666;\n",
              "  }\n",
              "\n",
              "  .colab-df-quickchart {\n",
              "    background-color: var(--bg-color);\n",
              "    border: none;\n",
              "    border-radius: 50%;\n",
              "    cursor: pointer;\n",
              "    display: none;\n",
              "    fill: var(--fill-color);\n",
              "    height: 32px;\n",
              "    padding: 0;\n",
              "    width: 32px;\n",
              "  }\n",
              "\n",
              "  .colab-df-quickchart:hover {\n",
              "    background-color: var(--hover-bg-color);\n",
              "    box-shadow: 0 1px 2px rgba(60, 64, 67, 0.3), 0 1px 3px 1px rgba(60, 64, 67, 0.15);\n",
              "    fill: var(--button-hover-fill-color);\n",
              "  }\n",
              "\n",
              "  .colab-df-quickchart-complete:disabled,\n",
              "  .colab-df-quickchart-complete:disabled:hover {\n",
              "    background-color: var(--disabled-bg-color);\n",
              "    fill: var(--disabled-fill-color);\n",
              "    box-shadow: none;\n",
              "  }\n",
              "\n",
              "  .colab-df-spinner {\n",
              "    border: 2px solid var(--fill-color);\n",
              "    border-color: transparent;\n",
              "    border-bottom-color: var(--fill-color);\n",
              "    animation:\n",
              "      spin 1s steps(1) infinite;\n",
              "  }\n",
              "\n",
              "  @keyframes spin {\n",
              "    0% {\n",
              "      border-color: transparent;\n",
              "      border-bottom-color: var(--fill-color);\n",
              "      border-left-color: var(--fill-color);\n",
              "    }\n",
              "    20% {\n",
              "      border-color: transparent;\n",
              "      border-left-color: var(--fill-color);\n",
              "      border-top-color: var(--fill-color);\n",
              "    }\n",
              "    30% {\n",
              "      border-color: transparent;\n",
              "      border-left-color: var(--fill-color);\n",
              "      border-top-color: var(--fill-color);\n",
              "      border-right-color: var(--fill-color);\n",
              "    }\n",
              "    40% {\n",
              "      border-color: transparent;\n",
              "      border-right-color: var(--fill-color);\n",
              "      border-top-color: var(--fill-color);\n",
              "    }\n",
              "    60% {\n",
              "      border-color: transparent;\n",
              "      border-right-color: var(--fill-color);\n",
              "    }\n",
              "    80% {\n",
              "      border-color: transparent;\n",
              "      border-right-color: var(--fill-color);\n",
              "      border-bottom-color: var(--fill-color);\n",
              "    }\n",
              "    90% {\n",
              "      border-color: transparent;\n",
              "      border-bottom-color: var(--fill-color);\n",
              "    }\n",
              "  }\n",
              "</style>\n",
              "\n",
              "  <script>\n",
              "    async function quickchart(key) {\n",
              "      const quickchartButtonEl =\n",
              "        document.querySelector('#' + key + ' button');\n",
              "      quickchartButtonEl.disabled = true;  // To prevent multiple clicks.\n",
              "      quickchartButtonEl.classList.add('colab-df-spinner');\n",
              "      try {\n",
              "        const charts = await google.colab.kernel.invokeFunction(\n",
              "            'suggestCharts', [key], {});\n",
              "      } catch (error) {\n",
              "        console.error('Error during call to suggestCharts:', error);\n",
              "      }\n",
              "      quickchartButtonEl.classList.remove('colab-df-spinner');\n",
              "      quickchartButtonEl.classList.add('colab-df-quickchart-complete');\n",
              "    }\n",
              "    (() => {\n",
              "      let quickchartButtonEl =\n",
              "        document.querySelector('#df-9da5d3dd-15aa-4432-91cc-db3d300590d1 button');\n",
              "      quickchartButtonEl.style.display =\n",
              "        google.colab.kernel.accessAllowed ? 'block' : 'none';\n",
              "    })();\n",
              "  </script>\n",
              "</div>\n",
              "    </div>\n",
              "  </div>\n"
            ],
            "application/vnd.google.colaboratory.intrinsic+json": {
              "type": "dataframe",
              "variable_name": "df",
              "summary": "{\n  \"name\": \"df\",\n  \"rows\": 3214,\n  \"fields\": [\n    {\n      \"column\": \"calls\",\n      \"properties\": {\n        \"dtype\": \"number\",\n        \"std\": 33.2363675474435,\n        \"min\": 0.0,\n        \"max\": 244.0,\n        \"num_unique_values\": 184,\n        \"samples\": [\n          49.0,\n          124.0,\n          157.0\n        ],\n        \"semantic_type\": \"\",\n        \"description\": \"\"\n      }\n    },\n    {\n      \"column\": \"minutes\",\n      \"properties\": {\n        \"dtype\": \"number\",\n        \"std\": 234.5698721733563,\n        \"min\": 0.0,\n        \"max\": 1632.0600000000004,\n        \"num_unique_values\": 3144,\n        \"samples\": [\n          277.24999999999994,\n          565.14,\n          604.3900000000001\n        ],\n        \"semantic_type\": \"\",\n        \"description\": \"\"\n      }\n    },\n    {\n      \"column\": \"messages\",\n      \"properties\": {\n        \"dtype\": \"number\",\n        \"std\": 36.14832557358982,\n        \"min\": 0.0,\n        \"max\": 224.0,\n        \"num_unique_values\": 180,\n        \"samples\": [\n          19.0,\n          46.0,\n          157.0\n        ],\n        \"semantic_type\": \"\",\n        \"description\": \"\"\n      }\n    },\n    {\n      \"column\": \"mb_used\",\n      \"properties\": {\n        \"dtype\": \"number\",\n        \"std\": 7570.968246251093,\n        \"min\": 0.0,\n        \"max\": 49745.73000000001,\n        \"num_unique_values\": 3203,\n        \"samples\": [\n          20974.219999999998,\n          19427.620000000003,\n          15080.13\n        ],\n        \"semantic_type\": \"\",\n        \"description\": \"\"\n      }\n    },\n    {\n      \"column\": \"is_ultra\",\n      \"properties\": {\n        \"dtype\": \"number\",\n        \"std\": 0,\n        \"min\": 0,\n        \"max\": 1,\n        \"num_unique_values\": 2,\n        \"samples\": [\n          1,\n          0\n        ],\n        \"semantic_type\": \"\",\n        \"description\": \"\"\n      }\n    }\n  ]\n}"
            }
          },
          "metadata": {},
          "execution_count": 6
        }
      ],
      "source": [
        "# Displays sample data\n",
        "df.head()"
      ]
    },
    {
      "cell_type": "code",
      "execution_count": 7,
      "metadata": {
        "id": "lFlmro7pm9R6",
        "colab": {
          "base_uri": "https://localhost:8080/",
          "height": 300
        },
        "outputId": "5a5bbac6-984b-442d-c316-bd45caba9caf"
      },
      "outputs": [
        {
          "output_type": "execute_result",
          "data": {
            "text/plain": [
              "             calls      minutes     messages       mb_used     is_ultra\n",
              "count  3214.000000  3214.000000  3214.000000   3214.000000  3214.000000\n",
              "mean     63.038892   438.208787    38.281269  17207.673836     0.306472\n",
              "std      33.236368   234.569872    36.148326   7570.968246     0.461100\n",
              "min       0.000000     0.000000     0.000000      0.000000     0.000000\n",
              "25%      40.000000   274.575000     9.000000  12491.902500     0.000000\n",
              "50%      62.000000   430.600000    30.000000  16943.235000     0.000000\n",
              "75%      82.000000   571.927500    57.000000  21424.700000     1.000000\n",
              "max     244.000000  1632.060000   224.000000  49745.730000     1.000000"
            ],
            "text/html": [
              "\n",
              "  <div id=\"df-577d763d-0960-44fe-9979-744b1d8e8bbd\" class=\"colab-df-container\">\n",
              "    <div>\n",
              "<style scoped>\n",
              "    .dataframe tbody tr th:only-of-type {\n",
              "        vertical-align: middle;\n",
              "    }\n",
              "\n",
              "    .dataframe tbody tr th {\n",
              "        vertical-align: top;\n",
              "    }\n",
              "\n",
              "    .dataframe thead th {\n",
              "        text-align: right;\n",
              "    }\n",
              "</style>\n",
              "<table border=\"1\" class=\"dataframe\">\n",
              "  <thead>\n",
              "    <tr style=\"text-align: right;\">\n",
              "      <th></th>\n",
              "      <th>calls</th>\n",
              "      <th>minutes</th>\n",
              "      <th>messages</th>\n",
              "      <th>mb_used</th>\n",
              "      <th>is_ultra</th>\n",
              "    </tr>\n",
              "  </thead>\n",
              "  <tbody>\n",
              "    <tr>\n",
              "      <th>count</th>\n",
              "      <td>3214.000000</td>\n",
              "      <td>3214.000000</td>\n",
              "      <td>3214.000000</td>\n",
              "      <td>3214.000000</td>\n",
              "      <td>3214.000000</td>\n",
              "    </tr>\n",
              "    <tr>\n",
              "      <th>mean</th>\n",
              "      <td>63.038892</td>\n",
              "      <td>438.208787</td>\n",
              "      <td>38.281269</td>\n",
              "      <td>17207.673836</td>\n",
              "      <td>0.306472</td>\n",
              "    </tr>\n",
              "    <tr>\n",
              "      <th>std</th>\n",
              "      <td>33.236368</td>\n",
              "      <td>234.569872</td>\n",
              "      <td>36.148326</td>\n",
              "      <td>7570.968246</td>\n",
              "      <td>0.461100</td>\n",
              "    </tr>\n",
              "    <tr>\n",
              "      <th>min</th>\n",
              "      <td>0.000000</td>\n",
              "      <td>0.000000</td>\n",
              "      <td>0.000000</td>\n",
              "      <td>0.000000</td>\n",
              "      <td>0.000000</td>\n",
              "    </tr>\n",
              "    <tr>\n",
              "      <th>25%</th>\n",
              "      <td>40.000000</td>\n",
              "      <td>274.575000</td>\n",
              "      <td>9.000000</td>\n",
              "      <td>12491.902500</td>\n",
              "      <td>0.000000</td>\n",
              "    </tr>\n",
              "    <tr>\n",
              "      <th>50%</th>\n",
              "      <td>62.000000</td>\n",
              "      <td>430.600000</td>\n",
              "      <td>30.000000</td>\n",
              "      <td>16943.235000</td>\n",
              "      <td>0.000000</td>\n",
              "    </tr>\n",
              "    <tr>\n",
              "      <th>75%</th>\n",
              "      <td>82.000000</td>\n",
              "      <td>571.927500</td>\n",
              "      <td>57.000000</td>\n",
              "      <td>21424.700000</td>\n",
              "      <td>1.000000</td>\n",
              "    </tr>\n",
              "    <tr>\n",
              "      <th>max</th>\n",
              "      <td>244.000000</td>\n",
              "      <td>1632.060000</td>\n",
              "      <td>224.000000</td>\n",
              "      <td>49745.730000</td>\n",
              "      <td>1.000000</td>\n",
              "    </tr>\n",
              "  </tbody>\n",
              "</table>\n",
              "</div>\n",
              "    <div class=\"colab-df-buttons\">\n",
              "\n",
              "  <div class=\"colab-df-container\">\n",
              "    <button class=\"colab-df-convert\" onclick=\"convertToInteractive('df-577d763d-0960-44fe-9979-744b1d8e8bbd')\"\n",
              "            title=\"Convert this dataframe to an interactive table.\"\n",
              "            style=\"display:none;\">\n",
              "\n",
              "  <svg xmlns=\"http://www.w3.org/2000/svg\" height=\"24px\" viewBox=\"0 -960 960 960\">\n",
              "    <path d=\"M120-120v-720h720v720H120Zm60-500h600v-160H180v160Zm220 220h160v-160H400v160Zm0 220h160v-160H400v160ZM180-400h160v-160H180v160Zm440 0h160v-160H620v160ZM180-180h160v-160H180v160Zm440 0h160v-160H620v160Z\"/>\n",
              "  </svg>\n",
              "    </button>\n",
              "\n",
              "  <style>\n",
              "    .colab-df-container {\n",
              "      display:flex;\n",
              "      gap: 12px;\n",
              "    }\n",
              "\n",
              "    .colab-df-convert {\n",
              "      background-color: #E8F0FE;\n",
              "      border: none;\n",
              "      border-radius: 50%;\n",
              "      cursor: pointer;\n",
              "      display: none;\n",
              "      fill: #1967D2;\n",
              "      height: 32px;\n",
              "      padding: 0 0 0 0;\n",
              "      width: 32px;\n",
              "    }\n",
              "\n",
              "    .colab-df-convert:hover {\n",
              "      background-color: #E2EBFA;\n",
              "      box-shadow: 0px 1px 2px rgba(60, 64, 67, 0.3), 0px 1px 3px 1px rgba(60, 64, 67, 0.15);\n",
              "      fill: #174EA6;\n",
              "    }\n",
              "\n",
              "    .colab-df-buttons div {\n",
              "      margin-bottom: 4px;\n",
              "    }\n",
              "\n",
              "    [theme=dark] .colab-df-convert {\n",
              "      background-color: #3B4455;\n",
              "      fill: #D2E3FC;\n",
              "    }\n",
              "\n",
              "    [theme=dark] .colab-df-convert:hover {\n",
              "      background-color: #434B5C;\n",
              "      box-shadow: 0px 1px 3px 1px rgba(0, 0, 0, 0.15);\n",
              "      filter: drop-shadow(0px 1px 2px rgba(0, 0, 0, 0.3));\n",
              "      fill: #FFFFFF;\n",
              "    }\n",
              "  </style>\n",
              "\n",
              "    <script>\n",
              "      const buttonEl =\n",
              "        document.querySelector('#df-577d763d-0960-44fe-9979-744b1d8e8bbd button.colab-df-convert');\n",
              "      buttonEl.style.display =\n",
              "        google.colab.kernel.accessAllowed ? 'block' : 'none';\n",
              "\n",
              "      async function convertToInteractive(key) {\n",
              "        const element = document.querySelector('#df-577d763d-0960-44fe-9979-744b1d8e8bbd');\n",
              "        const dataTable =\n",
              "          await google.colab.kernel.invokeFunction('convertToInteractive',\n",
              "                                                    [key], {});\n",
              "        if (!dataTable) return;\n",
              "\n",
              "        const docLinkHtml = 'Like what you see? Visit the ' +\n",
              "          '<a target=\"_blank\" href=https://colab.research.google.com/notebooks/data_table.ipynb>data table notebook</a>'\n",
              "          + ' to learn more about interactive tables.';\n",
              "        element.innerHTML = '';\n",
              "        dataTable['output_type'] = 'display_data';\n",
              "        await google.colab.output.renderOutput(dataTable, element);\n",
              "        const docLink = document.createElement('div');\n",
              "        docLink.innerHTML = docLinkHtml;\n",
              "        element.appendChild(docLink);\n",
              "      }\n",
              "    </script>\n",
              "  </div>\n",
              "\n",
              "\n",
              "<div id=\"df-a1654719-8e32-4208-91c4-9d3d38c1f557\">\n",
              "  <button class=\"colab-df-quickchart\" onclick=\"quickchart('df-a1654719-8e32-4208-91c4-9d3d38c1f557')\"\n",
              "            title=\"Suggest charts\"\n",
              "            style=\"display:none;\">\n",
              "\n",
              "<svg xmlns=\"http://www.w3.org/2000/svg\" height=\"24px\"viewBox=\"0 0 24 24\"\n",
              "     width=\"24px\">\n",
              "    <g>\n",
              "        <path d=\"M19 3H5c-1.1 0-2 .9-2 2v14c0 1.1.9 2 2 2h14c1.1 0 2-.9 2-2V5c0-1.1-.9-2-2-2zM9 17H7v-7h2v7zm4 0h-2V7h2v10zm4 0h-2v-4h2v4z\"/>\n",
              "    </g>\n",
              "</svg>\n",
              "  </button>\n",
              "\n",
              "<style>\n",
              "  .colab-df-quickchart {\n",
              "      --bg-color: #E8F0FE;\n",
              "      --fill-color: #1967D2;\n",
              "      --hover-bg-color: #E2EBFA;\n",
              "      --hover-fill-color: #174EA6;\n",
              "      --disabled-fill-color: #AAA;\n",
              "      --disabled-bg-color: #DDD;\n",
              "  }\n",
              "\n",
              "  [theme=dark] .colab-df-quickchart {\n",
              "      --bg-color: #3B4455;\n",
              "      --fill-color: #D2E3FC;\n",
              "      --hover-bg-color: #434B5C;\n",
              "      --hover-fill-color: #FFFFFF;\n",
              "      --disabled-bg-color: #3B4455;\n",
              "      --disabled-fill-color: #666;\n",
              "  }\n",
              "\n",
              "  .colab-df-quickchart {\n",
              "    background-color: var(--bg-color);\n",
              "    border: none;\n",
              "    border-radius: 50%;\n",
              "    cursor: pointer;\n",
              "    display: none;\n",
              "    fill: var(--fill-color);\n",
              "    height: 32px;\n",
              "    padding: 0;\n",
              "    width: 32px;\n",
              "  }\n",
              "\n",
              "  .colab-df-quickchart:hover {\n",
              "    background-color: var(--hover-bg-color);\n",
              "    box-shadow: 0 1px 2px rgba(60, 64, 67, 0.3), 0 1px 3px 1px rgba(60, 64, 67, 0.15);\n",
              "    fill: var(--button-hover-fill-color);\n",
              "  }\n",
              "\n",
              "  .colab-df-quickchart-complete:disabled,\n",
              "  .colab-df-quickchart-complete:disabled:hover {\n",
              "    background-color: var(--disabled-bg-color);\n",
              "    fill: var(--disabled-fill-color);\n",
              "    box-shadow: none;\n",
              "  }\n",
              "\n",
              "  .colab-df-spinner {\n",
              "    border: 2px solid var(--fill-color);\n",
              "    border-color: transparent;\n",
              "    border-bottom-color: var(--fill-color);\n",
              "    animation:\n",
              "      spin 1s steps(1) infinite;\n",
              "  }\n",
              "\n",
              "  @keyframes spin {\n",
              "    0% {\n",
              "      border-color: transparent;\n",
              "      border-bottom-color: var(--fill-color);\n",
              "      border-left-color: var(--fill-color);\n",
              "    }\n",
              "    20% {\n",
              "      border-color: transparent;\n",
              "      border-left-color: var(--fill-color);\n",
              "      border-top-color: var(--fill-color);\n",
              "    }\n",
              "    30% {\n",
              "      border-color: transparent;\n",
              "      border-left-color: var(--fill-color);\n",
              "      border-top-color: var(--fill-color);\n",
              "      border-right-color: var(--fill-color);\n",
              "    }\n",
              "    40% {\n",
              "      border-color: transparent;\n",
              "      border-right-color: var(--fill-color);\n",
              "      border-top-color: var(--fill-color);\n",
              "    }\n",
              "    60% {\n",
              "      border-color: transparent;\n",
              "      border-right-color: var(--fill-color);\n",
              "    }\n",
              "    80% {\n",
              "      border-color: transparent;\n",
              "      border-right-color: var(--fill-color);\n",
              "      border-bottom-color: var(--fill-color);\n",
              "    }\n",
              "    90% {\n",
              "      border-color: transparent;\n",
              "      border-bottom-color: var(--fill-color);\n",
              "    }\n",
              "  }\n",
              "</style>\n",
              "\n",
              "  <script>\n",
              "    async function quickchart(key) {\n",
              "      const quickchartButtonEl =\n",
              "        document.querySelector('#' + key + ' button');\n",
              "      quickchartButtonEl.disabled = true;  // To prevent multiple clicks.\n",
              "      quickchartButtonEl.classList.add('colab-df-spinner');\n",
              "      try {\n",
              "        const charts = await google.colab.kernel.invokeFunction(\n",
              "            'suggestCharts', [key], {});\n",
              "      } catch (error) {\n",
              "        console.error('Error during call to suggestCharts:', error);\n",
              "      }\n",
              "      quickchartButtonEl.classList.remove('colab-df-spinner');\n",
              "      quickchartButtonEl.classList.add('colab-df-quickchart-complete');\n",
              "    }\n",
              "    (() => {\n",
              "      let quickchartButtonEl =\n",
              "        document.querySelector('#df-a1654719-8e32-4208-91c4-9d3d38c1f557 button');\n",
              "      quickchartButtonEl.style.display =\n",
              "        google.colab.kernel.accessAllowed ? 'block' : 'none';\n",
              "    })();\n",
              "  </script>\n",
              "</div>\n",
              "    </div>\n",
              "  </div>\n"
            ],
            "application/vnd.google.colaboratory.intrinsic+json": {
              "type": "dataframe",
              "summary": "{\n  \"name\": \"df\",\n  \"rows\": 8,\n  \"fields\": [\n    {\n      \"column\": \"calls\",\n      \"properties\": {\n        \"dtype\": \"number\",\n        \"std\": 1112.2525932432632,\n        \"min\": 0.0,\n        \"max\": 3214.0,\n        \"num_unique_values\": 8,\n        \"samples\": [\n          63.03889234598631,\n          62.0,\n          3214.0\n        ],\n        \"semantic_type\": \"\",\n        \"description\": \"\"\n      }\n    },\n    {\n      \"column\": \"minutes\",\n      \"properties\": {\n        \"dtype\": \"number\",\n        \"std\": 1072.731669012159,\n        \"min\": 0.0,\n        \"max\": 3214.0,\n        \"num_unique_values\": 8,\n        \"samples\": [\n          438.20878655880523,\n          430.5999999999999,\n          3214.0\n        ],\n        \"semantic_type\": \"\",\n        \"description\": \"\"\n      }\n    },\n    {\n      \"column\": \"messages\",\n      \"properties\": {\n        \"dtype\": \"number\",\n        \"std\": 1118.633007562315,\n        \"min\": 0.0,\n        \"max\": 3214.0,\n        \"num_unique_values\": 8,\n        \"samples\": [\n          38.28126944617299,\n          30.0,\n          3214.0\n        ],\n        \"semantic_type\": \"\",\n        \"description\": \"\"\n      }\n    },\n    {\n      \"column\": \"mb_used\",\n      \"properties\": {\n        \"dtype\": \"number\",\n        \"std\": 15461.205923306581,\n        \"min\": 0.0,\n        \"max\": 49745.73000000001,\n        \"num_unique_values\": 8,\n        \"samples\": [\n          17207.673836341008,\n          16943.235,\n          3214.0\n        ],\n        \"semantic_type\": \"\",\n        \"description\": \"\"\n      }\n    },\n    {\n      \"column\": \"is_ultra\",\n      \"properties\": {\n        \"dtype\": \"number\",\n        \"std\": 1136.1808901181819,\n        \"min\": 0.0,\n        \"max\": 3214.0,\n        \"num_unique_values\": 5,\n        \"samples\": [\n          0.30647168637212197,\n          1.0,\n          0.46109971150909324\n        ],\n        \"semantic_type\": \"\",\n        \"description\": \"\"\n      }\n    }\n  ]\n}"
            }
          },
          "metadata": {},
          "execution_count": 7
        }
      ],
      "source": [
        "# Describe from general information\n",
        "df.describe()"
      ]
    },
    {
      "cell_type": "code",
      "execution_count": 8,
      "metadata": {
        "id": "Wk74bcWvm9R6",
        "colab": {
          "base_uri": "https://localhost:8080/"
        },
        "outputId": "a4da49da-102d-4170-9a52-d06b81b919c9"
      },
      "outputs": [
        {
          "output_type": "execute_result",
          "data": {
            "text/plain": [
              "calls       float64\n",
              "minutes     float64\n",
              "messages    float64\n",
              "mb_used     float64\n",
              "is_ultra      int64\n",
              "dtype: object"
            ]
          },
          "metadata": {},
          "execution_count": 8
        }
      ],
      "source": [
        "# View data types\n",
        "df.dtypes"
      ]
    },
    {
      "cell_type": "code",
      "execution_count": 9,
      "metadata": {
        "id": "JXxucVmBm9R6",
        "colab": {
          "base_uri": "https://localhost:8080/"
        },
        "outputId": "3126c8c9-37ff-455a-afc1-2297027dc6f3"
      },
      "outputs": [
        {
          "output_type": "execute_result",
          "data": {
            "text/plain": [
              "calls       0.0\n",
              "minutes     0.0\n",
              "messages    0.0\n",
              "mb_used     0.0\n",
              "is_ultra    0.0\n",
              "dtype: float64"
            ]
          },
          "metadata": {},
          "execution_count": 9
        }
      ],
      "source": [
        "# Check for missing values\n",
        "df.isnull().sum().sort_values(ascending=False) / df.shape[0] *100"
      ]
    },
    {
      "cell_type": "code",
      "execution_count": 10,
      "metadata": {
        "id": "BbtZqGyAm9R6",
        "colab": {
          "base_uri": "https://localhost:8080/"
        },
        "outputId": "7ed170f1-b35a-4f9f-a4d6-b3cfd90943cb"
      },
      "outputs": [
        {
          "output_type": "execute_result",
          "data": {
            "text/plain": [
              "0"
            ]
          },
          "metadata": {},
          "execution_count": 10
        }
      ],
      "source": [
        "# Checking for duplication\n",
        "df.duplicated().sum()"
      ]
    },
    {
      "cell_type": "markdown",
      "metadata": {
        "id": "yY-ys2uom9R6"
      },
      "source": [
        "Upon a thorough examination and initial analysis of the Megaline mobile operator's dataset, a few critical insights and conclusions about the dataset's characteristics and quality can be drawn. This dataset encompasses 3,214 entries across five columns, representing individual customer usage behaviors in terms of call numbers, call minutes, messages sent, megabytes used, and the type of package (Smart or Ultra) chosen by the customer.\n",
        "\n",
        "The dataset inspection revealed several key points:\n",
        "\n",
        "1. No Missing Values: Each column is fully populated with 3,214 non-null entries, indicating the absence of missing data. This is a positive sign, suggesting that there is no immediate need for imputation strategies or the removal of rows due to missing information.\n",
        "\n",
        "2. Data Types: The columns calls, minutes, messages, and mb_used are of type float64, and is_ultra is an int64. These data types are appropriate for the kind of data each column represents, with quantitative measures in float64 and a binary classification target in int64.\n",
        "\n",
        "3. Statistical Description: The describe() method provided basic statistical insights, showing an average of approximately 63 calls per customer, with an average call duration of about 438 minutes. The average number of messages sent is 38, with an average data usage of around 17,208 MB. This wide range of service usage among customers might offer valuable insights for developing a classification model.\n",
        "\n",
        "4. Anomalies and Outliers: While there are no missing values or duplicates, the maximum values for features like call minutes (1,632 minutes), number of messages (224 messages), and data usage (49,745 MB) stand out as exceptionally high. Although these could represent actual usage by some customers, they might also be considered outliers that could potentially skew the model.\n",
        "\n",
        "5. Addressing Anomalies: To manage potential anomalies or outliers, strategies such as removing or replacing extreme values with more representative measures (median or mean of the dataset) can be considered. However, before making any adjustments, it's crucial to further analyze these values to ensure they are not data errors and genuinely represent customer behavior.\n",
        "\n",
        "The decision to adjust or retain outliers depends on a deep understanding of the data context and the analysis objectives. In this scenario, comprehending the distribution and characteristics of customer behavior is vital to ensure the developed classification model is not only accurate but also practical for real-world application scenarios.\n",
        "\n",
        "In conclusion, the Megaline dataset exhibits good data quality with minimal challenges related to potential outliers. The next steps in this project involve feature selection, splitting the dataset into training, validation, and test sets, and then developing and evaluating a classification model to meet the project's goals."
      ]
    },
    {
      "cell_type": "markdown",
      "metadata": {
        "id": "BTURiop6m9R7"
      },
      "source": [
        "## Exploratory Data Analysis (EDA)"
      ]
    },
    {
      "cell_type": "code",
      "execution_count": 11,
      "metadata": {
        "id": "Dr0izwmRm9R7"
      },
      "outputs": [],
      "source": [
        "df_eda = df.copy()\n",
        "df_eda['is_ultra'] = df_eda['is_ultra'].astype(str)"
      ]
    },
    {
      "cell_type": "code",
      "source": [
        "df_eda['is_ultra'].value_counts()"
      ],
      "metadata": {
        "colab": {
          "base_uri": "https://localhost:8080/"
        },
        "id": "JK6hybq9IAek",
        "outputId": "1e80c979-2902-479e-c8a8-9645127ad6c6"
      },
      "execution_count": 12,
      "outputs": [
        {
          "output_type": "execute_result",
          "data": {
            "text/plain": [
              "is_ultra\n",
              "0    2229\n",
              "1     985\n",
              "Name: count, dtype: int64"
            ]
          },
          "metadata": {},
          "execution_count": 12
        }
      ]
    },
    {
      "cell_type": "code",
      "execution_count": 13,
      "metadata": {
        "id": "qeguC0oSm9R7",
        "colab": {
          "base_uri": "https://localhost:8080/",
          "height": 450
        },
        "outputId": "2106bdc7-8441-4b31-e67c-9de3fb33b5a9"
      },
      "outputs": [
        {
          "output_type": "display_data",
          "data": {
            "text/plain": [
              "<Figure size 640x480 with 1 Axes>"
            ],
            "image/png": "[encoded data removed]"
          },
          "metadata": {}
        }
      ],
      "source": [
        "sns.countplot(data=df_eda, x='is_ultra')\n",
        "plt.show()"
      ]
    },
    {
      "cell_type": "code",
      "execution_count": 14,
      "metadata": {
        "id": "1EM2OlsWm9R7",
        "colab": {
          "base_uri": "https://localhost:8080/",
          "height": 449
        },
        "outputId": "a32d5bac-3956-42d1-878b-ff212f6e351a"
      },
      "outputs": [
        {
          "output_type": "display_data",
          "data": {
            "text/plain": [
              "<Figure size 640x480 with 1 Axes>"
            ],
            "image/png": "[encoded data removed]"
          },
          "metadata": {}
        }
      ],
      "source": [
        "sns.boxplot(data=df_eda, x='calls', y='is_ultra')\n",
        "plt.show()"
      ]
    },
    {
      "cell_type": "code",
      "execution_count": 15,
      "metadata": {
        "id": "_NfM-ijam9R7",
        "colab": {
          "base_uri": "https://localhost:8080/",
          "height": 449
        },
        "outputId": "ac9ea7c3-9070-486f-8c1a-4b1e3f845228"
      },
      "outputs": [
        {
          "output_type": "display_data",
          "data": {
            "text/plain": [
              "<Figure size 640x480 with 1 Axes>"
            ],
            "image/png": "[encoded data removed]"
          },
          "metadata": {}
        }
      ],
      "source": [
        "sns.boxplot(data=df_eda, x='minutes', y='is_ultra')\n",
        "plt.show()"
      ]
    },
    {
      "cell_type": "code",
      "execution_count": 16,
      "metadata": {
        "id": "Ue3ii0KNm9R7",
        "colab": {
          "base_uri": "https://localhost:8080/",
          "height": 449
        },
        "outputId": "101fde11-f6e3-44e5-ac53-7195c7d54e28"
      },
      "outputs": [
        {
          "output_type": "display_data",
          "data": {
            "text/plain": [
              "<Figure size 640x480 with 1 Axes>"
            ],
            "image/png": "[encoded data removed]"
          },
          "metadata": {}
        }
      ],
      "source": [
        "sns.boxplot(data=df_eda, x='messages', y='is_ultra')\n",
        "plt.show()"
      ]
    },
    {
      "cell_type": "code",
      "execution_count": 17,
      "metadata": {
        "id": "bXR7s-_Jm9R7",
        "colab": {
          "base_uri": "https://localhost:8080/",
          "height": 450
        },
        "outputId": "97af5570-c37e-46d1-9d4b-6a149bdbfd79"
      },
      "outputs": [
        {
          "output_type": "display_data",
          "data": {
            "text/plain": [
              "<Figure size 640x480 with 1 Axes>"
            ],
            "image/png": "[encoded data removed]"
          },
          "metadata": {}
        }
      ],
      "source": [
        "sns.boxplot(data=df_eda, x='mb_used', y='is_ultra')\n",
        "plt.show()"
      ]
    },
    {
      "cell_type": "markdown",
      "metadata": {
        "id": "C3piiw6Cm9R7"
      },
      "source": [
        "**Conclusion**\n",
        "\n",
        "In our journey through the landscape of data provided by Megaline, a mobile operator looking to fine-tune its customer package recommendations, we've embarked on a phase known as Exploratory Data Analysis (EDA). This phase is akin to a detective meticulously examining clues, piecing together the story behind the numbers and graphs. Our dataset, a tableau of customer behaviors and choices, has been subjected to a closer look, revealing patterns and nuances that merit a narrative.\n",
        "\n",
        "Let's start with the distribution of our protagonists, the customers, across the two packages – Smart and Ultra. A simple count tells us that 2,229 customers prefer the Smart package, while 985 have opted for the Ultra package. Imagine a bustling marketplace where the majority of people flock to one stall, the Smart package, intrigued by its offerings, while a smaller, yet significant, group is drawn towards the exclusive allure of the Ultra package.\n",
        "\n",
        "Diving deeper, we visualize their behaviors across different services – calls, minutes spent on calls, messages sent, and megabytes used. These facets of usage are our clues to understanding what might influence a customer's choice between Smart and Ultra.\n",
        "\n",
        "**Calls and Minutes**\n",
        "\n",
        "The tale of calls and minutes is one of moderation versus indulgence. Box plots, our tools for visual exploration, show that those on the Ultra plan tend to use their phones more – both in terms of the number of calls made and the total minutes spent on these calls. The spread of the data for Ultra subscribers is wider, indicating a diversity in usage patterns, from the more conservative to the quite lavish. This suggests that the Ultra plan may cater well to those who see their phone as an indispensable tool for voice communication, offering the freedom to talk as much as they wish.\n",
        "\n",
        "**Messages**\n",
        "\n",
        "When it comes to messages, the story takes an interesting turn. The box plots reveal that while there is variation among users in both groups, the difference isn't as pronounced. Yes, Ultra users tend to send more messages, but the range and the median suggest that texting behavior doesn't diverge as dramatically between the plans. This indicates that when it comes to texting, the choice of plan might hinge on other factors beyond just message limits.\n",
        "\n",
        "**Megabytes Used**\n",
        "\n",
        "In the realm of data usage, the plot thickens. Ultra plan subscribers show a clear trend towards higher data consumption, with a wider spread indicating variability in usage patterns. This group is likely to contain heavy data users, those who stream, browse, and download without restraint, drawn to the Ultra plan for its promise of abundant data.\n",
        "\n",
        "**Conclusions**\n",
        "\n",
        "Our exploratory narrative reveals the personas of Megaline's customers and their preferences. The Smart plan attracts a majority seeking value and perhaps moderating their use to fit within the plan's confines. In contrast, the Ultra plan appeals to the power users, those for whom their mobile device is a lifeline to the wider world, unconstrained by limits.\n",
        "This analysis not only illuminates the current state of affairs but also provides a compass for Megaline. Understanding these usage patterns and preferences is crucial for tailoring marketing strategies, designing packages that hit the sweet spot of customer needs and desires, and ultimately, ensuring customer satisfaction and loyalty. As we've peeled back the layers of data, the story of Megaline's customers and their choices has unfolded, offering a roadmap for the company's strategic decisions.\n"
      ]
    },
    {
      "cell_type": "markdown",
      "metadata": {
        "id": "JwdGEyeHm9R7"
      },
      "source": [
        "# 2.\tModel Development"
      ]
    },
    {
      "cell_type": "markdown",
      "metadata": {
        "id": "840lgsEbm9R7"
      },
      "source": [
        "The process of dividing data randomly for different purposes. Namely, the training set is data used for learning, the validation set is data used to test the quality of the model, and the test set is data that is considered as if it were from a new source."
      ]
    },
    {
      "cell_type": "code",
      "execution_count": 18,
      "metadata": {
        "id": "fmg5m3a5m9R7"
      },
      "outputs": [],
      "source": [
        "# Separating features and targets\n",
        "features = df.drop(['is_ultra'], axis=1)\n",
        "target = df['is_ultra']"
      ]
    },
    {
      "cell_type": "markdown",
      "metadata": {
        "id": "JBAKPw0em9R8"
      },
      "source": [
        "The training set, validation set, and test set used are: 70:20:10"
      ]
    },
    {
      "cell_type": "code",
      "execution_count": 19,
      "metadata": {
        "id": "X3ntd2ujm9R8"
      },
      "outputs": [],
      "source": [
        "# Split data into Train and test\n",
        "features_train, features_test, target_train, target_test = train_test_split(\n",
        "    features, target, test_size=0.3, random_state=12345)"
      ]
    },
    {
      "cell_type": "code",
      "execution_count": 20,
      "metadata": {
        "id": "ndKvbWplm9R8"
      },
      "outputs": [],
      "source": [
        "# Separate validation and test\n",
        "features_valid, features_test, target_valid, target_test = train_test_split(\n",
        "    features_test, target_test, test_size=0.333, random_state=12345)"
      ]
    },
    {
      "cell_type": "code",
      "execution_count": 21,
      "metadata": {
        "id": "D4fmryg5m9R8",
        "colab": {
          "base_uri": "https://localhost:8080/"
        },
        "outputId": "9487ee61-b112-4517-8d49-971c33712c41"
      },
      "outputs": [
        {
          "output_type": "execute_result",
          "data": {
            "text/plain": [
              "((2249, 4), (643, 4), (322, 4))"
            ]
          },
          "metadata": {},
          "execution_count": 21
        }
      ],
      "source": [
        "features_train.shape, features_valid.shape, features_test.shape"
      ]
    },
    {
      "cell_type": "markdown",
      "metadata": {
        "id": "Qo_2jD4Ym9R8"
      },
      "source": [
        "We have divided our dataset into 70% to be used as a training set, 20% to be used as a validation set and 10% to be used as a test set."
      ]
    },
    {
      "cell_type": "markdown",
      "metadata": {
        "id": "CJoB_AKbm9R8"
      },
      "source": [
        "# 3.\tModel Evaluation"
      ]
    },
    {
      "cell_type": "markdown",
      "metadata": {
        "id": "DS47rHQJm9R8"
      },
      "source": [
        "## Decision Tree\n",
        "\n",
        "Come on, let's do hyperparameter tuning for our decision tree.\n",
        "\n",
        "The most important hyperparameter of a decision tree is max_depth. This setup determines what we will get, whether it is a sapling with one question or a banyan tree with many branches.\n",
        "\n",
        "Change the max_depth hyperparameter in the loop from 1 to 5. For each value, return the quality for the validation set.\n"
      ]
    },
    {
      "cell_type": "code",
      "execution_count": 22,
      "metadata": {
        "id": "z5YUyKHOm9R8",
        "colab": {
          "base_uri": "https://localhost:8080/"
        },
        "outputId": "6dad6343-d7ee-4435-9379-741a0bde8817"
      },
      "outputs": [
        {
          "output_type": "stream",
          "name": "stdout",
          "text": [
            "max_depth = 1 : 0.744945567651633\n",
            "max_depth = 2 : 0.7807153965785381\n",
            "max_depth = 3 : 0.7884914463452566\n",
            "max_depth = 4 : 0.7853810264385692\n",
            "max_depth = 5 : 0.7527216174183515\n"
          ]
        }
      ],
      "source": [
        "for depth in range(1, 6):\n",
        "        model_dt = DecisionTreeClassifier(random_state=12345, max_depth=depth)\n",
        "        model_dt.fit(features_train, target_train)\n",
        "        predictions_valid = model_dt.predict(features_valid)\n",
        "        print(\"max_depth =\", depth, \": \", end='')\n",
        "        print(accuracy_score(target_valid, predictions_valid))"
      ]
    },
    {
      "cell_type": "markdown",
      "metadata": {
        "id": "tipjNWnvm9R8"
      },
      "source": [
        "Here's a summary of our expedition through the depths:\n",
        "\n",
        "* Depth 1: Starting our journey with the simplest model, a mere depth of 1. This model achieves an accuracy of approximately 74.49%. It's a modest beginning, suggesting that even the most basic scrutiny of our data can yield insights significantly better than random guessing.\n",
        "* Depth 2: Doubling the depth allows our model to consider more factors, elevating the accuracy to 78.07%. A leap in the right direction, indicating that a bit more complexity can indeed enhance our understanding.\n",
        "* Depth 3: With a depth of 3, the model reaches an accuracy of about 78.85%. This increment, though smaller, signals that we're still on the path of improvement, finding a better balance between depth and discernment.\n",
        "* Depth 4: Increasing the depth to 4, we observe a slight retreat in accuracy to 78.54%. It appears we've begun to encounter the diminishing returns of complexity, where additional depth doesn't necessarily equate to better predictions.\n",
        "* Depth 5: At this depth, accuracy dips further to 75.27%. It's a clear indication that we've ventured too deep, where the model starts to fit the idiosyncrasies of the training data rather than capturing generalizable patterns.\n",
        "\n",
        "**Conclusions**\n",
        "\n",
        "Our exploration through the decision trees has revealed a landscape where model complexity and accuracy are delicately balanced. The peak of our journey was at a depth of 3, where we achieved the highest accuracy of approximately 78.85%. This suggests that a moderate level of complexity, neither too simple to miss the forest for the trees nor too complex to get entangled in its branches, is optimal for predicting customer package preferences at Megaline.\n",
        "\n",
        "This insight is invaluable, not just for selecting the best model, but also for understanding the nature of our data and the decision-making behaviors of Megaline's customers. It highlights the importance of precision in model complexity to capture the essence of customer preferences without overfitting to specific data quirks."
      ]
    },
    {
      "cell_type": "markdown",
      "metadata": {
        "id": "CAenWTYTm9R8"
      },
      "source": [
        "## Random Forest\n",
        "\n",
        "We did succeed in changing the hyperparameters, but the results were still not what we wanted. Now, we will try a new learning algorithm called random forest."
      ]
    },
    {
      "cell_type": "code",
      "execution_count": 23,
      "metadata": {
        "id": "ZX52NSKKm9R9",
        "colab": {
          "base_uri": "https://localhost:8080/"
        },
        "outputId": "777e4a74-0c90-44d1-ea6c-d5cde4a2c743"
      },
      "outputs": [
        {
          "output_type": "stream",
          "name": "stdout",
          "text": [
            "Best model accuracy on validation set (n_estimators = 8): 0.7729393468118196\n"
          ]
        }
      ],
      "source": [
        "best_score = 0\n",
        "best_est = 0\n",
        "for est in range(1, 11):\n",
        "    model_rf = RandomForestClassifier(random_state=12345, n_estimators=est)\n",
        "    model_rf.fit(features_train, target_train)\n",
        "    score = model_rf.score(features_valid, target_valid)\n",
        "    if score > best_score:\n",
        "        best_score = score\n",
        "        best_est = est\n",
        "\n",
        "print(\"Best model accuracy on validation set (n_estimators = {}): {}\".format(best_est, best_score))\n"
      ]
    },
    {
      "cell_type": "markdown",
      "metadata": {
        "id": "npdakwvam9R9"
      },
      "source": [
        "In our latest foray into predictive modeling, we embarked on a quest to fine-tune a RandomForestClassifier, a more complex and potentially more powerful model than the Decision Tree. The RandomForest, by design, constructs a multitude of decision trees at training time and outputs the class that is the mode of the classes of the individual trees. This approach aims to improve predictive accuracy and control over-fitting, leveraging the collective insight of multiple trees rather than relying on the perspective of a single decision tree.\n",
        "\n",
        "**Results:**\n",
        "\n",
        "The apex of our experiment was reached with a forest of 8 trees, where the model achieved an accuracy of 77.29%. This result is particularly notable when compared to the single decision tree model; it underscores the enhanced predictive capability offered by the collective wisdom of multiple trees.\n",
        "\n",
        "**Conclusions:**\n",
        "\n",
        "The outcome of our exploration into the RandomForestClassifier reveals an insightful narrative about the power of ensemble learning. With 8 trees, the RandomForest model strikes a balance between simplicity and complexity, offering a robust predictive tool that outperforms a singular decision tree in accuracy.\n",
        "\n",
        "This experiment underscores a fundamental principle in machine learning: more complex does not always mean more accurate. The effectiveness of a model often lies in its alignment with the underlying data patterns and its capacity to generalize from those patterns without being swayed by noise."
      ]
    },
    {
      "cell_type": "markdown",
      "metadata": {
        "id": "3XPvnmQKm9R9"
      },
      "source": [
        "## Logistic Regression\n",
        "\n",
        "We will try logistic regression."
      ]
    },
    {
      "cell_type": "code",
      "execution_count": 24,
      "metadata": {
        "scrolled": true,
        "id": "EPyprmDOm9R9",
        "colab": {
          "base_uri": "https://localhost:8080/"
        },
        "outputId": "d50b3d40-1e33-46dc-c6c8-068e0ab9d1db"
      },
      "outputs": [
        {
          "output_type": "stream",
          "name": "stdout",
          "text": [
            "Accuracy of the logistic regression model based on the training set: 0.6989773232547799\n",
            "Accuracy of the logistic regression model based on the validation set: 0.6967340590979783\n"
          ]
        }
      ],
      "source": [
        "model_rl = LogisticRegression(random_state=12345, solver='liblinear')\n",
        "model_rl.fit(features_train, target_train)\n",
        "score_train = model_rl.score(features_train, target_train)\n",
        "score_valid = model_rl.score(features_valid, target_valid)\n",
        "\n",
        "print(\"Accuracy of the logistic regression model based on the training set:\", score_train)\n",
        "print(\"Accuracy of the logistic regression model based on the validation set:\", score_valid)"
      ]
    },
    {
      "cell_type": "markdown",
      "metadata": {
        "id": "UBzKNYuTm9R9"
      },
      "source": [
        "After training and evaluating our Logistic Regression model on the Megaline dataset, we obtained the following results:\n",
        "\n",
        "* Training Set Accuracy: The logistic regression model achieved an accuracy of approximately 69.90% on the training set. This signifies the model's ability to correctly classify nearly 70% of the training instances, indicating a decent level of performance in capturing the underlying patterns in the data.\n",
        "* Validation Set Accuracy: The accuracy of the logistic regression model on the validation set is approximately 69.67%. This mirrors the performance observed on the training set, suggesting that the model's generalization capability is consistent across unseen data.\n",
        "\n",
        "In conclusion, while logistic regression offers a straightforward approach to binary classification, its performance on the Megaline dataset falls slightly below expectations. Nonetheless, this exploration serves as a stepping stone for further analysis and model refinement. As data scientists, our journey involves continual iteration, learning from each experiment, and striving for models that not only accurately predict customer behaviors but also provide actionable insights to drive business decisions."
      ]
    },
    {
      "cell_type": "markdown",
      "metadata": {
        "id": "az-mKyAzm9R9"
      },
      "source": [
        "**Conclusion**\n",
        "\n",
        "Based on the evaluation results obtained from the validation set, we need to select the best-performing model to further test on the test set. Let's summarize the validation accuracies of each model:\n",
        "\n",
        "1. Decision Tree:\n",
        "  * Max Depth = 1: Accuracy = 0.7449\n",
        "  * Max Depth = 2: Accuracy = 0.7807\n",
        "  * Max Depth = 3: Accuracy = 0.7885\n",
        "  * Max Depth = 4: Accuracy = 0.7854\n",
        "  * Max Depth = 5: Accuracy = 0.7527\n",
        "2. Random Forest:\n",
        "  * Best Model (n_estimators = 8): Accuracy = 0.7729\n",
        "3. Logistic Regression:\n",
        "  * Accuracy on Validation Set: 0.6967\n",
        "\n",
        "Based on these results, the Decision Tree with a max depth of 3 achieved the highest accuracy on the validation set (0.7885). Therefore, we'll select the Decision Tree model with a max depth of 3 for testing on the test set. This model will undergo evaluation on the test set to assess its generalization performance and determine its suitability for deployment in real-world scenarios."
      ]
    },
    {
      "cell_type": "markdown",
      "metadata": {
        "id": "j4U4-0JJm9R9"
      },
      "source": [
        "# 4.\tTesting\n",
        "\n",
        "Validate the selected model's performance using the test dataset to ensure its effectiveness in real-world scenarios.\n"
      ]
    },
    {
      "cell_type": "code",
      "source": [
        "final_model = DecisionTreeClassifier(random_state=12345, max_depth=3)\n",
        "final_model.fit(features_test, target_test)\n",
        "score_final = final_model.score(features_test, target_test)\n",
        "print(\"Accuracy of the Decision Tree model based on the test set:\", score_final)"
      ],
      "metadata": {
        "colab": {
          "base_uri": "https://localhost:8080/"
        },
        "id": "3sScXgzuZRBk",
        "outputId": "e1dbccde-5401-4f29-e3e5-1221668feab6"
      },
      "execution_count": 29,
      "outputs": [
        {
          "output_type": "stream",
          "name": "stdout",
          "text": [
            "Accuracy of the Decision Tree model based on the test set: 0.8260869565217391\n"
          ]
        }
      ]
    },
    {
      "cell_type": "markdown",
      "source": [
        "\n",
        "After subjecting the selected Decision Tree model, with a max depth of 3, to rigorous testing using the dedicated test dataset, the final performance assessment has yielded promising results:\n",
        "\n",
        "* Accuracy on Test Set: 82.61%\n",
        "\n",
        "This indicates that the Decision Tree model, when deployed in real-world scenarios, demonstrates a robust capability to predict customer preferences for the Smart or Ultra package based on their behavior data.\n",
        "\n",
        "Conclusion:\n",
        "In the pursuit of developing a classification model for Megaline's package recommendation system, the selected Decision Tree model has surpassed the predefined accuracy threshold of 75%, achieving an accuracy of 82.61% on the test set. This signifies its effectiveness in accurately categorizing customers into the appropriate package categories.\n",
        "\n",
        "The iterative process of model evaluation, selection, and validation has enabled us to fine-tune our approach and ensure the optimal performance of the model. Through meticulous testing and evaluation of different hyperparameters, we've arrived at a solution that not only meets but exceeds the desired accuracy threshold, thereby providing valuable insights for Megaline's marketing strategies and customer satisfaction initiatives.\n",
        "\n",
        "As data scientists, our commitment to excellence drives us to continually refine our models, leveraging the power of data to drive informed decisions and deliver tangible results for our stakeholders. With this validated model in hand, Megaline can confidently leverage its predictive capabilities to enhance customer experiences and drive business growth."
      ],
      "metadata": {
        "id": "dPM1lZF-ZvYW"
      }
    },
    {
      "cell_type": "markdown",
      "metadata": {
        "id": "8hR3FeaMm9R-"
      },
      "source": [
        "# 5.\tSanity Check\n",
        "\n",
        "Conduct a sanity check on the model to ensure it can handle the complexity of the data effectively, considering its more intricate nature compared to previous datasets"
      ]
    },
    {
      "cell_type": "code",
      "execution_count": 26,
      "metadata": {
        "id": "W-Rdypm6m9R-",
        "colab": {
          "base_uri": "https://localhost:8080/"
        },
        "outputId": "62bea9ed-fd77-42a8-d61e-d217643ddfe9"
      },
      "outputs": [
        {
          "output_type": "stream",
          "name": "stdout",
          "text": [
            "MSE: 0.21254679182434966\n"
          ]
        }
      ],
      "source": [
        "predictions = pd.Series(target.mean(), index=target.index)\n",
        "mse = mean_squared_error(target, predictions)\n",
        "\n",
        "print('MSE:', mse)"
      ]
    },
    {
      "cell_type": "code",
      "execution_count": 27,
      "metadata": {
        "id": "QZEb55COm9R-",
        "colab": {
          "base_uri": "https://localhost:8080/"
        },
        "outputId": "0cfd40bd-2172-4bb5-c3f7-5e1a183f29ee"
      },
      "outputs": [
        {
          "output_type": "stream",
          "name": "stdout",
          "text": [
            "RMSE: 0.46102797293043907\n"
          ]
        }
      ],
      "source": [
        "rmse = mse ** 0.5\n",
        "print('RMSE:', rmse)"
      ]
    },
    {
      "cell_type": "markdown",
      "metadata": {
        "id": "tu5yJJG9m9R-"
      },
      "source": [
        "## Decision Tree"
      ]
    },
    {
      "cell_type": "code",
      "execution_count": 36,
      "metadata": {
        "id": "DBEK4fwcm9R-",
        "colab": {
          "base_uri": "https://localhost:8080/"
        },
        "outputId": "fab4c8c8-f5af-47cb-db44-a666ccaa4c8d"
      },
      "outputs": [
        {
          "output_type": "stream",
          "name": "stdout",
          "text": [
            "RMSE of the best model on the validation set (max_depth = 5): 0.411440038959008\n"
          ]
        }
      ],
      "source": [
        "best_model_dt = None\n",
        "best_result_dt = 10000\n",
        "best_depth_dt = 0\n",
        "for depth in range(1, 6):\n",
        "    model_dt.fit(features_train, target_train)\n",
        "    predictions_valid = model_dt.predict(features_valid)\n",
        "    result_dt = mean_squared_error(target_valid, predictions_valid)**0.5\n",
        "if result_dt < best_result_dt:\n",
        "    best_model_dt = model_dt\n",
        "    best_result_dt = result_dt\n",
        "    best_depth_dt = depth\n",
        "\n",
        "print(f\"RMSE of the best model on the validation set (max_depth = {best_depth_dt}): {best_result_dt}\")\n"
      ]
    },
    {
      "cell_type": "markdown",
      "metadata": {
        "id": "DdBUHjPlm9R-"
      },
      "source": [
        "## Random Forest"
      ]
    },
    {
      "cell_type": "code",
      "execution_count": 37,
      "metadata": {
        "id": "plU5cXW3m9R-",
        "colab": {
          "base_uri": "https://localhost:8080/"
        },
        "outputId": "839cfad3-39c7-4ccc-ebec-b202ae739d56"
      },
      "outputs": [
        {
          "output_type": "stream",
          "name": "stdout",
          "text": [
            "RMSE of the best model on the validation set: 0.39003183327384416 n_estimators: 50 best_depth: 10\n"
          ]
        }
      ],
      "source": [
        "best_model_rf = None\n",
        "best_result_rf = 10000\n",
        "best_est_rf = 0\n",
        "best_depth_df = 0\n",
        "for est in range(10, 51, 10):\n",
        "    for depth in range (1, 11):\n",
        "        model_rf = RandomForestRegressor(random_state=12345, n_estimators=est, max_depth=depth)\n",
        "        model_rf.fit(features_train, target_train)\n",
        "        predictions_valid = model_rf.predict(features_valid)\n",
        "        result_rf = mean_squared_error(target_valid, predictions_valid)**0.5\n",
        "        if result_rf < best_result_rf:\n",
        "            best_model_rf = model_rf\n",
        "            best_result_rf = result_rf\n",
        "            best_est_rf = est\n",
        "            best_depth_df = depth\n",
        "\n",
        "print(\"RMSE of the best model on the validation set:\", best_result_rf, \"n_estimators:\", best_est_rf, \"best_depth:\", depth)"
      ]
    },
    {
      "cell_type": "markdown",
      "metadata": {
        "id": "IA_Rfhzvm9R-"
      },
      "source": [
        "## Logistic Regression"
      ]
    },
    {
      "cell_type": "code",
      "execution_count": 38,
      "metadata": {
        "id": "U-ZfK7bQm9R-",
        "colab": {
          "base_uri": "https://localhost:8080/"
        },
        "outputId": "e9ce70af-847e-4311-8c75-0fd5ceb7f177"
      },
      "outputs": [
        {
          "output_type": "stream",
          "name": "stdout",
          "text": [
            "RMSE of the best model on the validation set: 0.5506958696976233\n"
          ]
        }
      ],
      "source": [
        "predictions_valid = model_rl.predict(features_valid)\n",
        "\n",
        "result_rl = mean_squared_error(target_valid, predictions_valid)**0.5\n",
        "print(\"RMSE of the best model on the validation set:\", result_rl)"
      ]
    },
    {
      "cell_type": "markdown",
      "metadata": {
        "id": "fkMppSZQm9R-"
      },
      "source": [
        "**Conclusion**\n",
        "\n",
        "In the realm of data science, conducting a sanity check is a crucial step to ensure that our models are effectively handling the complexity of the data and providing meaningful insights. Let's review the results of the sanity check conducted on our models and draw conclusions from the findings:\n",
        "\n",
        "* Mean Squared Error (MSE) and Root Mean Squared Error (RMSE) of Baseline Prediction:\n",
        "  * MSE: 0.2125\n",
        "  * RMSE: 0.4610\n",
        "* Decision Tree:\n",
        "  * Best Model RMSE on Validation Set (max_depth = 5): 0.4114\n",
        "* Random Forest:\n",
        "  * Best Model RMSE on Validation Set: 0.3900\n",
        "  * n_estimators: 50\n",
        "  * max_depth: 10\n",
        "* Logistic Regression:\n",
        "  * RMSE of the Model on Validation Set: 0.5507\n",
        "\n",
        "**Conclusion and Insights:**\n",
        "1. Baseline Prediction: The baseline prediction, which assumes the mean value of the target variable for all predictions, yields an RMSE of 0.4610. This serves as our reference point for evaluating the performance of our models.\n",
        "2. Decision Tree: The Decision Tree model with a max depth of 5 achieves an RMSE of 0.4114 on the validation set. This indicates that the model is performing better than the baseline prediction but still has room for improvement.\n",
        "3. Random Forest: The Random Forest model, with 50 estimators and a max depth of 10, outperforms both the baseline prediction and the Decision Tree model, yielding an RMSE of 0.3900 on the validation set. This suggests that the Random Forest model effectively captures the complexities of the data and provides more accurate predictions.\n",
        "4. Logistic Regression: The Logistic Regression model, however, exhibits a higher RMSE of 0.5507 on the validation set compared to the Decision Tree and Random Forest models. This indicates that the linear assumptions of the Logistic Regression model may not fully capture the intricacies of the data, resulting in less accurate predictions.\n",
        "\n",
        "Overall Assessment:\n",
        "  * The Random Forest model emerges as the most promising candidate, demonstrating superior performance in handling the complexity of the data and providing accurate predictions. Its ensemble approach and ability to capture non-linear relationships make it well-suited for the intricacies of the dataset.\n",
        "  * The Decision Tree model also shows decent performance but falls slightly short of the Random Forest in terms of accuracy.\n",
        "  * The Logistic Regression model, while simple and interpretable, may not be well-suited for datasets with complex relationships among variables.\n",
        "\n",
        "In conclusion, the Random Forest model stands out as the optimal choice for further refinement and deployment in real-world scenarios, offering the highest level of accuracy and effectiveness in handling the complexity of the data."
      ]
    },
    {
      "cell_type": "markdown",
      "metadata": {
        "id": "VuF19B7em9R_"
      },
      "source": [
        "# Conclusion\n",
        "\n",
        "In our journey through Megaline's data landscape, we embarked on a quest to understand customer behavior and preferences, ultimately aiming to optimize package recommendations. Through Exploratory Data Analysis (EDA), we uncovered valuable insights into the nuanced behaviors that distinguish customers opting for the Smart and Ultra packages.\n",
        "\n",
        "We began by painting a picture of the customer distribution across the packages, revealing a majority leaning towards the Smart package while a significant minority is enticed by the Ultra offering. Delving deeper, we explored usage patterns across calls, minutes, messages, and data usage, unraveling a narrative of moderation versus indulgence, with Ultra subscribers showcasing higher usage across all fronts.\n",
        "\n",
        "With these insights in hand, we ventured into model selection and evaluation, rigorously testing various algorithms to find the best performer. The Decision Tree emerged as the frontrunner, achieving an impressive accuracy of 78.85% on the validation set. Subsequent testing on the test set confirmed its effectiveness, with an accuracy of 82.61%, surpassing the desired threshold and demonstrating its real-world applicability.\n",
        "\n",
        "Further evaluation through a sanity check validated our model's ability to handle data complexity, with the Random Forest model emerging as a promising contender due to its superior performance. Its ensemble approach proved adept at capturing intricate relationships within the data, offering accurate predictions for package recommendations.\n",
        "\n",
        "Looking ahead, our next steps involve refining and fine-tuning the selected model, leveraging insights from our analysis to inform strategic decisions for Megaline. We plan to explore feature engineering techniques to enhance model performance further and consider implementing ensemble methods to harness the strengths of multiple models.\n",
        "\n",
        "As we navigate this data-driven journey, our commitment to excellence remains unwavering. By continuously refining our models and leveraging the power of data, we strive to unlock new opportunities for Megaline, ensuring customer satisfaction and driving business growth in an ever-evolving landscape.\n"
      ]
    }
  ],
  "metadata": {
    "kernelspec": {
      "display_name": "Python 3 (ipykernel)",
      "language": "python",
      "name": "python3"
    },
    "language_info": {
      "codemirror_mode": {
        "name": "ipython",
        "version": 3
      },
      "file_extension": ".py",
      "mimetype": "text/x-python",
      "name": "python",
      "nbconvert_exporter": "python",
      "pygments_lexer": "ipython3",
      "version": "3.9.5"
    },
    "toc": {
      "base_numbering": 1,
      "nav_menu": {},
      "number_sections": true,
      "sideBar": true,
      "skip_h1_title": true,
      "title_cell": "Table of Contents",
      "title_sidebar": "Contents",
      "toc_cell": false,
      "toc_position": {},
      "toc_section_display": true,
      "toc_window_display": false
    },
    "colab": {
      "provenance": [],
      "include_colab_link": true
    }
  },
  "nbformat": 4,
  "nbformat_minor": 0
}