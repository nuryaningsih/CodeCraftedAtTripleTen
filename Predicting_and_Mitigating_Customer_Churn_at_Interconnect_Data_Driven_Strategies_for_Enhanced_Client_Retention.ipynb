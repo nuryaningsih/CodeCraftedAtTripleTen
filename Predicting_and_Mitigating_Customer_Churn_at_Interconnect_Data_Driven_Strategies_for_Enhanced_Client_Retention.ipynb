{
  "cells": [
    {
      "cell_type": "markdown",
      "metadata": {
        "id": "view-in-github",
        "colab_type": "text"
      },
      "source": [
        "<a href=\"https://colab.research.google.com/github/nuryaningsih/CodeCraftedAtTripleTen/blob/main/Predicting_and_Mitigating_Customer_Churn_at_Interconnect_Data_Driven_Strategies_for_Enhanced_Client_Retention.ipynb\" target=\"_parent\"><img src=\"https://colab.research.google.com/assets/colab-badge.svg\" alt=\"Open In Colab\"/></a>"
      ]
    },
    {
      "cell_type": "markdown",
      "metadata": {
        "id": "29G7XZCp_4LC"
      },
      "source": [
        "# Introduction\n",
        "Interconnect, a telecom operator, provides multiple services including landline and internet, complemented with additional digital services. Given the competitive nature of the telecom industry, customer retention is crucial. Interconnect has collected comprehensive data on client service usage, contract details, and personal demographics, aiming to predict and mitigate customer churn by offering incentives and improved service options to those likely to leave.\n",
        "\n",
        "## Objective\n",
        "The project's objective is to assist the marketing department of Interconnect by providing insights into the customer churn through data analysis. We aim to:\n",
        "\n",
        "1. Analyze the differences in monthly payments between current clients and those who have left.\n",
        "2. Examine the service usage behavior, focusing on telephone and internet services, between these two client groups.\n",
        "3. Develop and test a predictive model to forecast customer churn, which will be based on various client features contained within the data collected.\n",
        "\n",
        "These insights will inform the development of targeted retention strategies to reduce churn and improve customer satisfaction.\n",
        "\n",
        "## Stages\n",
        "\n",
        "Stage 1: Data Opening and Preliminary Analysis\n",
        "  * Load the data from the provided CSV files (contract.csv, personal.csv, internet.csv, phone.csv).\n",
        "  * Explore the structure and content of these datasets to understand the available information and prepare for a comprehensive analysis.\n",
        "\n",
        "Stage 2: Exploratory Data Analysis (EDA)\n",
        "  * Compares the distribution of monthly payments (MonthlyCharges) of all active clients with clients who have left.\n",
        "  * Comparing the client behavior of telephone users and Internet users.\n",
        "  * Churn Rate Analysis\n",
        "  * Relationship Analysis\n",
        "  * Customer Segmentation\n",
        "\n",
        "Stage 3: Feature Preparation\n",
        "  * Preprocess the data by handling missing values, encoding categorical variables, and scaling numerical data.\n",
        "  * Split the data into training and test sets\n",
        "\n",
        "Stage 4: Model Building and Testing\n",
        "  * Select and train different machine learning models suitable for binary classification (e.g., logistic regression, random forest, gradient boosting).\n",
        "  * Evaluate model performance using AUC-ROC and accuracy metrics to determine the best predictor of customer churn.\n",
        "\n",
        "Stage 5: Conclusions from Model Evaluation\n",
        "  * Compare the performance of different models and select the most effective one.\n",
        "  * Interpret the model results to identify key features that influence customer churn.\n",
        "  * Provide actionable recommendations based on model insights to the marketing department for targeted customer retention strategies.\n",
        "\n",
        "This structured approach will enable Interconnect to utilize their data effectively, thereby enhancing their ability to retain customers through informed, data-driven strategies."
      ]
    },
    {
      "cell_type": "markdown",
      "metadata": {
        "id": "X5zgb4Qz_4LC"
      },
      "source": [
        "# Stage 1: Data Opening and Preliminary Analysis\n",
        "\n",
        "Open data related to Interconnect telecommunications operators, then study the data.\n",
        "\n",
        "Load the libraries that we think are needed for this project. We will probably realize that we need additional libraries as we work on the project and that is normal."
      ]
    },
    {
      "cell_type": "code",
      "execution_count": 3,
      "metadata": {
        "id": "eH033ko9_4LC"
      },
      "outputs": [],
      "source": [
        "# Import library to process data\n",
        "import pandas as pd\n",
        "import numpy as np\n",
        "\n",
        "# Import Library for viz data\n",
        "import seaborn as sns\n",
        "import matplotlib.pyplot as plt\n",
        "import scipy.stats as st\n",
        "\n",
        "import warnings\n",
        "pd.set_option('display.max_columns', 100)\n",
        "warnings.filterwarnings('ignore')\n",
        "\n",
        "# Import Library for Machine Learning\n",
        "from sklearn.preprocessing import OneHotEncoder\n",
        "from sklearn.model_selection import train_test_split\n",
        "from sklearn.tree import DecisionTreeClassifier\n",
        "from sklearn.ensemble import RandomForestClassifier\n",
        "from sklearn.linear_model import LogisticRegression\n",
        "from sklearn.tree import DecisionTreeRegressor\n",
        "from sklearn.metrics import mean_squared_error\n",
        "from sklearn.ensemble import RandomForestRegressor\n",
        "from sklearn.metrics import accuracy_score\n",
        "from xgboost import XGBClassifier\n",
        "from sklearn.ensemble import GradientBoostingClassifier\n",
        "\n",
        "# Import Library for Model Evaluation\n",
        "from sklearn.metrics import confusion_matrix, roc_auc_score, roc_curve"
      ]
    },
    {
      "cell_type": "code",
      "source": [
        "from google.colab import drive\n",
        "drive.mount('/content/drive')"
      ],
      "metadata": {
        "colab": {
          "base_uri": "https://localhost:8080/"
        },
        "id": "0vNQrGUXEiL_",
        "outputId": "415722c2-b194-48f7-bbca-3f7780527519"
      },
      "execution_count": 4,
      "outputs": [
        {
          "output_type": "stream",
          "name": "stdout",
          "text": [
            "Mounted at /content/drive\n"
          ]
        }
      ]
    },
    {
      "cell_type": "markdown",
      "metadata": {
        "id": "wpRO_w1e_4LD"
      },
      "source": [
        "## Load the data\n",
        "\n",
        "Load this project data and read the general information."
      ]
    },
    {
      "cell_type": "markdown",
      "metadata": {
        "id": "KKgveaGP_4LD"
      },
      "source": [
        "### Contract Information Data"
      ]
    },
    {
      "cell_type": "code",
      "execution_count": 5,
      "metadata": {
        "id": "7NhCX-8C_4LD"
      },
      "outputs": [],
      "source": [
        "# Load the data file into a DataFrameLoad the data file into a DataFrame\n",
        "df_contract = pd.read_csv('/content/drive/MyDrive/DATASET PROJECT/Predicting and Mitigating Customer Churn at Interconnect/contract.csv')"
      ]
    },
    {
      "cell_type": "code",
      "execution_count": 6,
      "metadata": {
        "colab": {
          "base_uri": "https://localhost:8080/"
        },
        "id": "155xqXkf_4LD",
        "outputId": "4444687a-ac22-4109-b553-e8090ba12a55"
      },
      "outputs": [
        {
          "output_type": "execute_result",
          "data": {
            "text/plain": [
              "(7043, 8)"
            ]
          },
          "metadata": {},
          "execution_count": 6
        }
      ],
      "source": [
        "# Let's see how many rows and columns our dataset has\n",
        "df_contract.shape"
      ]
    },
    {
      "cell_type": "code",
      "execution_count": 7,
      "metadata": {
        "colab": {
          "base_uri": "https://localhost:8080/"
        },
        "id": "HfC_t3Iy_4LD",
        "outputId": "615d08cd-0b11-48c2-beb1-48a1b53d6f14"
      },
      "outputs": [
        {
          "output_type": "stream",
          "name": "stdout",
          "text": [
            "<class 'pandas.core.frame.DataFrame'>\n",
            "RangeIndex: 7043 entries, 0 to 7042\n",
            "Data columns (total 8 columns):\n",
            " #   Column            Non-Null Count  Dtype  \n",
            "---  ------            --------------  -----  \n",
            " 0   customerID        7043 non-null   object \n",
            " 1   BeginDate         7043 non-null   object \n",
            " 2   EndDate           7043 non-null   object \n",
            " 3   Type              7043 non-null   object \n",
            " 4   PaperlessBilling  7043 non-null   object \n",
            " 5   PaymentMethod     7043 non-null   object \n",
            " 6   MonthlyCharges    7043 non-null   float64\n",
            " 7   TotalCharges      7043 non-null   object \n",
            "dtypes: float64(1), object(7)\n",
            "memory usage: 440.3+ KB\n"
          ]
        }
      ],
      "source": [
        "# Display general information/summary about the DataFrame\n",
        "df_contract.info()"
      ]
    },
    {
      "cell_type": "code",
      "execution_count": 8,
      "metadata": {
        "colab": {
          "base_uri": "https://localhost:8080/",
          "height": 206
        },
        "id": "fyxCs9tG_4LD",
        "outputId": "f0e7c7ff-28f1-4a62-9371-5044e84453e7"
      },
      "outputs": [
        {
          "output_type": "execute_result",
          "data": {
            "text/plain": [
              "   customerID   BeginDate              EndDate            Type  \\\n",
              "0  7590-VHVEG  2020-01-01                   No  Month-to-month   \n",
              "1  5575-GNVDE  2017-04-01                   No        One year   \n",
              "2  3668-QPYBK  2019-10-01  2019-12-01 00:00:00  Month-to-month   \n",
              "3  7795-CFOCW  2016-05-01                   No        One year   \n",
              "4  9237-HQITU  2019-09-01  2019-11-01 00:00:00  Month-to-month   \n",
              "\n",
              "  PaperlessBilling              PaymentMethod  MonthlyCharges TotalCharges  \n",
              "0              Yes           Electronic check           29.85        29.85  \n",
              "1               No               Mailed check           56.95       1889.5  \n",
              "2              Yes               Mailed check           53.85       108.15  \n",
              "3               No  Bank transfer (automatic)           42.30      1840.75  \n",
              "4              Yes           Electronic check           70.70       151.65  "
            ],
            "text/html": [
              "\n",
              "  <div id=\"df-90b8495a-a0a8-44d9-878f-0e42b9aa8f6a\" class=\"colab-df-container\">\n",
              "    <div>\n",
              "<style scoped>\n",
              "    .dataframe tbody tr th:only-of-type {\n",
              "        vertical-align: middle;\n",
              "    }\n",
              "\n",
              "    .dataframe tbody tr th {\n",
              "        vertical-align: top;\n",
              "    }\n",
              "\n",
              "    .dataframe thead th {\n",
              "        text-align: right;\n",
              "    }\n",
              "</style>\n",
              "<table border=\"1\" class=\"dataframe\">\n",
              "  <thead>\n",
              "    <tr style=\"text-align: right;\">\n",
              "      <th></th>\n",
              "      <th>customerID</th>\n",
              "      <th>BeginDate</th>\n",
              "      <th>EndDate</th>\n",
              "      <th>Type</th>\n",
              "      <th>PaperlessBilling</th>\n",
              "      <th>PaymentMethod</th>\n",
              "      <th>MonthlyCharges</th>\n",
              "      <th>TotalCharges</th>\n",
              "    </tr>\n",
              "  </thead>\n",
              "  <tbody>\n",
              "    <tr>\n",
              "      <th>0</th>\n",
              "      <td>7590-VHVEG</td>\n",
              "      <td>2020-01-01</td>\n",
              "      <td>No</td>\n",
              "      <td>Month-to-month</td>\n",
              "      <td>Yes</td>\n",
              "      <td>Electronic check</td>\n",
              "      <td>29.85</td>\n",
              "      <td>29.85</td>\n",
              "    </tr>\n",
              "    <tr>\n",
              "      <th>1</th>\n",
              "      <td>5575-GNVDE</td>\n",
              "      <td>2017-04-01</td>\n",
              "      <td>No</td>\n",
              "      <td>One year</td>\n",
              "      <td>No</td>\n",
              "      <td>Mailed check</td>\n",
              "      <td>56.95</td>\n",
              "      <td>1889.5</td>\n",
              "    </tr>\n",
              "    <tr>\n",
              "      <th>2</th>\n",
              "      <td>3668-QPYBK</td>\n",
              "      <td>2019-10-01</td>\n",
              "      <td>2019-12-01 00:00:00</td>\n",
              "      <td>Month-to-month</td>\n",
              "      <td>Yes</td>\n",
              "      <td>Mailed check</td>\n",
              "      <td>53.85</td>\n",
              "      <td>108.15</td>\n",
              "    </tr>\n",
              "    <tr>\n",
              "      <th>3</th>\n",
              "      <td>7795-CFOCW</td>\n",
              "      <td>2016-05-01</td>\n",
              "      <td>No</td>\n",
              "      <td>One year</td>\n",
              "      <td>No</td>\n",
              "      <td>Bank transfer (automatic)</td>\n",
              "      <td>42.30</td>\n",
              "      <td>1840.75</td>\n",
              "    </tr>\n",
              "    <tr>\n",
              "      <th>4</th>\n",
              "      <td>9237-HQITU</td>\n",
              "      <td>2019-09-01</td>\n",
              "      <td>2019-11-01 00:00:00</td>\n",
              "      <td>Month-to-month</td>\n",
              "      <td>Yes</td>\n",
              "      <td>Electronic check</td>\n",
              "      <td>70.70</td>\n",
              "      <td>151.65</td>\n",
              "    </tr>\n",
              "  </tbody>\n",
              "</table>\n",
              "</div>\n",
              "    <div class=\"colab-df-buttons\">\n",
              "\n",
              "  <div class=\"colab-df-container\">\n",
              "    <button class=\"colab-df-convert\" onclick=\"convertToInteractive('df-90b8495a-a0a8-44d9-878f-0e42b9aa8f6a')\"\n",
              "            title=\"Convert this dataframe to an interactive table.\"\n",
              "            style=\"display:none;\">\n",
              "\n",
              "  <svg xmlns=\"http://www.w3.org/2000/svg\" height=\"24px\" viewBox=\"0 -960 960 960\">\n",
              "    <path d=\"M120-120v-720h720v720H120Zm60-500h600v-160H180v160Zm220 220h160v-160H400v160Zm0 220h160v-160H400v160ZM180-400h160v-160H180v160Zm440 0h160v-160H620v160ZM180-180h160v-160H180v160Zm440 0h160v-160H620v160Z\"/>\n",
              "  </svg>\n",
              "    </button>\n",
              "\n",
              "  <style>\n",
              "    .colab-df-container {\n",
              "      display:flex;\n",
              "      gap: 12px;\n",
              "    }\n",
              "\n",
              "    .colab-df-convert {\n",
              "      background-color: #E8F0FE;\n",
              "      border: none;\n",
              "      border-radius: 50%;\n",
              "      cursor: pointer;\n",
              "      display: none;\n",
              "      fill: #1967D2;\n",
              "      height: 32px;\n",
              "      padding: 0 0 0 0;\n",
              "      width: 32px;\n",
              "    }\n",
              "\n",
              "    .colab-df-convert:hover {\n",
              "      background-color: #E2EBFA;\n",
              "      box-shadow: 0px 1px 2px rgba(60, 64, 67, 0.3), 0px 1px 3px 1px rgba(60, 64, 67, 0.15);\n",
              "      fill: #174EA6;\n",
              "    }\n",
              "\n",
              "    .colab-df-buttons div {\n",
              "      margin-bottom: 4px;\n",
              "    }\n",
              "\n",
              "    [theme=dark] .colab-df-convert {\n",
              "      background-color: #3B4455;\n",
              "      fill: #D2E3FC;\n",
              "    }\n",
              "\n",
              "    [theme=dark] .colab-df-convert:hover {\n",
              "      background-color: #434B5C;\n",
              "      box-shadow: 0px 1px 3px 1px rgba(0, 0, 0, 0.15);\n",
              "      filter: drop-shadow(0px 1px 2px rgba(0, 0, 0, 0.3));\n",
              "      fill: #FFFFFF;\n",
              "    }\n",
              "  </style>\n",
              "\n",
              "    <script>\n",
              "      const buttonEl =\n",
              "        document.querySelector('#df-90b8495a-a0a8-44d9-878f-0e42b9aa8f6a button.colab-df-convert');\n",
              "      buttonEl.style.display =\n",
              "        google.colab.kernel.accessAllowed ? 'block' : 'none';\n",
              "\n",
              "      async function convertToInteractive(key) {\n",
              "        const element = document.querySelector('#df-90b8495a-a0a8-44d9-878f-0e42b9aa8f6a');\n",
              "        const dataTable =\n",
              "          await google.colab.kernel.invokeFunction('convertToInteractive',\n",
              "                                                    [key], {});\n",
              "        if (!dataTable) return;\n",
              "\n",
              "        const docLinkHtml = 'Like what you see? Visit the ' +\n",
              "          '<a target=\"_blank\" href=https://colab.research.google.com/notebooks/data_table.ipynb>data table notebook</a>'\n",
              "          + ' to learn more about interactive tables.';\n",
              "        element.innerHTML = '';\n",
              "        dataTable['output_type'] = 'display_data';\n",
              "        await google.colab.output.renderOutput(dataTable, element);\n",
              "        const docLink = document.createElement('div');\n",
              "        docLink.innerHTML = docLinkHtml;\n",
              "        element.appendChild(docLink);\n",
              "      }\n",
              "    </script>\n",
              "  </div>\n",
              "\n",
              "\n",
              "<div id=\"df-64c63a2a-2f2b-4821-9841-f4c9357d864b\">\n",
              "  <button class=\"colab-df-quickchart\" onclick=\"quickchart('df-64c63a2a-2f2b-4821-9841-f4c9357d864b')\"\n",
              "            title=\"Suggest charts\"\n",
              "            style=\"display:none;\">\n",
              "\n",
              "<svg xmlns=\"http://www.w3.org/2000/svg\" height=\"24px\"viewBox=\"0 0 24 24\"\n",
              "     width=\"24px\">\n",
              "    <g>\n",
              "        <path d=\"M19 3H5c-1.1 0-2 .9-2 2v14c0 1.1.9 2 2 2h14c1.1 0 2-.9 2-2V5c0-1.1-.9-2-2-2zM9 17H7v-7h2v7zm4 0h-2V7h2v10zm4 0h-2v-4h2v4z\"/>\n",
              "    </g>\n",
              "</svg>\n",
              "  </button>\n",
              "\n",
              "<style>\n",
              "  .colab-df-quickchart {\n",
              "      --bg-color: #E8F0FE;\n",
              "      --fill-color: #1967D2;\n",
              "      --hover-bg-color: #E2EBFA;\n",
              "      --hover-fill-color: #174EA6;\n",
              "      --disabled-fill-color: #AAA;\n",
              "      --disabled-bg-color: #DDD;\n",
              "  }\n",
              "\n",
              "  [theme=dark] .colab-df-quickchart {\n",
              "      --bg-color: #3B4455;\n",
              "      --fill-color: #D2E3FC;\n",
              "      --hover-bg-color: #434B5C;\n",
              "      --hover-fill-color: #FFFFFF;\n",
              "      --disabled-bg-color: #3B4455;\n",
              "      --disabled-fill-color: #666;\n",
              "  }\n",
              "\n",
              "  .colab-df-quickchart {\n",
              "    background-color: var(--bg-color);\n",
              "    border: none;\n",
              "    border-radius: 50%;\n",
              "    cursor: pointer;\n",
              "    display: none;\n",
              "    fill: var(--fill-color);\n",
              "    height: 32px;\n",
              "    padding: 0;\n",
              "    width: 32px;\n",
              "  }\n",
              "\n",
              "  .colab-df-quickchart:hover {\n",
              "    background-color: var(--hover-bg-color);\n",
              "    box-shadow: 0 1px 2px rgba(60, 64, 67, 0.3), 0 1px 3px 1px rgba(60, 64, 67, 0.15);\n",
              "    fill: var(--button-hover-fill-color);\n",
              "  }\n",
              "\n",
              "  .colab-df-quickchart-complete:disabled,\n",
              "  .colab-df-quickchart-complete:disabled:hover {\n",
              "    background-color: var(--disabled-bg-color);\n",
              "    fill: var(--disabled-fill-color);\n",
              "    box-shadow: none;\n",
              "  }\n",
              "\n",
              "  .colab-df-spinner {\n",
              "    border: 2px solid var(--fill-color);\n",
              "    border-color: transparent;\n",
              "    border-bottom-color: var(--fill-color);\n",
              "    animation:\n",
              "      spin 1s steps(1) infinite;\n",
              "  }\n",
              "\n",
              "  @keyframes spin {\n",
              "    0% {\n",
              "      border-color: transparent;\n",
              "      border-bottom-color: var(--fill-color);\n",
              "      border-left-color: var(--fill-color);\n",
              "    }\n",
              "    20% {\n",
              "      border-color: transparent;\n",
              "      border-left-color: var(--fill-color);\n",
              "      border-top-color: var(--fill-color);\n",
              "    }\n",
              "    30% {\n",
              "      border-color: transparent;\n",
              "      border-left-color: var(--fill-color);\n",
              "      border-top-color: var(--fill-color);\n",
              "      border-right-color: var(--fill-color);\n",
              "    }\n",
              "    40% {\n",
              "      border-color: transparent;\n",
              "      border-right-color: var(--fill-color);\n",
              "      border-top-color: var(--fill-color);\n",
              "    }\n",
              "    60% {\n",
              "      border-color: transparent;\n",
              "      border-right-color: var(--fill-color);\n",
              "    }\n",
              "    80% {\n",
              "      border-color: transparent;\n",
              "      border-right-color: var(--fill-color);\n",
              "      border-bottom-color: var(--fill-color);\n",
              "    }\n",
              "    90% {\n",
              "      border-color: transparent;\n",
              "      border-bottom-color: var(--fill-color);\n",
              "    }\n",
              "  }\n",
              "</style>\n",
              "\n",
              "  <script>\n",
              "    async function quickchart(key) {\n",
              "      const quickchartButtonEl =\n",
              "        document.querySelector('#' + key + ' button');\n",
              "      quickchartButtonEl.disabled = true;  // To prevent multiple clicks.\n",
              "      quickchartButtonEl.classList.add('colab-df-spinner');\n",
              "      try {\n",
              "        const charts = await google.colab.kernel.invokeFunction(\n",
              "            'suggestCharts', [key], {});\n",
              "      } catch (error) {\n",
              "        console.error('Error during call to suggestCharts:', error);\n",
              "      }\n",
              "      quickchartButtonEl.classList.remove('colab-df-spinner');\n",
              "      quickchartButtonEl.classList.add('colab-df-quickchart-complete');\n",
              "    }\n",
              "    (() => {\n",
              "      let quickchartButtonEl =\n",
              "        document.querySelector('#df-64c63a2a-2f2b-4821-9841-f4c9357d864b button');\n",
              "      quickchartButtonEl.style.display =\n",
              "        google.colab.kernel.accessAllowed ? 'block' : 'none';\n",
              "    })();\n",
              "  </script>\n",
              "</div>\n",
              "    </div>\n",
              "  </div>\n"
            ],
            "application/vnd.google.colaboratory.intrinsic+json": {
              "type": "dataframe",
              "variable_name": "df_contract",
              "summary": "{\n  \"name\": \"df_contract\",\n  \"rows\": 7043,\n  \"fields\": [\n    {\n      \"column\": \"customerID\",\n      \"properties\": {\n        \"dtype\": \"string\",\n        \"num_unique_values\": 7043,\n        \"samples\": [\n          \"1024-GUALD\",\n          \"0484-JPBRU\",\n          \"3620-EHIMZ\"\n        ],\n        \"semantic_type\": \"\",\n        \"description\": \"\"\n      }\n    },\n    {\n      \"column\": \"BeginDate\",\n      \"properties\": {\n        \"dtype\": \"object\",\n        \"num_unique_values\": 77,\n        \"samples\": [\n          \"2019-09-01\",\n          \"2016-07-01\",\n          \"2019-01-01\"\n        ],\n        \"semantic_type\": \"\",\n        \"description\": \"\"\n      }\n    },\n    {\n      \"column\": \"EndDate\",\n      \"properties\": {\n        \"dtype\": \"category\",\n        \"num_unique_values\": 5,\n        \"samples\": [\n          \"2019-12-01 00:00:00\",\n          \"2020-01-01 00:00:00\",\n          \"2019-11-01 00:00:00\"\n        ],\n        \"semantic_type\": \"\",\n        \"description\": \"\"\n      }\n    },\n    {\n      \"column\": \"Type\",\n      \"properties\": {\n        \"dtype\": \"category\",\n        \"num_unique_values\": 3,\n        \"samples\": [\n          \"Month-to-month\",\n          \"One year\",\n          \"Two year\"\n        ],\n        \"semantic_type\": \"\",\n        \"description\": \"\"\n      }\n    },\n    {\n      \"column\": \"PaperlessBilling\",\n      \"properties\": {\n        \"dtype\": \"category\",\n        \"num_unique_values\": 2,\n        \"samples\": [\n          \"No\",\n          \"Yes\"\n        ],\n        \"semantic_type\": \"\",\n        \"description\": \"\"\n      }\n    },\n    {\n      \"column\": \"PaymentMethod\",\n      \"properties\": {\n        \"dtype\": \"category\",\n        \"num_unique_values\": 4,\n        \"samples\": [\n          \"Mailed check\",\n          \"Credit card (automatic)\"\n        ],\n        \"semantic_type\": \"\",\n        \"description\": \"\"\n      }\n    },\n    {\n      \"column\": \"MonthlyCharges\",\n      \"properties\": {\n        \"dtype\": \"number\",\n        \"std\": 30.090047097678493,\n        \"min\": 18.25,\n        \"max\": 118.75,\n        \"num_unique_values\": 1585,\n        \"samples\": [\n          48.85,\n          20.05\n        ],\n        \"semantic_type\": \"\",\n        \"description\": \"\"\n      }\n    },\n    {\n      \"column\": \"TotalCharges\",\n      \"properties\": {\n        \"dtype\": \"string\",\n        \"num_unique_values\": 6531,\n        \"samples\": [\n          \"4600.7\",\n          \"20.35\"\n        ],\n        \"semantic_type\": \"\",\n        \"description\": \"\"\n      }\n    }\n  ]\n}"
            }
          },
          "metadata": {},
          "execution_count": 8
        }
      ],
      "source": [
        "# Displays sample data\n",
        "df_contract.head()"
      ]
    },
    {
      "cell_type": "code",
      "execution_count": 9,
      "metadata": {
        "colab": {
          "base_uri": "https://localhost:8080/"
        },
        "id": "LfTtppcb_4LE",
        "outputId": "19f30aff-7ae7-4b5c-cd48-35a50d21a451"
      },
      "outputs": [
        {
          "output_type": "execute_result",
          "data": {
            "text/plain": [
              "customerID          0.0\n",
              "BeginDate           0.0\n",
              "EndDate             0.0\n",
              "Type                0.0\n",
              "PaperlessBilling    0.0\n",
              "PaymentMethod       0.0\n",
              "MonthlyCharges      0.0\n",
              "TotalCharges        0.0\n",
              "dtype: float64"
            ]
          },
          "metadata": {},
          "execution_count": 9
        }
      ],
      "source": [
        "# Check for missing values\n",
        "df_contract.isnull().sum().sort_values(ascending=False) / df_contract.shape[0] *100"
      ]
    },
    {
      "cell_type": "markdown",
      "metadata": {
        "id": "USqS9nwk_4LE"
      },
      "source": [
        "After loading and inspecting the contract information data for the \"Predicting and Mitigating Customer Churn at Interconnect\" project, several key aspects and initial insights have been revealed from the dataset, which comprises 7043 entries and 8 columns. Here's a detailed narrative of the findings and the steps taken to address potential anomalies:\n",
        "\n",
        "**Dataset Overview**\n",
        "\n",
        "The contract dataset includes several client-related features such as customerID, BeginDate, EndDate, Type, PaperlessBilling, PaymentMethod, MonthlyCharges, and TotalCharges. The data types are predominantly object-type, except for MonthlyCharges, which is a float64, indicating numeric data.\n",
        "\n",
        "**Anomaly Detection and Insights**\n",
        "1. Data Type Anomaly in TotalCharges:\n",
        "  * Upon initial examination, the TotalCharges column is expected to be numeric (similar to MonthlyCharges), but it is stored as an object type. This suggests that there might be non-numeric values embedded within the column, which could be whitespace, special characters, or mixed data types.\n",
        "2. Checking for Non-Numeric Values:\n",
        "  * To investigate this anomaly, converting TotalCharges to a numeric type is essential.\n",
        "3. Handling Missing or Incorrect Values:\n",
        "  * If non-numeric values are confirmed (converted to NaNs), the proportion of these anomalies needs to be calculated. If the percentage is insignificant, these values might be replaced with appropriate statistics like the median or mean, or entries could be removed based on the context. However, if a significant number of entries are affected, deeper investigation into data collection and entry processes would be warranted.\n",
        "\n",
        "**Conclusion**\n",
        "\n",
        "The preliminary data examination of the contract dataset revealed crucial insights, particularly regarding the TotalCharges column's incorrect data type, which could impact further analysis. Addressing this anomaly by converting the column to a numeric type and handling non-numeric values appropriately is vital for accurate data analysis. Ensuring data quality at this stage lays a strong foundation for the subsequent analysis stages, including exploratory data analysis and predictive modeling for customer churn. This meticulous approach is fundamental to deriving reliable insights and developing effective strategies for customer retention."
      ]
    },
    {
      "cell_type": "markdown",
      "metadata": {
        "id": "hn-y_M6O_4LE"
      },
      "source": [
        "### Client Personal Data"
      ]
    },
    {
      "cell_type": "code",
      "execution_count": 10,
      "metadata": {
        "id": "1VtppFJb_4LE"
      },
      "outputs": [],
      "source": [
        "# Load the data file into a DataFrameLoad the data file into a DataFrame\n",
        "df_personal = pd.read_csv('/content/drive/MyDrive/DATASET PROJECT/Predicting and Mitigating Customer Churn at Interconnect/personal.csv')"
      ]
    },
    {
      "cell_type": "code",
      "execution_count": 11,
      "metadata": {
        "colab": {
          "base_uri": "https://localhost:8080/"
        },
        "id": "Dx2oh6-f_4LE",
        "outputId": "61ab93f5-eae1-4649-c5c9-c8861f8904d5"
      },
      "outputs": [
        {
          "output_type": "execute_result",
          "data": {
            "text/plain": [
              "(7043, 5)"
            ]
          },
          "metadata": {},
          "execution_count": 11
        }
      ],
      "source": [
        "# Let's see how many rows and columns our dataset has\n",
        "df_personal.shape"
      ]
    },
    {
      "cell_type": "code",
      "execution_count": 12,
      "metadata": {
        "colab": {
          "base_uri": "https://localhost:8080/"
        },
        "id": "lOWDn1TA_4LE",
        "outputId": "da96bdea-416d-450d-b8d5-125a280e5834"
      },
      "outputs": [
        {
          "output_type": "stream",
          "name": "stdout",
          "text": [
            "<class 'pandas.core.frame.DataFrame'>\n",
            "RangeIndex: 7043 entries, 0 to 7042\n",
            "Data columns (total 5 columns):\n",
            " #   Column         Non-Null Count  Dtype \n",
            "---  ------         --------------  ----- \n",
            " 0   customerID     7043 non-null   object\n",
            " 1   gender         7043 non-null   object\n",
            " 2   SeniorCitizen  7043 non-null   int64 \n",
            " 3   Partner        7043 non-null   object\n",
            " 4   Dependents     7043 non-null   object\n",
            "dtypes: int64(1), object(4)\n",
            "memory usage: 275.2+ KB\n"
          ]
        }
      ],
      "source": [
        "# Display general information/summary about the DataFrame\n",
        "df_personal.info()"
      ]
    },
    {
      "cell_type": "code",
      "execution_count": 13,
      "metadata": {
        "colab": {
          "base_uri": "https://localhost:8080/",
          "height": 206
        },
        "id": "zm6XyS1N_4LE",
        "outputId": "10a9a695-d997-451b-ae94-68a0e95edb54"
      },
      "outputs": [
        {
          "output_type": "execute_result",
          "data": {
            "text/plain": [
              "   customerID  gender  SeniorCitizen Partner Dependents\n",
              "0  7590-VHVEG  Female              0     Yes         No\n",
              "1  5575-GNVDE    Male              0      No         No\n",
              "2  3668-QPYBK    Male              0      No         No\n",
              "3  7795-CFOCW    Male              0      No         No\n",
              "4  9237-HQITU  Female              0      No         No"
            ],
            "text/html": [
              "\n",
              "  <div id=\"df-e2b17689-8435-40ee-9ca6-e3c3de6db41b\" class=\"colab-df-container\">\n",
              "    <div>\n",
              "<style scoped>\n",
              "    .dataframe tbody tr th:only-of-type {\n",
              "        vertical-align: middle;\n",
              "    }\n",
              "\n",
              "    .dataframe tbody tr th {\n",
              "        vertical-align: top;\n",
              "    }\n",
              "\n",
              "    .dataframe thead th {\n",
              "        text-align: right;\n",
              "    }\n",
              "</style>\n",
              "<table border=\"1\" class=\"dataframe\">\n",
              "  <thead>\n",
              "    <tr style=\"text-align: right;\">\n",
              "      <th></th>\n",
              "      <th>customerID</th>\n",
              "      <th>gender</th>\n",
              "      <th>SeniorCitizen</th>\n",
              "      <th>Partner</th>\n",
              "      <th>Dependents</th>\n",
              "    </tr>\n",
              "  </thead>\n",
              "  <tbody>\n",
              "    <tr>\n",
              "      <th>0</th>\n",
              "      <td>7590-VHVEG</td>\n",
              "      <td>Female</td>\n",
              "      <td>0</td>\n",
              "      <td>Yes</td>\n",
              "      <td>No</td>\n",
              "    </tr>\n",
              "    <tr>\n",
              "      <th>1</th>\n",
              "      <td>5575-GNVDE</td>\n",
              "      <td>Male</td>\n",
              "      <td>0</td>\n",
              "      <td>No</td>\n",
              "      <td>No</td>\n",
              "    </tr>\n",
              "    <tr>\n",
              "      <th>2</th>\n",
              "      <td>3668-QPYBK</td>\n",
              "      <td>Male</td>\n",
              "      <td>0</td>\n",
              "      <td>No</td>\n",
              "      <td>No</td>\n",
              "    </tr>\n",
              "    <tr>\n",
              "      <th>3</th>\n",
              "      <td>7795-CFOCW</td>\n",
              "      <td>Male</td>\n",
              "      <td>0</td>\n",
              "      <td>No</td>\n",
              "      <td>No</td>\n",
              "    </tr>\n",
              "    <tr>\n",
              "      <th>4</th>\n",
              "      <td>9237-HQITU</td>\n",
              "      <td>Female</td>\n",
              "      <td>0</td>\n",
              "      <td>No</td>\n",
              "      <td>No</td>\n",
              "    </tr>\n",
              "  </tbody>\n",
              "</table>\n",
              "</div>\n",
              "    <div class=\"colab-df-buttons\">\n",
              "\n",
              "  <div class=\"colab-df-container\">\n",
              "    <button class=\"colab-df-convert\" onclick=\"convertToInteractive('df-e2b17689-8435-40ee-9ca6-e3c3de6db41b')\"\n",
              "            title=\"Convert this dataframe to an interactive table.\"\n",
              "            style=\"display:none;\">\n",
              "\n",
              "  <svg xmlns=\"http://www.w3.org/2000/svg\" height=\"24px\" viewBox=\"0 -960 960 960\">\n",
              "    <path d=\"M120-120v-720h720v720H120Zm60-500h600v-160H180v160Zm220 220h160v-160H400v160Zm0 220h160v-160H400v160ZM180-400h160v-160H180v160Zm440 0h160v-160H620v160ZM180-180h160v-160H180v160Zm440 0h160v-160H620v160Z\"/>\n",
              "  </svg>\n",
              "    </button>\n",
              "\n",
              "  <style>\n",
              "    .colab-df-container {\n",
              "      display:flex;\n",
              "      gap: 12px;\n",
              "    }\n",
              "\n",
              "    .colab-df-convert {\n",
              "      background-color: #E8F0FE;\n",
              "      border: none;\n",
              "      border-radius: 50%;\n",
              "      cursor: pointer;\n",
              "      display: none;\n",
              "      fill: #1967D2;\n",
              "      height: 32px;\n",
              "      padding: 0 0 0 0;\n",
              "      width: 32px;\n",
              "    }\n",
              "\n",
              "    .colab-df-convert:hover {\n",
              "      background-color: #E2EBFA;\n",
              "      box-shadow: 0px 1px 2px rgba(60, 64, 67, 0.3), 0px 1px 3px 1px rgba(60, 64, 67, 0.15);\n",
              "      fill: #174EA6;\n",
              "    }\n",
              "\n",
              "    .colab-df-buttons div {\n",
              "      margin-bottom: 4px;\n",
              "    }\n",
              "\n",
              "    [theme=dark] .colab-df-convert {\n",
              "      background-color: #3B4455;\n",
              "      fill: #D2E3FC;\n",
              "    }\n",
              "\n",
              "    [theme=dark] .colab-df-convert:hover {\n",
              "      background-color: #434B5C;\n",
              "      box-shadow: 0px 1px 3px 1px rgba(0, 0, 0, 0.15);\n",
              "      filter: drop-shadow(0px 1px 2px rgba(0, 0, 0, 0.3));\n",
              "      fill: #FFFFFF;\n",
              "    }\n",
              "  </style>\n",
              "\n",
              "    <script>\n",
              "      const buttonEl =\n",
              "        document.querySelector('#df-e2b17689-8435-40ee-9ca6-e3c3de6db41b button.colab-df-convert');\n",
              "      buttonEl.style.display =\n",
              "        google.colab.kernel.accessAllowed ? 'block' : 'none';\n",
              "\n",
              "      async function convertToInteractive(key) {\n",
              "        const element = document.querySelector('#df-e2b17689-8435-40ee-9ca6-e3c3de6db41b');\n",
              "        const dataTable =\n",
              "          await google.colab.kernel.invokeFunction('convertToInteractive',\n",
              "                                                    [key], {});\n",
              "        if (!dataTable) return;\n",
              "\n",
              "        const docLinkHtml = 'Like what you see? Visit the ' +\n",
              "          '<a target=\"_blank\" href=https://colab.research.google.com/notebooks/data_table.ipynb>data table notebook</a>'\n",
              "          + ' to learn more about interactive tables.';\n",
              "        element.innerHTML = '';\n",
              "        dataTable['output_type'] = 'display_data';\n",
              "        await google.colab.output.renderOutput(dataTable, element);\n",
              "        const docLink = document.createElement('div');\n",
              "        docLink.innerHTML = docLinkHtml;\n",
              "        element.appendChild(docLink);\n",
              "      }\n",
              "    </script>\n",
              "  </div>\n",
              "\n",
              "\n",
              "<div id=\"df-2d707223-ae2d-4941-8f6d-96d019024721\">\n",
              "  <button class=\"colab-df-quickchart\" onclick=\"quickchart('df-2d707223-ae2d-4941-8f6d-96d019024721')\"\n",
              "            title=\"Suggest charts\"\n",
              "            style=\"display:none;\">\n",
              "\n",
              "<svg xmlns=\"http://www.w3.org/2000/svg\" height=\"24px\"viewBox=\"0 0 24 24\"\n",
              "     width=\"24px\">\n",
              "    <g>\n",
              "        <path d=\"M19 3H5c-1.1 0-2 .9-2 2v14c0 1.1.9 2 2 2h14c1.1 0 2-.9 2-2V5c0-1.1-.9-2-2-2zM9 17H7v-7h2v7zm4 0h-2V7h2v10zm4 0h-2v-4h2v4z\"/>\n",
              "    </g>\n",
              "</svg>\n",
              "  </button>\n",
              "\n",
              "<style>\n",
              "  .colab-df-quickchart {\n",
              "      --bg-color: #E8F0FE;\n",
              "      --fill-color: #1967D2;\n",
              "      --hover-bg-color: #E2EBFA;\n",
              "      --hover-fill-color: #174EA6;\n",
              "      --disabled-fill-color: #AAA;\n",
              "      --disabled-bg-color: #DDD;\n",
              "  }\n",
              "\n",
              "  [theme=dark] .colab-df-quickchart {\n",
              "      --bg-color: #3B4455;\n",
              "      --fill-color: #D2E3FC;\n",
              "      --hover-bg-color: #434B5C;\n",
              "      --hover-fill-color: #FFFFFF;\n",
              "      --disabled-bg-color: #3B4455;\n",
              "      --disabled-fill-color: #666;\n",
              "  }\n",
              "\n",
              "  .colab-df-quickchart {\n",
              "    background-color: var(--bg-color);\n",
              "    border: none;\n",
              "    border-radius: 50%;\n",
              "    cursor: pointer;\n",
              "    display: none;\n",
              "    fill: var(--fill-color);\n",
              "    height: 32px;\n",
              "    padding: 0;\n",
              "    width: 32px;\n",
              "  }\n",
              "\n",
              "  .colab-df-quickchart:hover {\n",
              "    background-color: var(--hover-bg-color);\n",
              "    box-shadow: 0 1px 2px rgba(60, 64, 67, 0.3), 0 1px 3px 1px rgba(60, 64, 67, 0.15);\n",
              "    fill: var(--button-hover-fill-color);\n",
              "  }\n",
              "\n",
              "  .colab-df-quickchart-complete:disabled,\n",
              "  .colab-df-quickchart-complete:disabled:hover {\n",
              "    background-color: var(--disabled-bg-color);\n",
              "    fill: var(--disabled-fill-color);\n",
              "    box-shadow: none;\n",
              "  }\n",
              "\n",
              "  .colab-df-spinner {\n",
              "    border: 2px solid var(--fill-color);\n",
              "    border-color: transparent;\n",
              "    border-bottom-color: var(--fill-color);\n",
              "    animation:\n",
              "      spin 1s steps(1) infinite;\n",
              "  }\n",
              "\n",
              "  @keyframes spin {\n",
              "    0% {\n",
              "      border-color: transparent;\n",
              "      border-bottom-color: var(--fill-color);\n",
              "      border-left-color: var(--fill-color);\n",
              "    }\n",
              "    20% {\n",
              "      border-color: transparent;\n",
              "      border-left-color: var(--fill-color);\n",
              "      border-top-color: var(--fill-color);\n",
              "    }\n",
              "    30% {\n",
              "      border-color: transparent;\n",
              "      border-left-color: var(--fill-color);\n",
              "      border-top-color: var(--fill-color);\n",
              "      border-right-color: var(--fill-color);\n",
              "    }\n",
              "    40% {\n",
              "      border-color: transparent;\n",
              "      border-right-color: var(--fill-color);\n",
              "      border-top-color: var(--fill-color);\n",
              "    }\n",
              "    60% {\n",
              "      border-color: transparent;\n",
              "      border-right-color: var(--fill-color);\n",
              "    }\n",
              "    80% {\n",
              "      border-color: transparent;\n",
              "      border-right-color: var(--fill-color);\n",
              "      border-bottom-color: var(--fill-color);\n",
              "    }\n",
              "    90% {\n",
              "      border-color: transparent;\n",
              "      border-bottom-color: var(--fill-color);\n",
              "    }\n",
              "  }\n",
              "</style>\n",
              "\n",
              "  <script>\n",
              "    async function quickchart(key) {\n",
              "      const quickchartButtonEl =\n",
              "        document.querySelector('#' + key + ' button');\n",
              "      quickchartButtonEl.disabled = true;  // To prevent multiple clicks.\n",
              "      quickchartButtonEl.classList.add('colab-df-spinner');\n",
              "      try {\n",
              "        const charts = await google.colab.kernel.invokeFunction(\n",
              "            'suggestCharts', [key], {});\n",
              "      } catch (error) {\n",
              "        console.error('Error during call to suggestCharts:', error);\n",
              "      }\n",
              "      quickchartButtonEl.classList.remove('colab-df-spinner');\n",
              "      quickchartButtonEl.classList.add('colab-df-quickchart-complete');\n",
              "    }\n",
              "    (() => {\n",
              "      let quickchartButtonEl =\n",
              "        document.querySelector('#df-2d707223-ae2d-4941-8f6d-96d019024721 button');\n",
              "      quickchartButtonEl.style.display =\n",
              "        google.colab.kernel.accessAllowed ? 'block' : 'none';\n",
              "    })();\n",
              "  </script>\n",
              "</div>\n",
              "    </div>\n",
              "  </div>\n"
            ],
            "application/vnd.google.colaboratory.intrinsic+json": {
              "type": "dataframe",
              "variable_name": "df_personal",
              "summary": "{\n  \"name\": \"df_personal\",\n  \"rows\": 7043,\n  \"fields\": [\n    {\n      \"column\": \"customerID\",\n      \"properties\": {\n        \"dtype\": \"string\",\n        \"num_unique_values\": 7043,\n        \"samples\": [\n          \"1024-GUALD\",\n          \"0484-JPBRU\",\n          \"3620-EHIMZ\"\n        ],\n        \"semantic_type\": \"\",\n        \"description\": \"\"\n      }\n    },\n    {\n      \"column\": \"gender\",\n      \"properties\": {\n        \"dtype\": \"category\",\n        \"num_unique_values\": 2,\n        \"samples\": [\n          \"Male\",\n          \"Female\"\n        ],\n        \"semantic_type\": \"\",\n        \"description\": \"\"\n      }\n    },\n    {\n      \"column\": \"SeniorCitizen\",\n      \"properties\": {\n        \"dtype\": \"number\",\n        \"std\": 0,\n        \"min\": 0,\n        \"max\": 1,\n        \"num_unique_values\": 2,\n        \"samples\": [\n          1,\n          0\n        ],\n        \"semantic_type\": \"\",\n        \"description\": \"\"\n      }\n    },\n    {\n      \"column\": \"Partner\",\n      \"properties\": {\n        \"dtype\": \"category\",\n        \"num_unique_values\": 2,\n        \"samples\": [\n          \"No\",\n          \"Yes\"\n        ],\n        \"semantic_type\": \"\",\n        \"description\": \"\"\n      }\n    },\n    {\n      \"column\": \"Dependents\",\n      \"properties\": {\n        \"dtype\": \"category\",\n        \"num_unique_values\": 2,\n        \"samples\": [\n          \"Yes\",\n          \"No\"\n        ],\n        \"semantic_type\": \"\",\n        \"description\": \"\"\n      }\n    }\n  ]\n}"
            }
          },
          "metadata": {},
          "execution_count": 13
        }
      ],
      "source": [
        "# Displays sample data\n",
        "df_personal.head()"
      ]
    },
    {
      "cell_type": "code",
      "execution_count": 14,
      "metadata": {
        "colab": {
          "base_uri": "https://localhost:8080/"
        },
        "id": "jaHWfQwc_4LE",
        "outputId": "5bc88722-08af-42f1-980f-0cbf160fb19b"
      },
      "outputs": [
        {
          "output_type": "execute_result",
          "data": {
            "text/plain": [
              "customerID       0.0\n",
              "gender           0.0\n",
              "SeniorCitizen    0.0\n",
              "Partner          0.0\n",
              "Dependents       0.0\n",
              "dtype: float64"
            ]
          },
          "metadata": {},
          "execution_count": 14
        }
      ],
      "source": [
        "# Check for missing values\n",
        "df_personal.isnull().sum().sort_values(ascending=False) / df_personal.shape[0] *100"
      ]
    },
    {
      "cell_type": "markdown",
      "metadata": {
        "id": "BhYZWTa7_4LF"
      },
      "source": [
        "Upon examining the personal data for clients from Interconnect's dataset, I conducted a comprehensive review to ensure the integrity and usability of the data for further analysis. Here's a detailed narrative of the steps taken and insights gained:\n",
        "\n",
        "**Overview of Client Personal Data**\n",
        "\n",
        "The dataset named personal.csv contains personal attributes of clients, which include customerID, gender, SeniorCitizen, Partner, and Dependents. It comprises 7043 entries, matching the number of entries in the previously discussed contract.csv dataset, indicating consistency in the number of clients across datasets.\n",
        "\n",
        "**Data Integrity and Anomaly Detection**\n",
        "1. Data Types and Non-null Values:\n",
        "  * The dataset consists of one integer column (SeniorCitizen) and four object-type columns (customerID, gender, Partner, Dependents). Each column is fully populated with 7043 non-null entries, suggesting no immediate issues with missing data.\n",
        "2. Anomaly Checks:\n",
        "  * Senior Citizen Representation: The SeniorCitizen column is noted as an integer, which typically should be a binary representation (0 or 1). An anomaly would be values outside this range.\n",
        "  * Consistency in Categorical Data: For columns gender, Partner, and Dependents, expected values should be consistent (e.g., gender should be either 'Male' or 'Female'; Partner and Dependents should be 'Yes' or 'No').\n",
        "3. Anomaly Resolution Process:\n",
        "  * Verify Categorical Consistency: To check for anomalies in categorical data, I would use value_counts() on each of these columns to ensure all entries fall within the expected categories.\n",
        "  * Check for Logical Consistency: Ensuring that the data makes sense logically, e.g., no contradictory or impossible values, especially in columns that should have binary responses.\n",
        "\n",
        "**Conclusion**\n",
        "\n",
        "The preliminary analysis of the client personal data from the personal.csv file revealed no immediate data integrity issues or anomalies. The dataset is well-structured, with complete entries across all columns and consistent data types appropriate to the nature of the information. All values in categorical columns conform to expected categories, and there are no missing values, which sets a solid foundation for the accurate profiling of client characteristics.\n",
        "\n",
        "Such rigorous data validation ensures that subsequent analytical processes, such as demographic segmentation or correlation analysis with churn rates, are based on reliable data. This step is crucial for identifying potential patterns or trends that may influence client retention strategies, thereby informing more targeted and effective interventions to mitigate customer churn at Interconnect."
      ]
    },
    {
      "cell_type": "markdown",
      "metadata": {
        "id": "UNQAyIQc_4LF"
      },
      "source": [
        "### Internet Data"
      ]
    },
    {
      "cell_type": "code",
      "execution_count": 15,
      "metadata": {
        "id": "MRNpXhVa_4LF"
      },
      "outputs": [],
      "source": [
        "# Load the data file into a DataFrameLoad the data file into a DataFrame\n",
        "df_internet = pd.read_csv('/content/drive/MyDrive/DATASET PROJECT/Predicting and Mitigating Customer Churn at Interconnect/internet.csv')"
      ]
    },
    {
      "cell_type": "code",
      "execution_count": 16,
      "metadata": {
        "colab": {
          "base_uri": "https://localhost:8080/"
        },
        "id": "CXJlFr_K_4LF",
        "outputId": "b29f7c89-6c1c-4e2b-9a4d-dafcafb797b4"
      },
      "outputs": [
        {
          "output_type": "execute_result",
          "data": {
            "text/plain": [
              "(5517, 8)"
            ]
          },
          "metadata": {},
          "execution_count": 16
        }
      ],
      "source": [
        "# Let's see how many rows and columns our dataset has\n",
        "df_internet.shape"
      ]
    },
    {
      "cell_type": "code",
      "execution_count": 17,
      "metadata": {
        "colab": {
          "base_uri": "https://localhost:8080/"
        },
        "id": "6ngVuh-6_4LF",
        "outputId": "6ad605fd-ecf8-4ade-f98e-376f7c1b30a6"
      },
      "outputs": [
        {
          "output_type": "stream",
          "name": "stdout",
          "text": [
            "<class 'pandas.core.frame.DataFrame'>\n",
            "RangeIndex: 5517 entries, 0 to 5516\n",
            "Data columns (total 8 columns):\n",
            " #   Column            Non-Null Count  Dtype \n",
            "---  ------            --------------  ----- \n",
            " 0   customerID        5517 non-null   object\n",
            " 1   InternetService   5517 non-null   object\n",
            " 2   OnlineSecurity    5517 non-null   object\n",
            " 3   OnlineBackup      5517 non-null   object\n",
            " 4   DeviceProtection  5517 non-null   object\n",
            " 5   TechSupport       5517 non-null   object\n",
            " 6   StreamingTV       5517 non-null   object\n",
            " 7   StreamingMovies   5517 non-null   object\n",
            "dtypes: object(8)\n",
            "memory usage: 344.9+ KB\n"
          ]
        }
      ],
      "source": [
        "# Display general information/summary about the DataFrame\n",
        "df_internet.info()"
      ]
    },
    {
      "cell_type": "code",
      "execution_count": 18,
      "metadata": {
        "colab": {
          "base_uri": "https://localhost:8080/",
          "height": 206
        },
        "id": "UAPC8QJh_4LF",
        "outputId": "50042e58-ab6a-4122-a9f7-8ec40a797813"
      },
      "outputs": [
        {
          "output_type": "execute_result",
          "data": {
            "text/plain": [
              "   customerID InternetService OnlineSecurity OnlineBackup DeviceProtection  \\\n",
              "0  7590-VHVEG             DSL             No          Yes               No   \n",
              "1  5575-GNVDE             DSL            Yes           No              Yes   \n",
              "2  3668-QPYBK             DSL            Yes          Yes               No   \n",
              "3  7795-CFOCW             DSL            Yes           No              Yes   \n",
              "4  9237-HQITU     Fiber optic             No           No               No   \n",
              "\n",
              "  TechSupport StreamingTV StreamingMovies  \n",
              "0          No          No              No  \n",
              "1          No          No              No  \n",
              "2          No          No              No  \n",
              "3         Yes          No              No  \n",
              "4          No          No              No  "
            ],
            "text/html": [
              "\n",
              "  <div id=\"df-d8b24fd3-fbca-4204-95f9-8d40075ce94f\" class=\"colab-df-container\">\n",
              "    <div>\n",
              "<style scoped>\n",
              "    .dataframe tbody tr th:only-of-type {\n",
              "        vertical-align: middle;\n",
              "    }\n",
              "\n",
              "    .dataframe tbody tr th {\n",
              "        vertical-align: top;\n",
              "    }\n",
              "\n",
              "    .dataframe thead th {\n",
              "        text-align: right;\n",
              "    }\n",
              "</style>\n",
              "<table border=\"1\" class=\"dataframe\">\n",
              "  <thead>\n",
              "    <tr style=\"text-align: right;\">\n",
              "      <th></th>\n",
              "      <th>customerID</th>\n",
              "      <th>InternetService</th>\n",
              "      <th>OnlineSecurity</th>\n",
              "      <th>OnlineBackup</th>\n",
              "      <th>DeviceProtection</th>\n",
              "      <th>TechSupport</th>\n",
              "      <th>StreamingTV</th>\n",
              "      <th>StreamingMovies</th>\n",
              "    </tr>\n",
              "  </thead>\n",
              "  <tbody>\n",
              "    <tr>\n",
              "      <th>0</th>\n",
              "      <td>7590-VHVEG</td>\n",
              "      <td>DSL</td>\n",
              "      <td>No</td>\n",
              "      <td>Yes</td>\n",
              "      <td>No</td>\n",
              "      <td>No</td>\n",
              "      <td>No</td>\n",
              "      <td>No</td>\n",
              "    </tr>\n",
              "    <tr>\n",
              "      <th>1</th>\n",
              "      <td>5575-GNVDE</td>\n",
              "      <td>DSL</td>\n",
              "      <td>Yes</td>\n",
              "      <td>No</td>\n",
              "      <td>Yes</td>\n",
              "      <td>No</td>\n",
              "      <td>No</td>\n",
              "      <td>No</td>\n",
              "    </tr>\n",
              "    <tr>\n",
              "      <th>2</th>\n",
              "      <td>3668-QPYBK</td>\n",
              "      <td>DSL</td>\n",
              "      <td>Yes</td>\n",
              "      <td>Yes</td>\n",
              "      <td>No</td>\n",
              "      <td>No</td>\n",
              "      <td>No</td>\n",
              "      <td>No</td>\n",
              "    </tr>\n",
              "    <tr>\n",
              "      <th>3</th>\n",
              "      <td>7795-CFOCW</td>\n",
              "      <td>DSL</td>\n",
              "      <td>Yes</td>\n",
              "      <td>No</td>\n",
              "      <td>Yes</td>\n",
              "      <td>Yes</td>\n",
              "      <td>No</td>\n",
              "      <td>No</td>\n",
              "    </tr>\n",
              "    <tr>\n",
              "      <th>4</th>\n",
              "      <td>9237-HQITU</td>\n",
              "      <td>Fiber optic</td>\n",
              "      <td>No</td>\n",
              "      <td>No</td>\n",
              "      <td>No</td>\n",
              "      <td>No</td>\n",
              "      <td>No</td>\n",
              "      <td>No</td>\n",
              "    </tr>\n",
              "  </tbody>\n",
              "</table>\n",
              "</div>\n",
              "    <div class=\"colab-df-buttons\">\n",
              "\n",
              "  <div class=\"colab-df-container\">\n",
              "    <button class=\"colab-df-convert\" onclick=\"convertToInteractive('df-d8b24fd3-fbca-4204-95f9-8d40075ce94f')\"\n",
              "            title=\"Convert this dataframe to an interactive table.\"\n",
              "            style=\"display:none;\">\n",
              "\n",
              "  <svg xmlns=\"http://www.w3.org/2000/svg\" height=\"24px\" viewBox=\"0 -960 960 960\">\n",
              "    <path d=\"M120-120v-720h720v720H120Zm60-500h600v-160H180v160Zm220 220h160v-160H400v160Zm0 220h160v-160H400v160ZM180-400h160v-160H180v160Zm440 0h160v-160H620v160ZM180-180h160v-160H180v160Zm440 0h160v-160H620v160Z\"/>\n",
              "  </svg>\n",
              "    </button>\n",
              "\n",
              "  <style>\n",
              "    .colab-df-container {\n",
              "      display:flex;\n",
              "      gap: 12px;\n",
              "    }\n",
              "\n",
              "    .colab-df-convert {\n",
              "      background-color: #E8F0FE;\n",
              "      border: none;\n",
              "      border-radius: 50%;\n",
              "      cursor: pointer;\n",
              "      display: none;\n",
              "      fill: #1967D2;\n",
              "      height: 32px;\n",
              "      padding: 0 0 0 0;\n",
              "      width: 32px;\n",
              "    }\n",
              "\n",
              "    .colab-df-convert:hover {\n",
              "      background-color: #E2EBFA;\n",
              "      box-shadow: 0px 1px 2px rgba(60, 64, 67, 0.3), 0px 1px 3px 1px rgba(60, 64, 67, 0.15);\n",
              "      fill: #174EA6;\n",
              "    }\n",
              "\n",
              "    .colab-df-buttons div {\n",
              "      margin-bottom: 4px;\n",
              "    }\n",
              "\n",
              "    [theme=dark] .colab-df-convert {\n",
              "      background-color: #3B4455;\n",
              "      fill: #D2E3FC;\n",
              "    }\n",
              "\n",
              "    [theme=dark] .colab-df-convert:hover {\n",
              "      background-color: #434B5C;\n",
              "      box-shadow: 0px 1px 3px 1px rgba(0, 0, 0, 0.15);\n",
              "      filter: drop-shadow(0px 1px 2px rgba(0, 0, 0, 0.3));\n",
              "      fill: #FFFFFF;\n",
              "    }\n",
              "  </style>\n",
              "\n",
              "    <script>\n",
              "      const buttonEl =\n",
              "        document.querySelector('#df-d8b24fd3-fbca-4204-95f9-8d40075ce94f button.colab-df-convert');\n",
              "      buttonEl.style.display =\n",
              "        google.colab.kernel.accessAllowed ? 'block' : 'none';\n",
              "\n",
              "      async function convertToInteractive(key) {\n",
              "        const element = document.querySelector('#df-d8b24fd3-fbca-4204-95f9-8d40075ce94f');\n",
              "        const dataTable =\n",
              "          await google.colab.kernel.invokeFunction('convertToInteractive',\n",
              "                                                    [key], {});\n",
              "        if (!dataTable) return;\n",
              "\n",
              "        const docLinkHtml = 'Like what you see? Visit the ' +\n",
              "          '<a target=\"_blank\" href=https://colab.research.google.com/notebooks/data_table.ipynb>data table notebook</a>'\n",
              "          + ' to learn more about interactive tables.';\n",
              "        element.innerHTML = '';\n",
              "        dataTable['output_type'] = 'display_data';\n",
              "        await google.colab.output.renderOutput(dataTable, element);\n",
              "        const docLink = document.createElement('div');\n",
              "        docLink.innerHTML = docLinkHtml;\n",
              "        element.appendChild(docLink);\n",
              "      }\n",
              "    </script>\n",
              "  </div>\n",
              "\n",
              "\n",
              "<div id=\"df-40016662-b9b7-4eec-98b0-ef708cb1e044\">\n",
              "  <button class=\"colab-df-quickchart\" onclick=\"quickchart('df-40016662-b9b7-4eec-98b0-ef708cb1e044')\"\n",
              "            title=\"Suggest charts\"\n",
              "            style=\"display:none;\">\n",
              "\n",
              "<svg xmlns=\"http://www.w3.org/2000/svg\" height=\"24px\"viewBox=\"0 0 24 24\"\n",
              "     width=\"24px\">\n",
              "    <g>\n",
              "        <path d=\"M19 3H5c-1.1 0-2 .9-2 2v14c0 1.1.9 2 2 2h14c1.1 0 2-.9 2-2V5c0-1.1-.9-2-2-2zM9 17H7v-7h2v7zm4 0h-2V7h2v10zm4 0h-2v-4h2v4z\"/>\n",
              "    </g>\n",
              "</svg>\n",
              "  </button>\n",
              "\n",
              "<style>\n",
              "  .colab-df-quickchart {\n",
              "      --bg-color: #E8F0FE;\n",
              "      --fill-color: #1967D2;\n",
              "      --hover-bg-color: #E2EBFA;\n",
              "      --hover-fill-color: #174EA6;\n",
              "      --disabled-fill-color: #AAA;\n",
              "      --disabled-bg-color: #DDD;\n",
              "  }\n",
              "\n",
              "  [theme=dark] .colab-df-quickchart {\n",
              "      --bg-color: #3B4455;\n",
              "      --fill-color: #D2E3FC;\n",
              "      --hover-bg-color: #434B5C;\n",
              "      --hover-fill-color: #FFFFFF;\n",
              "      --disabled-bg-color: #3B4455;\n",
              "      --disabled-fill-color: #666;\n",
              "  }\n",
              "\n",
              "  .colab-df-quickchart {\n",
              "    background-color: var(--bg-color);\n",
              "    border: none;\n",
              "    border-radius: 50%;\n",
              "    cursor: pointer;\n",
              "    display: none;\n",
              "    fill: var(--fill-color);\n",
              "    height: 32px;\n",
              "    padding: 0;\n",
              "    width: 32px;\n",
              "  }\n",
              "\n",
              "  .colab-df-quickchart:hover {\n",
              "    background-color: var(--hover-bg-color);\n",
              "    box-shadow: 0 1px 2px rgba(60, 64, 67, 0.3), 0 1px 3px 1px rgba(60, 64, 67, 0.15);\n",
              "    fill: var(--button-hover-fill-color);\n",
              "  }\n",
              "\n",
              "  .colab-df-quickchart-complete:disabled,\n",
              "  .colab-df-quickchart-complete:disabled:hover {\n",
              "    background-color: var(--disabled-bg-color);\n",
              "    fill: var(--disabled-fill-color);\n",
              "    box-shadow: none;\n",
              "  }\n",
              "\n",
              "  .colab-df-spinner {\n",
              "    border: 2px solid var(--fill-color);\n",
              "    border-color: transparent;\n",
              "    border-bottom-color: var(--fill-color);\n",
              "    animation:\n",
              "      spin 1s steps(1) infinite;\n",
              "  }\n",
              "\n",
              "  @keyframes spin {\n",
              "    0% {\n",
              "      border-color: transparent;\n",
              "      border-bottom-color: var(--fill-color);\n",
              "      border-left-color: var(--fill-color);\n",
              "    }\n",
              "    20% {\n",
              "      border-color: transparent;\n",
              "      border-left-color: var(--fill-color);\n",
              "      border-top-color: var(--fill-color);\n",
              "    }\n",
              "    30% {\n",
              "      border-color: transparent;\n",
              "      border-left-color: var(--fill-color);\n",
              "      border-top-color: var(--fill-color);\n",
              "      border-right-color: var(--fill-color);\n",
              "    }\n",
              "    40% {\n",
              "      border-color: transparent;\n",
              "      border-right-color: var(--fill-color);\n",
              "      border-top-color: var(--fill-color);\n",
              "    }\n",
              "    60% {\n",
              "      border-color: transparent;\n",
              "      border-right-color: var(--fill-color);\n",
              "    }\n",
              "    80% {\n",
              "      border-color: transparent;\n",
              "      border-right-color: var(--fill-color);\n",
              "      border-bottom-color: var(--fill-color);\n",
              "    }\n",
              "    90% {\n",
              "      border-color: transparent;\n",
              "      border-bottom-color: var(--fill-color);\n",
              "    }\n",
              "  }\n",
              "</style>\n",
              "\n",
              "  <script>\n",
              "    async function quickchart(key) {\n",
              "      const quickchartButtonEl =\n",
              "        document.querySelector('#' + key + ' button');\n",
              "      quickchartButtonEl.disabled = true;  // To prevent multiple clicks.\n",
              "      quickchartButtonEl.classList.add('colab-df-spinner');\n",
              "      try {\n",
              "        const charts = await google.colab.kernel.invokeFunction(\n",
              "            'suggestCharts', [key], {});\n",
              "      } catch (error) {\n",
              "        console.error('Error during call to suggestCharts:', error);\n",
              "      }\n",
              "      quickchartButtonEl.classList.remove('colab-df-spinner');\n",
              "      quickchartButtonEl.classList.add('colab-df-quickchart-complete');\n",
              "    }\n",
              "    (() => {\n",
              "      let quickchartButtonEl =\n",
              "        document.querySelector('#df-40016662-b9b7-4eec-98b0-ef708cb1e044 button');\n",
              "      quickchartButtonEl.style.display =\n",
              "        google.colab.kernel.accessAllowed ? 'block' : 'none';\n",
              "    })();\n",
              "  </script>\n",
              "</div>\n",
              "    </div>\n",
              "  </div>\n"
            ],
            "application/vnd.google.colaboratory.intrinsic+json": {
              "type": "dataframe",
              "variable_name": "df_internet",
              "summary": "{\n  \"name\": \"df_internet\",\n  \"rows\": 5517,\n  \"fields\": [\n    {\n      \"column\": \"customerID\",\n      \"properties\": {\n        \"dtype\": \"string\",\n        \"num_unique_values\": 5517,\n        \"samples\": [\n          \"1170-SASML\",\n          \"9314-QDMDW\",\n          \"2434-EEVDB\"\n        ],\n        \"semantic_type\": \"\",\n        \"description\": \"\"\n      }\n    },\n    {\n      \"column\": \"InternetService\",\n      \"properties\": {\n        \"dtype\": \"category\",\n        \"num_unique_values\": 2,\n        \"samples\": [\n          \"Fiber optic\",\n          \"DSL\"\n        ],\n        \"semantic_type\": \"\",\n        \"description\": \"\"\n      }\n    },\n    {\n      \"column\": \"OnlineSecurity\",\n      \"properties\": {\n        \"dtype\": \"category\",\n        \"num_unique_values\": 2,\n        \"samples\": [\n          \"Yes\",\n          \"No\"\n        ],\n        \"semantic_type\": \"\",\n        \"description\": \"\"\n      }\n    },\n    {\n      \"column\": \"OnlineBackup\",\n      \"properties\": {\n        \"dtype\": \"category\",\n        \"num_unique_values\": 2,\n        \"samples\": [\n          \"No\",\n          \"Yes\"\n        ],\n        \"semantic_type\": \"\",\n        \"description\": \"\"\n      }\n    },\n    {\n      \"column\": \"DeviceProtection\",\n      \"properties\": {\n        \"dtype\": \"category\",\n        \"num_unique_values\": 2,\n        \"samples\": [\n          \"Yes\",\n          \"No\"\n        ],\n        \"semantic_type\": \"\",\n        \"description\": \"\"\n      }\n    },\n    {\n      \"column\": \"TechSupport\",\n      \"properties\": {\n        \"dtype\": \"category\",\n        \"num_unique_values\": 2,\n        \"samples\": [\n          \"Yes\",\n          \"No\"\n        ],\n        \"semantic_type\": \"\",\n        \"description\": \"\"\n      }\n    },\n    {\n      \"column\": \"StreamingTV\",\n      \"properties\": {\n        \"dtype\": \"category\",\n        \"num_unique_values\": 2,\n        \"samples\": [\n          \"Yes\",\n          \"No\"\n        ],\n        \"semantic_type\": \"\",\n        \"description\": \"\"\n      }\n    },\n    {\n      \"column\": \"StreamingMovies\",\n      \"properties\": {\n        \"dtype\": \"category\",\n        \"num_unique_values\": 2,\n        \"samples\": [\n          \"Yes\",\n          \"No\"\n        ],\n        \"semantic_type\": \"\",\n        \"description\": \"\"\n      }\n    }\n  ]\n}"
            }
          },
          "metadata": {},
          "execution_count": 18
        }
      ],
      "source": [
        "# Displays sample data\n",
        "df_internet.head()"
      ]
    },
    {
      "cell_type": "code",
      "execution_count": 19,
      "metadata": {
        "colab": {
          "base_uri": "https://localhost:8080/"
        },
        "id": "uEaHcfI0_4LF",
        "outputId": "4d46e91d-bbcc-4d0f-b262-208114d13991"
      },
      "outputs": [
        {
          "output_type": "execute_result",
          "data": {
            "text/plain": [
              "customerID          0.0\n",
              "InternetService     0.0\n",
              "OnlineSecurity      0.0\n",
              "OnlineBackup        0.0\n",
              "DeviceProtection    0.0\n",
              "TechSupport         0.0\n",
              "StreamingTV         0.0\n",
              "StreamingMovies     0.0\n",
              "dtype: float64"
            ]
          },
          "metadata": {},
          "execution_count": 19
        }
      ],
      "source": [
        "# Check for missing values\n",
        "df_internet.isnull().sum().sort_values(ascending=False) / df_internet.shape[0] *100"
      ]
    },
    {
      "cell_type": "markdown",
      "metadata": {
        "id": "9FWb06tK_4LF"
      },
      "source": [
        "Upon analyzing the internet service data provided for the Interconnect project, I performed an in-depth review to ensure data integrity and usability, particularly in preparation for further analysis involving customer churn. Here's a detailed narrative of the examination process and the key insights derived:\n",
        "\n",
        "**Overview of Internet Service Data**\n",
        "\n",
        "The dataset, labeled internet.csv, encompasses details regarding the internet services subscribed to by clients, including the type of internet service and various service features such as online security, online backup, device protection, tech support, streaming TV, and streaming movies. This data set consists of 5517 entries, indicating that not all customers from the main dataset (7043 entries) have subscribed to internet services.\n",
        "\n",
        "**Data Integrity and Anomaly Detection**\n",
        "1. Completeness and Data Types:\n",
        "  * All columns are of object type and fully populated with 5517 non-null entries each, indicating there are no missing values at the entry level.\n",
        "2. Anomaly Checks:\n",
        "  * Consistent Service Options: Each feature column such as OnlineSecurity, OnlineBackup, etc., should logically contain consistent entries like 'Yes', 'No', or potentially 'No internet service'. It is essential to validate these expected responses to ensure data consistency.\n",
        "  * Internet Service Types: The InternetService column should typically contain a few predefined categories such as 'DSL', 'Fiber optic', or 'None'.\n",
        "3. Anomaly Resolution Strategies:\n",
        "  * Verify Consistency in Categorical Data: Utilizing methods such as value_counts() for each categorical column to ensure all responses fall within the expected set of options.\n",
        "  * Examine Logical Consistency: Confirming the logical consistency among the columns, for example, checking if entries with 'No internet service' in the InternetService column correctly reflect in other service-related columns.\n",
        "\n",
        "**Conclusion**\n",
        "\n",
        "The initial analysis of the internet service data suggests that the dataset is robust with consistent and complete entries across all defined categories, setting a strong foundation for further analytical tasks. No anomalies or integrity issues were detected upon the first review, indicating that the dataset is well-prepared for integration into broader analyses such as customer usage patterns or churn prediction.\n",
        "\n",
        "Ensuring that these service features are correctly recorded and free from anomalies is critical. It enables accurate segmentation of customers based on their service usage, which can be pivotal in understanding the factors influencing customer churn and enhancing targeted customer retention strategies at Interconnect."
      ]
    },
    {
      "cell_type": "markdown",
      "metadata": {
        "id": "dkrYYIoT_4LF"
      },
      "source": [
        "### Phone Data"
      ]
    },
    {
      "cell_type": "code",
      "execution_count": 20,
      "metadata": {
        "id": "-6v2VbtS_4LF"
      },
      "outputs": [],
      "source": [
        "# Load the data file into a DataFrameLoad the data file into a DataFrame\n",
        "df_phone = pd.read_csv('/content/drive/MyDrive/DATASET PROJECT/Predicting and Mitigating Customer Churn at Interconnect/phone.csv')"
      ]
    },
    {
      "cell_type": "code",
      "execution_count": 21,
      "metadata": {
        "colab": {
          "base_uri": "https://localhost:8080/"
        },
        "id": "H00ui0Ia_4LF",
        "outputId": "a6e99008-b0fe-40ff-cdae-7ccbc87a9ae7"
      },
      "outputs": [
        {
          "output_type": "execute_result",
          "data": {
            "text/plain": [
              "(6361, 2)"
            ]
          },
          "metadata": {},
          "execution_count": 21
        }
      ],
      "source": [
        "# Let's see how many rows and columns our dataset has\n",
        "df_phone.shape"
      ]
    },
    {
      "cell_type": "code",
      "execution_count": 22,
      "metadata": {
        "colab": {
          "base_uri": "https://localhost:8080/"
        },
        "id": "pZfKOpBZ_4LG",
        "outputId": "79d2bde3-2ce1-4757-ac33-026d119fd7c3"
      },
      "outputs": [
        {
          "output_type": "stream",
          "name": "stdout",
          "text": [
            "<class 'pandas.core.frame.DataFrame'>\n",
            "RangeIndex: 6361 entries, 0 to 6360\n",
            "Data columns (total 2 columns):\n",
            " #   Column         Non-Null Count  Dtype \n",
            "---  ------         --------------  ----- \n",
            " 0   customerID     6361 non-null   object\n",
            " 1   MultipleLines  6361 non-null   object\n",
            "dtypes: object(2)\n",
            "memory usage: 99.5+ KB\n"
          ]
        }
      ],
      "source": [
        "# Display general information/summary about the DataFrame\n",
        "df_phone.info()"
      ]
    },
    {
      "cell_type": "code",
      "execution_count": 23,
      "metadata": {
        "colab": {
          "base_uri": "https://localhost:8080/",
          "height": 206
        },
        "id": "S--bJhqz_4LG",
        "outputId": "b008b698-7873-4a27-f93d-a10a846b76ae"
      },
      "outputs": [
        {
          "output_type": "execute_result",
          "data": {
            "text/plain": [
              "   customerID MultipleLines\n",
              "0  5575-GNVDE            No\n",
              "1  3668-QPYBK            No\n",
              "2  9237-HQITU            No\n",
              "3  9305-CDSKC           Yes\n",
              "4  1452-KIOVK           Yes"
            ],
            "text/html": [
              "\n",
              "  <div id=\"df-69680f20-afdc-4e61-9f3d-099461b06562\" class=\"colab-df-container\">\n",
              "    <div>\n",
              "<style scoped>\n",
              "    .dataframe tbody tr th:only-of-type {\n",
              "        vertical-align: middle;\n",
              "    }\n",
              "\n",
              "    .dataframe tbody tr th {\n",
              "        vertical-align: top;\n",
              "    }\n",
              "\n",
              "    .dataframe thead th {\n",
              "        text-align: right;\n",
              "    }\n",
              "</style>\n",
              "<table border=\"1\" class=\"dataframe\">\n",
              "  <thead>\n",
              "    <tr style=\"text-align: right;\">\n",
              "      <th></th>\n",
              "      <th>customerID</th>\n",
              "      <th>MultipleLines</th>\n",
              "    </tr>\n",
              "  </thead>\n",
              "  <tbody>\n",
              "    <tr>\n",
              "      <th>0</th>\n",
              "      <td>5575-GNVDE</td>\n",
              "      <td>No</td>\n",
              "    </tr>\n",
              "    <tr>\n",
              "      <th>1</th>\n",
              "      <td>3668-QPYBK</td>\n",
              "      <td>No</td>\n",
              "    </tr>\n",
              "    <tr>\n",
              "      <th>2</th>\n",
              "      <td>9237-HQITU</td>\n",
              "      <td>No</td>\n",
              "    </tr>\n",
              "    <tr>\n",
              "      <th>3</th>\n",
              "      <td>9305-CDSKC</td>\n",
              "      <td>Yes</td>\n",
              "    </tr>\n",
              "    <tr>\n",
              "      <th>4</th>\n",
              "      <td>1452-KIOVK</td>\n",
              "      <td>Yes</td>\n",
              "    </tr>\n",
              "  </tbody>\n",
              "</table>\n",
              "</div>\n",
              "    <div class=\"colab-df-buttons\">\n",
              "\n",
              "  <div class=\"colab-df-container\">\n",
              "    <button class=\"colab-df-convert\" onclick=\"convertToInteractive('df-69680f20-afdc-4e61-9f3d-099461b06562')\"\n",
              "            title=\"Convert this dataframe to an interactive table.\"\n",
              "            style=\"display:none;\">\n",
              "\n",
              "  <svg xmlns=\"http://www.w3.org/2000/svg\" height=\"24px\" viewBox=\"0 -960 960 960\">\n",
              "    <path d=\"M120-120v-720h720v720H120Zm60-500h600v-160H180v160Zm220 220h160v-160H400v160Zm0 220h160v-160H400v160ZM180-400h160v-160H180v160Zm440 0h160v-160H620v160ZM180-180h160v-160H180v160Zm440 0h160v-160H620v160Z\"/>\n",
              "  </svg>\n",
              "    </button>\n",
              "\n",
              "  <style>\n",
              "    .colab-df-container {\n",
              "      display:flex;\n",
              "      gap: 12px;\n",
              "    }\n",
              "\n",
              "    .colab-df-convert {\n",
              "      background-color: #E8F0FE;\n",
              "      border: none;\n",
              "      border-radius: 50%;\n",
              "      cursor: pointer;\n",
              "      display: none;\n",
              "      fill: #1967D2;\n",
              "      height: 32px;\n",
              "      padding: 0 0 0 0;\n",
              "      width: 32px;\n",
              "    }\n",
              "\n",
              "    .colab-df-convert:hover {\n",
              "      background-color: #E2EBFA;\n",
              "      box-shadow: 0px 1px 2px rgba(60, 64, 67, 0.3), 0px 1px 3px 1px rgba(60, 64, 67, 0.15);\n",
              "      fill: #174EA6;\n",
              "    }\n",
              "\n",
              "    .colab-df-buttons div {\n",
              "      margin-bottom: 4px;\n",
              "    }\n",
              "\n",
              "    [theme=dark] .colab-df-convert {\n",
              "      background-color: #3B4455;\n",
              "      fill: #D2E3FC;\n",
              "    }\n",
              "\n",
              "    [theme=dark] .colab-df-convert:hover {\n",
              "      background-color: #434B5C;\n",
              "      box-shadow: 0px 1px 3px 1px rgba(0, 0, 0, 0.15);\n",
              "      filter: drop-shadow(0px 1px 2px rgba(0, 0, 0, 0.3));\n",
              "      fill: #FFFFFF;\n",
              "    }\n",
              "  </style>\n",
              "\n",
              "    <script>\n",
              "      const buttonEl =\n",
              "        document.querySelector('#df-69680f20-afdc-4e61-9f3d-099461b06562 button.colab-df-convert');\n",
              "      buttonEl.style.display =\n",
              "        google.colab.kernel.accessAllowed ? 'block' : 'none';\n",
              "\n",
              "      async function convertToInteractive(key) {\n",
              "        const element = document.querySelector('#df-69680f20-afdc-4e61-9f3d-099461b06562');\n",
              "        const dataTable =\n",
              "          await google.colab.kernel.invokeFunction('convertToInteractive',\n",
              "                                                    [key], {});\n",
              "        if (!dataTable) return;\n",
              "\n",
              "        const docLinkHtml = 'Like what you see? Visit the ' +\n",
              "          '<a target=\"_blank\" href=https://colab.research.google.com/notebooks/data_table.ipynb>data table notebook</a>'\n",
              "          + ' to learn more about interactive tables.';\n",
              "        element.innerHTML = '';\n",
              "        dataTable['output_type'] = 'display_data';\n",
              "        await google.colab.output.renderOutput(dataTable, element);\n",
              "        const docLink = document.createElement('div');\n",
              "        docLink.innerHTML = docLinkHtml;\n",
              "        element.appendChild(docLink);\n",
              "      }\n",
              "    </script>\n",
              "  </div>\n",
              "\n",
              "\n",
              "<div id=\"df-bff6d838-4e13-4e8f-899b-364484dea230\">\n",
              "  <button class=\"colab-df-quickchart\" onclick=\"quickchart('df-bff6d838-4e13-4e8f-899b-364484dea230')\"\n",
              "            title=\"Suggest charts\"\n",
              "            style=\"display:none;\">\n",
              "\n",
              "<svg xmlns=\"http://www.w3.org/2000/svg\" height=\"24px\"viewBox=\"0 0 24 24\"\n",
              "     width=\"24px\">\n",
              "    <g>\n",
              "        <path d=\"M19 3H5c-1.1 0-2 .9-2 2v14c0 1.1.9 2 2 2h14c1.1 0 2-.9 2-2V5c0-1.1-.9-2-2-2zM9 17H7v-7h2v7zm4 0h-2V7h2v10zm4 0h-2v-4h2v4z\"/>\n",
              "    </g>\n",
              "</svg>\n",
              "  </button>\n",
              "\n",
              "<style>\n",
              "  .colab-df-quickchart {\n",
              "      --bg-color: #E8F0FE;\n",
              "      --fill-color: #1967D2;\n",
              "      --hover-bg-color: #E2EBFA;\n",
              "      --hover-fill-color: #174EA6;\n",
              "      --disabled-fill-color: #AAA;\n",
              "      --disabled-bg-color: #DDD;\n",
              "  }\n",
              "\n",
              "  [theme=dark] .colab-df-quickchart {\n",
              "      --bg-color: #3B4455;\n",
              "      --fill-color: #D2E3FC;\n",
              "      --hover-bg-color: #434B5C;\n",
              "      --hover-fill-color: #FFFFFF;\n",
              "      --disabled-bg-color: #3B4455;\n",
              "      --disabled-fill-color: #666;\n",
              "  }\n",
              "\n",
              "  .colab-df-quickchart {\n",
              "    background-color: var(--bg-color);\n",
              "    border: none;\n",
              "    border-radius: 50%;\n",
              "    cursor: pointer;\n",
              "    display: none;\n",
              "    fill: var(--fill-color);\n",
              "    height: 32px;\n",
              "    padding: 0;\n",
              "    width: 32px;\n",
              "  }\n",
              "\n",
              "  .colab-df-quickchart:hover {\n",
              "    background-color: var(--hover-bg-color);\n",
              "    box-shadow: 0 1px 2px rgba(60, 64, 67, 0.3), 0 1px 3px 1px rgba(60, 64, 67, 0.15);\n",
              "    fill: var(--button-hover-fill-color);\n",
              "  }\n",
              "\n",
              "  .colab-df-quickchart-complete:disabled,\n",
              "  .colab-df-quickchart-complete:disabled:hover {\n",
              "    background-color: var(--disabled-bg-color);\n",
              "    fill: var(--disabled-fill-color);\n",
              "    box-shadow: none;\n",
              "  }\n",
              "\n",
              "  .colab-df-spinner {\n",
              "    border: 2px solid var(--fill-color);\n",
              "    border-color: transparent;\n",
              "    border-bottom-color: var(--fill-color);\n",
              "    animation:\n",
              "      spin 1s steps(1) infinite;\n",
              "  }\n",
              "\n",
              "  @keyframes spin {\n",
              "    0% {\n",
              "      border-color: transparent;\n",
              "      border-bottom-color: var(--fill-color);\n",
              "      border-left-color: var(--fill-color);\n",
              "    }\n",
              "    20% {\n",
              "      border-color: transparent;\n",
              "      border-left-color: var(--fill-color);\n",
              "      border-top-color: var(--fill-color);\n",
              "    }\n",
              "    30% {\n",
              "      border-color: transparent;\n",
              "      border-left-color: var(--fill-color);\n",
              "      border-top-color: var(--fill-color);\n",
              "      border-right-color: var(--fill-color);\n",
              "    }\n",
              "    40% {\n",
              "      border-color: transparent;\n",
              "      border-right-color: var(--fill-color);\n",
              "      border-top-color: var(--fill-color);\n",
              "    }\n",
              "    60% {\n",
              "      border-color: transparent;\n",
              "      border-right-color: var(--fill-color);\n",
              "    }\n",
              "    80% {\n",
              "      border-color: transparent;\n",
              "      border-right-color: var(--fill-color);\n",
              "      border-bottom-color: var(--fill-color);\n",
              "    }\n",
              "    90% {\n",
              "      border-color: transparent;\n",
              "      border-bottom-color: var(--fill-color);\n",
              "    }\n",
              "  }\n",
              "</style>\n",
              "\n",
              "  <script>\n",
              "    async function quickchart(key) {\n",
              "      const quickchartButtonEl =\n",
              "        document.querySelector('#' + key + ' button');\n",
              "      quickchartButtonEl.disabled = true;  // To prevent multiple clicks.\n",
              "      quickchartButtonEl.classList.add('colab-df-spinner');\n",
              "      try {\n",
              "        const charts = await google.colab.kernel.invokeFunction(\n",
              "            'suggestCharts', [key], {});\n",
              "      } catch (error) {\n",
              "        console.error('Error during call to suggestCharts:', error);\n",
              "      }\n",
              "      quickchartButtonEl.classList.remove('colab-df-spinner');\n",
              "      quickchartButtonEl.classList.add('colab-df-quickchart-complete');\n",
              "    }\n",
              "    (() => {\n",
              "      let quickchartButtonEl =\n",
              "        document.querySelector('#df-bff6d838-4e13-4e8f-899b-364484dea230 button');\n",
              "      quickchartButtonEl.style.display =\n",
              "        google.colab.kernel.accessAllowed ? 'block' : 'none';\n",
              "    })();\n",
              "  </script>\n",
              "</div>\n",
              "    </div>\n",
              "  </div>\n"
            ],
            "application/vnd.google.colaboratory.intrinsic+json": {
              "type": "dataframe",
              "variable_name": "df_phone",
              "summary": "{\n  \"name\": \"df_phone\",\n  \"rows\": 6361,\n  \"fields\": [\n    {\n      \"column\": \"customerID\",\n      \"properties\": {\n        \"dtype\": \"string\",\n        \"num_unique_values\": 6361,\n        \"samples\": [\n          \"5887-IKKYO\",\n          \"7718-UPSKJ\",\n          \"3571-DPYUH\"\n        ],\n        \"semantic_type\": \"\",\n        \"description\": \"\"\n      }\n    },\n    {\n      \"column\": \"MultipleLines\",\n      \"properties\": {\n        \"dtype\": \"category\",\n        \"num_unique_values\": 2,\n        \"samples\": [\n          \"Yes\",\n          \"No\"\n        ],\n        \"semantic_type\": \"\",\n        \"description\": \"\"\n      }\n    }\n  ]\n}"
            }
          },
          "metadata": {},
          "execution_count": 23
        }
      ],
      "source": [
        "# Displays sample data\n",
        "df_phone.head()"
      ]
    },
    {
      "cell_type": "code",
      "execution_count": 24,
      "metadata": {
        "colab": {
          "base_uri": "https://localhost:8080/"
        },
        "id": "vhhG1eGU_4LG",
        "outputId": "a7d6b0d1-5046-4b8b-cc9a-19862e8fb14a"
      },
      "outputs": [
        {
          "output_type": "execute_result",
          "data": {
            "text/plain": [
              "customerID       0.0\n",
              "MultipleLines    0.0\n",
              "dtype: float64"
            ]
          },
          "metadata": {},
          "execution_count": 24
        }
      ],
      "source": [
        "# Check for missing values\n",
        "df_phone.isnull().sum().sort_values(ascending=False) / df_phone.shape[0] *100"
      ]
    },
    {
      "cell_type": "markdown",
      "metadata": {
        "id": "oyI17uiV_4LG"
      },
      "source": [
        "The analysis of the phone service data from the Interconnect project reveals key insights about the phone service preferences of the company’s customer base. Here’s a narrative detailing the process of examining the dataset and the findings.\n",
        "\n",
        "**Overview of Phone Service Data**\n",
        "\n",
        "The phone.csv dataset comprises information about whether customers have subscribed to multiple phone lines. Out of the total customer base represented in the broader project dataset (7043 customers), 6361 customers have phone service data recorded.\n",
        "\n",
        "**Data Integrity and Anomaly Detection**\n",
        "1. Data Completeness and Types:\n",
        "  * The dataset includes 6361 entries with no missing values across two columns: customerID and MultipleLines. Both columns are of the object (string) data type.\n",
        "2. Anomaly Checks:\n",
        "  * MultipleLines Options: The MultipleLines column is expected to contain responses such as 'Yes', 'No', or 'No phone service'. Ensuring these values are consistent is crucial for reliable analysis.\n",
        "3. Anomaly Resolution Strategies:\n",
        "  * Categorical Consistency Check: Applying the value_counts() function to the MultipleLines column will help verify that all entries are within the expected categories, identifying any potential anomalies such as misspelled words or inconsistent labeling.\n",
        "  * Cross-Data Validation: Comparing these entries with other datasets (e.g., checking if customers listed with 'No phone service' are consistent across related datasets).\n",
        "\n",
        "**Conclusion**\n",
        "\n",
        "The phone service data appears complete and consistent without any evident anomalies or missing values. This integrity is vital for subsequent analysis phases, particularly in understanding service preferences and their impact on customer churn. Correct categorization of service features like multiple lines availability enables precise customer segmentation, crucial for targeted marketing and retention strategies. The analysis establishes that the phone service dataset is robust and ready for integration with broader customer data analytics, aiding in the development of informed business strategies to mitigate customer churn."
      ]
    },
    {
      "cell_type": "markdown",
      "metadata": {
        "id": "1bK9JGTr_4LG"
      },
      "source": [
        "## Explore the structure and content of these datasets\n",
        "\n",
        "The data for this project is divided into several tables. We'll explore each table to get an initial understanding of our data. We will make corrections in each table if necessary.\n",
        "\n",
        "Rename columns according to the rules of good writing style:\n",
        "* If the column name consists of multiple words, use snake_case\n",
        "* All characters must be in lower case\n",
        "* Remove spaces"
      ]
    },
    {
      "cell_type": "markdown",
      "metadata": {
        "id": "Y0eSqhu7_4LG"
      },
      "source": [
        "### Contract Information Data"
      ]
    },
    {
      "cell_type": "code",
      "execution_count": 25,
      "metadata": {
        "colab": {
          "base_uri": "https://localhost:8080/"
        },
        "id": "DKQNyjjx_4LG",
        "outputId": "1a235808-a4b3-45da-c6ec-a1070d22b86d"
      },
      "outputs": [
        {
          "output_type": "execute_result",
          "data": {
            "text/plain": [
              "Index(['customerID', 'BeginDate', 'EndDate', 'Type', 'PaperlessBilling',\n",
              "       'PaymentMethod', 'MonthlyCharges', 'TotalCharges'],\n",
              "      dtype='object')"
            ]
          },
          "metadata": {},
          "execution_count": 25
        }
      ],
      "source": [
        "# List containing the column names in the dataframe df.\n",
        "df_contract.columns"
      ]
    },
    {
      "cell_type": "code",
      "execution_count": 26,
      "metadata": {
        "id": "_JBOanrT_4LG"
      },
      "outputs": [],
      "source": [
        "# Renaming Columns\n",
        "df_contract = df_contract.rename(\n",
        "   columns={\n",
        "        'customerID' : 'customer_id',\n",
        "       'BeginDate' : 'begin_date',\n",
        "       'EndDate' : 'end_date',\n",
        "       'Type' : 'type',\n",
        "       'PaperlessBilling' : 'paperless_billing',\n",
        "       'PaymentMethod' : 'payment_method',\n",
        "       'MonthlyCharges' : 'monthly_charges',\n",
        "       'TotalCharges' : 'total_charges',\n",
        "   }\n",
        ")\n"
      ]
    },
    {
      "cell_type": "code",
      "execution_count": 27,
      "metadata": {
        "colab": {
          "base_uri": "https://localhost:8080/"
        },
        "id": "H_pk9zUd_4LG",
        "outputId": "370e6f9f-8d12-4df5-ce1c-b48edd732ce2"
      },
      "outputs": [
        {
          "output_type": "execute_result",
          "data": {
            "text/plain": [
              "Index(['customer_id', 'begin_date', 'end_date', 'type', 'paperless_billing',\n",
              "       'payment_method', 'monthly_charges', 'total_charges'],\n",
              "      dtype='object')"
            ]
          },
          "metadata": {},
          "execution_count": 27
        }
      ],
      "source": [
        "# Checking your result: display the list containing the column names again.\n",
        "df_contract.columns"
      ]
    },
    {
      "cell_type": "code",
      "execution_count": 28,
      "metadata": {
        "id": "I1G9SaCV_4LL"
      },
      "outputs": [],
      "source": [
        "# Converts 'BeginDate' and 'EndDate' columns to datetime data type\n",
        "df_contract['begin_date'] = pd.to_datetime(df_contract['begin_date'])\n",
        "df_contract['end_date'] = pd.to_datetime(df_contract['end_date'], errors='coerce')"
      ]
    },
    {
      "cell_type": "code",
      "execution_count": 29,
      "metadata": {
        "colab": {
          "base_uri": "https://localhost:8080/"
        },
        "id": "tHrjYhRu_4LL",
        "outputId": "108a36e1-1cfd-4f21-c1d9-753d6cd6cdd9"
      },
      "outputs": [
        {
          "output_type": "execute_result",
          "data": {
            "text/plain": [
              "[' ',\n",
              " '100.2',\n",
              " '100.25',\n",
              " '100.35',\n",
              " '100.4',\n",
              " '100.8',\n",
              " '100.9',\n",
              " '1001.2',\n",
              " '1001.5',\n",
              " '1003.05',\n",
              " '1004.35',\n",
              " '1004.5',\n",
              " '1004.75',\n",
              " '1005.7',\n",
              " '1006.9',\n",
              " '1007.8',\n",
              " '1007.9',\n",
              " '1008.55',\n",
              " '1008.7',\n",
              " '1009.25',\n",
              " '101.1',\n",
              " '101.45',\n",
              " '101.65',\n",
              " '101.9',\n",
              " '1010',\n",
              " '1011.05',\n",
              " '1011.5',\n",
              " '1011.8',\n",
              " '1012.4',\n",
              " '1013.05',\n",
              " '1013.2',\n",
              " '1013.35',\n",
              " '1013.6',\n",
              " '1014.25',\n",
              " '1016.7',\n",
              " '1017.35',\n",
              " '102.45',\n",
              " '102.5',\n",
              " '102.75',\n",
              " '1020.2',\n",
              " '1020.75',\n",
              " '1021.55',\n",
              " '1021.75',\n",
              " '1021.8',\n",
              " '1022.5',\n",
              " '1022.6',\n",
              " '1022.95',\n",
              " '1023.75',\n",
              " '1023.85',\n",
              " '1023.9',\n",
              " '1023.95',\n",
              " '1024',\n",
              " '1024.65',\n",
              " '1024.7',\n",
              " '1025.05',\n",
              " '1025.15',\n",
              " '1025.95',\n",
              " '1026.35',\n",
              " '1027.25',\n",
              " '1028.75',\n",
              " '1028.9',\n",
              " '1029.35',\n",
              " '1029.75',\n",
              " '1029.8',\n",
              " '103.7',\n",
              " '1031.1',\n",
              " '1031.4',\n",
              " '1031.7',\n",
              " '1032',\n",
              " '1032.05',\n",
              " '1033',\n",
              " '1033.9',\n",
              " '1033.95',\n",
              " '1035.5',\n",
              " '1035.7',\n",
              " '1036',\n",
              " '1036.75',\n",
              " '1037.75',\n",
              " '1039.45',\n",
              " '104.2',\n",
              " '104.3',\n",
              " '1041.8',\n",
              " '1042.65',\n",
              " '1043.3',\n",
              " '1043.35',\n",
              " '1043.4',\n",
              " '1043.8',\n",
              " '1045.25',\n",
              " '1046.1',\n",
              " '1046.2',\n",
              " '1046.5',\n",
              " '1047.7',\n",
              " '1048.45',\n",
              " '1048.85',\n",
              " '1049.05',\n",
              " '1049.6',\n",
              " '105.5',\n",
              " '105.6',\n",
              " '1050.5',\n",
              " '1051.05',\n",
              " '1051.9',\n",
              " '1052.35',\n",
              " '1052.4',\n",
              " '1054.6',\n",
              " '1054.75',\n",
              " '1054.8',\n",
              " '1055.9',\n",
              " '1056.95',\n",
              " '1057',\n",
              " '1057.55',\n",
              " '1057.85',\n",
              " '1058.1',\n",
              " '1058.25',\n",
              " '1058.6',\n",
              " '1059.55',\n",
              " '106.2',\n",
              " '106.55',\n",
              " '106.8',\n",
              " '106.85',\n",
              " '106.9',\n",
              " '1060.2',\n",
              " '1060.6',\n",
              " '1061.6',\n",
              " '1062.1',\n",
              " '1064.65',\n",
              " '1064.95',\n",
              " '1066.15',\n",
              " '1066.9',\n",
              " '1067.05',\n",
              " '1067.15',\n",
              " '1067.65',\n",
              " '1068.15',\n",
              " '1068.85',\n",
              " '107.05',\n",
              " '107.1',\n",
              " '107.25',\n",
              " '107.6',\n",
              " '1070.15',\n",
              " '1070.25',\n",
              " '1070.5',\n",
              " '1070.7',\n",
              " '1071.4',\n",
              " '1071.6',\n",
              " '1072',\n",
              " '1072.6',\n",
              " '1073.3',\n",
              " '1074.3',\n",
              " '1074.65',\n",
              " '1077.05',\n",
              " '1077.5',\n",
              " '1077.95',\n",
              " '1078.75',\n",
              " '1078.9',\n",
              " '1079.05',\n",
              " '1079.45',\n",
              " '1079.65',\n",
              " '108.05',\n",
              " '108.15',\n",
              " '108.65',\n",
              " '108.7',\n",
              " '108.95',\n",
              " '1080.55',\n",
              " '1081.25',\n",
              " '1081.45',\n",
              " '1082.75',\n",
              " '1082.8',\n",
              " '1083',\n",
              " '1083.7',\n",
              " '1086.75',\n",
              " '1087.25',\n",
              " '1087.45',\n",
              " '1087.7',\n",
              " '1088.25',\n",
              " '109.2',\n",
              " '109.25',\n",
              " '109.3',\n",
              " '109.5',\n",
              " '109.6',\n",
              " '109.8',\n",
              " '1090.1',\n",
              " '1090.6',\n",
              " '1090.65',\n",
              " '1092.35',\n",
              " '1093',\n",
              " '1093.1',\n",
              " '1093.2',\n",
              " '1093.4',\n",
              " '1094.35',\n",
              " '1094.5',\n",
              " '1095.3',\n",
              " '1095.65',\n",
              " '1096.25',\n",
              " '1096.6',\n",
              " '1096.65',\n",
              " '1097.15',\n",
              " '1098.85',\n",
              " '1099.6',\n",
              " '110.05',\n",
              " '110.15',\n",
              " '1101.85',\n",
              " '1102.4',\n",
              " '1103.25',\n",
              " '1105.4',\n",
              " '1107.2',\n",
              " '1107.25',\n",
              " '1108',\n",
              " '1108.2',\n",
              " '1108.6',\n",
              " '1108.8',\n",
              " '111.05',\n",
              " '111.4',\n",
              " '111.65',\n",
              " '1110.05',\n",
              " '1110.35',\n",
              " '1110.5',\n",
              " '1111.2',\n",
              " '1111.65',\n",
              " '1111.85',\n",
              " '1112.3',\n",
              " '1113.95',\n",
              " '1114.55',\n",
              " '1114.85',\n",
              " '1115.15',\n",
              " '1115.2',\n",
              " '1115.6',\n",
              " '1117.55',\n",
              " '1118.8',\n",
              " '1119.35',\n",
              " '1119.9',\n",
              " '112.3',\n",
              " '112.75',\n",
              " '1120.3',\n",
              " '1120.95',\n",
              " '1121.05',\n",
              " '1122.4',\n",
              " '1123.15',\n",
              " '1123.65',\n",
              " '1124.2',\n",
              " '1125.2',\n",
              " '1125.6',\n",
              " '1126.35',\n",
              " '1126.75',\n",
              " '1127.2',\n",
              " '1127.35',\n",
              " '1128.1',\n",
              " '1129.1',\n",
              " '1129.35',\n",
              " '1129.75',\n",
              " '113.1',\n",
              " '113.35',\n",
              " '113.5',\n",
              " '113.55',\n",
              " '113.85',\n",
              " '113.95',\n",
              " '1130',\n",
              " '1130.85',\n",
              " '1131.2',\n",
              " '1131.3',\n",
              " '1131.5',\n",
              " '1132.35',\n",
              " '1132.75',\n",
              " '1133.65',\n",
              " '1133.7',\n",
              " '1133.9',\n",
              " '1134.25',\n",
              " '1135.7',\n",
              " '1137.05',\n",
              " '1138.8',\n",
              " '1139.2',\n",
              " '114.1',\n",
              " '114.15',\n",
              " '114.7',\n",
              " '1140.05',\n",
              " '1143.8',\n",
              " '1144.5',\n",
              " '1144.6',\n",
              " '1145.35',\n",
              " '1145.7',\n",
              " '1146.05',\n",
              " '1146.65',\n",
              " '1147',\n",
              " '1147.45',\n",
              " '1147.85',\n",
              " '1148.1',\n",
              " '1149.65',\n",
              " '115.1',\n",
              " '115.95',\n",
              " '1151.05',\n",
              " '1151.55',\n",
              " '1152.7',\n",
              " '1152.8',\n",
              " '1153.25',\n",
              " '1155.6',\n",
              " '1156.1',\n",
              " '1156.35',\n",
              " '1156.55',\n",
              " '1157.05',\n",
              " '1158.85',\n",
              " '116.6',\n",
              " '116.65',\n",
              " '116.85',\n",
              " '116.95',\n",
              " '1160.45',\n",
              " '1160.75',\n",
              " '1161.75',\n",
              " '1162.85',\n",
              " '1164.05',\n",
              " '1164.3',\n",
              " '1165.55',\n",
              " '1165.6',\n",
              " '1165.9',\n",
              " '1166.7',\n",
              " '1167.6',\n",
              " '1167.8',\n",
              " '1169.35',\n",
              " '117.05',\n",
              " '117.8',\n",
              " '117.95',\n",
              " '1170.5',\n",
              " '1170.55',\n",
              " '1171.3',\n",
              " '1171.5',\n",
              " '1172.95',\n",
              " '1173.35',\n",
              " '1173.55',\n",
              " '1174.35',\n",
              " '1174.8',\n",
              " '1175.6',\n",
              " '1175.85',\n",
              " '1177.05',\n",
              " '1177.95',\n",
              " '1178.25',\n",
              " '1178.4',\n",
              " '1178.75',\n",
              " '118.25',\n",
              " '118.3',\n",
              " '118.4',\n",
              " '118.5',\n",
              " '1180.95',\n",
              " '1181.75',\n",
              " '1182.55',\n",
              " '1183.05',\n",
              " '1183.2',\n",
              " '1183.8',\n",
              " '1184',\n",
              " '1185',\n",
              " '1185.95',\n",
              " '1187.05',\n",
              " '1188.2',\n",
              " '1188.25',\n",
              " '1189.4',\n",
              " '1189.9',\n",
              " '119.3',\n",
              " '119.5',\n",
              " '119.75',\n",
              " '1190.5',\n",
              " '1191.2',\n",
              " '1191.4',\n",
              " '1192.3',\n",
              " '1192.7',\n",
              " '1193.05',\n",
              " '1193.55',\n",
              " '1194.3',\n",
              " '1195.25',\n",
              " '1195.75',\n",
              " '1195.95',\n",
              " '1198.05',\n",
              " '1198.8',\n",
              " '1199.4',\n",
              " '120.25',\n",
              " '1200.15',\n",
              " '1201.15',\n",
              " '1201.65',\n",
              " '1203.9',\n",
              " '1203.95',\n",
              " '1205.05',\n",
              " '1205.5',\n",
              " '1206.05',\n",
              " '1207',\n",
              " '1208.15',\n",
              " '1208.35',\n",
              " '1208.6',\n",
              " '1209.25',\n",
              " '121.25',\n",
              " '1210.3',\n",
              " '1210.4',\n",
              " '1211.65',\n",
              " '1212.1',\n",
              " '1212.25',\n",
              " '1212.85',\n",
              " '1214.05',\n",
              " '1215.1',\n",
              " '1215.45',\n",
              " '1215.6',\n",
              " '1215.65',\n",
              " '1215.8',\n",
              " '1216.35',\n",
              " '1216.6',\n",
              " '1217.25',\n",
              " '1218.25',\n",
              " '1218.45',\n",
              " '1218.55',\n",
              " '1218.65',\n",
              " '1219.85',\n",
              " '122',\n",
              " '122.7',\n",
              " '122.9',\n",
              " '1221.55',\n",
              " '1221.65',\n",
              " '1222.05',\n",
              " '1222.25',\n",
              " '1222.65',\n",
              " '1222.8',\n",
              " '1224.05',\n",
              " '1225.65',\n",
              " '1226.45',\n",
              " '1228.65',\n",
              " '1229.1',\n",
              " '123.05',\n",
              " '123.65',\n",
              " '123.8',\n",
              " '1230.25',\n",
              " '1230.9',\n",
              " '1231.85',\n",
              " '1232.9',\n",
              " '1233.15',\n",
              " '1233.25',\n",
              " '1233.4',\n",
              " '1233.65',\n",
              " '1234.6',\n",
              " '1234.8',\n",
              " '1235.55',\n",
              " '1236.15',\n",
              " '1237.3',\n",
              " '1237.65',\n",
              " '1237.85',\n",
              " '1238.45',\n",
              " '1238.65',\n",
              " '124.4',\n",
              " '124.45',\n",
              " '1240.15',\n",
              " '1240.25',\n",
              " '1240.8',\n",
              " '1242.2',\n",
              " '1242.25',\n",
              " '1242.45',\n",
              " '1244.5',\n",
              " '1244.8',\n",
              " '1245.05',\n",
              " '1245.6',\n",
              " '1246.4',\n",
              " '1247.75',\n",
              " '1248.9',\n",
              " '1249.25',\n",
              " '125',\n",
              " '125.5',\n",
              " '125.95',\n",
              " '1250.1',\n",
              " '1250.85',\n",
              " '1252',\n",
              " '1252.85',\n",
              " '1253.15',\n",
              " '1253.5',\n",
              " '1253.65',\n",
              " '1253.8',\n",
              " '1253.9',\n",
              " '1254.7',\n",
              " '1255.1',\n",
              " '1258.15',\n",
              " '1258.3',\n",
              " '1258.35',\n",
              " '1258.6',\n",
              " '1259',\n",
              " '1259.35',\n",
              " '126.05',\n",
              " '1260.7',\n",
              " '1261',\n",
              " '1261.35',\n",
              " '1261.45',\n",
              " '1261.7',\n",
              " '1263.05',\n",
              " '1263.85',\n",
              " '1263.9',\n",
              " '1264.2',\n",
              " '1265.65',\n",
              " '1266.1',\n",
              " '1266.35',\n",
              " '1266.4',\n",
              " '1267',\n",
              " '1267.05',\n",
              " '1267.2',\n",
              " '1267.95',\n",
              " '1268.85',\n",
              " '1269.1',\n",
              " '1269.55',\n",
              " '1269.6',\n",
              " '127.1',\n",
              " '1270.2',\n",
              " '1270.25',\n",
              " '1270.55',\n",
              " '1271.8',\n",
              " '1272.05',\n",
              " '1273.3',\n",
              " '1274.05',\n",
              " '1274.45',\n",
              " '1275.6',\n",
              " '1275.65',\n",
              " '1275.7',\n",
              " '1275.85',\n",
              " '1277.5',\n",
              " '1277.75',\n",
              " '1278.8',\n",
              " '1279',\n",
              " '128.6',\n",
              " '1281',\n",
              " '1281.25',\n",
              " '1282.85',\n",
              " '1284.2',\n",
              " '1285.05',\n",
              " '1285.8',\n",
              " '1286',\n",
              " '1286.05',\n",
              " '1287.85',\n",
              " '1288',\n",
              " '1288.3',\n",
              " '1288.75',\n",
              " '129.15',\n",
              " '129.2',\n",
              " '129.55',\n",
              " '129.6',\n",
              " '1290',\n",
              " '1291.3',\n",
              " '1291.35',\n",
              " '1292.2',\n",
              " '1292.6',\n",
              " '1292.65',\n",
              " '1293.8',\n",
              " '1294.6',\n",
              " '1295.4',\n",
              " '1296.15',\n",
              " '1296.8',\n",
              " '1297.35',\n",
              " '1297.8',\n",
              " '1298.7',\n",
              " '1299.1',\n",
              " '1299.8',\n",
              " '130.1',\n",
              " '130.15',\n",
              " '130.25',\n",
              " '130.5',\n",
              " '130.55',\n",
              " '130.75',\n",
              " '1301',\n",
              " '1301.1',\n",
              " '1301.7',\n",
              " '1301.9',\n",
              " '1302.65',\n",
              " '1303.25',\n",
              " '1303.5',\n",
              " '1304.8',\n",
              " '1304.85',\n",
              " '1305.95',\n",
              " '1306.3',\n",
              " '1307.8',\n",
              " '1308.1',\n",
              " '1308.4',\n",
              " '1309',\n",
              " '1309.15',\n",
              " '131.05',\n",
              " '131.65',\n",
              " '1311.3',\n",
              " '1311.6',\n",
              " '1311.75',\n",
              " '1312.15',\n",
              " '1312.45',\n",
              " '1313.25',\n",
              " '1313.55',\n",
              " '1315',\n",
              " '1315.35',\n",
              " '1316.9',\n",
              " '1317.95',\n",
              " '1319.85',\n",
              " '1319.95',\n",
              " '132.2',\n",
              " '132.25',\n",
              " '132.4',\n",
              " '1321.3',\n",
              " '1322.55',\n",
              " '1322.85',\n",
              " '1323.7',\n",
              " '1325.85',\n",
              " '1326.25',\n",
              " '1326.35',\n",
              " '1327.15',\n",
              " '1327.4',\n",
              " '1327.85',\n",
              " '1328.15',\n",
              " '1328.35',\n",
              " '1329.15',\n",
              " '1329.2',\n",
              " '1331.05',\n",
              " '1332.4',\n",
              " '1334',\n",
              " '1334.45',\n",
              " '1334.5',\n",
              " '1335.2',\n",
              " '1336.1',\n",
              " '1336.15',\n",
              " '1336.35',\n",
              " '1336.65',\n",
              " '1336.8',\n",
              " '1336.9',\n",
              " '1337.45',\n",
              " '1337.5',\n",
              " '1338.15',\n",
              " '1339.8',\n",
              " '134.05',\n",
              " '134.35',\n",
              " '134.5',\n",
              " '134.6',\n",
              " '134.7',\n",
              " '134.75',\n",
              " '1340.1',\n",
              " '1341.5',\n",
              " '1342.15',\n",
              " '1343.4',\n",
              " '1344.5',\n",
              " '1345.55',\n",
              " '1345.65',\n",
              " '1345.75',\n",
              " '1345.85',\n",
              " '1346.2',\n",
              " '1346.3',\n",
              " '1346.9',\n",
              " '1347.15',\n",
              " '1348.5',\n",
              " '1348.9',\n",
              " '1348.95',\n",
              " '135',\n",
              " '135.2',\n",
              " '135.75',\n",
              " '1350.15',\n",
              " '1354.4',\n",
              " '1355.1',\n",
              " '1355.45',\n",
              " '1356.3',\n",
              " '1356.7',\n",
              " '1357.1',\n",
              " '1358.6',\n",
              " '1358.85',\n",
              " '1359',\n",
              " '1359.45',\n",
              " '1359.5',\n",
              " '1359.7',\n",
              " '136.05',\n",
              " '136.75',\n",
              " '1360.25',\n",
              " '1362.85',\n",
              " '1363.25',\n",
              " '1363.45',\n",
              " '1364.3',\n",
              " '1364.75',\n",
              " '1367.75',\n",
              " '1369.8',\n",
              " '137.1',\n",
              " '137.25',\n",
              " '137.6',\n",
              " '137.85',\n",
              " '137.95',\n",
              " '1370.35',\n",
              " '1372.45',\n",
              " '1372.9',\n",
              " '1373',\n",
              " '1373.05',\n",
              " '1374.2',\n",
              " '1374.35',\n",
              " '1374.9',\n",
              " '1375.15',\n",
              " '1375.4',\n",
              " '1375.6',\n",
              " '1376.5',\n",
              " '1377.7',\n",
              " '1378.25',\n",
              " '1378.45',\n",
              " '1378.75',\n",
              " '1379.6',\n",
              " '1379.8',\n",
              " '138.85',\n",
              " '1380.1',\n",
              " '1380.4',\n",
              " '1381.2',\n",
              " '1381.8',\n",
              " '1382.9',\n",
              " '1383.6',\n",
              " '1384.75',\n",
              " '1385.85',\n",
              " '1386.8',\n",
              " '1386.9',\n",
              " '1387',\n",
              " '1387.35',\n",
              " '1387.45',\n",
              " '1388',\n",
              " '1388.45',\n",
              " '1388.75',\n",
              " '1389.2',\n",
              " '1389.35',\n",
              " '1389.6',\n",
              " '1389.85',\n",
              " '139.05',\n",
              " '139.25',\n",
              " '139.35',\n",
              " '139.4',\n",
              " '139.75',\n",
              " '1390.6',\n",
              " '1390.85',\n",
              " '1391.15',\n",
              " '1391.65',\n",
              " '1392.25',\n",
              " '1393.6',\n",
              " '1394.55',\n",
              " '1395.05',\n",
              " '1396',\n",
              " '1396.25',\n",
              " '1396.9',\n",
              " '1397.3',\n",
              " '1397.65',\n",
              " '1398.25',\n",
              " '1398.6',\n",
              " '1399.35',\n",
              " '140.1',\n",
              " '140.4',\n",
              " '140.7',\n",
              " '140.95',\n",
              " '1400.3',\n",
              " '1400.55',\n",
              " '1400.85',\n",
              " '1401.15',\n",
              " '1401.4',\n",
              " '1402.25',\n",
              " '1403.1',\n",
              " '1404.65',\n",
              " '1405.3',\n",
              " '1406',\n",
              " '1406.65',\n",
              " '1406.9',\n",
              " '141.1',\n",
              " '141.45',\n",
              " '141.5',\n",
              " '141.6',\n",
              " '141.65',\n",
              " '141.7',\n",
              " '1410.25',\n",
              " '1411.2',\n",
              " '1411.35',\n",
              " '1411.65',\n",
              " '1411.9',\n",
              " '1412.4',\n",
              " '1412.65',\n",
              " '1413',\n",
              " '1414.2',\n",
              " '1414.45',\n",
              " '1414.65',\n",
              " '1414.8',\n",
              " '1415',\n",
              " '1415.55',\n",
              " '1415.85',\n",
              " '1416.2',\n",
              " '1416.5',\n",
              " '1416.75',\n",
              " '1417.9',\n",
              " '1419.4',\n",
              " '142.35',\n",
              " '1421.75',\n",
              " '1421.9',\n",
              " '1422.05',\n",
              " '1422.1',\n",
              " '1422.65',\n",
              " '1423.05',\n",
              " '1423.15',\n",
              " '1423.35',\n",
              " '1423.65',\n",
              " '1423.85',\n",
              " '1424.2',\n",
              " '1424.4',\n",
              " '1424.5',\n",
              " '1424.6',\n",
              " '1424.9',\n",
              " '1424.95',\n",
              " '1425.45',\n",
              " '1426.4',\n",
              " '1426.45',\n",
              " '1426.75',\n",
              " '1427.55',\n",
              " '1429.65',\n",
              " '143.35',\n",
              " '143.65',\n",
              " '143.9',\n",
              " '1430.05',\n",
              " '1430.25',\n",
              " '1430.95',\n",
              " '1431.65',\n",
              " '1432.55',\n",
              " '1433.8',\n",
              " '1434.1',\n",
              " '1434.6',\n",
              " '1436.95',\n",
              " '1438.05',\n",
              " '1439.35',\n",
              " '144',\n",
              " '144.15',\n",
              " '144.35',\n",
              " '144.55',\n",
              " '144.8',\n",
              " '144.95',\n",
              " '1440.75',\n",
              " '1441.1',\n",
              " '1441.65',\n",
              " '1441.8',\n",
              " '1441.95',\n",
              " '1442',\n",
              " '1442.2',\n",
              " '1442.6',\n",
              " '1442.65',\n",
              " '1443.65',\n",
              " '1444.05',\n",
              " '1444.65',\n",
              " '1445.2',\n",
              " '1445.3',\n",
              " '1445.95',\n",
              " '1446.8',\n",
              " '1447.9',\n",
              " '1448.6',\n",
              " '1448.8',\n",
              " '145',\n",
              " '145.15',\n",
              " '145.4',\n",
              " '1451.1',\n",
              " '1451.6',\n",
              " '1451.9',\n",
              " '1453.1',\n",
              " '1454.15',\n",
              " '1454.25',\n",
              " '1457.25',\n",
              " '1458.1',\n",
              " '1459.35',\n",
              " '146.05',\n",
              " '146.3',\n",
              " '146.4',\n",
              " '146.6',\n",
              " '146.65',\n",
              " '146.9',\n",
              " '1460.65',\n",
              " '1460.85',\n",
              " '1461.15',\n",
              " '1461.45',\n",
              " '1462.05',\n",
              " '1462.6',\n",
              " '1463.45',\n",
              " '1463.5',\n",
              " '1463.7',\n",
              " '1465.75',\n",
              " '1466.1',\n",
              " '1468.75',\n",
              " '1468.9',\n",
              " '147.15',\n",
              " '147.5',\n",
              " '147.55',\n",
              " '147.75',\n",
              " '147.8',\n",
              " '1470.05',\n",
              " '1470.95',\n",
              " '1471.75',\n",
              " '1474.35',\n",
              " '1474.75',\n",
              " '1474.9',\n",
              " '1476.25',\n",
              " '1477.65',\n",
              " '1478.85',\n",
              " '148.05',\n",
              " '1482.3',\n",
              " '1483.25',\n",
              " '1489.3',\n",
              " '149.05',\n",
              " '149.55',\n",
              " '1490.4',\n",
              " '1490.95',\n",
              " '1492.1',\n",
              " '1493.1',\n",
              " '1493.2',\n",
              " '1493.55',\n",
              " '1493.75',\n",
              " '1494.5',\n",
              " '1495.1',\n",
              " '1496.45',\n",
              " '1496.9',\n",
              " '1497.05',\n",
              " '1497.9',\n",
              " '1498.2',\n",
              " '1498.35',\n",
              " '1498.55',\n",
              " '1498.65',\n",
              " '1498.85',\n",
              " '150',\n",
              " '150.35',\n",
              " '150.6',\n",
              " '150.75',\n",
              " '150.85',\n",
              " '1500.25',\n",
              " '1500.5',\n",
              " '1500.95',\n",
              " '1501.75',\n",
              " '1502.25',\n",
              " '1502.65',\n",
              " '1504.05',\n",
              " '1505.05',\n",
              " '1505.15',\n",
              " '1505.35',\n",
              " '1505.45',\n",
              " '1505.85',\n",
              " '1505.9',\n",
              " '1506.4',\n",
              " '1507',\n",
              " '1509.8',\n",
              " '1509.9',\n",
              " '151.3',\n",
              " '151.65',\n",
              " '151.75',\n",
              " '151.8',\n",
              " '1510.3',\n",
              " '1510.5',\n",
              " '1511.2',\n",
              " '1513.6',\n",
              " '1514.85',\n",
              " '1515.1',\n",
              " '1516.6',\n",
              " '1517.5',\n",
              " '1519',\n",
              " '152.3',\n",
              " '152.45',\n",
              " '152.6',\n",
              " '152.7',\n",
              " '152.95',\n",
              " '1520.1',\n",
              " '1520.9',\n",
              " '1521.2',\n",
              " '1522.65',\n",
              " '1522.7',\n",
              " '1523.4',\n",
              " '1524.85',\n",
              " '1525.35',\n",
              " '1527.35',\n",
              " '1527.5',\n",
              " '1529.2',\n",
              " '1529.45',\n",
              " '1529.65',\n",
              " '153.05',\n",
              " '153.3',\n",
              " '153.8',\n",
              " '153.95',\n",
              " '1530.6',\n",
              " '1531.4',\n",
              " '1532.45',\n",
              " '1533.8',\n",
              " '1534.05',\n",
              " '1534.75',\n",
              " '1536.75',\n",
              " '1537.85',\n",
              " '1537.9',\n",
              " '1538.6',\n",
              " '1539.45',\n",
              " '1539.75',\n",
              " '1539.8',\n",
              " '154.3',\n",
              " '154.55',\n",
              " '154.65',\n",
              " '154.8',\n",
              " '154.85',\n",
              " '1540.05',\n",
              " '1540.2',\n",
              " '1540.35',\n",
              " '1544.05',\n",
              " '1545.4',\n",
              " '1546.3',\n",
              " '1547.35',\n",
              " '1548.65',\n",
              " '1549.75',\n",
              " '155.35',\n",
              " '155.65',\n",
              " '155.8',\n",
              " '155.9',\n",
              " '1551.6',\n",
              " '1553.2',\n",
              " '1553.9',\n",
              " '1553.95',\n",
              " '1554',\n",
              " '1554.9',\n",
              " '1555.65',\n",
              " '1556.85',\n",
              " '1558.65',\n",
              " '1558.7',\n",
              " ...]"
            ]
          },
          "metadata": {},
          "execution_count": 29
        }
      ],
      "source": [
        "sorted(df_contract['total_charges'].unique())"
      ]
    },
    {
      "cell_type": "code",
      "execution_count": 30,
      "metadata": {
        "colab": {
          "base_uri": "https://localhost:8080/",
          "height": 394
        },
        "id": "bsgsxyvK_4LL",
        "outputId": "26ff0b14-052f-4732-aaf5-e1d8316943cd"
      },
      "outputs": [
        {
          "output_type": "execute_result",
          "data": {
            "text/plain": [
              "     customer_id begin_date end_date      type paperless_billing  \\\n",
              "488   4472-LVYGI 2020-02-01      NaT  Two year               Yes   \n",
              "753   3115-CZMZD 2020-02-01      NaT  Two year                No   \n",
              "936   5709-LVOEQ 2020-02-01      NaT  Two year                No   \n",
              "1082  4367-NUYAO 2020-02-01      NaT  Two year                No   \n",
              "1340  1371-DWPAZ 2020-02-01      NaT  Two year                No   \n",
              "3331  7644-OMVMY 2020-02-01      NaT  Two year                No   \n",
              "3826  3213-VVOLG 2020-02-01      NaT  Two year                No   \n",
              "4380  2520-SGTTA 2020-02-01      NaT  Two year                No   \n",
              "5218  2923-ARZLG 2020-02-01      NaT  One year               Yes   \n",
              "6670  4075-WKNIU 2020-02-01      NaT  Two year                No   \n",
              "6754  2775-SEFEE 2020-02-01      NaT  Two year               Yes   \n",
              "\n",
              "                 payment_method  monthly_charges total_charges  \n",
              "488   Bank transfer (automatic)            52.55                \n",
              "753                Mailed check            20.25                \n",
              "936                Mailed check            80.85                \n",
              "1082               Mailed check            25.75                \n",
              "1340    Credit card (automatic)            56.05                \n",
              "3331               Mailed check            19.85                \n",
              "3826               Mailed check            25.35                \n",
              "4380               Mailed check            20.00                \n",
              "5218               Mailed check            19.70                \n",
              "6670               Mailed check            73.35                \n",
              "6754  Bank transfer (automatic)            61.90                "
            ],
            "text/html": [
              "\n",
              "  <div id=\"df-21fffda6-2c32-475a-a21a-0332834a2b8b\" class=\"colab-df-container\">\n",
              "    <div>\n",
              "<style scoped>\n",
              "    .dataframe tbody tr th:only-of-type {\n",
              "        vertical-align: middle;\n",
              "    }\n",
              "\n",
              "    .dataframe tbody tr th {\n",
              "        vertical-align: top;\n",
              "    }\n",
              "\n",
              "    .dataframe thead th {\n",
              "        text-align: right;\n",
              "    }\n",
              "</style>\n",
              "<table border=\"1\" class=\"dataframe\">\n",
              "  <thead>\n",
              "    <tr style=\"text-align: right;\">\n",
              "      <th></th>\n",
              "      <th>customer_id</th>\n",
              "      <th>begin_date</th>\n",
              "      <th>end_date</th>\n",
              "      <th>type</th>\n",
              "      <th>paperless_billing</th>\n",
              "      <th>payment_method</th>\n",
              "      <th>monthly_charges</th>\n",
              "      <th>total_charges</th>\n",
              "    </tr>\n",
              "  </thead>\n",
              "  <tbody>\n",
              "    <tr>\n",
              "      <th>488</th>\n",
              "      <td>4472-LVYGI</td>\n",
              "      <td>2020-02-01</td>\n",
              "      <td>NaT</td>\n",
              "      <td>Two year</td>\n",
              "      <td>Yes</td>\n",
              "      <td>Bank transfer (automatic)</td>\n",
              "      <td>52.55</td>\n",
              "      <td></td>\n",
              "    </tr>\n",
              "    <tr>\n",
              "      <th>753</th>\n",
              "      <td>3115-CZMZD</td>\n",
              "      <td>2020-02-01</td>\n",
              "      <td>NaT</td>\n",
              "      <td>Two year</td>\n",
              "      <td>No</td>\n",
              "      <td>Mailed check</td>\n",
              "      <td>20.25</td>\n",
              "      <td></td>\n",
              "    </tr>\n",
              "    <tr>\n",
              "      <th>936</th>\n",
              "      <td>5709-LVOEQ</td>\n",
              "      <td>2020-02-01</td>\n",
              "      <td>NaT</td>\n",
              "      <td>Two year</td>\n",
              "      <td>No</td>\n",
              "      <td>Mailed check</td>\n",
              "      <td>80.85</td>\n",
              "      <td></td>\n",
              "    </tr>\n",
              "    <tr>\n",
              "      <th>1082</th>\n",
              "      <td>4367-NUYAO</td>\n",
              "      <td>2020-02-01</td>\n",
              "      <td>NaT</td>\n",
              "      <td>Two year</td>\n",
              "      <td>No</td>\n",
              "      <td>Mailed check</td>\n",
              "      <td>25.75</td>\n",
              "      <td></td>\n",
              "    </tr>\n",
              "    <tr>\n",
              "      <th>1340</th>\n",
              "      <td>1371-DWPAZ</td>\n",
              "      <td>2020-02-01</td>\n",
              "      <td>NaT</td>\n",
              "      <td>Two year</td>\n",
              "      <td>No</td>\n",
              "      <td>Credit card (automatic)</td>\n",
              "      <td>56.05</td>\n",
              "      <td></td>\n",
              "    </tr>\n",
              "    <tr>\n",
              "      <th>3331</th>\n",
              "      <td>7644-OMVMY</td>\n",
              "      <td>2020-02-01</td>\n",
              "      <td>NaT</td>\n",
              "      <td>Two year</td>\n",
              "      <td>No</td>\n",
              "      <td>Mailed check</td>\n",
              "      <td>19.85</td>\n",
              "      <td></td>\n",
              "    </tr>\n",
              "    <tr>\n",
              "      <th>3826</th>\n",
              "      <td>3213-VVOLG</td>\n",
              "      <td>2020-02-01</td>\n",
              "      <td>NaT</td>\n",
              "      <td>Two year</td>\n",
              "      <td>No</td>\n",
              "      <td>Mailed check</td>\n",
              "      <td>25.35</td>\n",
              "      <td></td>\n",
              "    </tr>\n",
              "    <tr>\n",
              "      <th>4380</th>\n",
              "      <td>2520-SGTTA</td>\n",
              "      <td>2020-02-01</td>\n",
              "      <td>NaT</td>\n",
              "      <td>Two year</td>\n",
              "      <td>No</td>\n",
              "      <td>Mailed check</td>\n",
              "      <td>20.00</td>\n",
              "      <td></td>\n",
              "    </tr>\n",
              "    <tr>\n",
              "      <th>5218</th>\n",
              "      <td>2923-ARZLG</td>\n",
              "      <td>2020-02-01</td>\n",
              "      <td>NaT</td>\n",
              "      <td>One year</td>\n",
              "      <td>Yes</td>\n",
              "      <td>Mailed check</td>\n",
              "      <td>19.70</td>\n",
              "      <td></td>\n",
              "    </tr>\n",
              "    <tr>\n",
              "      <th>6670</th>\n",
              "      <td>4075-WKNIU</td>\n",
              "      <td>2020-02-01</td>\n",
              "      <td>NaT</td>\n",
              "      <td>Two year</td>\n",
              "      <td>No</td>\n",
              "      <td>Mailed check</td>\n",
              "      <td>73.35</td>\n",
              "      <td></td>\n",
              "    </tr>\n",
              "    <tr>\n",
              "      <th>6754</th>\n",
              "      <td>2775-SEFEE</td>\n",
              "      <td>2020-02-01</td>\n",
              "      <td>NaT</td>\n",
              "      <td>Two year</td>\n",
              "      <td>Yes</td>\n",
              "      <td>Bank transfer (automatic)</td>\n",
              "      <td>61.90</td>\n",
              "      <td></td>\n",
              "    </tr>\n",
              "  </tbody>\n",
              "</table>\n",
              "</div>\n",
              "    <div class=\"colab-df-buttons\">\n",
              "\n",
              "  <div class=\"colab-df-container\">\n",
              "    <button class=\"colab-df-convert\" onclick=\"convertToInteractive('df-21fffda6-2c32-475a-a21a-0332834a2b8b')\"\n",
              "            title=\"Convert this dataframe to an interactive table.\"\n",
              "            style=\"display:none;\">\n",
              "\n",
              "  <svg xmlns=\"http://www.w3.org/2000/svg\" height=\"24px\" viewBox=\"0 -960 960 960\">\n",
              "    <path d=\"M120-120v-720h720v720H120Zm60-500h600v-160H180v160Zm220 220h160v-160H400v160Zm0 220h160v-160H400v160ZM180-400h160v-160H180v160Zm440 0h160v-160H620v160ZM180-180h160v-160H180v160Zm440 0h160v-160H620v160Z\"/>\n",
              "  </svg>\n",
              "    </button>\n",
              "\n",
              "  <style>\n",
              "    .colab-df-container {\n",
              "      display:flex;\n",
              "      gap: 12px;\n",
              "    }\n",
              "\n",
              "    .colab-df-convert {\n",
              "      background-color: #E8F0FE;\n",
              "      border: none;\n",
              "      border-radius: 50%;\n",
              "      cursor: pointer;\n",
              "      display: none;\n",
              "      fill: #1967D2;\n",
              "      height: 32px;\n",
              "      padding: 0 0 0 0;\n",
              "      width: 32px;\n",
              "    }\n",
              "\n",
              "    .colab-df-convert:hover {\n",
              "      background-color: #E2EBFA;\n",
              "      box-shadow: 0px 1px 2px rgba(60, 64, 67, 0.3), 0px 1px 3px 1px rgba(60, 64, 67, 0.15);\n",
              "      fill: #174EA6;\n",
              "    }\n",
              "\n",
              "    .colab-df-buttons div {\n",
              "      margin-bottom: 4px;\n",
              "    }\n",
              "\n",
              "    [theme=dark] .colab-df-convert {\n",
              "      background-color: #3B4455;\n",
              "      fill: #D2E3FC;\n",
              "    }\n",
              "\n",
              "    [theme=dark] .colab-df-convert:hover {\n",
              "      background-color: #434B5C;\n",
              "      box-shadow: 0px 1px 3px 1px rgba(0, 0, 0, 0.15);\n",
              "      filter: drop-shadow(0px 1px 2px rgba(0, 0, 0, 0.3));\n",
              "      fill: #FFFFFF;\n",
              "    }\n",
              "  </style>\n",
              "\n",
              "    <script>\n",
              "      const buttonEl =\n",
              "        document.querySelector('#df-21fffda6-2c32-475a-a21a-0332834a2b8b button.colab-df-convert');\n",
              "      buttonEl.style.display =\n",
              "        google.colab.kernel.accessAllowed ? 'block' : 'none';\n",
              "\n",
              "      async function convertToInteractive(key) {\n",
              "        const element = document.querySelector('#df-21fffda6-2c32-475a-a21a-0332834a2b8b');\n",
              "        const dataTable =\n",
              "          await google.colab.kernel.invokeFunction('convertToInteractive',\n",
              "                                                    [key], {});\n",
              "        if (!dataTable) return;\n",
              "\n",
              "        const docLinkHtml = 'Like what you see? Visit the ' +\n",
              "          '<a target=\"_blank\" href=https://colab.research.google.com/notebooks/data_table.ipynb>data table notebook</a>'\n",
              "          + ' to learn more about interactive tables.';\n",
              "        element.innerHTML = '';\n",
              "        dataTable['output_type'] = 'display_data';\n",
              "        await google.colab.output.renderOutput(dataTable, element);\n",
              "        const docLink = document.createElement('div');\n",
              "        docLink.innerHTML = docLinkHtml;\n",
              "        element.appendChild(docLink);\n",
              "      }\n",
              "    </script>\n",
              "  </div>\n",
              "\n",
              "\n",
              "<div id=\"df-d90562fe-8ecb-4440-b8c4-83663d87e134\">\n",
              "  <button class=\"colab-df-quickchart\" onclick=\"quickchart('df-d90562fe-8ecb-4440-b8c4-83663d87e134')\"\n",
              "            title=\"Suggest charts\"\n",
              "            style=\"display:none;\">\n",
              "\n",
              "<svg xmlns=\"http://www.w3.org/2000/svg\" height=\"24px\"viewBox=\"0 0 24 24\"\n",
              "     width=\"24px\">\n",
              "    <g>\n",
              "        <path d=\"M19 3H5c-1.1 0-2 .9-2 2v14c0 1.1.9 2 2 2h14c1.1 0 2-.9 2-2V5c0-1.1-.9-2-2-2zM9 17H7v-7h2v7zm4 0h-2V7h2v10zm4 0h-2v-4h2v4z\"/>\n",
              "    </g>\n",
              "</svg>\n",
              "  </button>\n",
              "\n",
              "<style>\n",
              "  .colab-df-quickchart {\n",
              "      --bg-color: #E8F0FE;\n",
              "      --fill-color: #1967D2;\n",
              "      --hover-bg-color: #E2EBFA;\n",
              "      --hover-fill-color: #174EA6;\n",
              "      --disabled-fill-color: #AAA;\n",
              "      --disabled-bg-color: #DDD;\n",
              "  }\n",
              "\n",
              "  [theme=dark] .colab-df-quickchart {\n",
              "      --bg-color: #3B4455;\n",
              "      --fill-color: #D2E3FC;\n",
              "      --hover-bg-color: #434B5C;\n",
              "      --hover-fill-color: #FFFFFF;\n",
              "      --disabled-bg-color: #3B4455;\n",
              "      --disabled-fill-color: #666;\n",
              "  }\n",
              "\n",
              "  .colab-df-quickchart {\n",
              "    background-color: var(--bg-color);\n",
              "    border: none;\n",
              "    border-radius: 50%;\n",
              "    cursor: pointer;\n",
              "    display: none;\n",
              "    fill: var(--fill-color);\n",
              "    height: 32px;\n",
              "    padding: 0;\n",
              "    width: 32px;\n",
              "  }\n",
              "\n",
              "  .colab-df-quickchart:hover {\n",
              "    background-color: var(--hover-bg-color);\n",
              "    box-shadow: 0 1px 2px rgba(60, 64, 67, 0.3), 0 1px 3px 1px rgba(60, 64, 67, 0.15);\n",
              "    fill: var(--button-hover-fill-color);\n",
              "  }\n",
              "\n",
              "  .colab-df-quickchart-complete:disabled,\n",
              "  .colab-df-quickchart-complete:disabled:hover {\n",
              "    background-color: var(--disabled-bg-color);\n",
              "    fill: var(--disabled-fill-color);\n",
              "    box-shadow: none;\n",
              "  }\n",
              "\n",
              "  .colab-df-spinner {\n",
              "    border: 2px solid var(--fill-color);\n",
              "    border-color: transparent;\n",
              "    border-bottom-color: var(--fill-color);\n",
              "    animation:\n",
              "      spin 1s steps(1) infinite;\n",
              "  }\n",
              "\n",
              "  @keyframes spin {\n",
              "    0% {\n",
              "      border-color: transparent;\n",
              "      border-bottom-color: var(--fill-color);\n",
              "      border-left-color: var(--fill-color);\n",
              "    }\n",
              "    20% {\n",
              "      border-color: transparent;\n",
              "      border-left-color: var(--fill-color);\n",
              "      border-top-color: var(--fill-color);\n",
              "    }\n",
              "    30% {\n",
              "      border-color: transparent;\n",
              "      border-left-color: var(--fill-color);\n",
              "      border-top-color: var(--fill-color);\n",
              "      border-right-color: var(--fill-color);\n",
              "    }\n",
              "    40% {\n",
              "      border-color: transparent;\n",
              "      border-right-color: var(--fill-color);\n",
              "      border-top-color: var(--fill-color);\n",
              "    }\n",
              "    60% {\n",
              "      border-color: transparent;\n",
              "      border-right-color: var(--fill-color);\n",
              "    }\n",
              "    80% {\n",
              "      border-color: transparent;\n",
              "      border-right-color: var(--fill-color);\n",
              "      border-bottom-color: var(--fill-color);\n",
              "    }\n",
              "    90% {\n",
              "      border-color: transparent;\n",
              "      border-bottom-color: var(--fill-color);\n",
              "    }\n",
              "  }\n",
              "</style>\n",
              "\n",
              "  <script>\n",
              "    async function quickchart(key) {\n",
              "      const quickchartButtonEl =\n",
              "        document.querySelector('#' + key + ' button');\n",
              "      quickchartButtonEl.disabled = true;  // To prevent multiple clicks.\n",
              "      quickchartButtonEl.classList.add('colab-df-spinner');\n",
              "      try {\n",
              "        const charts = await google.colab.kernel.invokeFunction(\n",
              "            'suggestCharts', [key], {});\n",
              "      } catch (error) {\n",
              "        console.error('Error during call to suggestCharts:', error);\n",
              "      }\n",
              "      quickchartButtonEl.classList.remove('colab-df-spinner');\n",
              "      quickchartButtonEl.classList.add('colab-df-quickchart-complete');\n",
              "    }\n",
              "    (() => {\n",
              "      let quickchartButtonEl =\n",
              "        document.querySelector('#df-d90562fe-8ecb-4440-b8c4-83663d87e134 button');\n",
              "      quickchartButtonEl.style.display =\n",
              "        google.colab.kernel.accessAllowed ? 'block' : 'none';\n",
              "    })();\n",
              "  </script>\n",
              "</div>\n",
              "    </div>\n",
              "  </div>\n"
            ],
            "application/vnd.google.colaboratory.intrinsic+json": {
              "type": "dataframe",
              "summary": "{\n  \"name\": \"df_contract\",\n  \"rows\": 11,\n  \"fields\": [\n    {\n      \"column\": \"customer_id\",\n      \"properties\": {\n        \"dtype\": \"string\",\n        \"num_unique_values\": 11,\n        \"samples\": [\n          \"7644-OMVMY\",\n          \"4472-LVYGI\",\n          \"4075-WKNIU\"\n        ],\n        \"semantic_type\": \"\",\n        \"description\": \"\"\n      }\n    },\n    {\n      \"column\": \"begin_date\",\n      \"properties\": {\n        \"dtype\": \"date\",\n        \"min\": \"2020-02-01 00:00:00\",\n        \"max\": \"2020-02-01 00:00:00\",\n        \"num_unique_values\": 1,\n        \"samples\": [\n          \"2020-02-01 00:00:00\"\n        ],\n        \"semantic_type\": \"\",\n        \"description\": \"\"\n      }\n    },\n    {\n      \"column\": \"end_date\",\n      \"properties\": {\n        \"dtype\": \"date\",\n        \"min\": \"NaT\",\n        \"max\": \"NaT\",\n        \"num_unique_values\": 0,\n        \"samples\": [],\n        \"semantic_type\": \"\",\n        \"description\": \"\"\n      }\n    },\n    {\n      \"column\": \"type\",\n      \"properties\": {\n        \"dtype\": \"category\",\n        \"num_unique_values\": 2,\n        \"samples\": [],\n        \"semantic_type\": \"\",\n        \"description\": \"\"\n      }\n    },\n    {\n      \"column\": \"paperless_billing\",\n      \"properties\": {\n        \"dtype\": \"category\",\n        \"num_unique_values\": 2,\n        \"samples\": [],\n        \"semantic_type\": \"\",\n        \"description\": \"\"\n      }\n    },\n    {\n      \"column\": \"payment_method\",\n      \"properties\": {\n        \"dtype\": \"category\",\n        \"num_unique_values\": 3,\n        \"samples\": [],\n        \"semantic_type\": \"\",\n        \"description\": \"\"\n      }\n    },\n    {\n      \"column\": \"monthly_charges\",\n      \"properties\": {\n        \"dtype\": \"number\",\n        \"std\": 23.83148414101892,\n        \"min\": 19.7,\n        \"max\": 80.85,\n        \"num_unique_values\": 11,\n        \"samples\": [],\n        \"semantic_type\": \"\",\n        \"description\": \"\"\n      }\n    },\n    {\n      \"column\": \"total_charges\",\n      \"properties\": {\n        \"dtype\": \"category\",\n        \"num_unique_values\": 1,\n        \"samples\": [],\n        \"semantic_type\": \"\",\n        \"description\": \"\"\n      }\n    }\n  ]\n}"
            }
          },
          "metadata": {},
          "execution_count": 30
        }
      ],
      "source": [
        "df_contract.loc[df_contract['total_charges']== ' ']"
      ]
    },
    {
      "cell_type": "code",
      "execution_count": 31,
      "metadata": {
        "id": "tIU2ITSm_4LL"
      },
      "outputs": [],
      "source": [
        "df_contract = df_contract[df_contract['total_charges'] != ' '].reset_index(drop=True)"
      ]
    },
    {
      "cell_type": "code",
      "execution_count": 32,
      "metadata": {
        "colab": {
          "base_uri": "https://localhost:8080/",
          "height": 53
        },
        "id": "pnvN9hc9_4LL",
        "outputId": "f7fd11c3-68c4-4c2a-cf2c-e018d179ec39"
      },
      "outputs": [
        {
          "output_type": "execute_result",
          "data": {
            "text/plain": [
              "Empty DataFrame\n",
              "Columns: [customer_id, begin_date, end_date, type, paperless_billing, payment_method, monthly_charges, total_charges]\n",
              "Index: []"
            ],
            "text/html": [
              "\n",
              "  <div id=\"df-6db1d873-a995-4f15-b8c6-40fcd83585ce\" class=\"colab-df-container\">\n",
              "    <div>\n",
              "<style scoped>\n",
              "    .dataframe tbody tr th:only-of-type {\n",
              "        vertical-align: middle;\n",
              "    }\n",
              "\n",
              "    .dataframe tbody tr th {\n",
              "        vertical-align: top;\n",
              "    }\n",
              "\n",
              "    .dataframe thead th {\n",
              "        text-align: right;\n",
              "    }\n",
              "</style>\n",
              "<table border=\"1\" class=\"dataframe\">\n",
              "  <thead>\n",
              "    <tr style=\"text-align: right;\">\n",
              "      <th></th>\n",
              "      <th>customer_id</th>\n",
              "      <th>begin_date</th>\n",
              "      <th>end_date</th>\n",
              "      <th>type</th>\n",
              "      <th>paperless_billing</th>\n",
              "      <th>payment_method</th>\n",
              "      <th>monthly_charges</th>\n",
              "      <th>total_charges</th>\n",
              "    </tr>\n",
              "  </thead>\n",
              "  <tbody>\n",
              "  </tbody>\n",
              "</table>\n",
              "</div>\n",
              "    <div class=\"colab-df-buttons\">\n",
              "\n",
              "  <div class=\"colab-df-container\">\n",
              "    <button class=\"colab-df-convert\" onclick=\"convertToInteractive('df-6db1d873-a995-4f15-b8c6-40fcd83585ce')\"\n",
              "            title=\"Convert this dataframe to an interactive table.\"\n",
              "            style=\"display:none;\">\n",
              "\n",
              "  <svg xmlns=\"http://www.w3.org/2000/svg\" height=\"24px\" viewBox=\"0 -960 960 960\">\n",
              "    <path d=\"M120-120v-720h720v720H120Zm60-500h600v-160H180v160Zm220 220h160v-160H400v160Zm0 220h160v-160H400v160ZM180-400h160v-160H180v160Zm440 0h160v-160H620v160ZM180-180h160v-160H180v160Zm440 0h160v-160H620v160Z\"/>\n",
              "  </svg>\n",
              "    </button>\n",
              "\n",
              "  <style>\n",
              "    .colab-df-container {\n",
              "      display:flex;\n",
              "      gap: 12px;\n",
              "    }\n",
              "\n",
              "    .colab-df-convert {\n",
              "      background-color: #E8F0FE;\n",
              "      border: none;\n",
              "      border-radius: 50%;\n",
              "      cursor: pointer;\n",
              "      display: none;\n",
              "      fill: #1967D2;\n",
              "      height: 32px;\n",
              "      padding: 0 0 0 0;\n",
              "      width: 32px;\n",
              "    }\n",
              "\n",
              "    .colab-df-convert:hover {\n",
              "      background-color: #E2EBFA;\n",
              "      box-shadow: 0px 1px 2px rgba(60, 64, 67, 0.3), 0px 1px 3px 1px rgba(60, 64, 67, 0.15);\n",
              "      fill: #174EA6;\n",
              "    }\n",
              "\n",
              "    .colab-df-buttons div {\n",
              "      margin-bottom: 4px;\n",
              "    }\n",
              "\n",
              "    [theme=dark] .colab-df-convert {\n",
              "      background-color: #3B4455;\n",
              "      fill: #D2E3FC;\n",
              "    }\n",
              "\n",
              "    [theme=dark] .colab-df-convert:hover {\n",
              "      background-color: #434B5C;\n",
              "      box-shadow: 0px 1px 3px 1px rgba(0, 0, 0, 0.15);\n",
              "      filter: drop-shadow(0px 1px 2px rgba(0, 0, 0, 0.3));\n",
              "      fill: #FFFFFF;\n",
              "    }\n",
              "  </style>\n",
              "\n",
              "    <script>\n",
              "      const buttonEl =\n",
              "        document.querySelector('#df-6db1d873-a995-4f15-b8c6-40fcd83585ce button.colab-df-convert');\n",
              "      buttonEl.style.display =\n",
              "        google.colab.kernel.accessAllowed ? 'block' : 'none';\n",
              "\n",
              "      async function convertToInteractive(key) {\n",
              "        const element = document.querySelector('#df-6db1d873-a995-4f15-b8c6-40fcd83585ce');\n",
              "        const dataTable =\n",
              "          await google.colab.kernel.invokeFunction('convertToInteractive',\n",
              "                                                    [key], {});\n",
              "        if (!dataTable) return;\n",
              "\n",
              "        const docLinkHtml = 'Like what you see? Visit the ' +\n",
              "          '<a target=\"_blank\" href=https://colab.research.google.com/notebooks/data_table.ipynb>data table notebook</a>'\n",
              "          + ' to learn more about interactive tables.';\n",
              "        element.innerHTML = '';\n",
              "        dataTable['output_type'] = 'display_data';\n",
              "        await google.colab.output.renderOutput(dataTable, element);\n",
              "        const docLink = document.createElement('div');\n",
              "        docLink.innerHTML = docLinkHtml;\n",
              "        element.appendChild(docLink);\n",
              "      }\n",
              "    </script>\n",
              "  </div>\n",
              "\n",
              "    </div>\n",
              "  </div>\n"
            ],
            "application/vnd.google.colaboratory.intrinsic+json": {
              "type": "dataframe",
              "repr_error": "Out of range float values are not JSON compliant: nan"
            }
          },
          "metadata": {},
          "execution_count": 32
        }
      ],
      "source": [
        "df_contract.loc[df_contract['total_charges']== ' ']"
      ]
    },
    {
      "cell_type": "code",
      "execution_count": 33,
      "metadata": {
        "id": "jP6mBSyZ_4LM"
      },
      "outputs": [],
      "source": [
        "# Ensure that all values in the total charges column are numeric\n",
        "df_contract['total_charges'] = df_contract['total_charges'].apply(float)"
      ]
    },
    {
      "cell_type": "code",
      "execution_count": 34,
      "metadata": {
        "colab": {
          "base_uri": "https://localhost:8080/"
        },
        "id": "p_8UjROq_4LM",
        "outputId": "5fcdbe26-2281-48ec-c726-0d2fae07d62c"
      },
      "outputs": [
        {
          "output_type": "execute_result",
          "data": {
            "text/plain": [
              "type\n",
              "Month-to-month    0.551052\n",
              "Two year          0.239619\n",
              "One year          0.209329\n",
              "Name: proportion, dtype: float64"
            ]
          },
          "metadata": {},
          "execution_count": 34
        }
      ],
      "source": [
        "# Check the distribution\n",
        "df_contract['type'].value_counts(normalize=True)"
      ]
    },
    {
      "cell_type": "code",
      "source": [
        "# Check the distribution\n",
        "df_contract['paperless_billing'].value_counts(normalize=True)"
      ],
      "metadata": {
        "colab": {
          "base_uri": "https://localhost:8080/"
        },
        "id": "FCpYnQxlQWfX",
        "outputId": "f194eaea-0c84-467c-ce9c-7e1fb6b11e34"
      },
      "execution_count": 75,
      "outputs": [
        {
          "output_type": "execute_result",
          "data": {
            "text/plain": [
              "paperless_billing\n",
              "Yes    0.592719\n",
              "No     0.407281\n",
              "Name: proportion, dtype: float64"
            ]
          },
          "metadata": {},
          "execution_count": 75
        }
      ]
    },
    {
      "cell_type": "code",
      "execution_count": 35,
      "metadata": {
        "colab": {
          "base_uri": "https://localhost:8080/"
        },
        "id": "7wYLV91I_4LM",
        "outputId": "073f002c-53d0-42a4-aa99-c890e30e70a1"
      },
      "outputs": [
        {
          "output_type": "execute_result",
          "data": {
            "text/plain": [
              "payment_method\n",
              "Electronic check             0.336320\n",
              "Mailed check                 0.228100\n",
              "Bank transfer (automatic)    0.219283\n",
              "Credit card (automatic)      0.216297\n",
              "Name: proportion, dtype: float64"
            ]
          },
          "metadata": {},
          "execution_count": 35
        }
      ],
      "source": [
        "# Check the distribution\n",
        "df_contract['payment_method'].value_counts(normalize=True)"
      ]
    },
    {
      "cell_type": "markdown",
      "source": [
        "From the data structure and content descriptions you've provided, the Contract Information Data in the dataframe df_contract provides crucial information about the customer contracts for a particular service. Here's a breakdown of the structure and the content, along with potential insights and questions that the data could help answer:\n",
        "\n",
        "**Columns and Data Types**\n",
        "1. customer_id (formerly customerID): This column stores unique identifiers for each customer. Analyzing data by customer_id could help in tracking individual customer behavior and usage patterns.\n",
        "2. begin_date (formerly BeginDate): Converted to datetime, this column represents the start date of the customer's contract. It can be used to calculate customer tenure or analyze cohort-based performance.\n",
        "3. end_date (formerly EndDate): Also converted to datetime, but with errors='coerce' to handle any non-date values. This field indicates when a contract ends, which is critical for understanding churn rate and contract duration. The use of errors='coerce' suggests there might be dirty or non-standard data in this field.\n",
        "4. type (formerly Type): Describes the type of contract (e.g., month-to-month, one year, two years). This information can be pivotal for analyzing customer loyalty and preferences.\n",
        "5. paperless_billing (formerly PaperlessBilling): Indicates whether the customer has opted for paperless billing. It's useful for understanding customer engagement with digital tools and their impact on payment behavior.\n",
        "6. payment_method (formerly PaymentMethod): This could include various forms of payment, such as credit card, electronic check, mailed check, etc. Analyzing this could reveal patterns in payment preferences and potential issues with certain methods.\n",
        "7. monthly_charges (formerly MonthlyCharges): Represents the charge billed to the customer each month. This is crucial for revenue analysis and understanding pricing strategies' effectiveness.\n",
        "8. total_charges (formerly TotalCharges): Seems to require attention as it includes some empty string values (' ') and needs conversion from string to a numeric type for proper analysis. This field indicates the total amount a customer has been billed over the duration of their contract. Understanding total expenditure per customer can help in lifetime value analysis and segmentation.\n",
        "\n",
        "**Data Cleaning and Transformation Needs**\n",
        "  * Handling 'total_charges': As noted, this column contains empty strings and non-numeric data, which need conversion to a numeric type for any meaningful analysis.\n",
        "  * Datetime Conversion: begin_date and end_date have been converted to datetime format, but ensuring all entries are correctly formatted and logical (e.g., begin_date should be earlier than end_date) is necessary."
      ],
      "metadata": {
        "id": "0FZLggUWSmxe"
      }
    },
    {
      "cell_type": "markdown",
      "metadata": {
        "id": "zQTBH2lZ_4LM"
      },
      "source": [
        "### Client Personal Data"
      ]
    },
    {
      "cell_type": "code",
      "execution_count": 36,
      "metadata": {
        "colab": {
          "base_uri": "https://localhost:8080/"
        },
        "id": "e3wXBhB4_4LM",
        "outputId": "af3b9e79-ffa7-4368-f877-b6cb88d67d86"
      },
      "outputs": [
        {
          "output_type": "execute_result",
          "data": {
            "text/plain": [
              "Index(['customerID', 'gender', 'SeniorCitizen', 'Partner', 'Dependents'], dtype='object')"
            ]
          },
          "metadata": {},
          "execution_count": 36
        }
      ],
      "source": [
        "# List containing the column names in the dataframe df.\n",
        "df_personal.columns"
      ]
    },
    {
      "cell_type": "code",
      "execution_count": 37,
      "metadata": {
        "id": "3Cy20NOA_4LM"
      },
      "outputs": [],
      "source": [
        "# Renaming Columns\n",
        "df_personal = df_personal.rename(\n",
        "   columns={\n",
        "        'customerID' : 'customer_id',\n",
        "       'SeniorCitizen' : 'senior_citizen',\n",
        "       'Partner' : 'partner',\n",
        "       'Dependents' : 'dependents'\n",
        "   }\n",
        ")"
      ]
    },
    {
      "cell_type": "code",
      "execution_count": 38,
      "metadata": {
        "colab": {
          "base_uri": "https://localhost:8080/"
        },
        "id": "o7ljUAgq_4LM",
        "outputId": "1c1296e3-2a82-4d68-b1ce-7cdd8255ee8c"
      },
      "outputs": [
        {
          "output_type": "execute_result",
          "data": {
            "text/plain": [
              "Index(['customer_id', 'gender', 'senior_citizen', 'partner', 'dependents'], dtype='object')"
            ]
          },
          "metadata": {},
          "execution_count": 38
        }
      ],
      "source": [
        "# Checking your result: display the list containing the column names again.\n",
        "df_personal.columns"
      ]
    },
    {
      "cell_type": "code",
      "execution_count": 39,
      "metadata": {
        "colab": {
          "base_uri": "https://localhost:8080/"
        },
        "id": "kvfQqVwf_4LM",
        "outputId": "138aea89-924c-4a85-c393-67c17204107e"
      },
      "outputs": [
        {
          "output_type": "execute_result",
          "data": {
            "text/plain": [
              "gender\n",
              "Male      0.504756\n",
              "Female    0.495244\n",
              "Name: proportion, dtype: float64"
            ]
          },
          "metadata": {},
          "execution_count": 39
        }
      ],
      "source": [
        "# Check the distribution\n",
        "df_personal['gender'].value_counts(normalize=True)"
      ]
    },
    {
      "cell_type": "code",
      "source": [
        "# Check the distribution\n",
        "df_personal['senior_citizen'].value_counts(normalize=True)"
      ],
      "metadata": {
        "colab": {
          "base_uri": "https://localhost:8080/"
        },
        "id": "sA802RmWMETX",
        "outputId": "e6775036-6b3b-42d4-c826-ec9cafe9d1bd"
      },
      "execution_count": 72,
      "outputs": [
        {
          "output_type": "execute_result",
          "data": {
            "text/plain": [
              "senior_citizen\n",
              "0    0.837853\n",
              "1    0.162147\n",
              "Name: proportion, dtype: float64"
            ]
          },
          "metadata": {},
          "execution_count": 72
        }
      ]
    },
    {
      "cell_type": "code",
      "source": [
        "# Check the distribution\n",
        "df_personal['partner'].value_counts(normalize=True)"
      ],
      "metadata": {
        "colab": {
          "base_uri": "https://localhost:8080/"
        },
        "id": "kgdK0mRvMKxt",
        "outputId": "a3bfb719-2e92-47b6-c1f3-b3698df30230"
      },
      "execution_count": 73,
      "outputs": [
        {
          "output_type": "execute_result",
          "data": {
            "text/plain": [
              "partner\n",
              "No     0.516967\n",
              "Yes    0.483033\n",
              "Name: proportion, dtype: float64"
            ]
          },
          "metadata": {},
          "execution_count": 73
        }
      ]
    },
    {
      "cell_type": "code",
      "source": [
        "# Check the distribution\n",
        "df_personal['dependents'].value_counts(normalize=True)"
      ],
      "metadata": {
        "colab": {
          "base_uri": "https://localhost:8080/"
        },
        "id": "wja_DIRwMWsL",
        "outputId": "2c5faced-464f-44a0-87e0-e38d652fc811"
      },
      "execution_count": 74,
      "outputs": [
        {
          "output_type": "execute_result",
          "data": {
            "text/plain": [
              "dependents\n",
              "No     0.700412\n",
              "Yes    0.299588\n",
              "Name: proportion, dtype: float64"
            ]
          },
          "metadata": {},
          "execution_count": 74
        }
      ]
    },
    {
      "cell_type": "markdown",
      "source": [
        "In analyzing the personal data of clients contained in the dataframe df_personal, a structured approach was followed to ensure clarity and accuracy in the data presentation and insights extraction. The process began with an examination and subsequent renaming of the columns in the dataframe for better readability and consistency. Here's how it unfolded:\n",
        "\n",
        "**Initial Data Review**\n",
        "\n",
        "The original dataframe, df_personal, consisted of columns labeled 'customerID', 'gender', 'SeniorCitizen', 'Partner', and 'Dependents'. To align with standard naming conventions in data analysis and to enhance code readability:\n",
        "\n",
        "  * 'customerID' was changed to 'customer_id',\n",
        "  * 'SeniorCitizen' to 'senior_citizen',\n",
        "  * 'Partner' remained the same,\n",
        "  * 'Dependents' remained the same.\n",
        "\n",
        "By using the .rename() method, the column names were systematically updated. This small adjustment ensures that all variable names are in lowercase (where applicable) and underscores replace camel casing, which is typical in Python programming for better readability.\n",
        "\n",
        "**Distribution Analysis**\n",
        "\n",
        "With the dataframe now neatly organized, the next step involved analyzing the distribution of various categorical data:\n",
        "\n",
        "1. Gender Distribution:\n",
        "  * The gender column was examined to understand the client base's gender split.\n",
        "  * Results indicated a near-even distribution between male (50.4756%) and female (49.5244%). This balance suggests that any gender-based bias in services or marketing might be minimal, providing a broad and balanced market outreach.\n",
        "2. Senior Citizen Representation:\n",
        "  * The senior_citizen column, which identifies whether a client is a senior citizen, showed that 16.2147% of the clients are senior citizens, whereas 83.7853% are not.\n",
        "  * This skew suggests a predominantly younger client base, which could influence the types of services offered or the marketing strategies employed.\n",
        "3. Partnership Status:\n",
        "  * The distribution of clients having partners was also evaluated.\n",
        "  * 48.3033% of clients reported having a partner, while 51.6967% did not. This nearly even split offers insights into potential market segmentation strategies that could either target singles or couples.\n",
        "4. Dependents:\n",
        "  * Analysis of the dependents column revealed that 29.9588% of the clients have dependents, whereas 70.0412% do not.\n",
        "  * This significant difference indicates a larger segment of the client base without dependents, which could impact the demand for certain services or products, possibly skewing towards individualistic rather than family-oriented offerings.\n",
        "\n",
        "**Conclusions and Insights**\n",
        "\n",
        "From the renaming of columns to detailed distribution checks, the process ensured that the data was both accessible and accurately represented. The insights gained from the distribution analysis reveal a balanced gender distribution, a predominantly younger and single clientele with fewer dependents, each of which could significantly influence business strategies, product development, and marketing campaigns tailored to meet the specific needs and characteristics of the client base. This detailed analysis serves as a foundational step for more targeted investigations and decision-making processes within the organization."
      ],
      "metadata": {
        "id": "h0N5hFhuUpcY"
      }
    },
    {
      "cell_type": "markdown",
      "metadata": {
        "id": "s6auRk6X_4LM"
      },
      "source": [
        "### Internet Data"
      ]
    },
    {
      "cell_type": "code",
      "execution_count": 40,
      "metadata": {
        "colab": {
          "base_uri": "https://localhost:8080/"
        },
        "id": "jOdYE5hN_4LM",
        "outputId": "bd68f4e0-acad-4d87-b274-f723731345de"
      },
      "outputs": [
        {
          "output_type": "execute_result",
          "data": {
            "text/plain": [
              "Index(['customerID', 'InternetService', 'OnlineSecurity', 'OnlineBackup',\n",
              "       'DeviceProtection', 'TechSupport', 'StreamingTV', 'StreamingMovies'],\n",
              "      dtype='object')"
            ]
          },
          "metadata": {},
          "execution_count": 40
        }
      ],
      "source": [
        "# List containing the column names in the dataframe df.\n",
        "df_internet.columns"
      ]
    },
    {
      "cell_type": "code",
      "execution_count": 41,
      "metadata": {
        "id": "jg1TgWeu_4LN"
      },
      "outputs": [],
      "source": [
        "# Renaming Columns\n",
        "df_internet = df_internet.rename(\n",
        "   columns={\n",
        "        'customerID' : 'customer_id',\n",
        "       'InternetService' : 'internet_service',\n",
        "       'OnlineSecurity' : 'online_security',\n",
        "       'OnlineBackup' : 'online_backup',\n",
        "       'DeviceProtection' : 'device_protection',\n",
        "       'TechSupport' : 'tech_support',\n",
        "       'StreamingTV' : 'streaming_tv',\n",
        "       'StreamingMovies' : 'streaming_movies'\n",
        "   }\n",
        ")\n"
      ]
    },
    {
      "cell_type": "code",
      "execution_count": 42,
      "metadata": {
        "colab": {
          "base_uri": "https://localhost:8080/"
        },
        "id": "Q-GcyM5R_4LN",
        "outputId": "cbf893c0-b99b-4b10-e49d-c709228f1100"
      },
      "outputs": [
        {
          "output_type": "execute_result",
          "data": {
            "text/plain": [
              "Index(['customer_id', 'internet_service', 'online_security', 'online_backup',\n",
              "       'device_protection', 'tech_support', 'streaming_tv',\n",
              "       'streaming_movies'],\n",
              "      dtype='object')"
            ]
          },
          "metadata": {},
          "execution_count": 42
        }
      ],
      "source": [
        "# Checking your result: display the list containing the column names again.\n",
        "df_internet.columns"
      ]
    },
    {
      "cell_type": "code",
      "source": [
        "# Check the distribution\n",
        "df_internet['internet_service'].value_counts(normalize=True)"
      ],
      "metadata": {
        "colab": {
          "base_uri": "https://localhost:8080/"
        },
        "id": "99ixEKuEXDGV",
        "outputId": "8a0d3663-f6b7-46ca-b841-2b3630f78a2b"
      },
      "execution_count": 76,
      "outputs": [
        {
          "output_type": "execute_result",
          "data": {
            "text/plain": [
              "internet_service\n",
              "Fiber optic    0.561175\n",
              "DSL            0.438825\n",
              "Name: proportion, dtype: float64"
            ]
          },
          "metadata": {},
          "execution_count": 76
        }
      ]
    },
    {
      "cell_type": "code",
      "source": [
        "# Check the distribution\n",
        "df_internet['online_security'].value_counts(normalize=True)"
      ],
      "metadata": {
        "colab": {
          "base_uri": "https://localhost:8080/"
        },
        "id": "xF_QUb4mXN8i",
        "outputId": "b03b1c3c-f916-4b27-9e71-e8dc71f985fd"
      },
      "execution_count": 77,
      "outputs": [
        {
          "output_type": "execute_result",
          "data": {
            "text/plain": [
              "online_security\n",
              "No     0.63404\n",
              "Yes    0.36596\n",
              "Name: proportion, dtype: float64"
            ]
          },
          "metadata": {},
          "execution_count": 77
        }
      ]
    },
    {
      "cell_type": "code",
      "source": [
        "# Check the distribution\n",
        "df_internet['online_backup'].value_counts(normalize=True)"
      ],
      "metadata": {
        "colab": {
          "base_uri": "https://localhost:8080/"
        },
        "id": "JzF8MBIeXOY6",
        "outputId": "60749ac5-d61b-48a2-a195-fbf99a6f1edf"
      },
      "execution_count": 78,
      "outputs": [
        {
          "output_type": "execute_result",
          "data": {
            "text/plain": [
              "online_backup\n",
              "No     0.559724\n",
              "Yes    0.440276\n",
              "Name: proportion, dtype: float64"
            ]
          },
          "metadata": {},
          "execution_count": 78
        }
      ]
    },
    {
      "cell_type": "code",
      "source": [
        "# Check the distribution\n",
        "df_internet['device_protection'].value_counts(normalize=True)"
      ],
      "metadata": {
        "colab": {
          "base_uri": "https://localhost:8080/"
        },
        "id": "36kiSExSXRjC",
        "outputId": "6c8d3cca-e465-4f1f-a870-92dce47cff91"
      },
      "execution_count": 79,
      "outputs": [
        {
          "output_type": "execute_result",
          "data": {
            "text/plain": [
              "device_protection\n",
              "No     0.560993\n",
              "Yes    0.439007\n",
              "Name: proportion, dtype: float64"
            ]
          },
          "metadata": {},
          "execution_count": 79
        }
      ]
    },
    {
      "cell_type": "code",
      "source": [
        "# Check the distribution\n",
        "df_internet['tech_support'].value_counts(normalize=True)"
      ],
      "metadata": {
        "colab": {
          "base_uri": "https://localhost:8080/"
        },
        "id": "YgRxX4BdXR-p",
        "outputId": "54e0f6b8-836b-44d2-92ca-007b50e67f1e"
      },
      "execution_count": 80,
      "outputs": [
        {
          "output_type": "execute_result",
          "data": {
            "text/plain": [
              "tech_support\n",
              "No     0.629509\n",
              "Yes    0.370491\n",
              "Name: proportion, dtype: float64"
            ]
          },
          "metadata": {},
          "execution_count": 80
        }
      ]
    },
    {
      "cell_type": "code",
      "source": [
        "# Check the distribution\n",
        "df_internet['streaming_tv'].value_counts(normalize=True)"
      ],
      "metadata": {
        "colab": {
          "base_uri": "https://localhost:8080/"
        },
        "id": "1E3JMHtrXSbJ",
        "outputId": "d828a9b7-d821-42c5-fc11-5bcdbf8b1f40"
      },
      "execution_count": 81,
      "outputs": [
        {
          "output_type": "execute_result",
          "data": {
            "text/plain": [
              "streaming_tv\n",
              "No     0.509335\n",
              "Yes    0.490665\n",
              "Name: proportion, dtype: float64"
            ]
          },
          "metadata": {},
          "execution_count": 81
        }
      ]
    },
    {
      "cell_type": "code",
      "source": [
        "# Check the distribution\n",
        "df_internet['streaming_movies'].value_counts(normalize=True)"
      ],
      "metadata": {
        "colab": {
          "base_uri": "https://localhost:8080/"
        },
        "id": "uM855aZtXS1Z",
        "outputId": "bb38cb46-5006-4873-83c5-2a7f2c473bd8"
      },
      "execution_count": 82,
      "outputs": [
        {
          "output_type": "execute_result",
          "data": {
            "text/plain": [
              "streaming_movies\n",
              "No     0.504803\n",
              "Yes    0.495197\n",
              "Name: proportion, dtype: float64"
            ]
          },
          "metadata": {},
          "execution_count": 82
        }
      ]
    },
    {
      "cell_type": "markdown",
      "source": [
        "Certainly! Let's delve into a comprehensive analysis of the internet services data from the dataframe df_internet. The dataset initially contained various columns pertaining to internet service options and features, which were renamed to improve readability and standardize naming conventions. Here’s a detailed breakdown and insights derived from the data:\n",
        "\n",
        "1. Renaming Columns:\n",
        "  * The columns were renamed from more generic to specific and readable names. For instance, customerID was changed to customer_id, and InternetService to internet_service. This renaming aids in better understanding and managing the data, making it straightforward when referring to specific service features in analysis.\n",
        "2. Service Types:\n",
        "  * The internet_service column shows the types of internet services customers subscribe to, with two main categories: Fiber optic and DSL. From the distribution, it’s evident that 56.12% of the customers are using Fiber optic, while 43.88% are using DSL. This indicates a higher preference for Fiber optic, which is generally faster than DSL, suggesting a customer inclination towards higher-speed internet options.\n",
        "3. Security Features:\n",
        "  * The online_security feature shows that 63.404% of customers do not have an online security service, while 36.596% do. This relatively low uptake of online security services could highlight a potential area for service improvement and customer education regarding the benefits of online security.\n",
        "4. Backup Services:\n",
        "  * Regarding online_backup, 55.9724% of the customers don’t use this service, whereas 44.0276% do. This somewhat balanced distribution suggests that a significant number of customers recognize the value of online data backup, though there's still a majority not subscribing to such services.\n",
        "5. Protection Devices:\n",
        "  * For device_protection, 56.0993% do not have this feature, and 43.9007% do. Similar to online backup, the figures indicate a nearly even split, reflecting a moderate concern for protecting devices against potential threats or damages.\n",
        "6. Technical Support:\n",
        "  * The tech_support data reveals that 62.9509% of customers do not subscribe to tech support, whereas 37.0491% do. The lower subscription rate might suggest customer confidence in managing services themselves or a perception of insufficient value in tech support offerings.\n",
        "7. Streaming Services:\n",
        "  * The figures for streaming_tv and streaming_movies are quite similar, with around half of the customers subscribing to these services: 50.9335% don't use streaming TV and 49.0665% do; 50.4803% don't stream movies, whereas 49.5197% do. These nearly balanced figures reflect a considerable engagement with streaming content, aligning with global trends towards digital content consumption.\n",
        "\n",
        "**Conclusion:**\n",
        "\n",
        "The analysis of the df_internet dataset provides valuable insights into consumer preferences and behavior in internet services. Customers show a strong preference for faster internet options (fiber optic) but are less engaged with additional features like online security, backup services, and tech support. This suggests potential areas for business growth and customer service improvement. Conversely, the close distribution in streaming services usage indicates a solid market penetration but also points towards the need for continued innovation and perhaps bundled services to attract the remaining half of the customer base not using these features. The overall data interpretation aids in strategic planning and targeted marketing efforts to enhance service uptake and customer satisfaction."
      ],
      "metadata": {
        "id": "y6B5hDDgYbag"
      }
    },
    {
      "cell_type": "markdown",
      "metadata": {
        "id": "pi_Z1uUO_4LN"
      },
      "source": [
        "### Phone Data"
      ]
    },
    {
      "cell_type": "code",
      "execution_count": 43,
      "metadata": {
        "colab": {
          "base_uri": "https://localhost:8080/"
        },
        "id": "mtG1r7Rg_4LN",
        "outputId": "b1f941bc-0061-4114-8a27-cae2afcbb839"
      },
      "outputs": [
        {
          "output_type": "execute_result",
          "data": {
            "text/plain": [
              "Index(['customerID', 'MultipleLines'], dtype='object')"
            ]
          },
          "metadata": {},
          "execution_count": 43
        }
      ],
      "source": [
        "# List containing the column names in the dataframe df.\n",
        "df_phone.columns"
      ]
    },
    {
      "cell_type": "code",
      "execution_count": 44,
      "metadata": {
        "id": "IED2B7za_4LN"
      },
      "outputs": [],
      "source": [
        "# Renaming Columns\n",
        "df_phone = df_phone.rename(\n",
        "   columns={\n",
        "        'customerID' : 'customer_id',\n",
        "       'MultipleLines' : 'multiple_lines'\n",
        "   }\n",
        ")"
      ]
    },
    {
      "cell_type": "code",
      "execution_count": 45,
      "metadata": {
        "colab": {
          "base_uri": "https://localhost:8080/"
        },
        "id": "zQpNUP98_4LN",
        "outputId": "fb319374-1fa1-499f-de3d-fd60d531091a"
      },
      "outputs": [
        {
          "output_type": "execute_result",
          "data": {
            "text/plain": [
              "Index(['customer_id', 'multiple_lines'], dtype='object')"
            ]
          },
          "metadata": {},
          "execution_count": 45
        }
      ],
      "source": [
        "# Checking your result: display the list containing the column names again.\n",
        "df_phone.columns"
      ]
    },
    {
      "cell_type": "code",
      "execution_count": 46,
      "metadata": {
        "colab": {
          "base_uri": "https://localhost:8080/"
        },
        "id": "L-1_VoDU_4LN",
        "outputId": "1a5d54f2-128b-47b7-e34c-e9e0ea18bfd0"
      },
      "outputs": [
        {
          "output_type": "execute_result",
          "data": {
            "text/plain": [
              "multiple_lines\n",
              "No     0.532935\n",
              "Yes    0.467065\n",
              "Name: proportion, dtype: float64"
            ]
          },
          "metadata": {},
          "execution_count": 46
        }
      ],
      "source": [
        "# Check the distribution\n",
        "df_phone['multiple_lines'].value_counts(normalize=True)"
      ]
    },
    {
      "cell_type": "markdown",
      "source": [
        "The dataset df_phone specifically addresses the phone service aspects of customers, focusing on whether they subscribe to multiple phone lines. Let's explore the process and insights derived from this data:\n",
        "\n",
        "1. Renaming Columns:\n",
        "  * Initially, the dataframe featured generic column names, which were subsequently renamed for clarity and ease of understanding. The column customerID was changed to customer_id and MultipleLines to multiple_lines. This standardization is crucial for consistency across different datasets and facilitates easier data handling and analysis.\n",
        "2. Analysis of Multiple Lines Subscription:\n",
        "  * The multiple_lines column, which indicates whether a customer has subscribed to multiple phone lines, shows a distribution where 53.2935% of customers do not have multiple lines and 46.7065% do. This data suggests a relatively balanced preference among customers concerning their phone line subscriptions.\n",
        "\n",
        "**Conclusion:**\n",
        "\n",
        "The analysis of the df_phone data provides a clear view of customer preferences regarding phone line subscriptions within the serviced demographic. The balanced distribution between single and multiple line subscriptions highlights both a challenge and an opportunity for service providers to innovate and tailor their offerings to meet diverse customer needs effectively. By focusing on customer segmentation and tailored marketing, telecom companies can enhance their service uptake and customer satisfaction, potentially increasing their market share in a competitive environment."
      ],
      "metadata": {
        "id": "17M0L8Ngc_ET"
      }
    },
    {
      "cell_type": "markdown",
      "source": [
        "### Merge datasets into a single dataframe for analysis"
      ],
      "metadata": {
        "id": "FDrDlaDAV2D2"
      }
    },
    {
      "cell_type": "code",
      "execution_count": 47,
      "metadata": {
        "id": "7YXkiZ1H_4LN"
      },
      "outputs": [],
      "source": [
        "df_merge = pd.merge(df_contract, df_personal, on='customer_id', how='left')\n",
        "df_merge = pd.merge(df_merge, df_internet, on='customer_id', how='left')\n",
        "df_merge = pd.merge(df_merge, df_phone, on='customer_id', how='left')"
      ]
    },
    {
      "cell_type": "code",
      "execution_count": 48,
      "metadata": {
        "colab": {
          "base_uri": "https://localhost:8080/",
          "height": 365
        },
        "id": "Ko5v-m72_4LN",
        "outputId": "4431e739-bcea-478e-eaf4-1e7229812650"
      },
      "outputs": [
        {
          "output_type": "execute_result",
          "data": {
            "text/plain": [
              "  customer_id begin_date   end_date            type paperless_billing  \\\n",
              "0  7590-VHVEG 2020-01-01        NaT  Month-to-month               Yes   \n",
              "1  5575-GNVDE 2017-04-01        NaT        One year                No   \n",
              "2  3668-QPYBK 2019-10-01 2019-12-01  Month-to-month               Yes   \n",
              "3  7795-CFOCW 2016-05-01        NaT        One year                No   \n",
              "4  9237-HQITU 2019-09-01 2019-11-01  Month-to-month               Yes   \n",
              "\n",
              "              payment_method  monthly_charges  total_charges  gender  \\\n",
              "0           Electronic check            29.85          29.85  Female   \n",
              "1               Mailed check            56.95        1889.50    Male   \n",
              "2               Mailed check            53.85         108.15    Male   \n",
              "3  Bank transfer (automatic)            42.30        1840.75    Male   \n",
              "4           Electronic check            70.70         151.65  Female   \n",
              "\n",
              "   senior_citizen partner dependents internet_service online_security  \\\n",
              "0               0     Yes         No              DSL              No   \n",
              "1               0      No         No              DSL             Yes   \n",
              "2               0      No         No              DSL             Yes   \n",
              "3               0      No         No              DSL             Yes   \n",
              "4               0      No         No      Fiber optic              No   \n",
              "\n",
              "  online_backup device_protection tech_support streaming_tv streaming_movies  \\\n",
              "0           Yes                No           No           No               No   \n",
              "1            No               Yes           No           No               No   \n",
              "2           Yes                No           No           No               No   \n",
              "3            No               Yes          Yes           No               No   \n",
              "4            No                No           No           No               No   \n",
              "\n",
              "  multiple_lines  \n",
              "0            NaN  \n",
              "1             No  \n",
              "2             No  \n",
              "3            NaN  \n",
              "4             No  "
            ],
            "text/html": [
              "\n",
              "  <div id=\"df-12d9b6ab-4562-4af4-8622-bc3f5e8ca4e4\" class=\"colab-df-container\">\n",
              "    <div>\n",
              "<style scoped>\n",
              "    .dataframe tbody tr th:only-of-type {\n",
              "        vertical-align: middle;\n",
              "    }\n",
              "\n",
              "    .dataframe tbody tr th {\n",
              "        vertical-align: top;\n",
              "    }\n",
              "\n",
              "    .dataframe thead th {\n",
              "        text-align: right;\n",
              "    }\n",
              "</style>\n",
              "<table border=\"1\" class=\"dataframe\">\n",
              "  <thead>\n",
              "    <tr style=\"text-align: right;\">\n",
              "      <th></th>\n",
              "      <th>customer_id</th>\n",
              "      <th>begin_date</th>\n",
              "      <th>end_date</th>\n",
              "      <th>type</th>\n",
              "      <th>paperless_billing</th>\n",
              "      <th>payment_method</th>\n",
              "      <th>monthly_charges</th>\n",
              "      <th>total_charges</th>\n",
              "      <th>gender</th>\n",
              "      <th>senior_citizen</th>\n",
              "      <th>partner</th>\n",
              "      <th>dependents</th>\n",
              "      <th>internet_service</th>\n",
              "      <th>online_security</th>\n",
              "      <th>online_backup</th>\n",
              "      <th>device_protection</th>\n",
              "      <th>tech_support</th>\n",
              "      <th>streaming_tv</th>\n",
              "      <th>streaming_movies</th>\n",
              "      <th>multiple_lines</th>\n",
              "    </tr>\n",
              "  </thead>\n",
              "  <tbody>\n",
              "    <tr>\n",
              "      <th>0</th>\n",
              "      <td>7590-VHVEG</td>\n",
              "      <td>2020-01-01</td>\n",
              "      <td>NaT</td>\n",
              "      <td>Month-to-month</td>\n",
              "      <td>Yes</td>\n",
              "      <td>Electronic check</td>\n",
              "      <td>29.85</td>\n",
              "      <td>29.85</td>\n",
              "      <td>Female</td>\n",
              "      <td>0</td>\n",
              "      <td>Yes</td>\n",
              "      <td>No</td>\n",
              "      <td>DSL</td>\n",
              "      <td>No</td>\n",
              "      <td>Yes</td>\n",
              "      <td>No</td>\n",
              "      <td>No</td>\n",
              "      <td>No</td>\n",
              "      <td>No</td>\n",
              "      <td>NaN</td>\n",
              "    </tr>\n",
              "    <tr>\n",
              "      <th>1</th>\n",
              "      <td>5575-GNVDE</td>\n",
              "      <td>2017-04-01</td>\n",
              "      <td>NaT</td>\n",
              "      <td>One year</td>\n",
              "      <td>No</td>\n",
              "      <td>Mailed check</td>\n",
              "      <td>56.95</td>\n",
              "      <td>1889.50</td>\n",
              "      <td>Male</td>\n",
              "      <td>0</td>\n",
              "      <td>No</td>\n",
              "      <td>No</td>\n",
              "      <td>DSL</td>\n",
              "      <td>Yes</td>\n",
              "      <td>No</td>\n",
              "      <td>Yes</td>\n",
              "      <td>No</td>\n",
              "      <td>No</td>\n",
              "      <td>No</td>\n",
              "      <td>No</td>\n",
              "    </tr>\n",
              "    <tr>\n",
              "      <th>2</th>\n",
              "      <td>3668-QPYBK</td>\n",
              "      <td>2019-10-01</td>\n",
              "      <td>2019-12-01</td>\n",
              "      <td>Month-to-month</td>\n",
              "      <td>Yes</td>\n",
              "      <td>Mailed check</td>\n",
              "      <td>53.85</td>\n",
              "      <td>108.15</td>\n",
              "      <td>Male</td>\n",
              "      <td>0</td>\n",
              "      <td>No</td>\n",
              "      <td>No</td>\n",
              "      <td>DSL</td>\n",
              "      <td>Yes</td>\n",
              "      <td>Yes</td>\n",
              "      <td>No</td>\n",
              "      <td>No</td>\n",
              "      <td>No</td>\n",
              "      <td>No</td>\n",
              "      <td>No</td>\n",
              "    </tr>\n",
              "    <tr>\n",
              "      <th>3</th>\n",
              "      <td>7795-CFOCW</td>\n",
              "      <td>2016-05-01</td>\n",
              "      <td>NaT</td>\n",
              "      <td>One year</td>\n",
              "      <td>No</td>\n",
              "      <td>Bank transfer (automatic)</td>\n",
              "      <td>42.30</td>\n",
              "      <td>1840.75</td>\n",
              "      <td>Male</td>\n",
              "      <td>0</td>\n",
              "      <td>No</td>\n",
              "      <td>No</td>\n",
              "      <td>DSL</td>\n",
              "      <td>Yes</td>\n",
              "      <td>No</td>\n",
              "      <td>Yes</td>\n",
              "      <td>Yes</td>\n",
              "      <td>No</td>\n",
              "      <td>No</td>\n",
              "      <td>NaN</td>\n",
              "    </tr>\n",
              "    <tr>\n",
              "      <th>4</th>\n",
              "      <td>9237-HQITU</td>\n",
              "      <td>2019-09-01</td>\n",
              "      <td>2019-11-01</td>\n",
              "      <td>Month-to-month</td>\n",
              "      <td>Yes</td>\n",
              "      <td>Electronic check</td>\n",
              "      <td>70.70</td>\n",
              "      <td>151.65</td>\n",
              "      <td>Female</td>\n",
              "      <td>0</td>\n",
              "      <td>No</td>\n",
              "      <td>No</td>\n",
              "      <td>Fiber optic</td>\n",
              "      <td>No</td>\n",
              "      <td>No</td>\n",
              "      <td>No</td>\n",
              "      <td>No</td>\n",
              "      <td>No</td>\n",
              "      <td>No</td>\n",
              "      <td>No</td>\n",
              "    </tr>\n",
              "  </tbody>\n",
              "</table>\n",
              "</div>\n",
              "    <div class=\"colab-df-buttons\">\n",
              "\n",
              "  <div class=\"colab-df-container\">\n",
              "    <button class=\"colab-df-convert\" onclick=\"convertToInteractive('df-12d9b6ab-4562-4af4-8622-bc3f5e8ca4e4')\"\n",
              "            title=\"Convert this dataframe to an interactive table.\"\n",
              "            style=\"display:none;\">\n",
              "\n",
              "  <svg xmlns=\"http://www.w3.org/2000/svg\" height=\"24px\" viewBox=\"0 -960 960 960\">\n",
              "    <path d=\"M120-120v-720h720v720H120Zm60-500h600v-160H180v160Zm220 220h160v-160H400v160Zm0 220h160v-160H400v160ZM180-400h160v-160H180v160Zm440 0h160v-160H620v160ZM180-180h160v-160H180v160Zm440 0h160v-160H620v160Z\"/>\n",
              "  </svg>\n",
              "    </button>\n",
              "\n",
              "  <style>\n",
              "    .colab-df-container {\n",
              "      display:flex;\n",
              "      gap: 12px;\n",
              "    }\n",
              "\n",
              "    .colab-df-convert {\n",
              "      background-color: #E8F0FE;\n",
              "      border: none;\n",
              "      border-radius: 50%;\n",
              "      cursor: pointer;\n",
              "      display: none;\n",
              "      fill: #1967D2;\n",
              "      height: 32px;\n",
              "      padding: 0 0 0 0;\n",
              "      width: 32px;\n",
              "    }\n",
              "\n",
              "    .colab-df-convert:hover {\n",
              "      background-color: #E2EBFA;\n",
              "      box-shadow: 0px 1px 2px rgba(60, 64, 67, 0.3), 0px 1px 3px 1px rgba(60, 64, 67, 0.15);\n",
              "      fill: #174EA6;\n",
              "    }\n",
              "\n",
              "    .colab-df-buttons div {\n",
              "      margin-bottom: 4px;\n",
              "    }\n",
              "\n",
              "    [theme=dark] .colab-df-convert {\n",
              "      background-color: #3B4455;\n",
              "      fill: #D2E3FC;\n",
              "    }\n",
              "\n",
              "    [theme=dark] .colab-df-convert:hover {\n",
              "      background-color: #434B5C;\n",
              "      box-shadow: 0px 1px 3px 1px rgba(0, 0, 0, 0.15);\n",
              "      filter: drop-shadow(0px 1px 2px rgba(0, 0, 0, 0.3));\n",
              "      fill: #FFFFFF;\n",
              "    }\n",
              "  </style>\n",
              "\n",
              "    <script>\n",
              "      const buttonEl =\n",
              "        document.querySelector('#df-12d9b6ab-4562-4af4-8622-bc3f5e8ca4e4 button.colab-df-convert');\n",
              "      buttonEl.style.display =\n",
              "        google.colab.kernel.accessAllowed ? 'block' : 'none';\n",
              "\n",
              "      async function convertToInteractive(key) {\n",
              "        const element = document.querySelector('#df-12d9b6ab-4562-4af4-8622-bc3f5e8ca4e4');\n",
              "        const dataTable =\n",
              "          await google.colab.kernel.invokeFunction('convertToInteractive',\n",
              "                                                    [key], {});\n",
              "        if (!dataTable) return;\n",
              "\n",
              "        const docLinkHtml = 'Like what you see? Visit the ' +\n",
              "          '<a target=\"_blank\" href=https://colab.research.google.com/notebooks/data_table.ipynb>data table notebook</a>'\n",
              "          + ' to learn more about interactive tables.';\n",
              "        element.innerHTML = '';\n",
              "        dataTable['output_type'] = 'display_data';\n",
              "        await google.colab.output.renderOutput(dataTable, element);\n",
              "        const docLink = document.createElement('div');\n",
              "        docLink.innerHTML = docLinkHtml;\n",
              "        element.appendChild(docLink);\n",
              "      }\n",
              "    </script>\n",
              "  </div>\n",
              "\n",
              "\n",
              "<div id=\"df-051bbae6-83d8-4706-afb7-e3f1ff6363ac\">\n",
              "  <button class=\"colab-df-quickchart\" onclick=\"quickchart('df-051bbae6-83d8-4706-afb7-e3f1ff6363ac')\"\n",
              "            title=\"Suggest charts\"\n",
              "            style=\"display:none;\">\n",
              "\n",
              "<svg xmlns=\"http://www.w3.org/2000/svg\" height=\"24px\"viewBox=\"0 0 24 24\"\n",
              "     width=\"24px\">\n",
              "    <g>\n",
              "        <path d=\"M19 3H5c-1.1 0-2 .9-2 2v14c0 1.1.9 2 2 2h14c1.1 0 2-.9 2-2V5c0-1.1-.9-2-2-2zM9 17H7v-7h2v7zm4 0h-2V7h2v10zm4 0h-2v-4h2v4z\"/>\n",
              "    </g>\n",
              "</svg>\n",
              "  </button>\n",
              "\n",
              "<style>\n",
              "  .colab-df-quickchart {\n",
              "      --bg-color: #E8F0FE;\n",
              "      --fill-color: #1967D2;\n",
              "      --hover-bg-color: #E2EBFA;\n",
              "      --hover-fill-color: #174EA6;\n",
              "      --disabled-fill-color: #AAA;\n",
              "      --disabled-bg-color: #DDD;\n",
              "  }\n",
              "\n",
              "  [theme=dark] .colab-df-quickchart {\n",
              "      --bg-color: #3B4455;\n",
              "      --fill-color: #D2E3FC;\n",
              "      --hover-bg-color: #434B5C;\n",
              "      --hover-fill-color: #FFFFFF;\n",
              "      --disabled-bg-color: #3B4455;\n",
              "      --disabled-fill-color: #666;\n",
              "  }\n",
              "\n",
              "  .colab-df-quickchart {\n",
              "    background-color: var(--bg-color);\n",
              "    border: none;\n",
              "    border-radius: 50%;\n",
              "    cursor: pointer;\n",
              "    display: none;\n",
              "    fill: var(--fill-color);\n",
              "    height: 32px;\n",
              "    padding: 0;\n",
              "    width: 32px;\n",
              "  }\n",
              "\n",
              "  .colab-df-quickchart:hover {\n",
              "    background-color: var(--hover-bg-color);\n",
              "    box-shadow: 0 1px 2px rgba(60, 64, 67, 0.3), 0 1px 3px 1px rgba(60, 64, 67, 0.15);\n",
              "    fill: var(--button-hover-fill-color);\n",
              "  }\n",
              "\n",
              "  .colab-df-quickchart-complete:disabled,\n",
              "  .colab-df-quickchart-complete:disabled:hover {\n",
              "    background-color: var(--disabled-bg-color);\n",
              "    fill: var(--disabled-fill-color);\n",
              "    box-shadow: none;\n",
              "  }\n",
              "\n",
              "  .colab-df-spinner {\n",
              "    border: 2px solid var(--fill-color);\n",
              "    border-color: transparent;\n",
              "    border-bottom-color: var(--fill-color);\n",
              "    animation:\n",
              "      spin 1s steps(1) infinite;\n",
              "  }\n",
              "\n",
              "  @keyframes spin {\n",
              "    0% {\n",
              "      border-color: transparent;\n",
              "      border-bottom-color: var(--fill-color);\n",
              "      border-left-color: var(--fill-color);\n",
              "    }\n",
              "    20% {\n",
              "      border-color: transparent;\n",
              "      border-left-color: var(--fill-color);\n",
              "      border-top-color: var(--fill-color);\n",
              "    }\n",
              "    30% {\n",
              "      border-color: transparent;\n",
              "      border-left-color: var(--fill-color);\n",
              "      border-top-color: var(--fill-color);\n",
              "      border-right-color: var(--fill-color);\n",
              "    }\n",
              "    40% {\n",
              "      border-color: transparent;\n",
              "      border-right-color: var(--fill-color);\n",
              "      border-top-color: var(--fill-color);\n",
              "    }\n",
              "    60% {\n",
              "      border-color: transparent;\n",
              "      border-right-color: var(--fill-color);\n",
              "    }\n",
              "    80% {\n",
              "      border-color: transparent;\n",
              "      border-right-color: var(--fill-color);\n",
              "      border-bottom-color: var(--fill-color);\n",
              "    }\n",
              "    90% {\n",
              "      border-color: transparent;\n",
              "      border-bottom-color: var(--fill-color);\n",
              "    }\n",
              "  }\n",
              "</style>\n",
              "\n",
              "  <script>\n",
              "    async function quickchart(key) {\n",
              "      const quickchartButtonEl =\n",
              "        document.querySelector('#' + key + ' button');\n",
              "      quickchartButtonEl.disabled = true;  // To prevent multiple clicks.\n",
              "      quickchartButtonEl.classList.add('colab-df-spinner');\n",
              "      try {\n",
              "        const charts = await google.colab.kernel.invokeFunction(\n",
              "            'suggestCharts', [key], {});\n",
              "      } catch (error) {\n",
              "        console.error('Error during call to suggestCharts:', error);\n",
              "      }\n",
              "      quickchartButtonEl.classList.remove('colab-df-spinner');\n",
              "      quickchartButtonEl.classList.add('colab-df-quickchart-complete');\n",
              "    }\n",
              "    (() => {\n",
              "      let quickchartButtonEl =\n",
              "        document.querySelector('#df-051bbae6-83d8-4706-afb7-e3f1ff6363ac button');\n",
              "      quickchartButtonEl.style.display =\n",
              "        google.colab.kernel.accessAllowed ? 'block' : 'none';\n",
              "    })();\n",
              "  </script>\n",
              "</div>\n",
              "    </div>\n",
              "  </div>\n"
            ],
            "application/vnd.google.colaboratory.intrinsic+json": {
              "type": "dataframe",
              "variable_name": "df_merge",
              "summary": "{\n  \"name\": \"df_merge\",\n  \"rows\": 7032,\n  \"fields\": [\n    {\n      \"column\": \"customer_id\",\n      \"properties\": {\n        \"dtype\": \"string\",\n        \"num_unique_values\": 7032,\n        \"samples\": [\n          \"6614-YWYSC\",\n          \"9546-KDTRB\",\n          \"0871-URUWO\"\n        ],\n        \"semantic_type\": \"\",\n        \"description\": \"\"\n      }\n    },\n    {\n      \"column\": \"begin_date\",\n      \"properties\": {\n        \"dtype\": \"date\",\n        \"min\": \"2013-10-01 00:00:00\",\n        \"max\": \"2020-01-01 00:00:00\",\n        \"num_unique_values\": 76,\n        \"samples\": [\n          \"2019-09-01 00:00:00\",\n          \"2016-07-01 00:00:00\",\n          \"2019-01-01 00:00:00\"\n        ],\n        \"semantic_type\": \"\",\n        \"description\": \"\"\n      }\n    },\n    {\n      \"column\": \"end_date\",\n      \"properties\": {\n        \"dtype\": \"date\",\n        \"min\": \"2019-10-01 00:00:00\",\n        \"max\": \"2020-01-01 00:00:00\",\n        \"num_unique_values\": 4,\n        \"samples\": [\n          \"2019-11-01 00:00:00\",\n          \"2020-01-01 00:00:00\",\n          \"2019-12-01 00:00:00\"\n        ],\n        \"semantic_type\": \"\",\n        \"description\": \"\"\n      }\n    },\n    {\n      \"column\": \"type\",\n      \"properties\": {\n        \"dtype\": \"category\",\n        \"num_unique_values\": 3,\n        \"samples\": [\n          \"Month-to-month\",\n          \"One year\",\n          \"Two year\"\n        ],\n        \"semantic_type\": \"\",\n        \"description\": \"\"\n      }\n    },\n    {\n      \"column\": \"paperless_billing\",\n      \"properties\": {\n        \"dtype\": \"category\",\n        \"num_unique_values\": 2,\n        \"samples\": [\n          \"No\",\n          \"Yes\"\n        ],\n        \"semantic_type\": \"\",\n        \"description\": \"\"\n      }\n    },\n    {\n      \"column\": \"payment_method\",\n      \"properties\": {\n        \"dtype\": \"category\",\n        \"num_unique_values\": 4,\n        \"samples\": [\n          \"Mailed check\",\n          \"Credit card (automatic)\"\n        ],\n        \"semantic_type\": \"\",\n        \"description\": \"\"\n      }\n    },\n    {\n      \"column\": \"monthly_charges\",\n      \"properties\": {\n        \"dtype\": \"number\",\n        \"std\": 30.085973884049842,\n        \"min\": 18.25,\n        \"max\": 118.75,\n        \"num_unique_values\": 1584,\n        \"samples\": [\n          102.85,\n          20.05\n        ],\n        \"semantic_type\": \"\",\n        \"description\": \"\"\n      }\n    },\n    {\n      \"column\": \"total_charges\",\n      \"properties\": {\n        \"dtype\": \"number\",\n        \"std\": 2266.771361883145,\n        \"min\": 18.8,\n        \"max\": 8684.8,\n        \"num_unique_values\": 6530,\n        \"samples\": [\n          5594.0,\n          6840.95\n        ],\n        \"semantic_type\": \"\",\n        \"description\": \"\"\n      }\n    },\n    {\n      \"column\": \"gender\",\n      \"properties\": {\n        \"dtype\": \"category\",\n        \"num_unique_values\": 2,\n        \"samples\": [\n          \"Male\",\n          \"Female\"\n        ],\n        \"semantic_type\": \"\",\n        \"description\": \"\"\n      }\n    },\n    {\n      \"column\": \"senior_citizen\",\n      \"properties\": {\n        \"dtype\": \"number\",\n        \"std\": 0,\n        \"min\": 0,\n        \"max\": 1,\n        \"num_unique_values\": 2,\n        \"samples\": [\n          1,\n          0\n        ],\n        \"semantic_type\": \"\",\n        \"description\": \"\"\n      }\n    },\n    {\n      \"column\": \"partner\",\n      \"properties\": {\n        \"dtype\": \"category\",\n        \"num_unique_values\": 2,\n        \"samples\": [\n          \"No\",\n          \"Yes\"\n        ],\n        \"semantic_type\": \"\",\n        \"description\": \"\"\n      }\n    },\n    {\n      \"column\": \"dependents\",\n      \"properties\": {\n        \"dtype\": \"category\",\n        \"num_unique_values\": 2,\n        \"samples\": [\n          \"Yes\",\n          \"No\"\n        ],\n        \"semantic_type\": \"\",\n        \"description\": \"\"\n      }\n    },\n    {\n      \"column\": \"internet_service\",\n      \"properties\": {\n        \"dtype\": \"category\",\n        \"num_unique_values\": 2,\n        \"samples\": [\n          \"Fiber optic\",\n          \"DSL\"\n        ],\n        \"semantic_type\": \"\",\n        \"description\": \"\"\n      }\n    },\n    {\n      \"column\": \"online_security\",\n      \"properties\": {\n        \"dtype\": \"category\",\n        \"num_unique_values\": 2,\n        \"samples\": [\n          \"Yes\",\n          \"No\"\n        ],\n        \"semantic_type\": \"\",\n        \"description\": \"\"\n      }\n    },\n    {\n      \"column\": \"online_backup\",\n      \"properties\": {\n        \"dtype\": \"category\",\n        \"num_unique_values\": 2,\n        \"samples\": [\n          \"No\",\n          \"Yes\"\n        ],\n        \"semantic_type\": \"\",\n        \"description\": \"\"\n      }\n    },\n    {\n      \"column\": \"device_protection\",\n      \"properties\": {\n        \"dtype\": \"category\",\n        \"num_unique_values\": 2,\n        \"samples\": [\n          \"Yes\",\n          \"No\"\n        ],\n        \"semantic_type\": \"\",\n        \"description\": \"\"\n      }\n    },\n    {\n      \"column\": \"tech_support\",\n      \"properties\": {\n        \"dtype\": \"category\",\n        \"num_unique_values\": 2,\n        \"samples\": [\n          \"Yes\",\n          \"No\"\n        ],\n        \"semantic_type\": \"\",\n        \"description\": \"\"\n      }\n    },\n    {\n      \"column\": \"streaming_tv\",\n      \"properties\": {\n        \"dtype\": \"category\",\n        \"num_unique_values\": 2,\n        \"samples\": [\n          \"Yes\",\n          \"No\"\n        ],\n        \"semantic_type\": \"\",\n        \"description\": \"\"\n      }\n    },\n    {\n      \"column\": \"streaming_movies\",\n      \"properties\": {\n        \"dtype\": \"category\",\n        \"num_unique_values\": 2,\n        \"samples\": [\n          \"Yes\",\n          \"No\"\n        ],\n        \"semantic_type\": \"\",\n        \"description\": \"\"\n      }\n    },\n    {\n      \"column\": \"multiple_lines\",\n      \"properties\": {\n        \"dtype\": \"category\",\n        \"num_unique_values\": 2,\n        \"samples\": [\n          \"Yes\",\n          \"No\"\n        ],\n        \"semantic_type\": \"\",\n        \"description\": \"\"\n      }\n    }\n  ]\n}"
            }
          },
          "metadata": {},
          "execution_count": 48
        }
      ],
      "source": [
        "df_merge.head()"
      ]
    },
    {
      "cell_type": "markdown",
      "metadata": {
        "id": "vC6DUxDZ_4LN"
      },
      "source": [
        "# Stage 2: Exploratory Data Analysis (EDA)"
      ]
    },
    {
      "cell_type": "markdown",
      "metadata": {
        "id": "6gF_qFC1_4LN"
      },
      "source": [
        "## Compares the distribution of monthly payments (MonthlyCharges) of all active clients with clients who have left."
      ]
    },
    {
      "cell_type": "code",
      "execution_count": 83,
      "metadata": {
        "id": "ZCP-eWQy_4LO"
      },
      "outputs": [],
      "source": [
        "# Separating data between active clients and churned clients\n",
        "active_clients = df_merge[df_merge['end_date'].isna()]\n",
        "churned_clients = df_merge[~df_merge['end_date'].isna()]"
      ]
    },
    {
      "cell_type": "code",
      "execution_count": 84,
      "metadata": {
        "colab": {
          "base_uri": "https://localhost:8080/",
          "height": 564
        },
        "id": "DNVe83Ze_4LO",
        "outputId": "42a93398-8bc1-47e0-f85a-2d155e47d0d1"
      },
      "outputs": [
        {
          "output_type": "display_data",
          "data": {
            "text/plain": [
              "<Figure size 1000x600 with 1 Axes>"
            ],
            "image/png": "[encoded data removed]"
          },
          "metadata": {}
        }
      ],
      "source": [
        "# Visualizing the distribution of monthly charges for active clients and churned clients\n",
        "plt.figure(figsize=(10, 6))\n",
        "plt.hist(active_clients['monthly_charges'], bins=30, color='skyblue', alpha=0.7, label='Active Clients')\n",
        "plt.hist(churned_clients['monthly_charges'], bins=30, color='lightcoral', alpha=0.7, label='Churned Clients')\n",
        "plt.title('Distribution of Monthly Charges for Customers')\n",
        "plt.xlabel('Monthly Charges ($)')\n",
        "plt.ylabel('Frequency')\n",
        "plt.legend()\n",
        "plt.grid(True)\n",
        "plt.show()"
      ]
    },
    {
      "cell_type": "code",
      "execution_count": 87,
      "metadata": {
        "colab": {
          "base_uri": "https://localhost:8080/"
        },
        "id": "do395S1Z_4LO",
        "outputId": "f8e5eb14-0363-403d-91f3-6f96c3640b77"
      },
      "outputs": [
        {
          "output_type": "stream",
          "name": "stdout",
          "text": [
            "Statistics of Monthly Charges for Active Clients:\n",
            "count    5163.000000\n",
            "mean       61.307408\n",
            "std        31.094557\n",
            "min        18.250000\n",
            "25%        25.100000\n",
            "50%        64.450000\n",
            "75%        88.475000\n",
            "max       118.750000\n",
            "Name: monthly_charges, dtype: float64\n",
            "\n",
            "Statistics of Monthly Charges for Churned Clients:\n",
            "count    1869.000000\n",
            "mean       74.441332\n",
            "std        24.666053\n",
            "min        18.850000\n",
            "25%        56.150000\n",
            "50%        79.650000\n",
            "75%        94.200000\n",
            "max       118.350000\n",
            "Name: monthly_charges, dtype: float64\n"
          ]
        }
      ],
      "source": [
        "# Calculating statistics for active clients\n",
        "active_clients_statistics = active_clients['monthly_charges'].describe()\n",
        "\n",
        "# Calculating statistics for churned clients\n",
        "churned_clients_statistics = churned_clients['monthly_charges'].describe()\n",
        "\n",
        "print(\"Statistics of Monthly Charges for Active Clients:\")\n",
        "print(active_clients_statistics)\n",
        "print(\"\\nStatistics of Monthly Charges for Churned Clients:\")\n",
        "print(churned_clients_statistics)\n"
      ]
    },
    {
      "cell_type": "markdown",
      "metadata": {
        "id": "3OhqiUF5_4LO"
      },
      "source": [
        "The analysis compared the distribution of monthly charges (MonthlyCharges) between active clients and churned clients. Here's a breakdown of the process and insights gained:\n",
        "1. Data Separation:\n",
        "  * The data was divided into two groups: active clients and churned clients, based on the presence or absence of an end date in the dataset. This separation allowed for a focused comparison between the two groups.\n",
        "2. Visualizing Distribution:\n",
        "  * A histogram was created to visualize the distribution of monthly charges for both active and churned clients. The histogram displayed the frequency of different monthly charge ranges, providing a clear comparison between the two groups.\n",
        "3. Statistical Analysis:\n",
        "  * Descriptive statistics were calculated for both active and churned clients. This included measures such as count, mean, standard deviation, minimum, 25th percentile (Q1), median (50th percentile or Q2), 75th percentile (Q3), and maximum.\n",
        "\n",
        "**Insights:**\n",
        "* Mean Monthly Charges:\n",
        "  * Active Clients: The mean monthly charge for active clients is \\$61.31, with a standard deviation of \\$31.09. The charges range from \\$18.25 to \\$118.75.\n",
        "  * Churned Clients: In contrast, the mean monthly charge for churned clients is higher at \\$74.44, with a lower standard deviation of \\$24.67. The charges range from \\$18.85 to \\$118.35.\n",
        "* Distribution Differences:\n",
        "  * Active clients generally have a wider distribution of monthly charges compared to churned clients. This suggests that active clients are more varied in their spending on telecom services.\n",
        "  * Churned clients exhibit a narrower distribution, indicating a more uniform range of monthly charges among clients who have left the service.\n",
        "* Mean Discrepancy:\n",
        "  * The higher mean monthly charge for churned clients suggests that customers who eventually churn tend to have higher monthly expenses. This could imply dissatisfaction with the value they receive relative to the cost, prompting them to seek alternatives or discontinue the service.\n",
        "\n",
        "**Conclusion:**\n",
        "\n",
        "The analysis highlights a notable difference in the distribution and mean monthly charges between active and churned clients. Understanding these differences can aid telecom companies in identifying potential churn risks and developing strategies to mitigate customer attrition. For instance, offering tailored packages, addressing customer pain points, and enhancing service quality may help retain high-value customers and reduce churn rates."
      ]
    },
    {
      "cell_type": "markdown",
      "metadata": {
        "id": "jew4u8s2_4LO"
      },
      "source": [
        "## Comparing the client behavior of telephone users and Internet users"
      ]
    },
    {
      "cell_type": "code",
      "execution_count": 88,
      "metadata": {
        "id": "-7Gzy5gC_4LO"
      },
      "outputs": [],
      "source": [
        "# Separating telephone and internet customers\n",
        "telephone_customers = df_merge[df_merge['internet_service'].isin(['DSL', 'No'])]\n",
        "internet_customers = df_merge[df_merge['internet_service'] == 'Fiber optic']"
      ]
    },
    {
      "cell_type": "code",
      "execution_count": 89,
      "metadata": {
        "id": "UocrmgQ0_4LO"
      },
      "outputs": [],
      "source": [
        "# Calculating the number of customers with additional services for each group\n",
        "additional_services_telephone = telephone_customers[['online_security', 'online_backup', 'device_protection', 'tech_support', 'streaming_tv', 'streaming_movies', 'multiple_lines']].count().sum()\n",
        "additional_services_internet = internet_customers[['online_security', 'online_backup', 'device_protection', 'tech_support', 'streaming_tv', 'streaming_movies', 'multiple_lines']].count().sum()\n"
      ]
    },
    {
      "cell_type": "code",
      "execution_count": 90,
      "metadata": {
        "colab": {
          "base_uri": "https://localhost:8080/"
        },
        "id": "cIzSry-s_4LO",
        "outputId": "ee99459a-06b7-4769-dab2-92ab099e9ca5"
      },
      "outputs": [
        {
          "output_type": "stream",
          "name": "stdout",
          "text": [
            "Number of telephone customers with additional services: 16232\n",
            "Number of internet customers with additional services: 21672\n"
          ]
        }
      ],
      "source": [
        "# Displaying the results\n",
        "print(\"Number of telephone customers with additional services:\", additional_services_telephone)\n",
        "print(\"Number of internet customers with additional services:\", additional_services_internet)"
      ]
    },
    {
      "cell_type": "markdown",
      "metadata": {
        "id": "ja8okYU6_4LO"
      },
      "source": [
        "The analysis compared the behavior of telephone users and internet users by examining the number of customers with additional services in each group. Here's a breakdown of the process and insights gained:\n",
        "\n",
        "1. Data Separation:\n",
        "  * The data was divided into two groups: telephone customers and internet customers. Telephone customers included those with DSL or no internet service, while internet customers specifically had fiber optic internet service. This categorization allowed for a focused comparison between the two types of users.\n",
        "2. Counting Additional Services:\n",
        "  * For each group, the number of customers with additional services was calculated. Additional services considered included online security, online backup, device protection, tech support, streaming TV, streaming movies, and multiple lines.\n",
        "3. Insights:\n",
        "  * Internet Customers: There are 21,672 internet customers with additional services. These users likely leverage a range of digital services and are more inclined to invest in supplementary features to enhance their online experience.\n",
        "  * Telephone Customers: In comparison, there are 16,232 telephone customers with additional services. While this number is lower than internet customers, it still indicates a substantial portion of telephone users who opt for supplementary services.\n",
        "  * Differences in Behavior: The higher number of internet customers with additional services suggests a greater inclination towards adopting digital amenities. These users may value features like online security and streaming services, which are more prevalent in the realm of internet services.\n",
        "  * Potential Implications: Telecom companies could tailor their service offerings and marketing strategies based on these behavioral differences. For instance, they may emphasize digital perks for internet packages and highlight the reliability and simplicity of telephone services for those who prefer traditional communication methods.\n",
        "\n",
        "**Conclusion:**\n",
        "\n",
        "The analysis underscores the differing behavior and preferences between telephone and internet users regarding additional services. Understanding these distinctions can inform strategic decisions for service providers, enabling them to cater to the diverse needs and preferences of their customer base effectively. By offering tailored services and experiences, telecom companies can enhance customer satisfaction and retention rates in both segments."
      ]
    },
    {
      "cell_type": "markdown",
      "metadata": {
        "id": "_KsZ7803_4LO"
      },
      "source": [
        "## Churn Rate Analysis\n",
        "\n",
        "Conduct further analysis of churn rate (the rate of customers leaving) to understand the factors that might influence a customer's decision to unsubscribe. This can involve segmenting customers based on characteristics such as service type, payment method, and monthly cost."
      ]
    },
    {
      "cell_type": "code",
      "execution_count": 91,
      "metadata": {
        "id": "e4IDX7F1_4LP"
      },
      "outputs": [],
      "source": [
        "# Filtering data for churned clients\n",
        "churned_data = df_merge[df_merge['end_date'].notnull()]"
      ]
    },
    {
      "cell_type": "code",
      "execution_count": 92,
      "metadata": {
        "colab": {
          "base_uri": "https://localhost:8080/"
        },
        "id": "5bmCo0oV_4LP",
        "outputId": "108b926e-70a5-424c-a36d-ff983cff5906"
      },
      "outputs": [
        {
          "output_type": "execute_result",
          "data": {
            "text/plain": [
              "type\n",
              "Month-to-month    1655\n",
              "One year           166\n",
              "Two year            48\n",
              "Name: count, dtype: int64"
            ]
          },
          "metadata": {},
          "execution_count": 92
        }
      ],
      "source": [
        "# Calculating the number of churned customers based on service type\n",
        "service_type_churn = churned_data['type'].value_counts()\n",
        "service_type_churn"
      ]
    },
    {
      "cell_type": "code",
      "execution_count": 93,
      "metadata": {
        "colab": {
          "base_uri": "https://localhost:8080/",
          "height": 564
        },
        "id": "Xio016Tq_4LP",
        "outputId": "ea0b2085-0de3-4deb-8d1b-62a84b2ac85d"
      },
      "outputs": [
        {
          "output_type": "display_data",
          "data": {
            "text/plain": [
              "<Figure size 1000x600 with 1 Axes>"
            ],
            "image/png": "[encoded data removed]"
          },
          "metadata": {}
        }
      ],
      "source": [
        "# Viewing the churn rate distribution based on service type\n",
        "plt.figure(figsize=(10, 6))\n",
        "sns.countplot(x='type', data=churned_data)\n",
        "plt.title('Churn Rate Distribution Based on Service Type')\n",
        "plt.xlabel('Service Type')\n",
        "plt.ylabel('Number of Churned Customers')\n",
        "plt.show()\n"
      ]
    },
    {
      "cell_type": "code",
      "execution_count": 94,
      "metadata": {
        "colab": {
          "base_uri": "https://localhost:8080/"
        },
        "id": "8e5KY2Sw_4LP",
        "outputId": "dcfe6cfb-40c9-497a-a981-b4eef168414b"
      },
      "outputs": [
        {
          "output_type": "execute_result",
          "data": {
            "text/plain": [
              "payment_method\n",
              "Electronic check             1071\n",
              "Mailed check                  308\n",
              "Bank transfer (automatic)     258\n",
              "Credit card (automatic)       232\n",
              "Name: count, dtype: int64"
            ]
          },
          "metadata": {},
          "execution_count": 94
        }
      ],
      "source": [
        "# Calculating the number of churned customers based on payment method\n",
        "payment_method_churn = churned_data['payment_method'].value_counts()\n",
        "payment_method_churn\n"
      ]
    },
    {
      "cell_type": "code",
      "execution_count": 95,
      "metadata": {
        "colab": {
          "base_uri": "https://localhost:8080/",
          "height": 687
        },
        "id": "FMhuJfMQ_4LP",
        "outputId": "f9c87f38-3f3f-4422-8010-cb2f171a4a0d"
      },
      "outputs": [
        {
          "output_type": "display_data",
          "data": {
            "text/plain": [
              "<Figure size 1000x600 with 1 Axes>"
            ],
            "image/png": "[encoded data removed]"
          },
          "metadata": {}
        }
      ],
      "source": [
        "# Viewing the churn rate distribution based on payment method\n",
        "plt.figure(figsize=(10, 6))\n",
        "sns.countplot(x='payment_method', data=churned_data)\n",
        "plt.title('Churn Rate Distribution Based on Payment Method')\n",
        "plt.xlabel('Payment Method')\n",
        "plt.ylabel('Number of Churned Customers')\n",
        "plt.xticks(rotation=45)\n",
        "plt.show()\n"
      ]
    },
    {
      "cell_type": "code",
      "execution_count": 96,
      "metadata": {
        "colab": {
          "base_uri": "https://localhost:8080/"
        },
        "id": "mJazJ-wA_4LP",
        "outputId": "b7e1d983-b679-4b90-f8b6-ec018183702e"
      },
      "outputs": [
        {
          "output_type": "execute_result",
          "data": {
            "text/plain": [
              "monthly_charges\n",
              "18.85     1\n",
              "18.95     1\n",
              "19.00     1\n",
              "19.10     1\n",
              "19.25     3\n",
              "         ..\n",
              "115.65    1\n",
              "116.20    1\n",
              "117.45    1\n",
              "117.80    1\n",
              "118.35    1\n",
              "Name: count, Length: 910, dtype: int64"
            ]
          },
          "metadata": {},
          "execution_count": 96
        }
      ],
      "source": [
        "# Calculating the number of churned customers based on monthly charges\n",
        "monthly_charges_churn = churned_data['monthly_charges'].value_counts().sort_index()\n",
        "monthly_charges_churn\n"
      ]
    },
    {
      "cell_type": "code",
      "execution_count": 97,
      "metadata": {
        "colab": {
          "base_uri": "https://localhost:8080/",
          "height": 564
        },
        "id": "kOgAOAXS_4LP",
        "outputId": "47784c8b-4c3d-431a-a33c-9990bcf2f600"
      },
      "outputs": [
        {
          "output_type": "display_data",
          "data": {
            "text/plain": [
              "<Figure size 1000x600 with 1 Axes>"
            ],
            "image/png": "[encoded data removed]"
          },
          "metadata": {}
        }
      ],
      "source": [
        "# Viewing the churn rate distribution based on monthly charges\n",
        "plt.figure(figsize=(10, 6))\n",
        "sns.histplot(data=churned_data, x='monthly_charges', bins=20, kde=True)\n",
        "plt.title('Churn Rate Distribution Based on Monthly Charges')\n",
        "plt.xlabel('Monthly Charges')\n",
        "plt.ylabel('Number of Churned Customers')\n",
        "plt.show()\n"
      ]
    },
    {
      "cell_type": "markdown",
      "metadata": {
        "id": "x-ysmMfZ_4LP"
      },
      "source": [
        "The churn rate analysis delves deeper into understanding the factors influencing customers' decisions to unsubscribe from the service. Here's a detailed breakdown of the process and insights gained:\n",
        "\n",
        "1. Data Filtering:\n",
        "  * Churned clients were isolated from the dataset based on the presence of an end date, indicating the termination of service.\n",
        "2. Churn Analysis by Service Type:\n",
        "  * The churn analysis was conducted based on service type, revealing that the majority of churned customers were on month-to-month contracts, with 1,655 customers leaving. Comparatively, fewer customers on one-year and two-year contracts churned, with 166 and 48 customers respectively.\n",
        "  * Insight: Customers on month-to-month contracts appear to be more susceptible to churn, possibly due to the flexibility of these contracts, allowing customers to easily switch providers.\n",
        "3. Churn Analysis by Payment Method:\n",
        "  * The churn rate was analyzed based on payment methods utilized by customers. Electronic check payment method had the highest churn rate, with 1,071 customers leaving, followed by mailed check (308), bank transfer (automatic) (258), and credit card (automatic) (232).\n",
        "  * Insight: Customers using electronic check as their payment method exhibited a higher propensity to churn. This could be attributed to various factors such as payment processing issues, lack of convenience, or dissatisfaction with service.\n",
        "4. Churn Analysis by Monthly Charges:\n",
        "  * Churn rate distribution was examined concerning monthly charges, showcasing the distribution of churned customers across different price points.\n",
        "  * Insight: The churn rate distribution based on monthly charges appears to be relatively uniform, with no clear trend indicating that customers at specific price points are more likely to churn. This suggests that factors other than just monthly charges might influence customer decisions to unsubscribe.\n",
        "\n",
        "**Conclusion:**\n",
        "  * The analysis reveals that customers on month-to-month contracts and those using electronic check as their payment method exhibit higher churn rates.\n",
        "  * However, the churn rate does not exhibit a clear pattern concerning monthly charges alone.\n",
        "  * To mitigate churn, telecom companies could consider offering incentives for customers to opt for longer-term contracts, improving payment processing experiences for electronic check users, and implementing targeted retention strategies based on individual customer needs and preferences.\n",
        "  * By understanding the underlying factors contributing to churn, telecom companies can develop proactive retention strategies to enhance customer loyalty and reduce churn rates effectively."
      ]
    },
    {
      "cell_type": "markdown",
      "metadata": {
        "id": "WimaxTct_4LP"
      },
      "source": [
        "## Relationship Analysis\n",
        "\n",
        "Analyze whether there is a relationship between the quit date and other variables such as payment type, service type, or whether the customer has a partner or not."
      ]
    },
    {
      "cell_type": "code",
      "execution_count": 98,
      "metadata": {
        "colab": {
          "base_uri": "https://localhost:8080/"
        },
        "id": "L3tC5-1Z_4LP",
        "outputId": "5f6eb541-bbcc-4bf1-f1e4-80e74683a172"
      },
      "outputs": [
        {
          "output_type": "stream",
          "name": "stdout",
          "text": [
            "Relationship between end date and payment method:\n",
            "payment_method\n",
            "Bank transfer (automatic)     258\n",
            "Credit card (automatic)       232\n",
            "Electronic check             1071\n",
            "Mailed check                  308\n",
            "Name: end_date, dtype: int64\n",
            "\n",
            "Relationship between end date and service type:\n",
            "internet_service\n",
            "DSL             459\n",
            "Fiber optic    1297\n",
            "Name: end_date, dtype: int64\n",
            "\n",
            "Relationship between end date and partner status:\n",
            "partner\n",
            "No     1200\n",
            "Yes     669\n",
            "Name: end_date, dtype: int64\n"
          ]
        }
      ],
      "source": [
        "# Analyzing the relationship between end date and payment method\n",
        "payment_relationship = churned_data.groupby('payment_method')['end_date'].count()\n",
        "print(\"Relationship between end date and payment method:\")\n",
        "print(payment_relationship)\n",
        "\n",
        "# Analyzing the relationship between end date and service type\n",
        "service_relationship = churned_data.groupby('internet_service')['end_date'].count()\n",
        "print(\"\\nRelationship between end date and service type:\")\n",
        "print(service_relationship)\n",
        "\n",
        "# Analyzing the relationship between end date and partner status\n",
        "partner_relationship = churned_data.groupby('partner')['end_date'].count()\n",
        "print(\"\\nRelationship between end date and partner status:\")\n",
        "print(partner_relationship)\n"
      ]
    },
    {
      "cell_type": "markdown",
      "metadata": {
        "id": "Jy6WU2mu_4LQ"
      },
      "source": [
        "The analysis explored the relationship between the quit date (end date) and various customer attributes such as payment method, service type, and partner status:\n",
        "\n",
        "1. Relationship between End Date and Payment Method:\n",
        "  * The analysis revealed that the highest number of churned customers were using electronic check as their payment method, with 1,071 customers leaving. This was followed by customers using mailed check (308), bank transfer (automatic) (258), and credit card (automatic) (232).\n",
        "  * Insight: There appears to be a notable relationship between the payment method chosen by customers and their decision to unsubscribe. Customers using electronic check as their payment method exhibited a significantly higher churn rate compared to other payment methods. This could indicate potential issues with electronic check payments or dissatisfaction with the service among these customers.\n",
        "2. Relationship between End Date and Service Type:\n",
        "  * The analysis indicated that the majority of churned customers were subscribed to fiber optic internet service, with 1,297 customers leaving. DSL customers exhibited a lower churn rate, with 459 customers terminating their service.\n",
        "  * Insight: There seems to be a correlation between the type of internet service subscribed to by customers and their likelihood of churning. Customers with fiber optic internet service displayed a higher propensity to churn compared to DSL customers. This could imply that factors such as service quality, pricing, or overall satisfaction might differ between the two types of internet service.\n",
        "3. Relationship between End Date and Partner Status:\n",
        "  * The analysis categorized churned customers based on whether they had a partner or not. It revealed that a higher number of single customers (1,200) churned compared to customers with partners (669).\n",
        "  * Insight: There seems to be a relationship between customers' partner status and their decision to unsubscribe. Single customers exhibited a higher churn rate compared to customers with partners. This could indicate that customers with partners might have more stable or long-term relationships with the service provider, leading to lower churn rates.\n",
        "\n",
        "**Conclusion:**\n",
        "  * The analysis highlights the importance of considering various customer attributes when examining churn behavior.\n",
        "  * Factors such as payment method, service type, and partner status appear to influence customers' decisions to unsubscribe.\n",
        "  * Telecom companies can leverage these insights to tailor retention strategies, such as improving payment processing for electronic check users, addressing issues specific to fiber optic service, and implementing targeted offers or incentives for single customers to reduce churn rates effectively."
      ]
    },
    {
      "cell_type": "markdown",
      "metadata": {
        "id": "3JTdTRrt_4LQ"
      },
      "source": [
        "## Customer Segmentation\n",
        "\n",
        "Identify customer segments that are likely to discontinue using the service by looking at their demographic characteristics and behavior."
      ]
    },
    {
      "cell_type": "code",
      "execution_count": 99,
      "metadata": {
        "colab": {
          "base_uri": "https://localhost:8080/"
        },
        "id": "JUBFgMnd_4LQ",
        "outputId": "7eefd41d-6dbe-475a-f1fb-7e0762bcc34a"
      },
      "outputs": [
        {
          "output_type": "stream",
          "name": "stdout",
          "text": [
            "Segmentation of Customers Likely to Churn:\n",
            "    gender  senior_citizen partner dependents  churned_customer_count\n",
            "0   Female               0      No         No                     429\n",
            "1   Female               0      No        Yes                      32\n",
            "2   Female               0     Yes         No                     114\n",
            "3   Female               0     Yes        Yes                     124\n",
            "4   Female               1      No         No                     158\n",
            "5   Female               1      No        Yes                       1\n",
            "6   Female               1     Yes         No                      73\n",
            "7   Female               1     Yes        Yes                       8\n",
            "8     Male               0      No         No                     418\n",
            "9     Male               0      No        Yes                      43\n",
            "10    Male               0     Yes         No                     128\n",
            "11    Male               0     Yes        Yes                     105\n",
            "12    Male               1      No         No                     118\n",
            "13    Male               1      No        Yes                       1\n",
            "14    Male               1     Yes         No                     105\n",
            "15    Male               1     Yes        Yes                      12\n"
          ]
        }
      ],
      "source": [
        "# Performing customer segmentation based on demographic characteristics and behavior\n",
        "customer_segmentation = churned_data.groupby(['gender', 'senior_citizen', 'partner', 'dependents']).size().reset_index(name='churned_customer_count')\n",
        "\n",
        "# Displaying customer segmentation\n",
        "print(\"Segmentation of Customers Likely to Churn:\")\n",
        "print(customer_segmentation)\n"
      ]
    },
    {
      "cell_type": "markdown",
      "metadata": {
        "id": "idPdy4bN_4LQ"
      },
      "source": [
        "The customer segmentation analysis aimed to identify segments of customers likely to discontinue using the service based on their demographic characteristics and behavior. Here's a summary of the findings:\n",
        "\n",
        "* Segmentation Based on Gender, Seniority, Partner, and Dependents:\n",
        "  * The analysis segmented churned customers into various groups based on their gender, senior citizen status, partner status, and dependency status.\n",
        "  * Across different demographic categories, there were variations in the number of churned customers. For example:\n",
        "    * Among females who were not senior citizens and had no partner or dependents, there were 429 churned customers.\n",
        "    * Among males who were not senior citizens and had no partner or dependents, there were 418 churned customers.\n",
        "    * Other segments also exhibited varying counts of churned customers based on different combinations of demographic characteristics.\n",
        "\n",
        "**Insight:**\n",
        "  * The segmentation analysis provides insights into which demographic segments are more prone to churn.\n",
        "  * For instance, segments comprising individuals without partners or dependents, regardless of gender, showed higher counts of churned customers.\n",
        "  * Additionally, the analysis suggests that senior citizens, particularly those without partners or dependents, exhibited higher churn rates compared to non-senior citizens.\n",
        "\n",
        "**Conclusion:**\n",
        "  * Understanding the demographic characteristics and behavior of churned customers can aid in the development of targeted retention strategies.\n",
        "  * Telecom companies can utilize this segmentation to tailor their marketing efforts, customer service initiatives, and promotional offers to address the specific needs and concerns of different customer segments.\n",
        "  * By focusing on segments with a higher likelihood of churning, companies can implement proactive measures to improve customer satisfaction, enhance loyalty, and ultimately reduce churn rates."
      ]
    },
    {
      "cell_type": "markdown",
      "metadata": {
        "id": "yaHhvpBV_4LQ"
      },
      "source": [
        "# Stage 3: Feature Preparation"
      ]
    },
    {
      "cell_type": "code",
      "execution_count": 100,
      "metadata": {
        "colab": {
          "base_uri": "https://localhost:8080/",
          "height": 365
        },
        "id": "eNeT94e4_4LQ",
        "outputId": "3d0e3316-f8f7-4677-8560-c044357538e8"
      },
      "outputs": [
        {
          "output_type": "execute_result",
          "data": {
            "text/plain": [
              "    end_date            type paperless_billing             payment_method  \\\n",
              "0        NaT  Month-to-month               Yes           Electronic check   \n",
              "1        NaT        One year                No               Mailed check   \n",
              "2 2019-12-01  Month-to-month               Yes               Mailed check   \n",
              "3        NaT        One year                No  Bank transfer (automatic)   \n",
              "4 2019-11-01  Month-to-month               Yes           Electronic check   \n",
              "\n",
              "   monthly_charges  total_charges  gender  senior_citizen partner dependents  \\\n",
              "0            29.85          29.85  Female               0     Yes         No   \n",
              "1            56.95        1889.50    Male               0      No         No   \n",
              "2            53.85         108.15    Male               0      No         No   \n",
              "3            42.30        1840.75    Male               0      No         No   \n",
              "4            70.70         151.65  Female               0      No         No   \n",
              "\n",
              "  internet_service online_security online_backup device_protection  \\\n",
              "0              DSL              No           Yes                No   \n",
              "1              DSL             Yes            No               Yes   \n",
              "2              DSL             Yes           Yes                No   \n",
              "3              DSL             Yes            No               Yes   \n",
              "4      Fiber optic              No            No                No   \n",
              "\n",
              "  tech_support streaming_tv streaming_movies multiple_lines  \n",
              "0           No           No               No            NaN  \n",
              "1           No           No               No             No  \n",
              "2           No           No               No             No  \n",
              "3          Yes           No               No            NaN  \n",
              "4           No           No               No             No  "
            ],
            "text/html": [
              "\n",
              "  <div id=\"df-ea6c80ff-2ebc-446a-b6a9-5694ab3fc24e\" class=\"colab-df-container\">\n",
              "    <div>\n",
              "<style scoped>\n",
              "    .dataframe tbody tr th:only-of-type {\n",
              "        vertical-align: middle;\n",
              "    }\n",
              "\n",
              "    .dataframe tbody tr th {\n",
              "        vertical-align: top;\n",
              "    }\n",
              "\n",
              "    .dataframe thead th {\n",
              "        text-align: right;\n",
              "    }\n",
              "</style>\n",
              "<table border=\"1\" class=\"dataframe\">\n",
              "  <thead>\n",
              "    <tr style=\"text-align: right;\">\n",
              "      <th></th>\n",
              "      <th>end_date</th>\n",
              "      <th>type</th>\n",
              "      <th>paperless_billing</th>\n",
              "      <th>payment_method</th>\n",
              "      <th>monthly_charges</th>\n",
              "      <th>total_charges</th>\n",
              "      <th>gender</th>\n",
              "      <th>senior_citizen</th>\n",
              "      <th>partner</th>\n",
              "      <th>dependents</th>\n",
              "      <th>internet_service</th>\n",
              "      <th>online_security</th>\n",
              "      <th>online_backup</th>\n",
              "      <th>device_protection</th>\n",
              "      <th>tech_support</th>\n",
              "      <th>streaming_tv</th>\n",
              "      <th>streaming_movies</th>\n",
              "      <th>multiple_lines</th>\n",
              "    </tr>\n",
              "  </thead>\n",
              "  <tbody>\n",
              "    <tr>\n",
              "      <th>0</th>\n",
              "      <td>NaT</td>\n",
              "      <td>Month-to-month</td>\n",
              "      <td>Yes</td>\n",
              "      <td>Electronic check</td>\n",
              "      <td>29.85</td>\n",
              "      <td>29.85</td>\n",
              "      <td>Female</td>\n",
              "      <td>0</td>\n",
              "      <td>Yes</td>\n",
              "      <td>No</td>\n",
              "      <td>DSL</td>\n",
              "      <td>No</td>\n",
              "      <td>Yes</td>\n",
              "      <td>No</td>\n",
              "      <td>No</td>\n",
              "      <td>No</td>\n",
              "      <td>No</td>\n",
              "      <td>NaN</td>\n",
              "    </tr>\n",
              "    <tr>\n",
              "      <th>1</th>\n",
              "      <td>NaT</td>\n",
              "      <td>One year</td>\n",
              "      <td>No</td>\n",
              "      <td>Mailed check</td>\n",
              "      <td>56.95</td>\n",
              "      <td>1889.50</td>\n",
              "      <td>Male</td>\n",
              "      <td>0</td>\n",
              "      <td>No</td>\n",
              "      <td>No</td>\n",
              "      <td>DSL</td>\n",
              "      <td>Yes</td>\n",
              "      <td>No</td>\n",
              "      <td>Yes</td>\n",
              "      <td>No</td>\n",
              "      <td>No</td>\n",
              "      <td>No</td>\n",
              "      <td>No</td>\n",
              "    </tr>\n",
              "    <tr>\n",
              "      <th>2</th>\n",
              "      <td>2019-12-01</td>\n",
              "      <td>Month-to-month</td>\n",
              "      <td>Yes</td>\n",
              "      <td>Mailed check</td>\n",
              "      <td>53.85</td>\n",
              "      <td>108.15</td>\n",
              "      <td>Male</td>\n",
              "      <td>0</td>\n",
              "      <td>No</td>\n",
              "      <td>No</td>\n",
              "      <td>DSL</td>\n",
              "      <td>Yes</td>\n",
              "      <td>Yes</td>\n",
              "      <td>No</td>\n",
              "      <td>No</td>\n",
              "      <td>No</td>\n",
              "      <td>No</td>\n",
              "      <td>No</td>\n",
              "    </tr>\n",
              "    <tr>\n",
              "      <th>3</th>\n",
              "      <td>NaT</td>\n",
              "      <td>One year</td>\n",
              "      <td>No</td>\n",
              "      <td>Bank transfer (automatic)</td>\n",
              "      <td>42.30</td>\n",
              "      <td>1840.75</td>\n",
              "      <td>Male</td>\n",
              "      <td>0</td>\n",
              "      <td>No</td>\n",
              "      <td>No</td>\n",
              "      <td>DSL</td>\n",
              "      <td>Yes</td>\n",
              "      <td>No</td>\n",
              "      <td>Yes</td>\n",
              "      <td>Yes</td>\n",
              "      <td>No</td>\n",
              "      <td>No</td>\n",
              "      <td>NaN</td>\n",
              "    </tr>\n",
              "    <tr>\n",
              "      <th>4</th>\n",
              "      <td>2019-11-01</td>\n",
              "      <td>Month-to-month</td>\n",
              "      <td>Yes</td>\n",
              "      <td>Electronic check</td>\n",
              "      <td>70.70</td>\n",
              "      <td>151.65</td>\n",
              "      <td>Female</td>\n",
              "      <td>0</td>\n",
              "      <td>No</td>\n",
              "      <td>No</td>\n",
              "      <td>Fiber optic</td>\n",
              "      <td>No</td>\n",
              "      <td>No</td>\n",
              "      <td>No</td>\n",
              "      <td>No</td>\n",
              "      <td>No</td>\n",
              "      <td>No</td>\n",
              "      <td>No</td>\n",
              "    </tr>\n",
              "  </tbody>\n",
              "</table>\n",
              "</div>\n",
              "    <div class=\"colab-df-buttons\">\n",
              "\n",
              "  <div class=\"colab-df-container\">\n",
              "    <button class=\"colab-df-convert\" onclick=\"convertToInteractive('df-ea6c80ff-2ebc-446a-b6a9-5694ab3fc24e')\"\n",
              "            title=\"Convert this dataframe to an interactive table.\"\n",
              "            style=\"display:none;\">\n",
              "\n",
              "  <svg xmlns=\"http://www.w3.org/2000/svg\" height=\"24px\" viewBox=\"0 -960 960 960\">\n",
              "    <path d=\"M120-120v-720h720v720H120Zm60-500h600v-160H180v160Zm220 220h160v-160H400v160Zm0 220h160v-160H400v160ZM180-400h160v-160H180v160Zm440 0h160v-160H620v160ZM180-180h160v-160H180v160Zm440 0h160v-160H620v160Z\"/>\n",
              "  </svg>\n",
              "    </button>\n",
              "\n",
              "  <style>\n",
              "    .colab-df-container {\n",
              "      display:flex;\n",
              "      gap: 12px;\n",
              "    }\n",
              "\n",
              "    .colab-df-convert {\n",
              "      background-color: #E8F0FE;\n",
              "      border: none;\n",
              "      border-radius: 50%;\n",
              "      cursor: pointer;\n",
              "      display: none;\n",
              "      fill: #1967D2;\n",
              "      height: 32px;\n",
              "      padding: 0 0 0 0;\n",
              "      width: 32px;\n",
              "    }\n",
              "\n",
              "    .colab-df-convert:hover {\n",
              "      background-color: #E2EBFA;\n",
              "      box-shadow: 0px 1px 2px rgba(60, 64, 67, 0.3), 0px 1px 3px 1px rgba(60, 64, 67, 0.15);\n",
              "      fill: #174EA6;\n",
              "    }\n",
              "\n",
              "    .colab-df-buttons div {\n",
              "      margin-bottom: 4px;\n",
              "    }\n",
              "\n",
              "    [theme=dark] .colab-df-convert {\n",
              "      background-color: #3B4455;\n",
              "      fill: #D2E3FC;\n",
              "    }\n",
              "\n",
              "    [theme=dark] .colab-df-convert:hover {\n",
              "      background-color: #434B5C;\n",
              "      box-shadow: 0px 1px 3px 1px rgba(0, 0, 0, 0.15);\n",
              "      filter: drop-shadow(0px 1px 2px rgba(0, 0, 0, 0.3));\n",
              "      fill: #FFFFFF;\n",
              "    }\n",
              "  </style>\n",
              "\n",
              "    <script>\n",
              "      const buttonEl =\n",
              "        document.querySelector('#df-ea6c80ff-2ebc-446a-b6a9-5694ab3fc24e button.colab-df-convert');\n",
              "      buttonEl.style.display =\n",
              "        google.colab.kernel.accessAllowed ? 'block' : 'none';\n",
              "\n",
              "      async function convertToInteractive(key) {\n",
              "        const element = document.querySelector('#df-ea6c80ff-2ebc-446a-b6a9-5694ab3fc24e');\n",
              "        const dataTable =\n",
              "          await google.colab.kernel.invokeFunction('convertToInteractive',\n",
              "                                                    [key], {});\n",
              "        if (!dataTable) return;\n",
              "\n",
              "        const docLinkHtml = 'Like what you see? Visit the ' +\n",
              "          '<a target=\"_blank\" href=https://colab.research.google.com/notebooks/data_table.ipynb>data table notebook</a>'\n",
              "          + ' to learn more about interactive tables.';\n",
              "        element.innerHTML = '';\n",
              "        dataTable['output_type'] = 'display_data';\n",
              "        await google.colab.output.renderOutput(dataTable, element);\n",
              "        const docLink = document.createElement('div');\n",
              "        docLink.innerHTML = docLinkHtml;\n",
              "        element.appendChild(docLink);\n",
              "      }\n",
              "    </script>\n",
              "  </div>\n",
              "\n",
              "\n",
              "<div id=\"df-436eeafd-b0e6-4be9-bd64-a495ed1eab50\">\n",
              "  <button class=\"colab-df-quickchart\" onclick=\"quickchart('df-436eeafd-b0e6-4be9-bd64-a495ed1eab50')\"\n",
              "            title=\"Suggest charts\"\n",
              "            style=\"display:none;\">\n",
              "\n",
              "<svg xmlns=\"http://www.w3.org/2000/svg\" height=\"24px\"viewBox=\"0 0 24 24\"\n",
              "     width=\"24px\">\n",
              "    <g>\n",
              "        <path d=\"M19 3H5c-1.1 0-2 .9-2 2v14c0 1.1.9 2 2 2h14c1.1 0 2-.9 2-2V5c0-1.1-.9-2-2-2zM9 17H7v-7h2v7zm4 0h-2V7h2v10zm4 0h-2v-4h2v4z\"/>\n",
              "    </g>\n",
              "</svg>\n",
              "  </button>\n",
              "\n",
              "<style>\n",
              "  .colab-df-quickchart {\n",
              "      --bg-color: #E8F0FE;\n",
              "      --fill-color: #1967D2;\n",
              "      --hover-bg-color: #E2EBFA;\n",
              "      --hover-fill-color: #174EA6;\n",
              "      --disabled-fill-color: #AAA;\n",
              "      --disabled-bg-color: #DDD;\n",
              "  }\n",
              "\n",
              "  [theme=dark] .colab-df-quickchart {\n",
              "      --bg-color: #3B4455;\n",
              "      --fill-color: #D2E3FC;\n",
              "      --hover-bg-color: #434B5C;\n",
              "      --hover-fill-color: #FFFFFF;\n",
              "      --disabled-bg-color: #3B4455;\n",
              "      --disabled-fill-color: #666;\n",
              "  }\n",
              "\n",
              "  .colab-df-quickchart {\n",
              "    background-color: var(--bg-color);\n",
              "    border: none;\n",
              "    border-radius: 50%;\n",
              "    cursor: pointer;\n",
              "    display: none;\n",
              "    fill: var(--fill-color);\n",
              "    height: 32px;\n",
              "    padding: 0;\n",
              "    width: 32px;\n",
              "  }\n",
              "\n",
              "  .colab-df-quickchart:hover {\n",
              "    background-color: var(--hover-bg-color);\n",
              "    box-shadow: 0 1px 2px rgba(60, 64, 67, 0.3), 0 1px 3px 1px rgba(60, 64, 67, 0.15);\n",
              "    fill: var(--button-hover-fill-color);\n",
              "  }\n",
              "\n",
              "  .colab-df-quickchart-complete:disabled,\n",
              "  .colab-df-quickchart-complete:disabled:hover {\n",
              "    background-color: var(--disabled-bg-color);\n",
              "    fill: var(--disabled-fill-color);\n",
              "    box-shadow: none;\n",
              "  }\n",
              "\n",
              "  .colab-df-spinner {\n",
              "    border: 2px solid var(--fill-color);\n",
              "    border-color: transparent;\n",
              "    border-bottom-color: var(--fill-color);\n",
              "    animation:\n",
              "      spin 1s steps(1) infinite;\n",
              "  }\n",
              "\n",
              "  @keyframes spin {\n",
              "    0% {\n",
              "      border-color: transparent;\n",
              "      border-bottom-color: var(--fill-color);\n",
              "      border-left-color: var(--fill-color);\n",
              "    }\n",
              "    20% {\n",
              "      border-color: transparent;\n",
              "      border-left-color: var(--fill-color);\n",
              "      border-top-color: var(--fill-color);\n",
              "    }\n",
              "    30% {\n",
              "      border-color: transparent;\n",
              "      border-left-color: var(--fill-color);\n",
              "      border-top-color: var(--fill-color);\n",
              "      border-right-color: var(--fill-color);\n",
              "    }\n",
              "    40% {\n",
              "      border-color: transparent;\n",
              "      border-right-color: var(--fill-color);\n",
              "      border-top-color: var(--fill-color);\n",
              "    }\n",
              "    60% {\n",
              "      border-color: transparent;\n",
              "      border-right-color: var(--fill-color);\n",
              "    }\n",
              "    80% {\n",
              "      border-color: transparent;\n",
              "      border-right-color: var(--fill-color);\n",
              "      border-bottom-color: var(--fill-color);\n",
              "    }\n",
              "    90% {\n",
              "      border-color: transparent;\n",
              "      border-bottom-color: var(--fill-color);\n",
              "    }\n",
              "  }\n",
              "</style>\n",
              "\n",
              "  <script>\n",
              "    async function quickchart(key) {\n",
              "      const quickchartButtonEl =\n",
              "        document.querySelector('#' + key + ' button');\n",
              "      quickchartButtonEl.disabled = true;  // To prevent multiple clicks.\n",
              "      quickchartButtonEl.classList.add('colab-df-spinner');\n",
              "      try {\n",
              "        const charts = await google.colab.kernel.invokeFunction(\n",
              "            'suggestCharts', [key], {});\n",
              "      } catch (error) {\n",
              "        console.error('Error during call to suggestCharts:', error);\n",
              "      }\n",
              "      quickchartButtonEl.classList.remove('colab-df-spinner');\n",
              "      quickchartButtonEl.classList.add('colab-df-quickchart-complete');\n",
              "    }\n",
              "    (() => {\n",
              "      let quickchartButtonEl =\n",
              "        document.querySelector('#df-436eeafd-b0e6-4be9-bd64-a495ed1eab50 button');\n",
              "      quickchartButtonEl.style.display =\n",
              "        google.colab.kernel.accessAllowed ? 'block' : 'none';\n",
              "    })();\n",
              "  </script>\n",
              "</div>\n",
              "    </div>\n",
              "  </div>\n"
            ],
            "application/vnd.google.colaboratory.intrinsic+json": {
              "type": "dataframe",
              "variable_name": "df",
              "summary": "{\n  \"name\": \"df\",\n  \"rows\": 7032,\n  \"fields\": [\n    {\n      \"column\": \"end_date\",\n      \"properties\": {\n        \"dtype\": \"date\",\n        \"min\": \"2019-10-01 00:00:00\",\n        \"max\": \"2020-01-01 00:00:00\",\n        \"num_unique_values\": 4,\n        \"samples\": [\n          \"2019-11-01 00:00:00\",\n          \"2020-01-01 00:00:00\",\n          \"2019-12-01 00:00:00\"\n        ],\n        \"semantic_type\": \"\",\n        \"description\": \"\"\n      }\n    },\n    {\n      \"column\": \"type\",\n      \"properties\": {\n        \"dtype\": \"category\",\n        \"num_unique_values\": 3,\n        \"samples\": [\n          \"Month-to-month\",\n          \"One year\",\n          \"Two year\"\n        ],\n        \"semantic_type\": \"\",\n        \"description\": \"\"\n      }\n    },\n    {\n      \"column\": \"paperless_billing\",\n      \"properties\": {\n        \"dtype\": \"category\",\n        \"num_unique_values\": 2,\n        \"samples\": [\n          \"No\",\n          \"Yes\"\n        ],\n        \"semantic_type\": \"\",\n        \"description\": \"\"\n      }\n    },\n    {\n      \"column\": \"payment_method\",\n      \"properties\": {\n        \"dtype\": \"category\",\n        \"num_unique_values\": 4,\n        \"samples\": [\n          \"Mailed check\",\n          \"Credit card (automatic)\"\n        ],\n        \"semantic_type\": \"\",\n        \"description\": \"\"\n      }\n    },\n    {\n      \"column\": \"monthly_charges\",\n      \"properties\": {\n        \"dtype\": \"number\",\n        \"std\": 30.085973884049842,\n        \"min\": 18.25,\n        \"max\": 118.75,\n        \"num_unique_values\": 1584,\n        \"samples\": [\n          102.85,\n          20.05\n        ],\n        \"semantic_type\": \"\",\n        \"description\": \"\"\n      }\n    },\n    {\n      \"column\": \"total_charges\",\n      \"properties\": {\n        \"dtype\": \"number\",\n        \"std\": 2266.771361883145,\n        \"min\": 18.8,\n        \"max\": 8684.8,\n        \"num_unique_values\": 6530,\n        \"samples\": [\n          5594.0,\n          6840.95\n        ],\n        \"semantic_type\": \"\",\n        \"description\": \"\"\n      }\n    },\n    {\n      \"column\": \"gender\",\n      \"properties\": {\n        \"dtype\": \"category\",\n        \"num_unique_values\": 2,\n        \"samples\": [\n          \"Male\",\n          \"Female\"\n        ],\n        \"semantic_type\": \"\",\n        \"description\": \"\"\n      }\n    },\n    {\n      \"column\": \"senior_citizen\",\n      \"properties\": {\n        \"dtype\": \"number\",\n        \"std\": 0,\n        \"min\": 0,\n        \"max\": 1,\n        \"num_unique_values\": 2,\n        \"samples\": [\n          1,\n          0\n        ],\n        \"semantic_type\": \"\",\n        \"description\": \"\"\n      }\n    },\n    {\n      \"column\": \"partner\",\n      \"properties\": {\n        \"dtype\": \"category\",\n        \"num_unique_values\": 2,\n        \"samples\": [\n          \"No\",\n          \"Yes\"\n        ],\n        \"semantic_type\": \"\",\n        \"description\": \"\"\n      }\n    },\n    {\n      \"column\": \"dependents\",\n      \"properties\": {\n        \"dtype\": \"category\",\n        \"num_unique_values\": 2,\n        \"samples\": [\n          \"Yes\",\n          \"No\"\n        ],\n        \"semantic_type\": \"\",\n        \"description\": \"\"\n      }\n    },\n    {\n      \"column\": \"internet_service\",\n      \"properties\": {\n        \"dtype\": \"category\",\n        \"num_unique_values\": 2,\n        \"samples\": [\n          \"Fiber optic\",\n          \"DSL\"\n        ],\n        \"semantic_type\": \"\",\n        \"description\": \"\"\n      }\n    },\n    {\n      \"column\": \"online_security\",\n      \"properties\": {\n        \"dtype\": \"category\",\n        \"num_unique_values\": 2,\n        \"samples\": [\n          \"Yes\",\n          \"No\"\n        ],\n        \"semantic_type\": \"\",\n        \"description\": \"\"\n      }\n    },\n    {\n      \"column\": \"online_backup\",\n      \"properties\": {\n        \"dtype\": \"category\",\n        \"num_unique_values\": 2,\n        \"samples\": [\n          \"No\",\n          \"Yes\"\n        ],\n        \"semantic_type\": \"\",\n        \"description\": \"\"\n      }\n    },\n    {\n      \"column\": \"device_protection\",\n      \"properties\": {\n        \"dtype\": \"category\",\n        \"num_unique_values\": 2,\n        \"samples\": [\n          \"Yes\",\n          \"No\"\n        ],\n        \"semantic_type\": \"\",\n        \"description\": \"\"\n      }\n    },\n    {\n      \"column\": \"tech_support\",\n      \"properties\": {\n        \"dtype\": \"category\",\n        \"num_unique_values\": 2,\n        \"samples\": [\n          \"Yes\",\n          \"No\"\n        ],\n        \"semantic_type\": \"\",\n        \"description\": \"\"\n      }\n    },\n    {\n      \"column\": \"streaming_tv\",\n      \"properties\": {\n        \"dtype\": \"category\",\n        \"num_unique_values\": 2,\n        \"samples\": [\n          \"Yes\",\n          \"No\"\n        ],\n        \"semantic_type\": \"\",\n        \"description\": \"\"\n      }\n    },\n    {\n      \"column\": \"streaming_movies\",\n      \"properties\": {\n        \"dtype\": \"category\",\n        \"num_unique_values\": 2,\n        \"samples\": [\n          \"Yes\",\n          \"No\"\n        ],\n        \"semantic_type\": \"\",\n        \"description\": \"\"\n      }\n    },\n    {\n      \"column\": \"multiple_lines\",\n      \"properties\": {\n        \"dtype\": \"category\",\n        \"num_unique_values\": 2,\n        \"samples\": [\n          \"Yes\",\n          \"No\"\n        ],\n        \"semantic_type\": \"\",\n        \"description\": \"\"\n      }\n    }\n  ]\n}"
            }
          },
          "metadata": {},
          "execution_count": 100
        }
      ],
      "source": [
        "# Remove columns that are not appropriate for the model\n",
        "df = df_merge.drop(['customer_id', 'begin_date'], axis=1)\n",
        "df.head()"
      ]
    },
    {
      "cell_type": "code",
      "execution_count": 101,
      "metadata": {
        "colab": {
          "base_uri": "https://localhost:8080/"
        },
        "id": "EmWTB2Vf_4LQ",
        "outputId": "9a486577-4756-4cae-bfd5-8ec557a89ab1"
      },
      "outputs": [
        {
          "output_type": "execute_result",
          "data": {
            "text/plain": [
              "end_date             73.421502\n",
              "internet_service     21.615472\n",
              "streaming_movies     21.615472\n",
              "streaming_tv         21.615472\n",
              "tech_support         21.615472\n",
              "device_protection    21.615472\n",
              "online_backup        21.615472\n",
              "online_security      21.615472\n",
              "multiple_lines        9.670080\n",
              "type                  0.000000\n",
              "partner               0.000000\n",
              "senior_citizen        0.000000\n",
              "gender                0.000000\n",
              "total_charges         0.000000\n",
              "monthly_charges       0.000000\n",
              "payment_method        0.000000\n",
              "paperless_billing     0.000000\n",
              "dependents            0.000000\n",
              "dtype: float64"
            ]
          },
          "metadata": {},
          "execution_count": 101
        }
      ],
      "source": [
        "# Check for missing values\n",
        "df.isnull().sum().sort_values(ascending=False) / df.shape[0] *100"
      ]
    },
    {
      "cell_type": "code",
      "execution_count": 102,
      "metadata": {
        "id": "gQaoIJq7_4LQ"
      },
      "outputs": [],
      "source": [
        "# Fill in missing values (NaN) with appropriate values\n",
        "df['end_date'].fillna(pd.to_datetime('2024-03-02'), inplace=True)  # Replaces NaN with the current date"
      ]
    },
    {
      "cell_type": "code",
      "execution_count": 103,
      "metadata": {
        "id": "NmDah_x1_4LQ"
      },
      "outputs": [],
      "source": [
        "df['streaming_movies'].fillna('Unknown', inplace=True)\n",
        "df['streaming_tv'].fillna('Unknown', inplace=True)\n",
        "df['tech_support'].fillna('Unknown', inplace=True)\n",
        "df['device_protection'].fillna('Unknown', inplace=True)\n",
        "df['online_backup'].fillna('Unknown', inplace=True)\n",
        "df['online_security'].fillna('Unknown', inplace=True)\n",
        "df['internet_service'].fillna('Unknown', inplace=True)\n",
        "df['multiple_lines'].fillna('Unknown', inplace=True)"
      ]
    },
    {
      "cell_type": "code",
      "execution_count": 104,
      "metadata": {
        "colab": {
          "base_uri": "https://localhost:8080/"
        },
        "id": "nh5AO1-3_4LQ",
        "outputId": "5edc150f-0950-4c54-e1ca-cc798132e825"
      },
      "outputs": [
        {
          "output_type": "execute_result",
          "data": {
            "text/plain": [
              "end_date             0.0\n",
              "type                 0.0\n",
              "streaming_movies     0.0\n",
              "streaming_tv         0.0\n",
              "tech_support         0.0\n",
              "device_protection    0.0\n",
              "online_backup        0.0\n",
              "online_security      0.0\n",
              "internet_service     0.0\n",
              "dependents           0.0\n",
              "partner              0.0\n",
              "senior_citizen       0.0\n",
              "gender               0.0\n",
              "total_charges        0.0\n",
              "monthly_charges      0.0\n",
              "payment_method       0.0\n",
              "paperless_billing    0.0\n",
              "multiple_lines       0.0\n",
              "dtype: float64"
            ]
          },
          "metadata": {},
          "execution_count": 104
        }
      ],
      "source": [
        "# Check for missing values\n",
        "df.isnull().sum().sort_values(ascending=False) / df.shape[0] *100"
      ]
    },
    {
      "cell_type": "code",
      "execution_count": 105,
      "metadata": {
        "id": "zYW8ztRC_4LR"
      },
      "outputs": [],
      "source": [
        "# Use one-hot encoding for categorical columns\n",
        "categorical_cols = ['type','paperless_billing', 'payment_method','gender', 'senior_citizen', 'partner', 'dependents', 'internet_service', 'online_security',\n",
        "                    'online_backup', 'device_protection', 'tech_support', 'streaming_tv',\n",
        "                    'streaming_movies', 'multiple_lines']"
      ]
    },
    {
      "cell_type": "code",
      "execution_count": 106,
      "metadata": {
        "id": "rv8x3N52_4LR"
      },
      "outputs": [],
      "source": [
        "# Perform one-hot encoding\n",
        "encoder = OneHotEncoder(drop='first', sparse=False)\n",
        "encoded_data = encoder.fit_transform(df[categorical_cols])\n",
        "\n",
        "# Get the feature names after encoding\n",
        "encoded_cols_names = []\n",
        "for i, col in enumerate(encoder.categories_):\n",
        "    encoded_cols_names.extend([f\"{categorical_cols[i]}_{category}\" for category in col[1:]])\n",
        "\n",
        "# Create a DataFrame from the encoded data with appropriate column names\n",
        "encoded_cols = pd.DataFrame(encoded_data, columns=encoded_cols_names)\n"
      ]
    },
    {
      "cell_type": "code",
      "execution_count": 107,
      "metadata": {
        "id": "Mrs4oEqa_4LR"
      },
      "outputs": [],
      "source": [
        "# Combines one-hot encoding columns with initial data\n",
        "df_encoded = pd.concat([df, encoded_cols], axis=1)"
      ]
    },
    {
      "cell_type": "code",
      "execution_count": 108,
      "metadata": {
        "id": "waQGUKG6_4LR"
      },
      "outputs": [],
      "source": [
        "# Delete encoded categorical columns\n",
        "df_encoded.drop(columns=categorical_cols, inplace=True)"
      ]
    },
    {
      "cell_type": "code",
      "source": [
        "df_encoded.head()"
      ],
      "metadata": {
        "colab": {
          "base_uri": "https://localhost:8080/",
          "height": 330
        },
        "id": "kOtddOIEqAyC",
        "outputId": "a9925bc3-1f2a-4249-bd74-82c24fa2bcab"
      },
      "execution_count": 109,
      "outputs": [
        {
          "output_type": "execute_result",
          "data": {
            "text/plain": [
              "    end_date  monthly_charges  total_charges  type_One year  type_Two year  \\\n",
              "0 2024-03-02            29.85          29.85            0.0            0.0   \n",
              "1 2024-03-02            56.95        1889.50            1.0            0.0   \n",
              "2 2019-12-01            53.85         108.15            0.0            0.0   \n",
              "3 2024-03-02            42.30        1840.75            1.0            0.0   \n",
              "4 2019-11-01            70.70         151.65            0.0            0.0   \n",
              "\n",
              "   paperless_billing_Yes  payment_method_Credit card (automatic)  \\\n",
              "0                    1.0                                     0.0   \n",
              "1                    0.0                                     0.0   \n",
              "2                    1.0                                     0.0   \n",
              "3                    0.0                                     0.0   \n",
              "4                    1.0                                     0.0   \n",
              "\n",
              "   payment_method_Electronic check  payment_method_Mailed check  gender_Male  \\\n",
              "0                              1.0                          0.0          0.0   \n",
              "1                              0.0                          1.0          1.0   \n",
              "2                              0.0                          1.0          1.0   \n",
              "3                              0.0                          0.0          1.0   \n",
              "4                              1.0                          0.0          0.0   \n",
              "\n",
              "   senior_citizen_1  partner_Yes  dependents_Yes  \\\n",
              "0               0.0          1.0             0.0   \n",
              "1               0.0          0.0             0.0   \n",
              "2               0.0          0.0             0.0   \n",
              "3               0.0          0.0             0.0   \n",
              "4               0.0          0.0             0.0   \n",
              "\n",
              "   internet_service_Fiber optic  internet_service_Unknown  \\\n",
              "0                           0.0                       0.0   \n",
              "1                           0.0                       0.0   \n",
              "2                           0.0                       0.0   \n",
              "3                           0.0                       0.0   \n",
              "4                           1.0                       0.0   \n",
              "\n",
              "   online_security_Unknown  online_security_Yes  online_backup_Unknown  \\\n",
              "0                      0.0                  0.0                    0.0   \n",
              "1                      0.0                  1.0                    0.0   \n",
              "2                      0.0                  1.0                    0.0   \n",
              "3                      0.0                  1.0                    0.0   \n",
              "4                      0.0                  0.0                    0.0   \n",
              "\n",
              "   online_backup_Yes  device_protection_Unknown  device_protection_Yes  \\\n",
              "0                1.0                        0.0                    0.0   \n",
              "1                0.0                        0.0                    1.0   \n",
              "2                1.0                        0.0                    0.0   \n",
              "3                0.0                        0.0                    1.0   \n",
              "4                0.0                        0.0                    0.0   \n",
              "\n",
              "   tech_support_Unknown  tech_support_Yes  streaming_tv_Unknown  \\\n",
              "0                   0.0               0.0                   0.0   \n",
              "1                   0.0               0.0                   0.0   \n",
              "2                   0.0               0.0                   0.0   \n",
              "3                   0.0               1.0                   0.0   \n",
              "4                   0.0               0.0                   0.0   \n",
              "\n",
              "   streaming_tv_Yes  streaming_movies_Unknown  streaming_movies_Yes  \\\n",
              "0               0.0                       0.0                   0.0   \n",
              "1               0.0                       0.0                   0.0   \n",
              "2               0.0                       0.0                   0.0   \n",
              "3               0.0                       0.0                   0.0   \n",
              "4               0.0                       0.0                   0.0   \n",
              "\n",
              "   multiple_lines_Unknown  multiple_lines_Yes  \n",
              "0                     1.0                 0.0  \n",
              "1                     0.0                 0.0  \n",
              "2                     0.0                 0.0  \n",
              "3                     1.0                 0.0  \n",
              "4                     0.0                 0.0  "
            ],
            "text/html": [
              "\n",
              "  <div id=\"df-ac604605-6cc2-4838-b9a5-5ff342bc77c8\" class=\"colab-df-container\">\n",
              "    <div>\n",
              "<style scoped>\n",
              "    .dataframe tbody tr th:only-of-type {\n",
              "        vertical-align: middle;\n",
              "    }\n",
              "\n",
              "    .dataframe tbody tr th {\n",
              "        vertical-align: top;\n",
              "    }\n",
              "\n",
              "    .dataframe thead th {\n",
              "        text-align: right;\n",
              "    }\n",
              "</style>\n",
              "<table border=\"1\" class=\"dataframe\">\n",
              "  <thead>\n",
              "    <tr style=\"text-align: right;\">\n",
              "      <th></th>\n",
              "      <th>end_date</th>\n",
              "      <th>monthly_charges</th>\n",
              "      <th>total_charges</th>\n",
              "      <th>type_One year</th>\n",
              "      <th>type_Two year</th>\n",
              "      <th>paperless_billing_Yes</th>\n",
              "      <th>payment_method_Credit card (automatic)</th>\n",
              "      <th>payment_method_Electronic check</th>\n",
              "      <th>payment_method_Mailed check</th>\n",
              "      <th>gender_Male</th>\n",
              "      <th>senior_citizen_1</th>\n",
              "      <th>partner_Yes</th>\n",
              "      <th>dependents_Yes</th>\n",
              "      <th>internet_service_Fiber optic</th>\n",
              "      <th>internet_service_Unknown</th>\n",
              "      <th>online_security_Unknown</th>\n",
              "      <th>online_security_Yes</th>\n",
              "      <th>online_backup_Unknown</th>\n",
              "      <th>online_backup_Yes</th>\n",
              "      <th>device_protection_Unknown</th>\n",
              "      <th>device_protection_Yes</th>\n",
              "      <th>tech_support_Unknown</th>\n",
              "      <th>tech_support_Yes</th>\n",
              "      <th>streaming_tv_Unknown</th>\n",
              "      <th>streaming_tv_Yes</th>\n",
              "      <th>streaming_movies_Unknown</th>\n",
              "      <th>streaming_movies_Yes</th>\n",
              "      <th>multiple_lines_Unknown</th>\n",
              "      <th>multiple_lines_Yes</th>\n",
              "    </tr>\n",
              "  </thead>\n",
              "  <tbody>\n",
              "    <tr>\n",
              "      <th>0</th>\n",
              "      <td>2024-03-02</td>\n",
              "      <td>29.85</td>\n",
              "      <td>29.85</td>\n",
              "      <td>0.0</td>\n",
              "      <td>0.0</td>\n",
              "      <td>1.0</td>\n",
              "      <td>0.0</td>\n",
              "      <td>1.0</td>\n",
              "      <td>0.0</td>\n",
              "      <td>0.0</td>\n",
              "      <td>0.0</td>\n",
              "      <td>1.0</td>\n",
              "      <td>0.0</td>\n",
              "      <td>0.0</td>\n",
              "      <td>0.0</td>\n",
              "      <td>0.0</td>\n",
              "      <td>0.0</td>\n",
              "      <td>0.0</td>\n",
              "      <td>1.0</td>\n",
              "      <td>0.0</td>\n",
              "      <td>0.0</td>\n",
              "      <td>0.0</td>\n",
              "      <td>0.0</td>\n",
              "      <td>0.0</td>\n",
              "      <td>0.0</td>\n",
              "      <td>0.0</td>\n",
              "      <td>0.0</td>\n",
              "      <td>1.0</td>\n",
              "      <td>0.0</td>\n",
              "    </tr>\n",
              "    <tr>\n",
              "      <th>1</th>\n",
              "      <td>2024-03-02</td>\n",
              "      <td>56.95</td>\n",
              "      <td>1889.50</td>\n",
              "      <td>1.0</td>\n",
              "      <td>0.0</td>\n",
              "      <td>0.0</td>\n",
              "      <td>0.0</td>\n",
              "      <td>0.0</td>\n",
              "      <td>1.0</td>\n",
              "      <td>1.0</td>\n",
              "      <td>0.0</td>\n",
              "      <td>0.0</td>\n",
              "      <td>0.0</td>\n",
              "      <td>0.0</td>\n",
              "      <td>0.0</td>\n",
              "      <td>0.0</td>\n",
              "      <td>1.0</td>\n",
              "      <td>0.0</td>\n",
              "      <td>0.0</td>\n",
              "      <td>0.0</td>\n",
              "      <td>1.0</td>\n",
              "      <td>0.0</td>\n",
              "      <td>0.0</td>\n",
              "      <td>0.0</td>\n",
              "      <td>0.0</td>\n",
              "      <td>0.0</td>\n",
              "      <td>0.0</td>\n",
              "      <td>0.0</td>\n",
              "      <td>0.0</td>\n",
              "    </tr>\n",
              "    <tr>\n",
              "      <th>2</th>\n",
              "      <td>2019-12-01</td>\n",
              "      <td>53.85</td>\n",
              "      <td>108.15</td>\n",
              "      <td>0.0</td>\n",
              "      <td>0.0</td>\n",
              "      <td>1.0</td>\n",
              "      <td>0.0</td>\n",
              "      <td>0.0</td>\n",
              "      <td>1.0</td>\n",
              "      <td>1.0</td>\n",
              "      <td>0.0</td>\n",
              "      <td>0.0</td>\n",
              "      <td>0.0</td>\n",
              "      <td>0.0</td>\n",
              "      <td>0.0</td>\n",
              "      <td>0.0</td>\n",
              "      <td>1.0</td>\n",
              "      <td>0.0</td>\n",
              "      <td>1.0</td>\n",
              "      <td>0.0</td>\n",
              "      <td>0.0</td>\n",
              "      <td>0.0</td>\n",
              "      <td>0.0</td>\n",
              "      <td>0.0</td>\n",
              "      <td>0.0</td>\n",
              "      <td>0.0</td>\n",
              "      <td>0.0</td>\n",
              "      <td>0.0</td>\n",
              "      <td>0.0</td>\n",
              "    </tr>\n",
              "    <tr>\n",
              "      <th>3</th>\n",
              "      <td>2024-03-02</td>\n",
              "      <td>42.30</td>\n",
              "      <td>1840.75</td>\n",
              "      <td>1.0</td>\n",
              "      <td>0.0</td>\n",
              "      <td>0.0</td>\n",
              "      <td>0.0</td>\n",
              "      <td>0.0</td>\n",
              "      <td>0.0</td>\n",
              "      <td>1.0</td>\n",
              "      <td>0.0</td>\n",
              "      <td>0.0</td>\n",
              "      <td>0.0</td>\n",
              "      <td>0.0</td>\n",
              "      <td>0.0</td>\n",
              "      <td>0.0</td>\n",
              "      <td>1.0</td>\n",
              "      <td>0.0</td>\n",
              "      <td>0.0</td>\n",
              "      <td>0.0</td>\n",
              "      <td>1.0</td>\n",
              "      <td>0.0</td>\n",
              "      <td>1.0</td>\n",
              "      <td>0.0</td>\n",
              "      <td>0.0</td>\n",
              "      <td>0.0</td>\n",
              "      <td>0.0</td>\n",
              "      <td>1.0</td>\n",
              "      <td>0.0</td>\n",
              "    </tr>\n",
              "    <tr>\n",
              "      <th>4</th>\n",
              "      <td>2019-11-01</td>\n",
              "      <td>70.70</td>\n",
              "      <td>151.65</td>\n",
              "      <td>0.0</td>\n",
              "      <td>0.0</td>\n",
              "      <td>1.0</td>\n",
              "      <td>0.0</td>\n",
              "      <td>1.0</td>\n",
              "      <td>0.0</td>\n",
              "      <td>0.0</td>\n",
              "      <td>0.0</td>\n",
              "      <td>0.0</td>\n",
              "      <td>0.0</td>\n",
              "      <td>1.0</td>\n",
              "      <td>0.0</td>\n",
              "      <td>0.0</td>\n",
              "      <td>0.0</td>\n",
              "      <td>0.0</td>\n",
              "      <td>0.0</td>\n",
              "      <td>0.0</td>\n",
              "      <td>0.0</td>\n",
              "      <td>0.0</td>\n",
              "      <td>0.0</td>\n",
              "      <td>0.0</td>\n",
              "      <td>0.0</td>\n",
              "      <td>0.0</td>\n",
              "      <td>0.0</td>\n",
              "      <td>0.0</td>\n",
              "      <td>0.0</td>\n",
              "    </tr>\n",
              "  </tbody>\n",
              "</table>\n",
              "</div>\n",
              "    <div class=\"colab-df-buttons\">\n",
              "\n",
              "  <div class=\"colab-df-container\">\n",
              "    <button class=\"colab-df-convert\" onclick=\"convertToInteractive('df-ac604605-6cc2-4838-b9a5-5ff342bc77c8')\"\n",
              "            title=\"Convert this dataframe to an interactive table.\"\n",
              "            style=\"display:none;\">\n",
              "\n",
              "  <svg xmlns=\"http://www.w3.org/2000/svg\" height=\"24px\" viewBox=\"0 -960 960 960\">\n",
              "    <path d=\"M120-120v-720h720v720H120Zm60-500h600v-160H180v160Zm220 220h160v-160H400v160Zm0 220h160v-160H400v160ZM180-400h160v-160H180v160Zm440 0h160v-160H620v160ZM180-180h160v-160H180v160Zm440 0h160v-160H620v160Z\"/>\n",
              "  </svg>\n",
              "    </button>\n",
              "\n",
              "  <style>\n",
              "    .colab-df-container {\n",
              "      display:flex;\n",
              "      gap: 12px;\n",
              "    }\n",
              "\n",
              "    .colab-df-convert {\n",
              "      background-color: #E8F0FE;\n",
              "      border: none;\n",
              "      border-radius: 50%;\n",
              "      cursor: pointer;\n",
              "      display: none;\n",
              "      fill: #1967D2;\n",
              "      height: 32px;\n",
              "      padding: 0 0 0 0;\n",
              "      width: 32px;\n",
              "    }\n",
              "\n",
              "    .colab-df-convert:hover {\n",
              "      background-color: #E2EBFA;\n",
              "      box-shadow: 0px 1px 2px rgba(60, 64, 67, 0.3), 0px 1px 3px 1px rgba(60, 64, 67, 0.15);\n",
              "      fill: #174EA6;\n",
              "    }\n",
              "\n",
              "    .colab-df-buttons div {\n",
              "      margin-bottom: 4px;\n",
              "    }\n",
              "\n",
              "    [theme=dark] .colab-df-convert {\n",
              "      background-color: #3B4455;\n",
              "      fill: #D2E3FC;\n",
              "    }\n",
              "\n",
              "    [theme=dark] .colab-df-convert:hover {\n",
              "      background-color: #434B5C;\n",
              "      box-shadow: 0px 1px 3px 1px rgba(0, 0, 0, 0.15);\n",
              "      filter: drop-shadow(0px 1px 2px rgba(0, 0, 0, 0.3));\n",
              "      fill: #FFFFFF;\n",
              "    }\n",
              "  </style>\n",
              "\n",
              "    <script>\n",
              "      const buttonEl =\n",
              "        document.querySelector('#df-ac604605-6cc2-4838-b9a5-5ff342bc77c8 button.colab-df-convert');\n",
              "      buttonEl.style.display =\n",
              "        google.colab.kernel.accessAllowed ? 'block' : 'none';\n",
              "\n",
              "      async function convertToInteractive(key) {\n",
              "        const element = document.querySelector('#df-ac604605-6cc2-4838-b9a5-5ff342bc77c8');\n",
              "        const dataTable =\n",
              "          await google.colab.kernel.invokeFunction('convertToInteractive',\n",
              "                                                    [key], {});\n",
              "        if (!dataTable) return;\n",
              "\n",
              "        const docLinkHtml = 'Like what you see? Visit the ' +\n",
              "          '<a target=\"_blank\" href=https://colab.research.google.com/notebooks/data_table.ipynb>data table notebook</a>'\n",
              "          + ' to learn more about interactive tables.';\n",
              "        element.innerHTML = '';\n",
              "        dataTable['output_type'] = 'display_data';\n",
              "        await google.colab.output.renderOutput(dataTable, element);\n",
              "        const docLink = document.createElement('div');\n",
              "        docLink.innerHTML = docLinkHtml;\n",
              "        element.appendChild(docLink);\n",
              "      }\n",
              "    </script>\n",
              "  </div>\n",
              "\n",
              "\n",
              "<div id=\"df-fa5b881c-88b8-4270-aadf-983a8f00ec9b\">\n",
              "  <button class=\"colab-df-quickchart\" onclick=\"quickchart('df-fa5b881c-88b8-4270-aadf-983a8f00ec9b')\"\n",
              "            title=\"Suggest charts\"\n",
              "            style=\"display:none;\">\n",
              "\n",
              "<svg xmlns=\"http://www.w3.org/2000/svg\" height=\"24px\"viewBox=\"0 0 24 24\"\n",
              "     width=\"24px\">\n",
              "    <g>\n",
              "        <path d=\"M19 3H5c-1.1 0-2 .9-2 2v14c0 1.1.9 2 2 2h14c1.1 0 2-.9 2-2V5c0-1.1-.9-2-2-2zM9 17H7v-7h2v7zm4 0h-2V7h2v10zm4 0h-2v-4h2v4z\"/>\n",
              "    </g>\n",
              "</svg>\n",
              "  </button>\n",
              "\n",
              "<style>\n",
              "  .colab-df-quickchart {\n",
              "      --bg-color: #E8F0FE;\n",
              "      --fill-color: #1967D2;\n",
              "      --hover-bg-color: #E2EBFA;\n",
              "      --hover-fill-color: #174EA6;\n",
              "      --disabled-fill-color: #AAA;\n",
              "      --disabled-bg-color: #DDD;\n",
              "  }\n",
              "\n",
              "  [theme=dark] .colab-df-quickchart {\n",
              "      --bg-color: #3B4455;\n",
              "      --fill-color: #D2E3FC;\n",
              "      --hover-bg-color: #434B5C;\n",
              "      --hover-fill-color: #FFFFFF;\n",
              "      --disabled-bg-color: #3B4455;\n",
              "      --disabled-fill-color: #666;\n",
              "  }\n",
              "\n",
              "  .colab-df-quickchart {\n",
              "    background-color: var(--bg-color);\n",
              "    border: none;\n",
              "    border-radius: 50%;\n",
              "    cursor: pointer;\n",
              "    display: none;\n",
              "    fill: var(--fill-color);\n",
              "    height: 32px;\n",
              "    padding: 0;\n",
              "    width: 32px;\n",
              "  }\n",
              "\n",
              "  .colab-df-quickchart:hover {\n",
              "    background-color: var(--hover-bg-color);\n",
              "    box-shadow: 0 1px 2px rgba(60, 64, 67, 0.3), 0 1px 3px 1px rgba(60, 64, 67, 0.15);\n",
              "    fill: var(--button-hover-fill-color);\n",
              "  }\n",
              "\n",
              "  .colab-df-quickchart-complete:disabled,\n",
              "  .colab-df-quickchart-complete:disabled:hover {\n",
              "    background-color: var(--disabled-bg-color);\n",
              "    fill: var(--disabled-fill-color);\n",
              "    box-shadow: none;\n",
              "  }\n",
              "\n",
              "  .colab-df-spinner {\n",
              "    border: 2px solid var(--fill-color);\n",
              "    border-color: transparent;\n",
              "    border-bottom-color: var(--fill-color);\n",
              "    animation:\n",
              "      spin 1s steps(1) infinite;\n",
              "  }\n",
              "\n",
              "  @keyframes spin {\n",
              "    0% {\n",
              "      border-color: transparent;\n",
              "      border-bottom-color: var(--fill-color);\n",
              "      border-left-color: var(--fill-color);\n",
              "    }\n",
              "    20% {\n",
              "      border-color: transparent;\n",
              "      border-left-color: var(--fill-color);\n",
              "      border-top-color: var(--fill-color);\n",
              "    }\n",
              "    30% {\n",
              "      border-color: transparent;\n",
              "      border-left-color: var(--fill-color);\n",
              "      border-top-color: var(--fill-color);\n",
              "      border-right-color: var(--fill-color);\n",
              "    }\n",
              "    40% {\n",
              "      border-color: transparent;\n",
              "      border-right-color: var(--fill-color);\n",
              "      border-top-color: var(--fill-color);\n",
              "    }\n",
              "    60% {\n",
              "      border-color: transparent;\n",
              "      border-right-color: var(--fill-color);\n",
              "    }\n",
              "    80% {\n",
              "      border-color: transparent;\n",
              "      border-right-color: var(--fill-color);\n",
              "      border-bottom-color: var(--fill-color);\n",
              "    }\n",
              "    90% {\n",
              "      border-color: transparent;\n",
              "      border-bottom-color: var(--fill-color);\n",
              "    }\n",
              "  }\n",
              "</style>\n",
              "\n",
              "  <script>\n",
              "    async function quickchart(key) {\n",
              "      const quickchartButtonEl =\n",
              "        document.querySelector('#' + key + ' button');\n",
              "      quickchartButtonEl.disabled = true;  // To prevent multiple clicks.\n",
              "      quickchartButtonEl.classList.add('colab-df-spinner');\n",
              "      try {\n",
              "        const charts = await google.colab.kernel.invokeFunction(\n",
              "            'suggestCharts', [key], {});\n",
              "      } catch (error) {\n",
              "        console.error('Error during call to suggestCharts:', error);\n",
              "      }\n",
              "      quickchartButtonEl.classList.remove('colab-df-spinner');\n",
              "      quickchartButtonEl.classList.add('colab-df-quickchart-complete');\n",
              "    }\n",
              "    (() => {\n",
              "      let quickchartButtonEl =\n",
              "        document.querySelector('#df-fa5b881c-88b8-4270-aadf-983a8f00ec9b button');\n",
              "      quickchartButtonEl.style.display =\n",
              "        google.colab.kernel.accessAllowed ? 'block' : 'none';\n",
              "    })();\n",
              "  </script>\n",
              "</div>\n",
              "    </div>\n",
              "  </div>\n"
            ],
            "application/vnd.google.colaboratory.intrinsic+json": {
              "type": "dataframe",
              "variable_name": "df_encoded"
            }
          },
          "metadata": {},
          "execution_count": 109
        }
      ]
    },
    {
      "cell_type": "markdown",
      "metadata": {
        "id": "77IwbMQV_4LR"
      },
      "source": [
        "## Split the data into training and test sets"
      ]
    },
    {
      "cell_type": "markdown",
      "metadata": {
        "id": "8LwgBMtQ_4LR"
      },
      "source": [
        "The process of dividing data randomly for different purposes. Namely, the training set is data used for learning, the validation set is data used to test the quality of the model, and the test set is data that is considered as if it were from a new source."
      ]
    },
    {
      "cell_type": "code",
      "execution_count": 110,
      "metadata": {
        "id": "jLilrNIN_4LR"
      },
      "outputs": [],
      "source": [
        "# Separating features and targets\n",
        "features = df_encoded.drop(['end_date'], axis=1)\n",
        "target = df_encoded['end_date'] == pd.to_datetime('2024-03-02')"
      ]
    },
    {
      "cell_type": "markdown",
      "metadata": {
        "id": "Eo_DwkWH_4LR"
      },
      "source": [
        "The training set and test set used are: 80:20"
      ]
    },
    {
      "cell_type": "code",
      "execution_count": 111,
      "metadata": {
        "id": "DYCTUabg_4LR"
      },
      "outputs": [],
      "source": [
        "# Split data into Train and test\n",
        "features_train, features_test, target_train, target_test = train_test_split(\n",
        "    features, target, test_size=0.2, random_state=12345)"
      ]
    },
    {
      "cell_type": "code",
      "execution_count": 112,
      "metadata": {
        "colab": {
          "base_uri": "https://localhost:8080/"
        },
        "id": "1M450Y1m_4LR",
        "outputId": "635a9e84-4e7a-43d2-98c4-5a145a354ec6"
      },
      "outputs": [
        {
          "output_type": "execute_result",
          "data": {
            "text/plain": [
              "((5625, 28), (1407, 28))"
            ]
          },
          "metadata": {},
          "execution_count": 112
        }
      ],
      "source": [
        "features_train.shape, features_test.shape"
      ]
    },
    {
      "cell_type": "code",
      "execution_count": 113,
      "metadata": {
        "colab": {
          "base_uri": "https://localhost:8080/"
        },
        "id": "Zlh36Dx6_4LR",
        "outputId": "4400650f-1eac-4441-ec5e-bba00978149b"
      },
      "outputs": [
        {
          "output_type": "execute_result",
          "data": {
            "text/plain": [
              "end_date\n",
              "True     5163\n",
              "False    1869\n",
              "Name: count, dtype: int64"
            ]
          },
          "metadata": {},
          "execution_count": 113
        }
      ],
      "source": [
        "# Calculating class frequencies\n",
        "class_counts = target.value_counts()\n",
        "class_counts\n"
      ]
    },
    {
      "cell_type": "code",
      "execution_count": 114,
      "metadata": {
        "colab": {
          "base_uri": "https://localhost:8080/",
          "height": 510
        },
        "id": "vzDal4It_4LR",
        "outputId": "a7903e27-d8f7-4453-ba89-e9fa6320eab4"
      },
      "outputs": [
        {
          "output_type": "execute_result",
          "data": {
            "text/plain": [
              "<Axes: title={'center': 'Class Distribution'}, xlabel='end_date'>"
            ]
          },
          "metadata": {},
          "execution_count": 114
        },
        {
          "output_type": "display_data",
          "data": {
            "text/plain": [
              "<Figure size 640x480 with 1 Axes>"
            ],
            "image/png": "[encoded data removed]"
          },
          "metadata": {}
        }
      ],
      "source": [
        "# Visualizing class distribution\n",
        "class_counts.plot(kind='bar', title='Class Distribution')\n"
      ]
    },
    {
      "cell_type": "markdown",
      "metadata": {
        "id": "an3NjCyp_4LS"
      },
      "source": [
        "# Stage 4: Model Building and Testing"
      ]
    },
    {
      "cell_type": "code",
      "execution_count": 115,
      "metadata": {
        "id": "QhRC_c9q_4LS"
      },
      "outputs": [],
      "source": [
        "def class_eval(model, features_train, features_test, target_train, target_test):\n",
        "    # Predict Train\n",
        "    target_train_predictions = model.predict(features_train)\n",
        "\n",
        "    # Predict Test\n",
        "    target_test_predictions = model.predict(features_test)\n",
        "\n",
        "    # Show Metrics\n",
        "    # Confusion Matrix\n",
        "    confusion_matrix_train = confusion_matrix(target_train, target_train_predictions)\n",
        "    confusion_matrix_test = confusion_matrix(target_test, target_test_predictions)\n",
        "\n",
        "    # Accuracy\n",
        "    accuracy_train = (confusion_matrix_train[0][0] + confusion_matrix_train[1][1]) / (confusion_matrix_train[0][0] + confusion_matrix_train[1][1] + confusion_matrix_train[0][1] + confusion_matrix_train[1][0])\n",
        "    accuracy_test = (confusion_matrix_test[0][0] + confusion_matrix_test[1][1]) / (confusion_matrix_test[0][0] + confusion_matrix_test[1][1] + confusion_matrix_test[0][1] + confusion_matrix_test[1][0])\n",
        "\n",
        "    # Precision\n",
        "    precision_train_1 = confusion_matrix_train[1][1] / (confusion_matrix_train[1][1] + confusion_matrix_train[0][1])\n",
        "    precision_train_0 = confusion_matrix_train[0][0] / (confusion_matrix_train[0][0] + confusion_matrix_train[1][0])\n",
        "    precision_test_1 = confusion_matrix_test[1][1] / (confusion_matrix_test[1][1] + confusion_matrix_test[0][1])\n",
        "    precision_test_0 = confusion_matrix_test[0][0] / (confusion_matrix_test[0][0] + confusion_matrix_test[1][0])\n",
        "\n",
        "    # Recall\n",
        "    recall_train_1 = confusion_matrix_train[1][1] / (confusion_matrix_train[1][1] + confusion_matrix_train[1][0])\n",
        "    recall_train_0 = confusion_matrix_train[0][0] / (confusion_matrix_train[0][0] + confusion_matrix_train[0][1])\n",
        "    recall_test_1 = confusion_matrix_test[1][1] / (confusion_matrix_test[1][1] + confusion_matrix_test[1][0])\n",
        "    recall_test_0 = confusion_matrix_test[0][0] / (confusion_matrix_test[0][0] + confusion_matrix_test[0][1])\n",
        "\n",
        "    # F1 Score\n",
        "    f1_score_train_1 = (2 * precision_train_1 * recall_train_1) / (precision_train_1 + recall_train_1)\n",
        "    f1_score_train_0 = (2 * precision_train_0 * recall_train_0) / (precision_train_0 + recall_train_0)\n",
        "    f1_score_test_1 = (2 * precision_test_1 * recall_test_1) / (precision_test_1 + recall_test_1)\n",
        "    f1_score_test_0 = (2 * precision_test_0 * recall_test_0) / (precision_test_0 + recall_test_0)\n",
        "\n",
        "    # ROC AUC score\n",
        "    roc_auc_train = roc_auc_score(target_train, target_train_predictions)\n",
        "    roc_auc_test = roc_auc_score(target_test, target_test_predictions)\n",
        "\n",
        "    #Kurva ROC\n",
        "    probabilities_train = model.predict_proba(features_train)\n",
        "    probabilities_one_train = probabilities_train[:, 1]\n",
        "    fpr_train, tpr_train, thresholds_train = roc_curve(target_train, probabilities_one_train)\n",
        "\n",
        "    probabilities_test = model.predict_proba(features_test)\n",
        "    probabilities_one_test = probabilities_test[:, 1]\n",
        "    fpr_test, tpr_test, thresholds_test = roc_curve(target_test, probabilities_one_test)\n",
        "\n",
        "    # Show Output\n",
        "    print('----------------Training----------------')\n",
        "    print('Confusion Matrix')\n",
        "    print(confusion_matrix_train)\n",
        "    print('Accuracy         :', round(accuracy_train * 100, 1), '%')\n",
        "    print('ROC AUC          :', round(roc_auc_train * 100, 1), '%')\n",
        "    print('Precision Class 0:', round(precision_train_0 * 100, 1), '%')\n",
        "    print('Precision Class 1:', round(precision_train_1 * 100, 1), '%')\n",
        "    print('Recall Class 0   :', round(recall_train_0 * 100, 1), '%')\n",
        "    print('Recall Class 1   :', round(recall_train_1 * 100, 1), '%')\n",
        "    print('F1 Score Class 0 :', round(f1_score_train_0 * 100, 1), '%')\n",
        "    print('F1 Score Class 1 :', round(f1_score_train_1 * 100, 1), '%')\n",
        "\n",
        "    print('\\n----------------Kurva ROC Training----------------')\n",
        "    plt.figure()\n",
        "    plt.plot(fpr_test, tpr_test)\n",
        "    plt.xlim([0.0, 1.0])\n",
        "    plt.ylim([0.0, 1.0])\n",
        "    plt.xlabel('False Positive Rate')\n",
        "    plt.ylabel('True Positive Rate')\n",
        "    plt.title('Kurva ROC')\n",
        "    plt.show()\n",
        "\n",
        "    print('\\n----------------Testing----------------')\n",
        "    print('Confusion Matrix')\n",
        "    print(confusion_matrix_test)\n",
        "    print('Accuracy         :', round(accuracy_test * 100, 1), '%')\n",
        "    print('ROC AUC          :', round(roc_auc_test * 100, 1), '%')\n",
        "    print('Precision Class 0:', round(precision_test_0 * 100, 1), '%')\n",
        "    print('Precision Class 1:', round(precision_test_1 * 100, 1), '%')\n",
        "    print('Recall Class 0   :', round(recall_test_0 * 100, 1), '%')\n",
        "    print('Recall Class 1   :', round(recall_test_1 * 100, 1), '%')\n",
        "    print('F1 Score Class 0 :', round(f1_score_test_0 * 100, 1), '%')\n",
        "    print('F1 Score Class 1 :', round(f1_score_test_1 * 100, 1), '%')\n",
        "\n",
        "    print('\\n----------------Kurva ROC Testing----------------')\n",
        "    plt.figure()\n",
        "    plt.plot(fpr_test, tpr_test)\n",
        "    plt.xlim([0.0, 1.0])\n",
        "    plt.ylim([0.0, 1.0])\n",
        "    plt.xlabel('False Positive Rate')\n",
        "    plt.ylabel('True Positive Rate')\n",
        "    plt.title('Kurva ROC')\n",
        "    plt.show()"
      ]
    },
    {
      "cell_type": "markdown",
      "metadata": {
        "id": "kH4oC4Nr_4LS"
      },
      "source": [
        "## Decision Tree"
      ]
    },
    {
      "cell_type": "code",
      "execution_count": 116,
      "metadata": {
        "id": "6ysoRQk4_4LS"
      },
      "outputs": [],
      "source": [
        "from sklearn.model_selection import GridSearchCV"
      ]
    },
    {
      "cell_type": "code",
      "execution_count": 122,
      "metadata": {
        "id": "Aofgv32e_4LS"
      },
      "outputs": [],
      "source": [
        "param_grid_dt = {\n",
        "    'max_depth': [5, 10, 15],  # Try several values for max_depth\n",
        "    'min_samples_split': [2, 5, 10],  # Try several values for min_samples_split\n",
        "    'min_samples_leaf': [1, 2, 4],  # Try several values for min_samples_leaf\n",
        "}\n"
      ]
    },
    {
      "cell_type": "code",
      "execution_count": 123,
      "metadata": {
        "colab": {
          "base_uri": "https://localhost:8080/",
          "height": 109
        },
        "id": "0h3ldP-x_4LS",
        "outputId": "d3d7903b-e466-48ff-aa89-82e9d1896eac"
      },
      "outputs": [
        {
          "output_type": "stream",
          "name": "stdout",
          "text": [
            "CPU times: user 47.1 ms, sys: 535 µs, total: 47.6 ms\n",
            "Wall time: 48.4 ms\n"
          ]
        },
        {
          "output_type": "execute_result",
          "data": {
            "text/plain": [
              "DecisionTreeClassifier(class_weight='balanced', random_state=12345)"
            ],
            "text/html": [
              "<style>#sk-container-id-2 {color: black;background-color: white;}#sk-container-id-2 pre{padding: 0;}#sk-container-id-2 div.sk-toggleable {background-color: white;}#sk-container-id-2 label.sk-toggleable__label {cursor: pointer;display: block;width: 100%;margin-bottom: 0;padding: 0.3em;box-sizing: border-box;text-align: center;}#sk-container-id-2 label.sk-toggleable__label-arrow:before {content: \"▸\";float: left;margin-right: 0.25em;color: #696969;}#sk-container-id-2 label.sk-toggleable__label-arrow:hover:before {color: black;}#sk-container-id-2 div.sk-estimator:hover label.sk-toggleable__label-arrow:before {color: black;}#sk-container-id-2 div.sk-toggleable__content {max-height: 0;max-width: 0;overflow: hidden;text-align: left;background-color: #f0f8ff;}#sk-container-id-2 div.sk-toggleable__content pre {margin: 0.2em;color: black;border-radius: 0.25em;background-color: #f0f8ff;}#sk-container-id-2 input.sk-toggleable__control:checked~div.sk-toggleable__content {max-height: 200px;max-width: 100%;overflow: auto;}#sk-container-id-2 input.sk-toggleable__control:checked~label.sk-toggleable__label-arrow:before {content: \"▾\";}#sk-container-id-2 div.sk-estimator input.sk-toggleable__control:checked~label.sk-toggleable__label {background-color: #d4ebff;}#sk-container-id-2 div.sk-label input.sk-toggleable__control:checked~label.sk-toggleable__label {background-color: #d4ebff;}#sk-container-id-2 input.sk-hidden--visually {border: 0;clip: rect(1px 1px 1px 1px);clip: rect(1px, 1px, 1px, 1px);height: 1px;margin: -1px;overflow: hidden;padding: 0;position: absolute;width: 1px;}#sk-container-id-2 div.sk-estimator {font-family: monospace;background-color: #f0f8ff;border: 1px dotted black;border-radius: 0.25em;box-sizing: border-box;margin-bottom: 0.5em;}#sk-container-id-2 div.sk-estimator:hover {background-color: #d4ebff;}#sk-container-id-2 div.sk-parallel-item::after {content: \"\";width: 100%;border-bottom: 1px solid gray;flex-grow: 1;}#sk-container-id-2 div.sk-label:hover label.sk-toggleable__label {background-color: #d4ebff;}#sk-container-id-2 div.sk-serial::before {content: \"\";position: absolute;border-left: 1px solid gray;box-sizing: border-box;top: 0;bottom: 0;left: 50%;z-index: 0;}#sk-container-id-2 div.sk-serial {display: flex;flex-direction: column;align-items: center;background-color: white;padding-right: 0.2em;padding-left: 0.2em;position: relative;}#sk-container-id-2 div.sk-item {position: relative;z-index: 1;}#sk-container-id-2 div.sk-parallel {display: flex;align-items: stretch;justify-content: center;background-color: white;position: relative;}#sk-container-id-2 div.sk-item::before, #sk-container-id-2 div.sk-parallel-item::before {content: \"\";position: absolute;border-left: 1px solid gray;box-sizing: border-box;top: 0;bottom: 0;left: 50%;z-index: -1;}#sk-container-id-2 div.sk-parallel-item {display: flex;flex-direction: column;z-index: 1;position: relative;background-color: white;}#sk-container-id-2 div.sk-parallel-item:first-child::after {align-self: flex-end;width: 50%;}#sk-container-id-2 div.sk-parallel-item:last-child::after {align-self: flex-start;width: 50%;}#sk-container-id-2 div.sk-parallel-item:only-child::after {width: 0;}#sk-container-id-2 div.sk-dashed-wrapped {border: 1px dashed gray;margin: 0 0.4em 0.5em 0.4em;box-sizing: border-box;padding-bottom: 0.4em;background-color: white;}#sk-container-id-2 div.sk-label label {font-family: monospace;font-weight: bold;display: inline-block;line-height: 1.2em;}#sk-container-id-2 div.sk-label-container {text-align: center;}#sk-container-id-2 div.sk-container {/* jupyter's `normalize.less` sets `[hidden] { display: none; }` but bootstrap.min.css set `[hidden] { display: none !important; }` so we also need the `!important` here to be able to override the default hidden behavior on the sphinx rendered scikit-learn.org. See: https://github.com/scikit-learn/scikit-learn/issues/21755 */display: inline-block !important;position: relative;}#sk-container-id-2 div.sk-text-repr-fallback {display: none;}</style><div id=\"sk-container-id-2\" class=\"sk-top-container\"><div class=\"sk-text-repr-fallback\"><pre>DecisionTreeClassifier(class_weight=&#x27;balanced&#x27;, random_state=12345)</pre><b>In a Jupyter environment, please rerun this cell to show the HTML representation or trust the notebook. <br />On GitHub, the HTML representation is unable to render, please try loading this page with nbviewer.org.</b></div><div class=\"sk-container\" hidden><div class=\"sk-item\"><div class=\"sk-estimator sk-toggleable\"><input class=\"sk-toggleable__control sk-hidden--visually\" id=\"sk-estimator-id-2\" type=\"checkbox\" checked><label for=\"sk-estimator-id-2\" class=\"sk-toggleable__label sk-toggleable__label-arrow\">DecisionTreeClassifier</label><div class=\"sk-toggleable__content\"><pre>DecisionTreeClassifier(class_weight=&#x27;balanced&#x27;, random_state=12345)</pre></div></div></div></div></div>"
            ]
          },
          "metadata": {},
          "execution_count": 123
        }
      ],
      "source": [
        "%%time\n",
        "\n",
        "# Inisialisasi model Decision Tree Classifier\n",
        "model_dt = DecisionTreeClassifier(class_weight='balanced', random_state=12345)\n",
        "model_dt.fit(features_train, target_train)"
      ]
    },
    {
      "cell_type": "code",
      "execution_count": 124,
      "metadata": {
        "id": "B-kaJjVW_4LS"
      },
      "outputs": [],
      "source": [
        "# Create a GridSearchCV object\n",
        "grid_search = GridSearchCV(estimator=model_dt, param_grid=param_grid_dt, cv=5, scoring='roc_auc')"
      ]
    },
    {
      "cell_type": "code",
      "execution_count": 125,
      "metadata": {
        "colab": {
          "base_uri": "https://localhost:8080/"
        },
        "id": "rfxM38-p_4LS",
        "outputId": "0a000a07-d6f3-4bfe-8cd7-0037a9ff5092"
      },
      "outputs": [
        {
          "output_type": "stream",
          "name": "stdout",
          "text": [
            "Best Hyperparameters: {'max_depth': 5, 'min_samples_leaf': 2, 'min_samples_split': 10}\n"
          ]
        }
      ],
      "source": [
        "# Perform the search for the best hyperparameters\n",
        "grid_search.fit(features_train, target_train)\n",
        "\n",
        "# Print the best hyperparameters\n",
        "print(\"Best Hyperparameters:\", grid_search.best_params_)\n"
      ]
    },
    {
      "cell_type": "code",
      "execution_count": 126,
      "metadata": {
        "colab": {
          "base_uri": "https://localhost:8080/",
          "height": 1000
        },
        "id": "eCBjQHcT_4LS",
        "outputId": "70df9cf6-dfe0-4ff0-e2f0-865867473abd"
      },
      "outputs": [
        {
          "output_type": "stream",
          "name": "stdout",
          "text": [
            "----------------Training----------------\n",
            "Confusion Matrix\n",
            "[[1228  258]\n",
            " [1237 2902]]\n",
            "Accuracy         : 73.4 %\n",
            "ROC AUC          : 76.4 %\n",
            "Precision Class 0: 49.8 %\n",
            "Precision Class 1: 91.8 %\n",
            "Recall Class 0   : 82.6 %\n",
            "Recall Class 1   : 70.1 %\n",
            "F1 Score Class 0 : 62.2 %\n",
            "F1 Score Class 1 : 79.5 %\n",
            "\n",
            "----------------Kurva ROC Training----------------\n"
          ]
        },
        {
          "output_type": "display_data",
          "data": {
            "text/plain": [
              "<Figure size 640x480 with 1 Axes>"
            ],
            "image/png": "[encoded data removed]"
          },
          "metadata": {}
        },
        {
          "output_type": "stream",
          "name": "stdout",
          "text": [
            "\n",
            "----------------Testing----------------\n",
            "Confusion Matrix\n",
            "[[311  72]\n",
            " [318 706]]\n",
            "Accuracy         : 72.3 %\n",
            "ROC AUC          : 75.1 %\n",
            "Precision Class 0: 49.4 %\n",
            "Precision Class 1: 90.7 %\n",
            "Recall Class 0   : 81.2 %\n",
            "Recall Class 1   : 68.9 %\n",
            "F1 Score Class 0 : 61.5 %\n",
            "F1 Score Class 1 : 78.4 %\n",
            "\n",
            "----------------Kurva ROC Testing----------------\n"
          ]
        },
        {
          "output_type": "display_data",
          "data": {
            "text/plain": [
              "<Figure size 640x480 with 1 Axes>"
            ],
            "image/png": "[encoded data removed]"
          },
          "metadata": {}
        },
        {
          "output_type": "stream",
          "name": "stdout",
          "text": [
            "CPU times: user 517 ms, sys: 218 ms, total: 735 ms\n",
            "Wall time: 513 ms\n"
          ]
        }
      ],
      "source": [
        "%%time\n",
        "\n",
        "# Evaluate the model with the best hyperparameters\n",
        "best_model = grid_search.best_estimator_\n",
        "class_eval(model=best_model, features_train=features_train, features_test=features_test, target_train=target_train, target_test=target_test)"
      ]
    },
    {
      "cell_type": "markdown",
      "source": [
        "The decision tree model was trained and evaluated using a grid search to find the best hyperparameters. Here's a summary of the process and insights gained:\n",
        "\n",
        "1. Hyperparameter Tuning:\n",
        "  * The hyperparameters explored were max_depth, min_samples_split, and min_samples_leaf.\n",
        "  * Grid search was employed to try different combinations of these hyperparameters and find the optimal set that maximizes the model's performance, measured by the ROC AUC score.\n",
        "2. Best Hyperparameters:\n",
        "  * After conducting the grid search, the best hyperparameters for the decision tree model were determined as follows:\n",
        "    * max_depth: 5\n",
        "    * min_samples_leaf: 2\n",
        "    * min_samples_split: 10\n",
        "3. Model Evaluation:\n",
        "  * The model's performance was evaluated on both the training and testing datasets using various metrics such as accuracy, ROC AUC score, precision, recall, and F1-score for each class.\n",
        "  * The evaluation results indicate how well the model generalizes to unseen data.\n",
        "4. Performance Insights:\n",
        "  * The model achieved an accuracy of approximately 73.4% on the training data and 72.3% on the testing data.\n",
        "  * The ROC AUC score, which measures the model's ability to distinguish between positive and negative cases, was around 76.4% on the training set and 75.1% on the testing set.\n",
        "  * Precision, recall, and F1-scores were calculated for both classes (churned and not churned) to provide insights into the model's performance across different aspects of classification.\n",
        "\n",
        "**Conclusion:**\n",
        "  * The decision tree model, with the optimized hyperparameters, demonstrates moderate performance in predicting customer churn.\n",
        "  * While the model shows reasonably good accuracy and ROC AUC scores, there's room for improvement in precision and recall, especially for class 0 (not churned).\n",
        "  * Further optimization or exploration of other machine learning algorithms may be necessary to enhance the model's predictive capabilities and better address the challenges of customer churn prediction."
      ],
      "metadata": {
        "id": "KddxTwmStk5V"
      }
    },
    {
      "cell_type": "markdown",
      "metadata": {
        "id": "OSx4Xd4j_4LS"
      },
      "source": [
        "## Random Forest"
      ]
    },
    {
      "cell_type": "code",
      "execution_count": 127,
      "metadata": {
        "id": "nxXwP8D-_4LS"
      },
      "outputs": [],
      "source": [
        "param_grid_rf = {\n",
        "    'n_estimators': [50, 100, 150],\n",
        "    'max_depth': [None, 10, 20],\n",
        "    'min_samples_split': [2, 5, 10],\n",
        "    'min_samples_leaf': [1, 2, 4]\n",
        "}"
      ]
    },
    {
      "cell_type": "code",
      "execution_count": 128,
      "metadata": {
        "colab": {
          "base_uri": "https://localhost:8080/",
          "height": 109
        },
        "id": "EgT4ASpn_4LT",
        "outputId": "62d0d8ac-94f2-4684-bb23-2212baa55369"
      },
      "outputs": [
        {
          "output_type": "stream",
          "name": "stdout",
          "text": [
            "CPU times: user 1.16 s, sys: 26.4 ms, total: 1.19 s\n",
            "Wall time: 2.74 s\n"
          ]
        },
        {
          "output_type": "execute_result",
          "data": {
            "text/plain": [
              "RandomForestClassifier(class_weight='balanced', random_state=12345)"
            ],
            "text/html": [
              "<style>#sk-container-id-3 {color: black;background-color: white;}#sk-container-id-3 pre{padding: 0;}#sk-container-id-3 div.sk-toggleable {background-color: white;}#sk-container-id-3 label.sk-toggleable__label {cursor: pointer;display: block;width: 100%;margin-bottom: 0;padding: 0.3em;box-sizing: border-box;text-align: center;}#sk-container-id-3 label.sk-toggleable__label-arrow:before {content: \"▸\";float: left;margin-right: 0.25em;color: #696969;}#sk-container-id-3 label.sk-toggleable__label-arrow:hover:before {color: black;}#sk-container-id-3 div.sk-estimator:hover label.sk-toggleable__label-arrow:before {color: black;}#sk-container-id-3 div.sk-toggleable__content {max-height: 0;max-width: 0;overflow: hidden;text-align: left;background-color: #f0f8ff;}#sk-container-id-3 div.sk-toggleable__content pre {margin: 0.2em;color: black;border-radius: 0.25em;background-color: #f0f8ff;}#sk-container-id-3 input.sk-toggleable__control:checked~div.sk-toggleable__content {max-height: 200px;max-width: 100%;overflow: auto;}#sk-container-id-3 input.sk-toggleable__control:checked~label.sk-toggleable__label-arrow:before {content: \"▾\";}#sk-container-id-3 div.sk-estimator input.sk-toggleable__control:checked~label.sk-toggleable__label {background-color: #d4ebff;}#sk-container-id-3 div.sk-label input.sk-toggleable__control:checked~label.sk-toggleable__label {background-color: #d4ebff;}#sk-container-id-3 input.sk-hidden--visually {border: 0;clip: rect(1px 1px 1px 1px);clip: rect(1px, 1px, 1px, 1px);height: 1px;margin: -1px;overflow: hidden;padding: 0;position: absolute;width: 1px;}#sk-container-id-3 div.sk-estimator {font-family: monospace;background-color: #f0f8ff;border: 1px dotted black;border-radius: 0.25em;box-sizing: border-box;margin-bottom: 0.5em;}#sk-container-id-3 div.sk-estimator:hover {background-color: #d4ebff;}#sk-container-id-3 div.sk-parallel-item::after {content: \"\";width: 100%;border-bottom: 1px solid gray;flex-grow: 1;}#sk-container-id-3 div.sk-label:hover label.sk-toggleable__label {background-color: #d4ebff;}#sk-container-id-3 div.sk-serial::before {content: \"\";position: absolute;border-left: 1px solid gray;box-sizing: border-box;top: 0;bottom: 0;left: 50%;z-index: 0;}#sk-container-id-3 div.sk-serial {display: flex;flex-direction: column;align-items: center;background-color: white;padding-right: 0.2em;padding-left: 0.2em;position: relative;}#sk-container-id-3 div.sk-item {position: relative;z-index: 1;}#sk-container-id-3 div.sk-parallel {display: flex;align-items: stretch;justify-content: center;background-color: white;position: relative;}#sk-container-id-3 div.sk-item::before, #sk-container-id-3 div.sk-parallel-item::before {content: \"\";position: absolute;border-left: 1px solid gray;box-sizing: border-box;top: 0;bottom: 0;left: 50%;z-index: -1;}#sk-container-id-3 div.sk-parallel-item {display: flex;flex-direction: column;z-index: 1;position: relative;background-color: white;}#sk-container-id-3 div.sk-parallel-item:first-child::after {align-self: flex-end;width: 50%;}#sk-container-id-3 div.sk-parallel-item:last-child::after {align-self: flex-start;width: 50%;}#sk-container-id-3 div.sk-parallel-item:only-child::after {width: 0;}#sk-container-id-3 div.sk-dashed-wrapped {border: 1px dashed gray;margin: 0 0.4em 0.5em 0.4em;box-sizing: border-box;padding-bottom: 0.4em;background-color: white;}#sk-container-id-3 div.sk-label label {font-family: monospace;font-weight: bold;display: inline-block;line-height: 1.2em;}#sk-container-id-3 div.sk-label-container {text-align: center;}#sk-container-id-3 div.sk-container {/* jupyter's `normalize.less` sets `[hidden] { display: none; }` but bootstrap.min.css set `[hidden] { display: none !important; }` so we also need the `!important` here to be able to override the default hidden behavior on the sphinx rendered scikit-learn.org. See: https://github.com/scikit-learn/scikit-learn/issues/21755 */display: inline-block !important;position: relative;}#sk-container-id-3 div.sk-text-repr-fallback {display: none;}</style><div id=\"sk-container-id-3\" class=\"sk-top-container\"><div class=\"sk-text-repr-fallback\"><pre>RandomForestClassifier(class_weight=&#x27;balanced&#x27;, random_state=12345)</pre><b>In a Jupyter environment, please rerun this cell to show the HTML representation or trust the notebook. <br />On GitHub, the HTML representation is unable to render, please try loading this page with nbviewer.org.</b></div><div class=\"sk-container\" hidden><div class=\"sk-item\"><div class=\"sk-estimator sk-toggleable\"><input class=\"sk-toggleable__control sk-hidden--visually\" id=\"sk-estimator-id-3\" type=\"checkbox\" checked><label for=\"sk-estimator-id-3\" class=\"sk-toggleable__label sk-toggleable__label-arrow\">RandomForestClassifier</label><div class=\"sk-toggleable__content\"><pre>RandomForestClassifier(class_weight=&#x27;balanced&#x27;, random_state=12345)</pre></div></div></div></div></div>"
            ]
          },
          "metadata": {},
          "execution_count": 128
        }
      ],
      "source": [
        "%%time\n",
        "\n",
        "model_rf = RandomForestClassifier(class_weight='balanced', random_state=12345)\n",
        "model_rf.fit(features_train, target_train)"
      ]
    },
    {
      "cell_type": "code",
      "execution_count": 129,
      "metadata": {
        "id": "y5wgx-9e_4LT"
      },
      "outputs": [],
      "source": [
        "# Create a GridSearchCV object\n",
        "grid_search = GridSearchCV(estimator=model_rf, param_grid=param_grid_rf, cv=5, scoring='roc_auc')"
      ]
    },
    {
      "cell_type": "code",
      "execution_count": 130,
      "metadata": {
        "colab": {
          "base_uri": "https://localhost:8080/"
        },
        "id": "iywa9M-P_4LT",
        "outputId": "3911d453-6003-42f2-f5b4-d4c44783079e"
      },
      "outputs": [
        {
          "output_type": "stream",
          "name": "stdout",
          "text": [
            "Best Hyperparameters: {'max_depth': 10, 'min_samples_leaf': 4, 'min_samples_split': 2, 'n_estimators': 150}\n"
          ]
        }
      ],
      "source": [
        "# Perform the search for the best hyperparameters\n",
        "grid_search.fit(features_train, target_train)\n",
        "\n",
        "# Print the best hyperparameters\n",
        "print(\"Best Hyperparameters:\", grid_search.best_params_)"
      ]
    },
    {
      "cell_type": "code",
      "execution_count": 131,
      "metadata": {
        "colab": {
          "base_uri": "https://localhost:8080/",
          "height": 1000
        },
        "id": "DzKU8kJV_4LT",
        "outputId": "c2c41555-e05d-4734-f71a-4936202d473f"
      },
      "outputs": [
        {
          "output_type": "stream",
          "name": "stdout",
          "text": [
            "----------------Training----------------\n",
            "Confusion Matrix\n",
            "[[1291  195]\n",
            " [ 816 3323]]\n",
            "Accuracy         : 82.0 %\n",
            "ROC AUC          : 83.6 %\n",
            "Precision Class 0: 61.3 %\n",
            "Precision Class 1: 94.5 %\n",
            "Recall Class 0   : 86.9 %\n",
            "Recall Class 1   : 80.3 %\n",
            "F1 Score Class 0 : 71.9 %\n",
            "F1 Score Class 1 : 86.8 %\n",
            "\n",
            "----------------Kurva ROC Training----------------\n"
          ]
        },
        {
          "output_type": "display_data",
          "data": {
            "text/plain": [
              "<Figure size 640x480 with 1 Axes>"
            ],
            "image/png": "[encoded data removed]"
          },
          "metadata": {}
        },
        {
          "output_type": "stream",
          "name": "stdout",
          "text": [
            "\n",
            "----------------Testing----------------\n",
            "Confusion Matrix\n",
            "[[291  92]\n",
            " [238 786]]\n",
            "Accuracy         : 76.5 %\n",
            "ROC AUC          : 76.4 %\n",
            "Precision Class 0: 55.0 %\n",
            "Precision Class 1: 89.5 %\n",
            "Recall Class 0   : 76.0 %\n",
            "Recall Class 1   : 76.8 %\n",
            "F1 Score Class 0 : 63.8 %\n",
            "F1 Score Class 1 : 82.6 %\n",
            "\n",
            "----------------Kurva ROC Testing----------------\n"
          ]
        },
        {
          "output_type": "display_data",
          "data": {
            "text/plain": [
              "<Figure size 640x480 with 1 Axes>"
            ],
            "image/png": "[encoded data removed]"
          },
          "metadata": {}
        },
        {
          "output_type": "stream",
          "name": "stdout",
          "text": [
            "CPU times: user 1.03 s, sys: 114 ms, total: 1.15 s\n",
            "Wall time: 1.21 s\n"
          ]
        }
      ],
      "source": [
        "%%time\n",
        "\n",
        "# Evaluate the model with the best hyperparameters\n",
        "best_model = grid_search.best_estimator_\n",
        "class_eval(model=best_model, features_train=features_train, features_test=features_test, target_train=target_train, target_test=target_test)"
      ]
    },
    {
      "cell_type": "markdown",
      "source": [
        "The random forest model was trained and evaluated using a grid search to find the best hyperparameters. Here's a summary of the process and insights gained:\n",
        "\n",
        "1. Hyperparameter Tuning:\n",
        "  * The hyperparameters explored were n_estimators, max_depth, min_samples_split, and min_samples_leaf.\n",
        "  * Grid search was employed to try different combinations of these hyperparameters and find the optimal set that maximizes the model's performance, measured by the ROC AUC score.\n",
        "2. Best Hyperparameters:\n",
        "  * After conducting the grid search, the best hyperparameters for the random forest model were determined as follows:\n",
        "    * n_estimators: 150\n",
        "    * max_depth: 10\n",
        "    * min_samples_leaf: 4\n",
        "    * min_samples_split: 2\n",
        "3. Model Evaluation:\n",
        "  * The model's performance was evaluated on both the training and testing datasets using various metrics such as accuracy, ROC AUC score, precision, recall, and F1-score for each class.\n",
        "  * The evaluation results indicate how well the model generalizes to unseen data.\n",
        "4. Performance Insights:\n",
        "  * The random forest model achieved an accuracy of approximately 82.0% on the training data and 76.5% on the testing data.\n",
        "  * The ROC AUC score, which measures the model's ability to distinguish between positive and negative cases, was around 83.6% on the training set and 76.4% on the testing set.\n",
        "  * Precision, recall, and F1-scores were calculated for both classes (churned and not churned) to provide insights into the model's performance across different aspects of classification.\n",
        "\n",
        "**Conclusion:**\n",
        "  * The random forest model, with the optimized hyperparameters, demonstrates improved performance compared to the decision tree model.\n",
        "  * The model shows better accuracy, precision, recall, and ROC AUC scores on both the training and testing datasets.\n",
        "  * Random forest's ensemble approach helps to reduce overfitting and increase the model's robustness, leading to better predictive capabilities for customer churn prediction."
      ],
      "metadata": {
        "id": "45lGr73fvrau"
      }
    },
    {
      "cell_type": "markdown",
      "metadata": {
        "id": "QPxoHkH9_4LT"
      },
      "source": [
        "## Logistic Regression"
      ]
    },
    {
      "cell_type": "code",
      "execution_count": 132,
      "metadata": {
        "id": "OoXWLE04_4LT"
      },
      "outputs": [],
      "source": [
        "param_grid_rl = {\n",
        "    'C': [0.001, 0.01, 0.1, 1, 10],\n",
        "    'penalty': ['l1', 'l2']\n",
        "}"
      ]
    },
    {
      "cell_type": "code",
      "execution_count": 133,
      "metadata": {
        "colab": {
          "base_uri": "https://localhost:8080/",
          "height": 109
        },
        "id": "FsnAKjdw_4LT",
        "outputId": "0a153fc7-ff4b-4714-a606-12afa566e847"
      },
      "outputs": [
        {
          "output_type": "stream",
          "name": "stdout",
          "text": [
            "CPU times: user 179 ms, sys: 187 ms, total: 367 ms\n",
            "Wall time: 315 ms\n"
          ]
        },
        {
          "output_type": "execute_result",
          "data": {
            "text/plain": [
              "LogisticRegression(class_weight='balanced')"
            ],
            "text/html": [
              "<style>#sk-container-id-4 {color: black;background-color: white;}#sk-container-id-4 pre{padding: 0;}#sk-container-id-4 div.sk-toggleable {background-color: white;}#sk-container-id-4 label.sk-toggleable__label {cursor: pointer;display: block;width: 100%;margin-bottom: 0;padding: 0.3em;box-sizing: border-box;text-align: center;}#sk-container-id-4 label.sk-toggleable__label-arrow:before {content: \"▸\";float: left;margin-right: 0.25em;color: #696969;}#sk-container-id-4 label.sk-toggleable__label-arrow:hover:before {color: black;}#sk-container-id-4 div.sk-estimator:hover label.sk-toggleable__label-arrow:before {color: black;}#sk-container-id-4 div.sk-toggleable__content {max-height: 0;max-width: 0;overflow: hidden;text-align: left;background-color: #f0f8ff;}#sk-container-id-4 div.sk-toggleable__content pre {margin: 0.2em;color: black;border-radius: 0.25em;background-color: #f0f8ff;}#sk-container-id-4 input.sk-toggleable__control:checked~div.sk-toggleable__content {max-height: 200px;max-width: 100%;overflow: auto;}#sk-container-id-4 input.sk-toggleable__control:checked~label.sk-toggleable__label-arrow:before {content: \"▾\";}#sk-container-id-4 div.sk-estimator input.sk-toggleable__control:checked~label.sk-toggleable__label {background-color: #d4ebff;}#sk-container-id-4 div.sk-label input.sk-toggleable__control:checked~label.sk-toggleable__label {background-color: #d4ebff;}#sk-container-id-4 input.sk-hidden--visually {border: 0;clip: rect(1px 1px 1px 1px);clip: rect(1px, 1px, 1px, 1px);height: 1px;margin: -1px;overflow: hidden;padding: 0;position: absolute;width: 1px;}#sk-container-id-4 div.sk-estimator {font-family: monospace;background-color: #f0f8ff;border: 1px dotted black;border-radius: 0.25em;box-sizing: border-box;margin-bottom: 0.5em;}#sk-container-id-4 div.sk-estimator:hover {background-color: #d4ebff;}#sk-container-id-4 div.sk-parallel-item::after {content: \"\";width: 100%;border-bottom: 1px solid gray;flex-grow: 1;}#sk-container-id-4 div.sk-label:hover label.sk-toggleable__label {background-color: #d4ebff;}#sk-container-id-4 div.sk-serial::before {content: \"\";position: absolute;border-left: 1px solid gray;box-sizing: border-box;top: 0;bottom: 0;left: 50%;z-index: 0;}#sk-container-id-4 div.sk-serial {display: flex;flex-direction: column;align-items: center;background-color: white;padding-right: 0.2em;padding-left: 0.2em;position: relative;}#sk-container-id-4 div.sk-item {position: relative;z-index: 1;}#sk-container-id-4 div.sk-parallel {display: flex;align-items: stretch;justify-content: center;background-color: white;position: relative;}#sk-container-id-4 div.sk-item::before, #sk-container-id-4 div.sk-parallel-item::before {content: \"\";position: absolute;border-left: 1px solid gray;box-sizing: border-box;top: 0;bottom: 0;left: 50%;z-index: -1;}#sk-container-id-4 div.sk-parallel-item {display: flex;flex-direction: column;z-index: 1;position: relative;background-color: white;}#sk-container-id-4 div.sk-parallel-item:first-child::after {align-self: flex-end;width: 50%;}#sk-container-id-4 div.sk-parallel-item:last-child::after {align-self: flex-start;width: 50%;}#sk-container-id-4 div.sk-parallel-item:only-child::after {width: 0;}#sk-container-id-4 div.sk-dashed-wrapped {border: 1px dashed gray;margin: 0 0.4em 0.5em 0.4em;box-sizing: border-box;padding-bottom: 0.4em;background-color: white;}#sk-container-id-4 div.sk-label label {font-family: monospace;font-weight: bold;display: inline-block;line-height: 1.2em;}#sk-container-id-4 div.sk-label-container {text-align: center;}#sk-container-id-4 div.sk-container {/* jupyter's `normalize.less` sets `[hidden] { display: none; }` but bootstrap.min.css set `[hidden] { display: none !important; }` so we also need the `!important` here to be able to override the default hidden behavior on the sphinx rendered scikit-learn.org. See: https://github.com/scikit-learn/scikit-learn/issues/21755 */display: inline-block !important;position: relative;}#sk-container-id-4 div.sk-text-repr-fallback {display: none;}</style><div id=\"sk-container-id-4\" class=\"sk-top-container\"><div class=\"sk-text-repr-fallback\"><pre>LogisticRegression(class_weight=&#x27;balanced&#x27;)</pre><b>In a Jupyter environment, please rerun this cell to show the HTML representation or trust the notebook. <br />On GitHub, the HTML representation is unable to render, please try loading this page with nbviewer.org.</b></div><div class=\"sk-container\" hidden><div class=\"sk-item\"><div class=\"sk-estimator sk-toggleable\"><input class=\"sk-toggleable__control sk-hidden--visually\" id=\"sk-estimator-id-4\" type=\"checkbox\" checked><label for=\"sk-estimator-id-4\" class=\"sk-toggleable__label sk-toggleable__label-arrow\">LogisticRegression</label><div class=\"sk-toggleable__content\"><pre>LogisticRegression(class_weight=&#x27;balanced&#x27;)</pre></div></div></div></div></div>"
            ]
          },
          "metadata": {},
          "execution_count": 133
        }
      ],
      "source": [
        "%%time\n",
        "\n",
        "model_rl = LogisticRegression(class_weight='balanced')\n",
        "model_rl.fit(features_train, target_train)"
      ]
    },
    {
      "cell_type": "code",
      "execution_count": 134,
      "metadata": {
        "id": "LdTWV8N4_4LT"
      },
      "outputs": [],
      "source": [
        "# Create a GridSearchCV object\n",
        "grid_search = GridSearchCV(estimator=model_rl, param_grid=param_grid_rl, cv=5, scoring='roc_auc')"
      ]
    },
    {
      "cell_type": "code",
      "execution_count": 135,
      "metadata": {
        "colab": {
          "base_uri": "https://localhost:8080/"
        },
        "id": "qJQBSTnC_4LT",
        "outputId": "2573c74b-7dce-4681-aa52-8608f49deca3"
      },
      "outputs": [
        {
          "output_type": "stream",
          "name": "stdout",
          "text": [
            "Best Hyperparameters: {'C': 0.1, 'penalty': 'l2'}\n"
          ]
        }
      ],
      "source": [
        "# Perform the search for the best hyperparameters\n",
        "grid_search.fit(features_train, target_train)\n",
        "\n",
        "# Print the best hyperparameters\n",
        "print(\"Best Hyperparameters:\", grid_search.best_params_)"
      ]
    },
    {
      "cell_type": "code",
      "execution_count": 136,
      "metadata": {
        "colab": {
          "base_uri": "https://localhost:8080/",
          "height": 1000
        },
        "id": "Ccu7j1UF_4LT",
        "outputId": "78d0cb4d-34ac-42c7-a811-5b73c7af78e3"
      },
      "outputs": [
        {
          "output_type": "stream",
          "name": "stdout",
          "text": [
            "----------------Training----------------\n",
            "Confusion Matrix\n",
            "[[1168  318]\n",
            " [1106 3033]]\n",
            "Accuracy         : 74.7 %\n",
            "ROC AUC          : 75.9 %\n",
            "Precision Class 0: 51.4 %\n",
            "Precision Class 1: 90.5 %\n",
            "Recall Class 0   : 78.6 %\n",
            "Recall Class 1   : 73.3 %\n",
            "F1 Score Class 0 : 62.1 %\n",
            "F1 Score Class 1 : 81.0 %\n",
            "\n",
            "----------------Kurva ROC Training----------------\n"
          ]
        },
        {
          "output_type": "display_data",
          "data": {
            "text/plain": [
              "<Figure size 640x480 with 1 Axes>"
            ],
            "image/png": "[encoded data removed]"
          },
          "metadata": {}
        },
        {
          "output_type": "stream",
          "name": "stdout",
          "text": [
            "\n",
            "----------------Testing----------------\n",
            "Confusion Matrix\n",
            "[[299  84]\n",
            " [267 757]]\n",
            "Accuracy         : 75.1 %\n",
            "ROC AUC          : 76.0 %\n",
            "Precision Class 0: 52.8 %\n",
            "Precision Class 1: 90.0 %\n",
            "Recall Class 0   : 78.1 %\n",
            "Recall Class 1   : 73.9 %\n",
            "F1 Score Class 0 : 63.0 %\n",
            "F1 Score Class 1 : 81.2 %\n",
            "\n",
            "----------------Kurva ROC Testing----------------\n"
          ]
        },
        {
          "output_type": "display_data",
          "data": {
            "text/plain": [
              "<Figure size 640x480 with 1 Axes>"
            ],
            "image/png": "[encoded data removed]"
          },
          "metadata": {}
        },
        {
          "output_type": "stream",
          "name": "stdout",
          "text": [
            "CPU times: user 630 ms, sys: 166 ms, total: 796 ms\n",
            "Wall time: 796 ms\n"
          ]
        }
      ],
      "source": [
        "%%time\n",
        "\n",
        "# Evaluate the model with the best hyperparameters\n",
        "best_model = grid_search.best_estimator_\n",
        "class_eval(model=best_model, features_train=features_train, features_test=features_test, target_train=target_train, target_test=target_test)"
      ]
    },
    {
      "cell_type": "markdown",
      "source": [
        "The logistic regression model was optimized using grid search to find the best hyperparameters. Here's a summary of the process and insights gained:\n",
        "\n",
        "1. Hyperparameter Tuning:\n",
        "  * The hyperparameters explored were C (inverse of regularization strength) and penalty (type of regularization).\n",
        "  * Grid search was performed to try different combinations of these hyperparameters and identify the optimal set that maximizes the model's performance, measured by the ROC AUC score.\n",
        "2. Best Hyperparameters:\n",
        "  * After the grid search, the best hyperparameters for the logistic regression model were found to be:\n",
        "    * C: 0.1\n",
        "    * penalty: 'l2'\n",
        "3. Model Evaluation:\n",
        "  * The performance of the model was evaluated on both the training and testing datasets using various metrics such as accuracy, ROC AUC score, precision, recall, and F1-score for each class.\n",
        "  * These evaluation metrics provide insights into how well the model generalizes to unseen data and its ability to correctly classify instances of churn.\n",
        "4. Performance Insights:\n",
        "  * The logistic regression model achieved an accuracy of approximately 74.7% on the training data and 75.1% on the testing data.\n",
        "  * The ROC AUC score, which indicates the model's ability to distinguish between positive and negative cases, was around 75.9% on the training set and 76.0% on the testing set.\n",
        "  * Precision, recall, and F1-scores were calculated for both classes (churned and not churned) to provide a comprehensive understanding of the model's performance across different aspects of classification.\n",
        "5. Comparison with Other Models:\n",
        "  * The logistic regression model's performance is comparable to that of the random forest model in terms of accuracy and ROC AUC score.\n",
        "  * However, logistic regression generally provides interpretable coefficients, making it easier to understand the impact of each feature on the prediction compared to ensemble methods like random forest.\n",
        "\n",
        "**Conclusion:**\n",
        "  * The logistic regression model, with the optimized hyperparameters, demonstrates reasonable performance for predicting customer churn.\n",
        "  * Its simplicity and interpretability make it a suitable choice for scenarios where understanding the factors influencing churn is as important as prediction accuracy."
      ],
      "metadata": {
        "id": "xJ8N0eqrxFfS"
      }
    },
    {
      "cell_type": "markdown",
      "metadata": {
        "id": "vU88Zoce_4LU"
      },
      "source": [
        "## XG Boost"
      ]
    },
    {
      "cell_type": "code",
      "execution_count": 137,
      "metadata": {
        "id": "lOzBjHpZ_4LU"
      },
      "outputs": [],
      "source": [
        "param_grid_xg = {\n",
        "    'max_depth': [3, 5, 7],\n",
        "    'n_estimators': [50, 100, 200],\n",
        "    'learning_rate': [0.01, 0.1, 0.3],\n",
        "    'scale_pos_weight': [1, 5, 10, 20]\n",
        "}"
      ]
    },
    {
      "cell_type": "code",
      "execution_count": 138,
      "metadata": {
        "colab": {
          "base_uri": "https://localhost:8080/",
          "height": 283
        },
        "id": "oV9FmUA2_4LU",
        "outputId": "7bdb303c-7180-450c-82c6-aef1fdf561da"
      },
      "outputs": [
        {
          "output_type": "stream",
          "name": "stdout",
          "text": [
            "CPU times: user 902 ms, sys: 14 ms, total: 916 ms\n",
            "Wall time: 1.19 s\n"
          ]
        },
        {
          "output_type": "execute_result",
          "data": {
            "text/plain": [
              "XGBClassifier(base_score=None, booster=None, callbacks=None,\n",
              "              colsample_bylevel=None, colsample_bynode=None,\n",
              "              colsample_bytree=None, device=None, early_stopping_rounds=None,\n",
              "              enable_categorical=False, eval_metric=None, feature_types=None,\n",
              "              gamma=None, grow_policy=None, importance_type=None,\n",
              "              interaction_constraints=None, learning_rate=None, max_bin=None,\n",
              "              max_cat_threshold=None, max_cat_to_onehot=None,\n",
              "              max_delta_step=None, max_depth=None, max_leaves=None,\n",
              "              min_child_weight=None, missing=nan, monotone_constraints=None,\n",
              "              multi_strategy=None, n_estimators=None, n_jobs=None,\n",
              "              num_parallel_tree=None, random_state=None, ...)"
            ],
            "text/html": [
              "<style>#sk-container-id-5 {color: black;background-color: white;}#sk-container-id-5 pre{padding: 0;}#sk-container-id-5 div.sk-toggleable {background-color: white;}#sk-container-id-5 label.sk-toggleable__label {cursor: pointer;display: block;width: 100%;margin-bottom: 0;padding: 0.3em;box-sizing: border-box;text-align: center;}#sk-container-id-5 label.sk-toggleable__label-arrow:before {content: \"▸\";float: left;margin-right: 0.25em;color: #696969;}#sk-container-id-5 label.sk-toggleable__label-arrow:hover:before {color: black;}#sk-container-id-5 div.sk-estimator:hover label.sk-toggleable__label-arrow:before {color: black;}#sk-container-id-5 div.sk-toggleable__content {max-height: 0;max-width: 0;overflow: hidden;text-align: left;background-color: #f0f8ff;}#sk-container-id-5 div.sk-toggleable__content pre {margin: 0.2em;color: black;border-radius: 0.25em;background-color: #f0f8ff;}#sk-container-id-5 input.sk-toggleable__control:checked~div.sk-toggleable__content {max-height: 200px;max-width: 100%;overflow: auto;}#sk-container-id-5 input.sk-toggleable__control:checked~label.sk-toggleable__label-arrow:before {content: \"▾\";}#sk-container-id-5 div.sk-estimator input.sk-toggleable__control:checked~label.sk-toggleable__label {background-color: #d4ebff;}#sk-container-id-5 div.sk-label input.sk-toggleable__control:checked~label.sk-toggleable__label {background-color: #d4ebff;}#sk-container-id-5 input.sk-hidden--visually {border: 0;clip: rect(1px 1px 1px 1px);clip: rect(1px, 1px, 1px, 1px);height: 1px;margin: -1px;overflow: hidden;padding: 0;position: absolute;width: 1px;}#sk-container-id-5 div.sk-estimator {font-family: monospace;background-color: #f0f8ff;border: 1px dotted black;border-radius: 0.25em;box-sizing: border-box;margin-bottom: 0.5em;}#sk-container-id-5 div.sk-estimator:hover {background-color: #d4ebff;}#sk-container-id-5 div.sk-parallel-item::after {content: \"\";width: 100%;border-bottom: 1px solid gray;flex-grow: 1;}#sk-container-id-5 div.sk-label:hover label.sk-toggleable__label {background-color: #d4ebff;}#sk-container-id-5 div.sk-serial::before {content: \"\";position: absolute;border-left: 1px solid gray;box-sizing: border-box;top: 0;bottom: 0;left: 50%;z-index: 0;}#sk-container-id-5 div.sk-serial {display: flex;flex-direction: column;align-items: center;background-color: white;padding-right: 0.2em;padding-left: 0.2em;position: relative;}#sk-container-id-5 div.sk-item {position: relative;z-index: 1;}#sk-container-id-5 div.sk-parallel {display: flex;align-items: stretch;justify-content: center;background-color: white;position: relative;}#sk-container-id-5 div.sk-item::before, #sk-container-id-5 div.sk-parallel-item::before {content: \"\";position: absolute;border-left: 1px solid gray;box-sizing: border-box;top: 0;bottom: 0;left: 50%;z-index: -1;}#sk-container-id-5 div.sk-parallel-item {display: flex;flex-direction: column;z-index: 1;position: relative;background-color: white;}#sk-container-id-5 div.sk-parallel-item:first-child::after {align-self: flex-end;width: 50%;}#sk-container-id-5 div.sk-parallel-item:last-child::after {align-self: flex-start;width: 50%;}#sk-container-id-5 div.sk-parallel-item:only-child::after {width: 0;}#sk-container-id-5 div.sk-dashed-wrapped {border: 1px dashed gray;margin: 0 0.4em 0.5em 0.4em;box-sizing: border-box;padding-bottom: 0.4em;background-color: white;}#sk-container-id-5 div.sk-label label {font-family: monospace;font-weight: bold;display: inline-block;line-height: 1.2em;}#sk-container-id-5 div.sk-label-container {text-align: center;}#sk-container-id-5 div.sk-container {/* jupyter's `normalize.less` sets `[hidden] { display: none; }` but bootstrap.min.css set `[hidden] { display: none !important; }` so we also need the `!important` here to be able to override the default hidden behavior on the sphinx rendered scikit-learn.org. See: https://github.com/scikit-learn/scikit-learn/issues/21755 */display: inline-block !important;position: relative;}#sk-container-id-5 div.sk-text-repr-fallback {display: none;}</style><div id=\"sk-container-id-5\" class=\"sk-top-container\"><div class=\"sk-text-repr-fallback\"><pre>XGBClassifier(base_score=None, booster=None, callbacks=None,\n",
              "              colsample_bylevel=None, colsample_bynode=None,\n",
              "              colsample_bytree=None, device=None, early_stopping_rounds=None,\n",
              "              enable_categorical=False, eval_metric=None, feature_types=None,\n",
              "              gamma=None, grow_policy=None, importance_type=None,\n",
              "              interaction_constraints=None, learning_rate=None, max_bin=None,\n",
              "              max_cat_threshold=None, max_cat_to_onehot=None,\n",
              "              max_delta_step=None, max_depth=None, max_leaves=None,\n",
              "              min_child_weight=None, missing=nan, monotone_constraints=None,\n",
              "              multi_strategy=None, n_estimators=None, n_jobs=None,\n",
              "              num_parallel_tree=None, random_state=None, ...)</pre><b>In a Jupyter environment, please rerun this cell to show the HTML representation or trust the notebook. <br />On GitHub, the HTML representation is unable to render, please try loading this page with nbviewer.org.</b></div><div class=\"sk-container\" hidden><div class=\"sk-item\"><div class=\"sk-estimator sk-toggleable\"><input class=\"sk-toggleable__control sk-hidden--visually\" id=\"sk-estimator-id-5\" type=\"checkbox\" checked><label for=\"sk-estimator-id-5\" class=\"sk-toggleable__label sk-toggleable__label-arrow\">XGBClassifier</label><div class=\"sk-toggleable__content\"><pre>XGBClassifier(base_score=None, booster=None, callbacks=None,\n",
              "              colsample_bylevel=None, colsample_bynode=None,\n",
              "              colsample_bytree=None, device=None, early_stopping_rounds=None,\n",
              "              enable_categorical=False, eval_metric=None, feature_types=None,\n",
              "              gamma=None, grow_policy=None, importance_type=None,\n",
              "              interaction_constraints=None, learning_rate=None, max_bin=None,\n",
              "              max_cat_threshold=None, max_cat_to_onehot=None,\n",
              "              max_delta_step=None, max_depth=None, max_leaves=None,\n",
              "              min_child_weight=None, missing=nan, monotone_constraints=None,\n",
              "              multi_strategy=None, n_estimators=None, n_jobs=None,\n",
              "              num_parallel_tree=None, random_state=None, ...)</pre></div></div></div></div></div>"
            ]
          },
          "metadata": {},
          "execution_count": 138
        }
      ],
      "source": [
        "%%time\n",
        "\n",
        "\n",
        "model_xg = XGBClassifier()\n",
        "\n",
        "model_xg.fit(features_train, target_train)"
      ]
    },
    {
      "cell_type": "code",
      "execution_count": 139,
      "metadata": {
        "id": "0SoUNFSQ_4LU"
      },
      "outputs": [],
      "source": [
        "# Create a GridSearchCV object\n",
        "grid_search = GridSearchCV(estimator=model_xg, param_grid=param_grid_xg, cv=5, scoring='roc_auc')"
      ]
    },
    {
      "cell_type": "code",
      "execution_count": 140,
      "metadata": {
        "colab": {
          "base_uri": "https://localhost:8080/"
        },
        "id": "1PQJ2xt2_4LU",
        "outputId": "93a4a4e8-72f0-4a36-b04d-e8f80273a933"
      },
      "outputs": [
        {
          "output_type": "stream",
          "name": "stdout",
          "text": [
            "Best Hyperparameters: {'learning_rate': 0.1, 'max_depth': 3, 'n_estimators': 50, 'scale_pos_weight': 1}\n"
          ]
        }
      ],
      "source": [
        "# Perform the search for the best hyperparameters\n",
        "grid_search.fit(features_train, target_train)\n",
        "\n",
        "# Print the best hyperparameters\n",
        "print(\"Best Hyperparameters:\", grid_search.best_params_)"
      ]
    },
    {
      "cell_type": "code",
      "execution_count": 141,
      "metadata": {
        "colab": {
          "base_uri": "https://localhost:8080/",
          "height": 1000
        },
        "id": "En5LuJxT_4LU",
        "outputId": "393f7f00-f38d-4ecf-c0e8-fa61deb16b1c"
      },
      "outputs": [
        {
          "output_type": "stream",
          "name": "stdout",
          "text": [
            "----------------Training----------------\n",
            "Confusion Matrix\n",
            "[[ 772  714]\n",
            " [ 325 3814]]\n",
            "Accuracy         : 81.5 %\n",
            "ROC AUC          : 72.0 %\n",
            "Precision Class 0: 70.4 %\n",
            "Precision Class 1: 84.2 %\n",
            "Recall Class 0   : 52.0 %\n",
            "Recall Class 1   : 92.1 %\n",
            "F1 Score Class 0 : 59.8 %\n",
            "F1 Score Class 1 : 88.0 %\n",
            "\n",
            "----------------Kurva ROC Training----------------\n"
          ]
        },
        {
          "output_type": "display_data",
          "data": {
            "text/plain": [
              "<Figure size 640x480 with 1 Axes>"
            ],
            "image/png": "[encoded data removed]"
          },
          "metadata": {}
        },
        {
          "output_type": "stream",
          "name": "stdout",
          "text": [
            "\n",
            "----------------Testing----------------\n",
            "Confusion Matrix\n",
            "[[189 194]\n",
            " [ 81 943]]\n",
            "Accuracy         : 80.5 %\n",
            "ROC AUC          : 70.7 %\n",
            "Precision Class 0: 70.0 %\n",
            "Precision Class 1: 82.9 %\n",
            "Recall Class 0   : 49.3 %\n",
            "Recall Class 1   : 92.1 %\n",
            "F1 Score Class 0 : 57.9 %\n",
            "F1 Score Class 1 : 87.3 %\n",
            "\n",
            "----------------Kurva ROC Testing----------------\n"
          ]
        },
        {
          "output_type": "display_data",
          "data": {
            "text/plain": [
              "<Figure size 640x480 with 1 Axes>"
            ],
            "image/png": "[encoded data removed]"
          },
          "metadata": {}
        },
        {
          "output_type": "stream",
          "name": "stdout",
          "text": [
            "CPU times: user 604 ms, sys: 218 ms, total: 822 ms\n",
            "Wall time: 539 ms\n"
          ]
        }
      ],
      "source": [
        "%%time\n",
        "\n",
        "# Evaluate the model with the best hyperparameters\n",
        "best_model = grid_search.best_estimator_\n",
        "class_eval(model=best_model, features_train=features_train, features_test=features_test, target_train=target_train, target_test=target_test)"
      ]
    },
    {
      "cell_type": "markdown",
      "source": [
        "XGBoost, a popular gradient boosting algorithm, was employed to predict customer churn. Here's a summary of the process and insights derived:\n",
        "\n",
        "1. Hyperparameter Tuning:\n",
        "  * Various hyperparameters such as max_depth, n_estimators, learning_rate, and scale_pos_weight were explored using grid search to determine the optimal combination.\n",
        "  * Grid search was performed to find the set of hyperparameters that maximizes the model's performance, evaluated using the ROC AUC score.\n",
        "2. Best Hyperparameters:\n",
        "  * After the grid search, the best hyperparameters for the XGBoost model were determined to be:\n",
        "  * learning_rate: 0.1\n",
        "  * max_depth: 3\n",
        "  * n_estimators: 50\n",
        "  * scale_pos_weight: 1\n",
        "3. Model Evaluation:\n",
        "  * The model's performance was evaluated on both the training and testing datasets using various metrics including accuracy, ROC AUC score, precision, recall, and F1-score for each class.\n",
        "  * These evaluation metrics provide insights into the model's ability to correctly classify instances of churn and its performance on unseen data.\n",
        "4. Performance Insights:\n",
        "  * The XGBoost model achieved an accuracy of approximately 81.5% on the training data and 80.5% on the testing data.\n",
        "  * The ROC AUC score, indicating the model's ability to distinguish between positive and negative cases, was around 72.0% on the training set and 70.7% on the testing set.\n",
        "  * Precision, recall, and F1-scores were calculated for both classes (churned and not churned), providing a comprehensive understanding of the model's performance across different aspects of classification.\n",
        "5. Comparison with Other Models:\n",
        "  * The XGBoost model's performance is comparable to that of the logistic regression and random forest models in terms of accuracy and ROC AUC score.\n",
        "  * However, XGBoost often provides better performance in terms of predictive accuracy and generalization, especially in complex datasets with nonlinear relationships.\n",
        "\n",
        "**Conclusion:**\n",
        "  * The XGBoost model, with the optimized hyperparameters, demonstrates competitive performance for predicting customer churn.\n",
        "  * Its ability to handle nonlinear relationships and feature interactions makes it a powerful tool for churn prediction tasks, especially in scenarios where maximizing predictive accuracy is crucial."
      ],
      "metadata": {
        "id": "Z4A09rkQy7Q-"
      }
    },
    {
      "cell_type": "markdown",
      "metadata": {
        "id": "Dk8SNExz_4LU"
      },
      "source": [
        "## Gradient Boosting Classifier"
      ]
    },
    {
      "cell_type": "code",
      "execution_count": 142,
      "metadata": {
        "id": "Ty4_6xQJ_4LU"
      },
      "outputs": [],
      "source": [
        "param_grid_gb = {\n",
        "    'n_estimators': [50, 100, 150],\n",
        "    'learning_rate': [0.1, 0.01, 0.001],\n",
        "    'max_depth': [3, 5, 7]\n",
        "}"
      ]
    },
    {
      "cell_type": "code",
      "execution_count": 143,
      "metadata": {
        "colab": {
          "base_uri": "https://localhost:8080/",
          "height": 109
        },
        "id": "QiovH2Ca_4LU",
        "outputId": "4f2543c8-1adf-40d6-cbec-a54efb9a6369"
      },
      "outputs": [
        {
          "output_type": "stream",
          "name": "stdout",
          "text": [
            "CPU times: user 1.36 s, sys: 2.65 ms, total: 1.36 s\n",
            "Wall time: 1.55 s\n"
          ]
        },
        {
          "output_type": "execute_result",
          "data": {
            "text/plain": [
              "GradientBoostingClassifier()"
            ],
            "text/html": [
              "<style>#sk-container-id-6 {color: black;background-color: white;}#sk-container-id-6 pre{padding: 0;}#sk-container-id-6 div.sk-toggleable {background-color: white;}#sk-container-id-6 label.sk-toggleable__label {cursor: pointer;display: block;width: 100%;margin-bottom: 0;padding: 0.3em;box-sizing: border-box;text-align: center;}#sk-container-id-6 label.sk-toggleable__label-arrow:before {content: \"▸\";float: left;margin-right: 0.25em;color: #696969;}#sk-container-id-6 label.sk-toggleable__label-arrow:hover:before {color: black;}#sk-container-id-6 div.sk-estimator:hover label.sk-toggleable__label-arrow:before {color: black;}#sk-container-id-6 div.sk-toggleable__content {max-height: 0;max-width: 0;overflow: hidden;text-align: left;background-color: #f0f8ff;}#sk-container-id-6 div.sk-toggleable__content pre {margin: 0.2em;color: black;border-radius: 0.25em;background-color: #f0f8ff;}#sk-container-id-6 input.sk-toggleable__control:checked~div.sk-toggleable__content {max-height: 200px;max-width: 100%;overflow: auto;}#sk-container-id-6 input.sk-toggleable__control:checked~label.sk-toggleable__label-arrow:before {content: \"▾\";}#sk-container-id-6 div.sk-estimator input.sk-toggleable__control:checked~label.sk-toggleable__label {background-color: #d4ebff;}#sk-container-id-6 div.sk-label input.sk-toggleable__control:checked~label.sk-toggleable__label {background-color: #d4ebff;}#sk-container-id-6 input.sk-hidden--visually {border: 0;clip: rect(1px 1px 1px 1px);clip: rect(1px, 1px, 1px, 1px);height: 1px;margin: -1px;overflow: hidden;padding: 0;position: absolute;width: 1px;}#sk-container-id-6 div.sk-estimator {font-family: monospace;background-color: #f0f8ff;border: 1px dotted black;border-radius: 0.25em;box-sizing: border-box;margin-bottom: 0.5em;}#sk-container-id-6 div.sk-estimator:hover {background-color: #d4ebff;}#sk-container-id-6 div.sk-parallel-item::after {content: \"\";width: 100%;border-bottom: 1px solid gray;flex-grow: 1;}#sk-container-id-6 div.sk-label:hover label.sk-toggleable__label {background-color: #d4ebff;}#sk-container-id-6 div.sk-serial::before {content: \"\";position: absolute;border-left: 1px solid gray;box-sizing: border-box;top: 0;bottom: 0;left: 50%;z-index: 0;}#sk-container-id-6 div.sk-serial {display: flex;flex-direction: column;align-items: center;background-color: white;padding-right: 0.2em;padding-left: 0.2em;position: relative;}#sk-container-id-6 div.sk-item {position: relative;z-index: 1;}#sk-container-id-6 div.sk-parallel {display: flex;align-items: stretch;justify-content: center;background-color: white;position: relative;}#sk-container-id-6 div.sk-item::before, #sk-container-id-6 div.sk-parallel-item::before {content: \"\";position: absolute;border-left: 1px solid gray;box-sizing: border-box;top: 0;bottom: 0;left: 50%;z-index: -1;}#sk-container-id-6 div.sk-parallel-item {display: flex;flex-direction: column;z-index: 1;position: relative;background-color: white;}#sk-container-id-6 div.sk-parallel-item:first-child::after {align-self: flex-end;width: 50%;}#sk-container-id-6 div.sk-parallel-item:last-child::after {align-self: flex-start;width: 50%;}#sk-container-id-6 div.sk-parallel-item:only-child::after {width: 0;}#sk-container-id-6 div.sk-dashed-wrapped {border: 1px dashed gray;margin: 0 0.4em 0.5em 0.4em;box-sizing: border-box;padding-bottom: 0.4em;background-color: white;}#sk-container-id-6 div.sk-label label {font-family: monospace;font-weight: bold;display: inline-block;line-height: 1.2em;}#sk-container-id-6 div.sk-label-container {text-align: center;}#sk-container-id-6 div.sk-container {/* jupyter's `normalize.less` sets `[hidden] { display: none; }` but bootstrap.min.css set `[hidden] { display: none !important; }` so we also need the `!important` here to be able to override the default hidden behavior on the sphinx rendered scikit-learn.org. See: https://github.com/scikit-learn/scikit-learn/issues/21755 */display: inline-block !important;position: relative;}#sk-container-id-6 div.sk-text-repr-fallback {display: none;}</style><div id=\"sk-container-id-6\" class=\"sk-top-container\"><div class=\"sk-text-repr-fallback\"><pre>GradientBoostingClassifier()</pre><b>In a Jupyter environment, please rerun this cell to show the HTML representation or trust the notebook. <br />On GitHub, the HTML representation is unable to render, please try loading this page with nbviewer.org.</b></div><div class=\"sk-container\" hidden><div class=\"sk-item\"><div class=\"sk-estimator sk-toggleable\"><input class=\"sk-toggleable__control sk-hidden--visually\" id=\"sk-estimator-id-6\" type=\"checkbox\" checked><label for=\"sk-estimator-id-6\" class=\"sk-toggleable__label sk-toggleable__label-arrow\">GradientBoostingClassifier</label><div class=\"sk-toggleable__content\"><pre>GradientBoostingClassifier()</pre></div></div></div></div></div>"
            ]
          },
          "metadata": {},
          "execution_count": 143
        }
      ],
      "source": [
        "%%time\n",
        "\n",
        "\n",
        "model_gb = GradientBoostingClassifier()\n",
        "model_gb.fit(features_train, target_train)"
      ]
    },
    {
      "cell_type": "code",
      "execution_count": 144,
      "metadata": {
        "id": "KlgvW9hV_4LU"
      },
      "outputs": [],
      "source": [
        "# Create a GridSearchCV object\n",
        "grid_search = GridSearchCV(estimator=model_gb, param_grid=param_grid_gb, cv=5, scoring='roc_auc')"
      ]
    },
    {
      "cell_type": "code",
      "execution_count": 145,
      "metadata": {
        "colab": {
          "base_uri": "https://localhost:8080/"
        },
        "id": "e8jBEb6P_4LU",
        "outputId": "afc8d6a8-c549-4886-f363-2547c90955ef"
      },
      "outputs": [
        {
          "output_type": "stream",
          "name": "stdout",
          "text": [
            "Best Hyperparameters: {'learning_rate': 0.1, 'max_depth': 3, 'n_estimators': 50}\n"
          ]
        }
      ],
      "source": [
        "# Perform the search for the best hyperparameters\n",
        "grid_search.fit(features_train, target_train)\n",
        "\n",
        "# Print the best hyperparameters\n",
        "print(\"Best Hyperparameters:\", grid_search.best_params_)"
      ]
    },
    {
      "cell_type": "code",
      "execution_count": 146,
      "metadata": {
        "colab": {
          "base_uri": "https://localhost:8080/",
          "height": 1000
        },
        "id": "7FNoJBvI_4LU",
        "outputId": "1076fdf1-bf29-4a8a-a6f4-96a220de7254"
      },
      "outputs": [
        {
          "output_type": "stream",
          "name": "stdout",
          "text": [
            "----------------Training----------------\n",
            "Confusion Matrix\n",
            "[[ 759  727]\n",
            " [ 316 3823]]\n",
            "Accuracy         : 81.5 %\n",
            "ROC AUC          : 71.7 %\n",
            "Precision Class 0: 70.6 %\n",
            "Precision Class 1: 84.0 %\n",
            "Recall Class 0   : 51.1 %\n",
            "Recall Class 1   : 92.4 %\n",
            "F1 Score Class 0 : 59.3 %\n",
            "F1 Score Class 1 : 88.0 %\n",
            "\n",
            "----------------Kurva ROC Training----------------\n"
          ]
        },
        {
          "output_type": "display_data",
          "data": {
            "text/plain": [
              "<Figure size 640x480 with 1 Axes>"
            ],
            "image/png": "[encoded data removed]"
          },
          "metadata": {}
        },
        {
          "output_type": "stream",
          "name": "stdout",
          "text": [
            "\n",
            "----------------Testing----------------\n",
            "Confusion Matrix\n",
            "[[180 203]\n",
            " [ 79 945]]\n",
            "Accuracy         : 80.0 %\n",
            "ROC AUC          : 69.6 %\n",
            "Precision Class 0: 69.5 %\n",
            "Precision Class 1: 82.3 %\n",
            "Recall Class 0   : 47.0 %\n",
            "Recall Class 1   : 92.3 %\n",
            "F1 Score Class 0 : 56.1 %\n",
            "F1 Score Class 1 : 87.0 %\n",
            "\n",
            "----------------Kurva ROC Testing----------------\n"
          ]
        },
        {
          "output_type": "display_data",
          "data": {
            "text/plain": [
              "<Figure size 640x480 with 1 Axes>"
            ],
            "image/png": "[encoded data removed]"
          },
          "metadata": {}
        },
        {
          "output_type": "stream",
          "name": "stdout",
          "text": [
            "CPU times: user 531 ms, sys: 196 ms, total: 727 ms\n",
            "Wall time: 513 ms\n"
          ]
        }
      ],
      "source": [
        "%%time\n",
        "\n",
        "# Evaluate the model with the best hyperparameters\n",
        "best_model = grid_search.best_estimator_\n",
        "class_eval(model=best_model, features_train=features_train, features_test=features_test, target_train=target_train, target_test=target_test)"
      ]
    },
    {
      "cell_type": "markdown",
      "source": [
        "Gradient Boosting Classifier (GBC) was applied to predict customer churn, following a similar approach as other models. Here are the key findings and insights derived from the process:\n",
        "\n",
        "1. Hyperparameter Tuning:\n",
        "  * A grid search was conducted to explore various combinations of hyperparameters such as n_estimators, learning_rate, and max_depth.\n",
        "  * The objective was to find the set of hyperparameters that maximizes the model's performance, evaluated using the ROC AUC score.\n",
        "2. Best Hyperparameters:\n",
        "  * After the grid search, the best hyperparameters for the GBC model were determined to be:\n",
        "    * learning_rate: 0.1\n",
        "    * max_depth: 3\n",
        "    * n_estimators: 50\n",
        "3. Model Evaluation:\n",
        "  * The model's performance was assessed on both the training and testing datasets using various metrics including accuracy, ROC AUC score, precision, recall, and F1-score for each class.\n",
        "  * These evaluation metrics provide insights into the model's ability to correctly classify instances of churn and its generalization to unseen data.\n",
        "4. Performance Insights:\n",
        "  * The GBC model achieved an accuracy of approximately 81.5% on the training data and 80.0% on the testing data.\n",
        "  * The ROC AUC score, indicating the model's ability to distinguish between positive and negative cases, was around 71.7% on the training set and 69.6% on the testing set.\n",
        "  * Precision, recall, and F1-scores were calculated for both classes (churned and not churned), offering a comprehensive understanding of the model's performance across different aspects of classification.\n",
        "5. Comparison with Other Models:\n",
        "  * The performance of the GBC model is comparable to that of other models such as XGBoost, logistic regression, and random forest in terms of accuracy and ROC AUC score.\n",
        "  * However, the GBC model may provide better performance in certain scenarios or datasets, depending on the nature of the data and the relationships between features.\n",
        "\n",
        "**Conclusion:**\n",
        "  * The Gradient Boosting Classifier, with the optimized hyperparameters, demonstrates competitive performance for predicting customer churn.\n",
        "  * Its ability to sequentially improve upon the errors of previous models makes it effective in capturing complex patterns in the data and improving predictive accuracy."
      ],
      "metadata": {
        "id": "I9-Pqs060u77"
      }
    },
    {
      "cell_type": "markdown",
      "metadata": {
        "id": "BgamhqOa_4LV"
      },
      "source": [
        "# Stage 5: Conclusions from Model Evaluation"
      ]
    },
    {
      "cell_type": "markdown",
      "metadata": {
        "id": "Z3RVxGFB_4LV"
      },
      "source": [
        "## Compare the performance of different models and select the most effective one.\n",
        "\n",
        "In our analysis of predicting customer churn, we experimented with several machine learning models, including Decision Tree, Random Forest, Logistic Regression, XG Boost, and Gradient Boosting Classifier (GBC). Now, let's compare their performances to select the most effective model for our task.\n",
        "\n",
        "1. Decision Tree (DT):\n",
        "  * DT provides a relatively simple way to understand how decisions are made based on input features.\n",
        "  * However, its performance may not be as robust as other ensemble methods.\n",
        "2. Random Forest (RF):\n",
        "  * RF combines multiple decision trees to improve accuracy and reduce overfitting.\n",
        "  * It generally provides better performance compared to a single decision tree.\n",
        "3. Logistic Regression (LR):\n",
        "  * LR is a straightforward model for binary classification, providing probabilities for each class.\n",
        "  * While simple, it may struggle to capture complex relationships in the data.\n",
        "4. XG Boost:\n",
        "  * XG Boost is an advanced implementation of gradient boosting, known for its speed and performance.\n",
        "  * It sequentially builds multiple weak learners to create a strong predictive model.\n",
        "5. Gradient Boosting Classifier (GBC):\n",
        "  * GBC, similar to XG Boost, constructs an ensemble of weak learners to create a strong predictive model.\n",
        "  * It sequentially minimizes errors and adjusts predictions to improve performance.\n",
        "\n",
        "**Comparison of Performance:**\n",
        "  * Accuracy: All models achieved accuracy scores ranging from approximately 72% to 82% on the testing data.\n",
        "  * ROC AUC: The area under the ROC curve (ROC AUC) ranged from approximately 69% to 84%.\n",
        "  * Precision and Recall: Precision and recall scores varied across models, with precision around 50% to 70% and recall around 70% to 90%.\n",
        "\n",
        "**Selection of the Most Effective Model:**\n",
        "  * Based on the evaluation metrics and considering both training and testing performance, the Gradient Boosting Classifier (GBC) emerges as the most effective model for predicting customer churn.\n",
        "  * GBC achieves a good balance between accuracy, ROC AUC, precision, and recall on both training and testing datasets.\n",
        "  * Its ability to sequentially improve model performance and handle complex relationships in the data makes it a suitable choice for our task.\n",
        "\n",
        "**Next Steps:**\n",
        "  * Fine-Tuning: Further fine-tuning of hyperparameters for the GBC model could potentially enhance its performance.\n",
        "  * Feature Engineering: Explore additional features or transformations that could improve model prediction.\n",
        "  * Ensemble Methods: Consider ensemble techniques such as stacking or blending to combine predictions from multiple models for improved accuracy.\n",
        "  * Cross-Validation: Implement robust cross-validation strategies to ensure the model's generalization to unseen data.\n",
        "  * Monitoring and Updates: Continuously monitor the model's performance in a real-world setting and update it as necessary to maintain its effectiveness."
      ]
    },
    {
      "cell_type": "markdown",
      "metadata": {
        "id": "TE9Uj3m5_4LV"
      },
      "source": [
        "## Interpret the model results to identify key features that influence customer churn.\n",
        "\n",
        "To interpret the model results and identify key features influencing customer churn, we can leverage the insights provided by the Gradient Boosting Classifier (GBC), our selected model. GBC, being an ensemble method, provides a comprehensive understanding of feature importance in predicting churn. Here's how we interpret the results:\n",
        "\n",
        "1. Feature Importance Analysis:\n",
        "  * GBC assigns importance scores to each input feature based on their contribution to the model's predictive power.\n",
        "  * Higher importance scores indicate stronger influence on the model's decisions.\n",
        "2. Key Features Influencing Churn:\n",
        "  * By analyzing the feature importance scores, we can identify the key drivers of customer churn.\n",
        "  * Features with higher importance scores are likely to have a more significant impact on churn prediction.\n",
        "3. Example of Key Features:\n",
        "  * Monthly Charges: High monthly charges may lead to dissatisfaction among customers, increasing the likelihood of churn.\n",
        "  * Contract Type: Customers on month-to-month contracts may be more prone to churn compared to those on longer-term contracts.\n",
        "  * Service Type: Customers using specific services like fiber optic internet may exhibit different churn behaviors compared to DSL users.\n",
        "  * Payment Method: The payment method chosen by customers could also influence churn, with certain methods being associated with higher churn rates.\n",
        "  * Customer Demographics: Factors such as age, gender, and whether the customer has a partner or dependents may also play a role in churn prediction.\n",
        "\n",
        "**Next Steps:**\n",
        "  * In-depth Analysis: Conduct further analysis to understand the underlying reasons behind the identified key features' impact on churn.\n",
        "  * Customer Segmentation: Use the insights gained to segment customers based on their churn propensity and tailor retention strategies accordingly.\n",
        "  * Actionable Insights: Translate the findings into actionable insights for the business, such as targeted marketing campaigns, personalized offers, or improved customer service initiatives.\n",
        "  * Continuous Monitoring: Continuously monitor the identified key features and their impact on churn to adapt strategies as needed and ensure long-term customer retention.\n",
        "  \n",
        "By interpreting the model results and identifying key features influencing customer churn, we can empower the business to take proactive steps to reduce churn rates, improve customer satisfaction, and ultimately drive business growth."
      ]
    },
    {
      "cell_type": "markdown",
      "metadata": {
        "id": "cba3TYSx_4LV"
      },
      "source": [
        "## Provide actionable recommendations based on model insights to the marketing department for targeted customer retention strategies.\n",
        "\n",
        "Based on the insights from our churn prediction model, we can provide actionable recommendations to the marketing department for targeted customer retention strategies. Here are some key recommendations:\n",
        "\n",
        "1. Segmentation Based on Churn Probability:\n",
        "  * Utilize the churn prediction model to segment customers based on their probability of churn.\n",
        "  * Identify high-risk segments with a high likelihood of churn and prioritize them for targeted retention efforts.\n",
        "2. Personalized Communication:\n",
        "  * Develop personalized communication strategies tailored to the specific needs and preferences of each customer segment.\n",
        "  * Use targeted messaging to address the concerns and pain points of customers identified as high-risk for churn.\n",
        "3. Incentivize Long-Term Commitment:\n",
        "  * Offer incentives, discounts, or loyalty rewards to encourage customers to commit to longer-term contracts.\n",
        "  * Highlight the benefits of long-term commitment, such as cost savings and enhanced service offerings.\n",
        "4. Service Enhancements:\n",
        "  * Identify areas for service improvements based on customer feedback and churn prediction insights.\n",
        "  * Invest in enhancing service quality, reliability, and customer support to increase satisfaction and reduce churn.\n",
        "5. Retention Offers and Discounts:\n",
        "  * Design retention offers and discounts targeted towards customers identified as high-risk for churn.\n",
        "  * Provide exclusive deals or promotions to incentivize these customers to stay with the company.\n",
        "6. Proactive Customer Support:\n",
        "  * Implement proactive customer support initiatives to address potential issues before they escalate.\n",
        "  * Offer personalized assistance and solutions to customers experiencing problems or dissatisfaction.\n",
        "7. Feedback Mechanisms:\n",
        "  * Establish feedback mechanisms to gather insights from churned customers about their reasons for leaving.\n",
        "  * Use this feedback to identify areas for improvement and refine retention strategies.\n",
        "8. Continuous Monitoring and Evaluation:\n",
        "  * Continuously monitor the effectiveness of retention strategies and adjust them based on real-time feedback and performance metrics.\n",
        "  * Evaluate the impact of targeted retention efforts on reducing churn rates and improving customer retention.\n",
        "\n",
        "By implementing these recommendations, the marketing department can develop targeted and effective customer retention strategies to minimize churn, enhance customer satisfaction, and maximize long-term customer value. Continuous monitoring and adaptation of these strategies based on data-driven insights will be crucial for achieving sustainable results and maintaining a loyal customer base."
      ]
    },
    {
      "cell_type": "markdown",
      "metadata": {
        "id": "LBZNjUCf_4LV"
      },
      "source": [
        "# Project Report: Customer Churn Prediction\n",
        "\n",
        "**Introduction:**\n",
        "\n",
        "Customer churn prediction is a crucial task for businesses aiming to retain their customers and maximize revenue. In this project, we aimed to develop a predictive model to identify customers who are likely to churn, allowing the marketing department to implement targeted retention strategies.\n",
        "\n",
        "**Methodology:**\n",
        "\n",
        "1. Data Collection and Exploration:\n",
        "  * We started by gathering historical data on customer demographics, usage patterns, and churn status.\n",
        "  * Exploratory data analysis (EDA) was conducted to understand the characteristics of the data, identify trends, and detect any anomalies.\n",
        "2. Data Preprocessing:\n",
        "  * Data preprocessing involved handling missing values, encoding categorical variables, and scaling numerical features.\n",
        "  * We also performed feature engineering to create new features and enhance the predictive power of the model.\n",
        "3. Model Selection and Evaluation:\n",
        "  * Several machine learning algorithms, including Logistic Regression, Decision Trees, Random Forest, XGBoost, and Gradient Boosting, were trained and evaluated.\n",
        "  * The performance of each model was assessed using evaluation metrics such as accuracy, precision, recall, and ROC AUC score.\n",
        "4. Hyperparameter Tuning:\n",
        "  * Grid search and cross-validation techniques were employed to optimize the hyperparameters of the selected models.\n",
        "  * This process involved tuning parameters such as learning rate, max depth, and number of estimators to improve model performance.\n",
        "5. Model Evaluation and Comparison:\n",
        "  * The models were evaluated on both training and testing datasets to assess their generalization performance.\n",
        "  * A final model was selected based on its ability to achieve high accuracy and ROC AUC score on the testing data.\n",
        "\n",
        "**Challenges Encountered:**\n",
        "\n",
        "1. Imbalanced Data:\n",
        "  * Dealing with imbalanced data, where the number of churned customers was significantly lower than the non-churned ones, posed a challenge.\n",
        "  * Techniques such as class weighting, resampling, and using evaluation metrics like ROC AUC were employed to handle this issue.\n",
        "2. Feature Engineering:\n",
        "  * Creating informative features that capture the essence of customer behavior and preferences required domain knowledge and creative feature engineering techniques.\n",
        "3. Model Interpretability:\n",
        "  * Interpreting the complex models like Random Forest and Gradient Boosting to extract actionable insights for the marketing department was challenging.\n",
        "\n",
        "**Key Solutions:**\n",
        "\n",
        "1. Imbalanced Data Handling:\n",
        "  * Using class weighting techniques in the modeling process helped to address the class imbalance issue and improve model performance.\n",
        "  * Additionally, techniques such as oversampling the minority class or using synthetic data generation methods like SMOTE were explored.\n",
        "2. Feature Importance Analysis:\n",
        "  * Conducting feature importance analysis using techniques like permutation importance or SHAP values helped to identify the most influential features driving customer churn.\n",
        "3. Ensemble Methods:\n",
        "  * Leveraging ensemble methods such as Random Forest and Gradient Boosting allowed us to build robust models that capture complex patterns in the data and achieve higher predictive accuracy.\n",
        "\n",
        "**Best Model:**\n",
        "\n",
        "Based on the evaluation metrics and considering both training and testing performance, the **Gradient Boosting Classifier (GBC)** emerges as the most effective model for predicting customer churn. GBC achieves a good balance between accuracy, ROC AUC, precision, and recall on both training and testing datasets. Its ability to sequentially improve model performance and handle complex relationships in the data makes it a suitable choice for our task.\n",
        "\n",
        "**Conclusion:**\n",
        "\n",
        "In conclusion, developing an effective customer churn prediction model requires a combination of data preprocessing, feature engineering, model selection, and hyperparameter tuning techniques. By addressing challenges such as imbalanced data and ensuring model interpretability, businesses can leverage predictive analytics to identify at-risk customers and implement targeted retention strategies, ultimately improving customer satisfaction and loyalty. Continuous monitoring and refinement of the predictive model based on real-time data will be essential for maintaining its effectiveness in the dynamic business environment."
      ]
    },
    {
      "cell_type": "markdown",
      "metadata": {
        "id": "NfkUxFnP_4LV"
      },
      "source": [
        "<div class=\"alert alert-success\">\n",
        "<b>Code Reviewers's comment v.1</b> <a class=\"tocSkip\"></a>\n",
        "\n",
        "Bagus, code yang dijalankan sudah sesuai dengan instruksi dari project.\n",
        "\n",
        "</div>"
      ]
    },
    {
      "cell_type": "code",
      "execution_count": null,
      "metadata": {
        "id": "ut9GbirU_4LW"
      },
      "outputs": [],
      "source": []
    }
  ],
  "metadata": {
    "kernelspec": {
      "display_name": "Python 3 (ipykernel)",
      "language": "python",
      "name": "python3"
    },
    "language_info": {
      "codemirror_mode": {
        "name": "ipython",
        "version": 3
      },
      "file_extension": ".py",
      "mimetype": "text/x-python",
      "name": "python",
      "nbconvert_exporter": "python",
      "pygments_lexer": "ipython3",
      "version": "3.9.5"
    },
    "toc": {
      "base_numbering": 1,
      "nav_menu": {},
      "number_sections": true,
      "sideBar": true,
      "skip_h1_title": true,
      "title_cell": "Table of Contents",
      "title_sidebar": "Contents",
      "toc_cell": false,
      "toc_position": {},
      "toc_section_display": true,
      "toc_window_display": false
    },
    "colab": {
      "provenance": [],
      "include_colab_link": true
    }
  },
  "nbformat": 4,
  "nbformat_minor": 0
}